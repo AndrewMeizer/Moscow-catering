{
 "cells": [
  {
   "cell_type": "markdown",
   "metadata": {},
   "source": [
    "# Анализ рынка заведений общественного питания Москвы"
   ]
  },
  {
   "cell_type": "markdown",
   "metadata": {},
   "source": [
    "Исследование проведено по заказу фонда «Shut Up and Take My Money» на основе данных о заведениях общепита Москвы на лето 2022 года."
   ]
  },
  {
   "cell_type": "markdown",
   "metadata": {},
   "source": [
    "Анализ проводится на основе данных сервисов Яндекс.Карты и Яндекс.Бизнес. Информация, размещённая в сервисе Яндекс Бизнес, могла быть добавлена пользователями или найдена в общедоступных источниках. Важно учесть это как человеческий фактор\n",
    " при оценке результатов."
   ]
  },
  {
   "cell_type": "markdown",
   "metadata": {},
   "source": [
    "Планируется открытие заведения, расположение и категория (кафе, ресторан, паб, пр.) которого ещё не определены, как цены в заведении.\n",
    "\n",
    "\n",
    "**Цель исследования:**\n",
    "\n",
    "Выявить, какими характерными признаками обладают наиболее популярные заведения общепита, а также найти закономерности, которые помогут сделать выбор в пользу той или иной категории, расположения или среднего чека.\n",
    "\n",
    "**Поставленные вопросы:**\n",
    "\n",
    "1. Сколько всего кофеен в датасете? \n",
    "2.  В каких районах их больше всего, каковы особенности их расположения?\n",
    "3.  Есть ли круглосуточные кофейни?\n",
    "4.  Какие у кофеен рейтинги? Как они распределяются по районам?\n",
    "5.   На какую стоимость чашки капучино стоит ориентироваться при открытии и почему?\n",
    "6. Какие часы работы у самых популярных кофеен?\n",
    "7. Сколько кофеен есть среди топ-15 популярных сетей?"
   ]
  },
  {
   "cell_type": "markdown",
   "metadata": {},
   "source": [
    "Анализ проводится на основе данных сервисов Яндекс.Карты и Яндекс.Бизнес. Информация, размещённая в сервисе Яндекс Бизнес, могла быть добавлена пользователями или найдена в общедоступных источниках. Важно учесть это как человеческий фактор при оценке результатов."
   ]
  },
  {
   "cell_type": "markdown",
   "metadata": {},
   "source": [
    "**Презентация:** <https://disk.yandex.ru/d/O5LDkpC0uyfYHQ>"
   ]
  },
  {
   "cell_type": "markdown",
   "metadata": {},
   "source": [
    "**Ход исследования:**\n",
    "\n",
    "Данные о заведениях общепита я получу из файла `/datasets/moscow_places.csv`. О качестве данных ничего не известно, поэтому перед тем, как приступить канализу, я проведу их предобработку.\\\n",
    "После этого я проверю данные на ошибки и оценю их влияние на результаты исследования. Далее, на этапе обработки, я поищу возможность исправить все ошибки, которые могут привести к искажению результатов.\\\n",
    "Далее я создам новые столбцы, в которых отражу дополнительные факторы, необходимые для исследования. После обработки ошибок и создания новых столбцов я перейду непосредственно к анализу рынка общепита Москвы.\\\n",
    "Я проанилизую ряд факторов и взаимосвязей, чтобы многогранно взглянуть на данные и выявить интересные закономерности.\\\n",
    "В конце исследования я подведу итоги и отвечу на поставленные вопросы.\n",
    "\n",
    "Таким образом, моё исследование пройдёт в восемь этапов:\n",
    "1. Обзор данных\n",
    "2. Предобработка данных\n",
    "3. Добавление новых столбцов и расчёты\n",
    "4. Проведение анализа для рынка общественного питания Москвы\n",
    "5. Финальные выводы\n",
    "6. Ответы на поставленные вопросы\n",
    "7. Подведение итогов\n",
    "8. Общий вывод по результатам анализа."
   ]
  },
  {
   "cell_type": "markdown",
   "metadata": {},
   "source": [
    "## Обзор данных"
   ]
  },
  {
   "cell_type": "markdown",
   "metadata": {},
   "source": [
    "Импортирую необходимые для работы библиотеки."
   ]
  },
  {
   "cell_type": "code",
   "execution_count": null,
   "metadata": {},
   "outputs": [],
   "source": [
    "import pandas as pd\n",
    "import matplotlib.pyplot as plt\n",
    "import numpy as np\n",
    "from numpy import median\n",
    "import re\n",
    "import seaborn as sns\n",
    "import plotly.graph_objects as go \n",
    "import plotly.express as px\n",
    "import folium\n",
    "from folium import Map, Choropleth\n",
    "import json\n",
    "import warnings\n",
    "from folium import Map, Marker\n",
    "from folium.plugins import MarkerCluster\n",
    "from folium.features import CustomIcon"
   ]
  },
  {
   "cell_type": "markdown",
   "metadata": {},
   "source": [
    "Загружаю файл для дальнейшей работы."
   ]
  },
  {
   "cell_type": "code",
   "execution_count": null,
   "metadata": {},
   "outputs": [],
   "source": [
    "try:\n",
    "    df = pd.read_csv('/datasets/moscow_places.csv')\n",
    "except:\n",
    "    df = pd.read_csv('moscow_places.csv')"
   ]
  },
  {
   "cell_type": "markdown",
   "metadata": {},
   "source": [
    "Таблица выглядит так:"
   ]
  },
  {
   "cell_type": "code",
   "execution_count": null,
   "metadata": {},
   "outputs": [],
   "source": [
    "df.head()"
   ]
  },
  {
   "cell_type": "markdown",
   "metadata": {},
   "source": [
    "Вывожу информацию о данных."
   ]
  },
  {
   "cell_type": "code",
   "execution_count": null,
   "metadata": {},
   "outputs": [],
   "source": [
    "df.info()"
   ]
  },
  {
   "cell_type": "markdown",
   "metadata": {},
   "source": [
    "Из этой информации заметно, что:\n",
    "\n",
    "   1. В датасете есть информация о 8406 заведениях общепита.\n",
    "   1. В колонках встречаются пропуски.\n",
    "   2. Форматы колонок соответствуют нужным. В колонках price, avg_bill и hours содержатся числа, но с комментариями, которые составляют разные категории. Поэтому формат этих колонок - строковой."
   ]
  },
  {
   "cell_type": "markdown",
   "metadata": {},
   "source": [
    "## Предобработка данных"
   ]
  },
  {
   "cell_type": "markdown",
   "metadata": {},
   "source": [
    "### Работа с дубликатами"
   ]
  },
  {
   "cell_type": "markdown",
   "metadata": {},
   "source": [
    "Сначала проверяю данные на наличие строк-дубликатов:"
   ]
  },
  {
   "cell_type": "code",
   "execution_count": null,
   "metadata": {},
   "outputs": [],
   "source": [
    "print(f'Количество строк-дубликатов в таблице: {df.duplicated().sum()}')"
   ]
  },
  {
   "cell_type": "markdown",
   "metadata": {},
   "source": [
    "Полностью дублирующихся строк в таблице нет.\\\n",
    "Потенциально есть неявные дубликаты среди названий кофеен, вывожу самые частые названия заведений, содержащих дефис или верхний апостроф."
   ]
  },
  {
   "cell_type": "code",
   "execution_count": null,
   "metadata": {},
   "outputs": [],
   "source": [
    "df[df['name'].str.contains(\"['-]\")]['name'].value_counts()"
   ]
  },
  {
   "cell_type": "markdown",
   "metadata": {},
   "source": [
    "Для того, чтобы избавиться от неявных дубликатов, провожу действия:\n",
    "* Привожу все символы к строковым\n",
    "* Заменяю дефисы, точки, нижние подчеркивания и апострофы на пробел\n",
    "\n",
    "После изменения убеждаюсь в том, что не осталось названий с этими символами."
   ]
  },
  {
   "cell_type": "code",
   "execution_count": null,
   "metadata": {},
   "outputs": [],
   "source": [
    "df['name'] = df['name'].str.lower()\n",
    "for w in ['-', '.', '_', \"'\"]:\n",
    "    df['name'] = df['name'].str.replace(w, ' ', regex=True)\n",
    "    \n",
    "cg = df['name'].str.contains(\"[-._']\").sum()\n",
    "print(f'Осталось {cg} названий заведений со спец. символами')"
   ]
  },
  {
   "cell_type": "markdown",
   "metadata": {},
   "source": [
    "Отлично. Теперь ещё раз смотрю на популярные названия заведений."
   ]
  },
  {
   "cell_type": "code",
   "execution_count": null,
   "metadata": {},
   "outputs": [],
   "source": [
    "df['name'].value_counts().head(10)"
   ]
  },
  {
   "cell_type": "markdown",
   "metadata": {},
   "source": [
    "Поскольку в названии Домино'с пицца есть апостроф, предполагаю, что есть неявные дубликаты с этим названием. Проверяю:"
   ]
  },
  {
   "cell_type": "code",
   "execution_count": null,
   "metadata": {},
   "outputs": [],
   "source": [
    "df[df['name'].str.contains('домино')]['name'].value_counts()"
   ]
  },
  {
   "cell_type": "markdown",
   "metadata": {},
   "source": [
    "Обнаружены неявные дубликаты - привожу названия к одному."
   ]
  },
  {
   "cell_type": "code",
   "execution_count": null,
   "metadata": {},
   "outputs": [],
   "source": [
    "for q in ['домино с пицца', 'домино с']:\n",
    "    df['name'] = df['name'].str.replace(q, 'доминос пицца')\n",
    "df[df['name'].str.contains('домино')]['name'].value_counts()"
   ]
  },
  {
   "cell_type": "markdown",
   "metadata": {},
   "source": [
    "Готово."
   ]
  },
  {
   "cell_type": "markdown",
   "metadata": {},
   "source": [
    "Для того, чтобы исключить неявные дубликаты в остальных колонках, привожу записи в к строковым значениям - разница в шрифте может создать неявные дубли.\n",
    "\n",
    "**Важный аспект:** поскольку в дальнейшем я буду работать с JSON-файлом, содержащим названия районов Москвы, необходимо полное совпадения написания районов в датасете Яндекс.Карт и написания в JSON-файле. Поэтому стобец `District` остаётся без изменений."
   ]
  },
  {
   "cell_type": "code",
   "execution_count": null,
   "metadata": {},
   "outputs": [],
   "source": [
    "for i in df:\n",
    "    if df[i].dtype == object or df[i].dtype == str:\n",
    "        if i == 'district':\n",
    "            pass\n",
    "        else:\n",
    "            df[i] = df[i].str.lower()\n",
    "    else:\n",
    "        pass\n",
    "    dubls = df[i].duplicated().sum()\n",
    "    datasize = df.shape[0]\n",
    "    perc1 = (dubls / datasize * 100).round(2)\n",
    "    print(f'Количество дублей в колонке {df[i].name}: {dubls}, или {perc1}% от данных')\n",
    "    print(f'Кол-во уникальных значений в колонке: {df[i].nunique()}')\n",
    "    print()"
   ]
  },
  {
   "cell_type": "markdown",
   "metadata": {},
   "source": [
    "Для понимания природы дублей обращусь к описанию данных.\n",
    "\n",
    "* `name` — название заведения. Дубли могут встречаться, поскольку в датасете есть сетевые кофейни с одним названием.\n",
    "\n",
    "* `category` — категория заведения, например «кафе», «пиццерия» или «кофейня». То есть дубли - это нормальное явление.\\\n",
    "* `address` — адрес заведения. Несколько кофеен могут находиться по одному адресу, например, в бизнес-центре или на фуркорте, поэто дубликаты ожидаемы.\\\n",
    "* `district` — административный район, в котором находится заведение. Названия районов могут повторяться.\\\n",
    "hours — информация о днях и часах работы. Дубликаты ожидаемы, ведь в среднем кофейни работают по одному графику.\\\n",
    "* `lat` и `lng` — широта и долгота долгота географической точки, они вполне могут повторяться.\\\n",
    "* `rating` — рейтинг заведения по оценкам пользователей в Яндекс Картах (высшая оценка — 5.0). Дубликаты ожидаемы.\\\n",
    "* `price` — категория цен в заведении, например «средние», «ниже среднего», «выше среднего» и так далее. Это также категории, где могут быть дубликаты.\\\n",
    "* `avg_bill` — строка, которая хранит среднюю стоимость заказа в виде диапазона. Средняя стоимость ожидаемо может повторяться.\\\n",
    "* `middle_avg_bill` — число с оценкой среднего чека, которое указано только для значений из столбца avg_bill, начинающихся с подстроки «Средний счёт». Аналогично предыдущей колонке дубли ожидаемы.\\\n",
    "* `middle_coffee_cup` — число с оценкой одной чашки капучино, которое указано только для значений из столбца avg_bill, начинающихся с подстроки «Цена одной чашки капучино». Также дубли могут быть.\\\n",
    "* `chain` — число, выраженное 0 или 1, которое показывает, является ли заведение сетевым. Тут дубли неизбежны.\\\n",
    "* `seats` — количество посадочных мест. Оно может повторяться для разных кофеен."
   ]
  },
  {
   "cell_type": "markdown",
   "metadata": {},
   "source": [
    "Таким образом, во всех колонках могут встречаться дубли, и это обосновано.\\\n",
    "Дополнительно посмотрю уникальные значения в колонках, содержащих категориальные данные, чтобы убедиться, что неявных дублей (в виде опечаток) нет."
   ]
  },
  {
   "cell_type": "code",
   "execution_count": null,
   "metadata": {},
   "outputs": [],
   "source": [
    "print('Уникальные названия категорий в колонках датасета')\n",
    "print()\n",
    "for k in ['category', 'district', 'price', 'chain']:\n",
    "    display(f'Колонка {df[k].name}:')\n",
    "    display(df[k].value_counts())"
   ]
  },
  {
   "cell_type": "markdown",
   "metadata": {},
   "source": [
    "Готово - неявных дубликатов не обнаружено."
   ]
  },
  {
   "cell_type": "markdown",
   "metadata": {},
   "source": [
    "**Итог по дубликатам:**\\\n",
    "В данных есть большое количество дубликатов, наличие которых обосновано природой самих данных: почти все колонки содержат названия категорий, которые могут повторяться. Также могут повторяться и географические координаты (широта и долгота).\\\n",
    "Полностью дублирующихся строк не обнаружено.\\\n",
    "В названиях сетевых заведений обнаружены неявные дубликаты, которые связаны с разным написанием одних и тех же названий. Для их устранения все особенные символы, вызывающие разное написание названий, были заменены на пробел, а сами названия приведены к строковому формату шрифта.\\\n",
    "В остальных колонках, помимо названия кофеен, неявных дублей не обнаружено."
   ]
  },
  {
   "cell_type": "markdown",
   "metadata": {},
   "source": [
    "### Яндекс лавка\n",
    "В датасете есть много информаций о точках Яндекс.лавки, однако она не является полноценным заведением с залом, официантами и кассой - фактически это дарксторы, где собираются заказы.\\\n",
    "Вот информация о записях с названием \"яндекс лавка\""
   ]
  },
  {
   "cell_type": "code",
   "execution_count": null,
   "metadata": {},
   "outputs": [],
   "source": [
    "df.query('name == \"яндекс лавка\"').info()"
   ]
  },
  {
   "cell_type": "markdown",
   "metadata": {},
   "source": [
    "Всего 72 точки, для всех не указана ни ценовая категория, нет инфо о суммах чека и чашки кофе, а также в половине точек отсутствует инфо о количестве мест. Да и речь о сидячих местах для посетителей, однако в дарксторе нет зоны для клиентов. Поэтому учитывать Лавку в дальнейшем исследовании будет некорректно. Вырезаю из датасета все строки с Лавкой."
   ]
  },
  {
   "cell_type": "code",
   "execution_count": null,
   "metadata": {},
   "outputs": [],
   "source": [
    "df = df.query('name != \"яндекс лавка\"')"
   ]
  },
  {
   "cell_type": "markdown",
   "metadata": {},
   "source": [
    "### Работа с пропусками"
   ]
  },
  {
   "cell_type": "markdown",
   "metadata": {},
   "source": [
    "Вывожу количество пропусков по колонкам с указанием процента."
   ]
  },
  {
   "cell_type": "code",
   "execution_count": null,
   "metadata": {},
   "outputs": [],
   "source": [
    "for q in df:\n",
    "    nulls = df[q].isna().sum()\n",
    "    datasize = df.shape[0]\n",
    "    if nulls > 0:\n",
    "        perc2 = (nulls / datasize * 100).round(2)\n",
    "        print(f'Количество пропусков в колонке {df[q].name}: {nulls}, или {perc2}% от данных')\n",
    "        print()\n",
    "    else:\n",
    "        pass"
   ]
  },
  {
   "cell_type": "markdown",
   "metadata": {},
   "source": [
    "Для удобства ещё раз отмечаю информацию о колонках с пропусками:\n",
    "\n",
    "``hours`` - дни и часы работы заведения;\\\n",
    "`price` — категория цен в заведении, например «средние», «ниже среднего», «выше среднего» и так далее;\\\n",
    "`avg_bill` — строка, которая хранит среднюю стоимость заказа в виде диапазона, например:\\\n",
    "«Средний счёт: 1000–1500 ₽»;\\\n",
    "«Цена чашки капучино: 130–220 ₽»;\\\n",
    "«Цена бокала пива: 400–600 ₽».\\\n",
    "`middle_avg_bill` — число с оценкой среднего чека, которое указано только для значений из столбца avg_bill, начинающихся с подстроки «Средний счёт»:\\\n",
    "Если в строке указан ценовой диапазон из двух значений, в столбец войдёт медиана этих двух значений.\\\n",
    "Если в строке указано одно число — цена без диапазона, то в столбец войдёт это число.\\\n",
    "Если значения нет или оно не начинается с подстроки «Средний счёт», то в столбец ничего не войдёт.\\\n",
    "`middle_coffee_cup` — число с оценкой одной чашки капучино, которое указано только для значений из столбца avg_bill, начинающихся с подстроки «Цена одной чашки капучино»:\\\n",
    "Если в строке указан ценовой диапазон из двух значений, в столбец войдёт медиана этих двух значений.\\\n",
    "Если в строке указано одно число — цена без диапазона, то в столбец войдёт это число.\\\n",
    "Если значения нет или оно не начинается с подстроки «Цена одной чашки капучино», то в столбец ничего не войдёт.\\\n",
    "`seats` — количество посадочных мест.\n"
   ]
  },
  {
   "cell_type": "markdown",
   "metadata": {},
   "source": [
    "Таким образом, большинство пропусков связано с тем, что нет значений в колонке  avg_bill, или средняя стоимость заказа. Колонки middle_avg_bill и middle_coffee_cup берут значения из avg_bill, поэтому пропуски в них неудивительны.\n",
    "\n",
    "Заполнение любых из этих пропусков может привести к некорректной статистике, поэтому заполнение недопустимо, как и удаление пропусков, поскольку они составляют существенную часть данных. По имеющимся данным сложно сделать выводы о часах работы или количестве мест, ведь эти данные могут отличаться даже в рамках одной сети.\n",
    "\n",
    "Также не имеет смысла заполнять пропуски в строках, содержащих цены и их характеристики, на основании других заведений сети, поскольку это не будет препятствием для дальнейшего анализа - данные по ценам сети будут взяты из тех строк, где они указаны. Ведь в рамках одной сети цены, как правило, установлены одинаковые."
   ]
  },
  {
   "cell_type": "markdown",
   "metadata": {},
   "source": [
    "**Итог по пропускам:**\\\n",
    "В данных есть пропуски, а именно среди часов работы заведения (около 6% пропусков), а также большое количество пропусков в колонках, указывающих на среднюю стоимость заказа, средний чек и среднюю стоимость чашки кофе (более 50% пропусков в каждой колонке). Колонки с ценами взаимосвязаны с колонкой avg_bill, поэтому одни пропуски вызвали другие. Также есть пропуски в количестве мест в заведении - 43% пропусков.\\\n",
    "Удаление или заполнение этих пропусков исказит результаты анализа, поэтому они оставлены без изменений. Это позволит избежать их влияния на итоговые выводы."
   ]
  },
  {
   "cell_type": "markdown",
   "metadata": {},
   "source": [
    "### Работа с аномалиями"
   ]
  },
  {
   "cell_type": "markdown",
   "metadata": {},
   "source": [
    "Стоит дополнительно изучить колонки rating, seats, а также колонки с информацией о стоимости на наличие аномалий.\\\n",
    "Колонка с рейтингом должна содержать числа от 1 до 5."
   ]
  },
  {
   "cell_type": "code",
   "execution_count": null,
   "metadata": {},
   "outputs": [],
   "source": [
    "df['rating'].describe()"
   ]
  },
  {
   "cell_type": "markdown",
   "metadata": {},
   "source": [
    "Все в порядке. теперь - стоимость."
   ]
  },
  {
   "cell_type": "markdown",
   "metadata": {},
   "source": [
    "Для того, чтобы корректно оценить количество посадочных мест, сначала нужно исследовать данные на предмет аномалий. Возможно, есть точки, в которых гораздо больше мест, чем в среднем по категории таких точек, и они повлияют на результаты.\\\n",
    "Использую точечный график, чтобы посмотреть на общую картину:"
   ]
  },
  {
   "cell_type": "code",
   "execution_count": null,
   "metadata": {},
   "outputs": [],
   "source": [
    "\n",
    "plt.figure(figsize=(11, 6))\n",
    "plt.grid(linewidth=1)\n",
    "plt.title('Количество мест в заведениях Москвы по категориям')\n",
    "plt.xlabel('Количество мест')\n",
    "plt.ylabel('Категория')\n",
    "plt.scatter(df['seats'], df['category']);\n"
   ]
  },
  {
   "cell_type": "markdown",
   "metadata": {},
   "source": [
    "На графике заметно, что есть аномалии: в большинстве заведений во всех категориях 400-500 мест, однако встречаются точки, где более 600, 1000 и даже 1200 мест.\\\n",
    "Вывожу подсчёт 95, 98 и 99 перцентиля для каждой категории, чтобы определить границы аномалий. Пропуски в количестве мест при этом удаляю для корректного подсчета перцентиля."
   ]
  },
  {
   "cell_type": "code",
   "execution_count": null,
   "metadata": {},
   "outputs": [],
   "source": [
    "for c in df['category'].unique():\n",
    "    seat = df[df['category'] == c]['seats'].dropna()\n",
    "    print(f'95, 98 и 99 перцентили количества мест в категории \"{c}\"')\n",
    "    print(np.percentile(seat, [95, 98, 99]).astype('int'))"
   ]
  },
  {
   "cell_type": "markdown",
   "metadata": {},
   "source": [
    "Исходя из точечного графика выше, а также из перцентилей, в качестве границы аномалий выбран 98 перцентиль.\\\n",
    "Создаю обновленную таблицу, срезая аномальные значения."
   ]
  },
  {
   "cell_type": "code",
   "execution_count": null,
   "metadata": {},
   "outputs": [],
   "source": [
    "horizon = dict()\n",
    "for c in df['category'].unique():\n",
    "    seat = df[df['category'] == c]['seats'].dropna()\n",
    "    horizon[c] = np.percentile(seat, [98]).astype('int')\n",
    "\n",
    "seats_clean = df[df['seats'] < df['category'].map(horizon)][['category', 'seats']]\n",
    "seats_clean.head()"
   ]
  },
  {
   "cell_type": "markdown",
   "metadata": {},
   "source": [
    "Готово! Эту таблицу я буду использовать для анализа в дальнейшем.\\\n",
    "Осталось оценить колонки с информацией о ценах."
   ]
  },
  {
   "cell_type": "code",
   "execution_count": null,
   "metadata": {},
   "outputs": [],
   "source": [
    "plt.figure(figsize=(11,6))\n",
    "plt.title('Средняя цена чашки кофе')\n",
    "plt.ylabel('Средняя цена')\n",
    "plt.xlabel('Категория')\n",
    "plt.scatter(df['category'], df['middle_coffee_cup']);\n",
    "plt.grid()"
   ]
  },
  {
   "cell_type": "markdown",
   "metadata": {},
   "source": [
    "Заметно аномальное значение - почти 1600 за одну чашку кофе!\\\n",
    "Интересно, что это за заведение?"
   ]
  },
  {
   "cell_type": "code",
   "execution_count": null,
   "metadata": {},
   "outputs": [],
   "source": [
    "df.query('middle_coffee_cup > 1400')"
   ]
  },
  {
   "cell_type": "markdown",
   "metadata": {},
   "source": [
    "Учитывая, что заведение сетевое, такая цена выглядит аномальной. Однако эту строку исключать из данных не буду, ведь она пригодится при анализе сетей. Учту этот момент, чтобы исключить аномальное значение при анализе средней цены чашки кофе."
   ]
  },
  {
   "cell_type": "markdown",
   "metadata": {},
   "source": [
    "Теперь - средний чек:"
   ]
  },
  {
   "cell_type": "code",
   "execution_count": null,
   "metadata": {},
   "outputs": [],
   "source": [
    "plt.figure(figsize=(11,6))\n",
    "plt.title('Средний чек в заведениях Москвы')\n",
    "plt.ylabel('Средний чек')\n",
    "plt.xlabel('Категория')\n",
    "plt.grid()\n",
    "plt.scatter(df['category'], df['middle_avg_bill']);"
   ]
  },
  {
   "cell_type": "markdown",
   "metadata": {},
   "source": [
    "Также заметны 2 аномалии: ресторан со средним чеком в 35 000 рублей, а также бар со средним чеком более чем в 10 000 рублей. Также есть ресторан с чеком в 10 000 рублей, однако это нормальное значение для ресторана."
   ]
  },
  {
   "cell_type": "code",
   "execution_count": null,
   "metadata": {},
   "outputs": [],
   "source": [
    "df.query('middle_avg_bill > 10000')"
   ]
  },
  {
   "cell_type": "markdown",
   "metadata": {},
   "source": [
    "Цены выглядят странно: средний чек в 11 тысяч для чайханы нереалистичен (плюс есть большие сомнения, что чайхана может являться баром или пабом), средний чек ресторана без указанного названия в 35 000 также сильно выбивается из общей картины. Эти заведения не являются сетевыми и могут повлиять на результаты анализа цен, поэтому исключаю их из анализа.\\\n",
    "В отфильтрованный датасет также оставляю строки, где значение среднего чека не заполнено."
   ]
  },
  {
   "cell_type": "code",
   "execution_count": null,
   "metadata": {},
   "outputs": [],
   "source": [
    "df = df.query('middle_avg_bill < 11000 or middle_avg_bill.isna()')"
   ]
  },
  {
   "cell_type": "markdown",
   "metadata": {},
   "source": [
    "Готово! Аномалии изучены, перехожу к новым колонкам."
   ]
  },
  {
   "cell_type": "markdown",
   "metadata": {},
   "source": [
    "### Добавление новых колонок"
   ]
  },
  {
   "cell_type": "markdown",
   "metadata": {},
   "source": [
    "Добавляю колонку street, в которую будет вынесено название улицы из адреса заведения."
   ]
  },
  {
   "cell_type": "code",
   "execution_count": null,
   "metadata": {},
   "outputs": [],
   "source": [
    "words = ['улица','ул','переулок','шоссе','проспект','площадь','проезд',\n",
    "         'село','аллея','бульвар','набережная','тупик','линия', 'мкад']\n",
    "\n",
    "str_pat = r\".*,\\s*\\b([^,]*?(?:{})\\b[^,]*)[,$]+\".format(\"|\".join(words))\n",
    "\n",
    "df['street'] = df['address'].str.extract(str_pat, \n",
    "                                         flags=re.I)"
   ]
  },
  {
   "cell_type": "markdown",
   "metadata": {},
   "source": [
    "А также колонку, в которой будет указано, работает ли заведение ежедневно и круглосуточно. Если указано True, значит, оно работает 24/7, в остальных случаях - False. Сразу после этого проверяю содержимое новой колонки."
   ]
  },
  {
   "cell_type": "code",
   "execution_count": null,
   "metadata": {},
   "outputs": [],
   "source": [
    "df['is_24_7'] = (df['hours'].str.contains('круглосуточно')) & \\\n",
    "                (df['hours'].str.contains('ежедневно'))\n",
    "\n",
    "df['is_24_7'].value_counts()"
   ]
  },
  {
   "cell_type": "markdown",
   "metadata": {},
   "source": [
    "721 заведение, работающее 24/7, против 7611, у которых иной график работы."
   ]
  },
  {
   "cell_type": "markdown",
   "metadata": {},
   "source": [
    "Проверяю новые колонки:"
   ]
  },
  {
   "cell_type": "code",
   "execution_count": null,
   "metadata": {},
   "outputs": [],
   "source": [
    "df.info()"
   ]
  },
  {
   "cell_type": "markdown",
   "metadata": {},
   "source": [
    "Отлично, можно переходить к анализу."
   ]
  },
  {
   "cell_type": "markdown",
   "metadata": {},
   "source": [
    "## Анализ данных"
   ]
  },
  {
   "cell_type": "markdown",
   "metadata": {},
   "source": [
    "### Распределение заведений по категориям"
   ]
  },
  {
   "cell_type": "markdown",
   "metadata": {},
   "source": [
    "Провожу анализ категорий заведений. Строю сводную таблицу, в которой указано количество заведений в каждой категории, и строю график."
   ]
  },
  {
   "cell_type": "code",
   "execution_count": null,
   "metadata": {},
   "outputs": [],
   "source": [
    "types = df.groupby('category', \n",
    "                   as_index=False).agg({'name':'count'}).sort_values('name')\n",
    "types['perc'] = (types['name'] / \n",
    "                 types['name'].sum() \n",
    "                 * 100).round(1)\n",
    "\n",
    "plt.figure(figsize=(16,7))\n",
    "sns.set(font_scale=1.3)\n",
    "plt.title('Распределение категорий заведений в Москве')\n",
    "\n",
    "sns.barplot(x='category', y='name', data=types.sort_values('name'), palette='tab20b')\n",
    "     \n",
    "values = types['perc']\n",
    "for i, value in enumerate(values):\n",
    "    plt.text(i, value + 100, value, ha='center', va='center')\n",
    "plt.xlabel('Категория и % от всех заведений')\n",
    "plt.yticks(range(0,2600,200))\n",
    "plt.grid(axis='x')\n",
    "plt.ylabel('Количество заведений');"
   ]
  },
  {
   "cell_type": "markdown",
   "metadata": {},
   "source": [
    "**Вывод:**  наглядно видно, что самую большую долю всех заведений составляют рестораны, кафе и кофейни. Кафе - **28.5%**, рестораны - **23.6%** и кофеен - **17%**.\\\n",
    "Меньше всего - булочных."
   ]
  },
  {
   "cell_type": "markdown",
   "metadata": {},
   "source": [
    "### Анализ количества посадочных мест по категориям"
   ]
  },
  {
   "cell_type": "markdown",
   "metadata": {},
   "source": [
    "Строю график по очищенным на этапе предобработки данным. Использую медианное количество мест в категории, поскольку медиана более устойчива к выбросам, чем среднее."
   ]
  },
  {
   "cell_type": "code",
   "execution_count": null,
   "metadata": {},
   "outputs": [],
   "source": [
    "plt.figure(figsize=(16,7))\n",
    "sns.set(font_scale=1.3)\n",
    "\n",
    "plt.title('Количество мест в заведениях Москвы по категориям')\n",
    "\n",
    "rate = seats_clean.groupby('category', as_index=False).agg({'seats':'median'}).sort_values('seats')['category']\n",
    "\n",
    "sns.boxplot(x='category', y='seats', data=seats_clean, order=rate,  palette='tab20b')\n",
    "plt.grid()\n",
    "plt.xlabel('Категория')\n",
    "plt.yticks(range(0,600,50))\n",
    "plt.grid()\n",
    "plt.ylabel('Медианное количество сидячих мест');"
   ]
  },
  {
   "cell_type": "markdown",
   "metadata": {},
   "source": [
    "**Вывод:** Самая большая вместимость в среднем у ресторанов (более 80 мест), баров/пабов (80 мест) и кофеен (более 70 мест).\\\n",
    "Заведения быстрого питания в среднем имеют одинаковую вместимость. Самый большой разброс по количеству мест - у кафе."
   ]
  },
  {
   "cell_type": "markdown",
   "metadata": {},
   "source": [
    "### Соотношение сетевых и несетевых заведений"
   ]
  },
  {
   "cell_type": "markdown",
   "metadata": {},
   "source": [
    "Строю круговую диаграмму, отражая количество сетевых и несетевых заведений в Москве."
   ]
  },
  {
   "cell_type": "code",
   "execution_count": null,
   "metadata": {},
   "outputs": [],
   "source": [
    "chains = df.groupby('chain', \n",
    "                   as_index=False).agg({'name':'count'})\n",
    "chains['chain'] = ['Несетевые', 'Сетевые']\n",
    "colors = px.colors.sequential.RdBu\n",
    "\n",
    "fig = go.Figure(data=[go.Pie(labels=chains['chain'],\n",
    "                             values=chains['name'], marker=dict(colors=colors))])\n",
    "                             \n",
    "\n",
    "fig.update_layout(title='Распределение заведений в Москве', title_x = 0.50, \n",
    "    legend=dict(title='Категории'), legend_x=0.8, legend_y=0.6, font=dict(size=16))\n",
    "\n",
    "fig.show()"
   ]
  },
  {
   "cell_type": "markdown",
   "metadata": {},
   "source": [
    "**Вывод:** значительная часть заведений Москвы является сетевыми - 38% сетевых заведений против 62% несетевых."
   ]
  },
  {
   "cell_type": "markdown",
   "metadata": {},
   "source": [
    "### Какие категории чаще являются сетевыми"
   ]
  },
  {
   "cell_type": "markdown",
   "metadata": {},
   "source": [
    "Теперь разделяю данные о заведениях по категориям, после чего считаю, сколько процентов заведений в этой категории составляют сетевые точки, и сколько - несетевые."
   ]
  },
  {
   "cell_type": "code",
   "execution_count": null,
   "metadata": {},
   "outputs": [],
   "source": [
    "chain_data = df[['name','category','chain']]\n",
    "list_count = chain_data.groupby('category', \n",
    "                                as_index=False).agg({'name':'count'})\n",
    "list_chain = chain_data.groupby(['category','chain'],\n",
    "                                as_index=False).agg({'name':'count'}).merge(list_count, \n",
    "                                                                            on='category')\n",
    "list_chain['perc'] = (list_chain['name_x'] /\n",
    "                      list_chain['name_y'] * 100).round(1)\n",
    "\n",
    "chain_final = list_chain[['category', 'name_x', 'name_y', 'perc', 'chain']].sort_values('perc', \n",
    "                                                                                        ascending=False)\n",
    "chain_final['chain'] = chain_final['chain'].replace({0:'несетевые', 1:'сетевые'})\n",
    "\n",
    "plt.figure(figsize=(16,7))\n",
    "sns.barplot(x='category', y='perc', data=chain_final, estimator=median, hue='chain', palette='Accent')\n",
    "plt.grid()\n",
    "plt.title('Доля несетевых и сетевых заведений в каждой из категорий в процентах')\n",
    "plt.xlabel('Категория')\n",
    "plt.yticks(range(0,80,10))\n",
    "plt.grid()\n",
    "plt.ylabel('Процент сетевых заведений в категории, %');\n",
    "plt.legend(loc='lower right', fontsize=18);"
   ]
  },
  {
   "cell_type": "code",
   "execution_count": 35,
   "metadata": {},
   "outputs": [
    {
     "data": {
      "image/png": "[encoded data removed]",
      "text/plain": [
       "<Figure size 1152x504 with 1 Axes>"
      ]
     },
     "metadata": {},
     "output_type": "display_data"
    }
   ],
   "source": [
    "# Код ревьюера\n",
    "\n",
    "chain_data = df[['name','category','chain']]\n",
    "list_count = chain_data.groupby('category', \n",
    "                                as_index=False).agg({'name':'count'})\n",
    "list_chain = chain_data.groupby(['category','chain'],\n",
    "                                as_index=False).agg({'name':'count'}).merge(list_count, \n",
    "                                                                            on='category')\n",
    "list_chain['perc'] = (list_chain['name_x'] /\n",
    "                      list_chain['name_y'] * 100).round(1)\n",
    "\n",
    "chain_final = list_chain[['category', 'name_x', 'name_y', 'perc', 'chain']].sort_values('perc', \n",
    "                                                                                        ascending=False)\n",
    "chain_final['chain'] = chain_final['chain'].replace({0:'несетевые', 1:'сетевые'})\n",
    "\n",
    "plt.figure(figsize=(16,7))\n",
    "sns.barplot(x='category', y='perc', data=chain_final.sort_values('perc').sort_values('chain'), estimator=median, hue='chain', palette='Accent')\n",
    "plt.grid()\n",
    "plt.title('Доля несетевых и сетевых заведений в каждой из категорий в процентах')\n",
    "plt.xlabel('Категория')\n",
    "plt.yticks(range(0,80,10))\n",
    "plt.grid()\n",
    "plt.ylabel('Процент сетевых заведений в категории, %');\n",
    "plt.legend(loc='lower right', fontsize=18);"
   ]
  },
  {
   "cell_type": "markdown",
   "metadata": {},
   "source": [
    "**Вывод:** Больше всего сетевых заведений в категории \"булочная\" - 60% от всех заведений. После этого идут пиццерии и кофейни - в каждой из этих категорий доля сетевых заведений составляет около 50%."
   ]
  },
  {
   "cell_type": "markdown",
   "metadata": {},
   "source": [
    "### Топ-15 популярных сетей в Москве"
   ]
  },
  {
   "cell_type": "markdown",
   "metadata": {},
   "source": [
    "Переходу к поиску самых популярных (исходя из количества) сетевых заведений в Москве."
   ]
  },
  {
   "cell_type": "code",
   "execution_count": null,
   "metadata": {},
   "outputs": [],
   "source": [
    "top15 = df.query('chain ==1').groupby('name', \n",
    "                                      as_index=False).agg({'lat':'count'}).sort_values('lat', \n",
    "                                                                                       ascending=False).head(15)\n",
    "\n",
    "top15.columns = ['Сеть', 'Заведений']\n",
    "\n",
    "fig = px.bar(top15.sort_values(by='Заведений', ascending=True), \n",
    "             x='Заведений',\n",
    "             y='Сеть', \n",
    "             text='Заведений', color_discrete_sequence=colors)\n",
    "\n",
    "fig.update_layout(title='ТОП-15 сетей Москвы по количеству заведений',\n",
    "                   xaxis_title='Количество заведений',\n",
    "                   \n",
    "                   font=dict(size=14))\n",
    "fig.show()"
   ]
  },
  {
   "cell_type": "markdown",
   "metadata": {},
   "source": [
    "Также нужно оценить, к какой категории заведений относятся эти сети.\\\n",
    "Однако, возможно, что в одной сети может быть несколько категорий.\\\n",
    "Проверяю это и вывожу на экран сети, в которых количество категорий больше 1."
   ]
  },
  {
   "cell_type": "code",
   "execution_count": null,
   "metadata": {
    "scrolled": false
   },
   "outputs": [],
   "source": [
    "listname = []\n",
    "listcateg = []\n",
    "for t in top15['Сеть']:\n",
    "    brick = df[df['name'] == t]\n",
    "    if brick['category'].nunique() > 1:\n",
    "        listname.append(t)\n",
    "        categs = brick['category'].value_counts()\n",
    "        listcateg.append(categs.to_frame().reset_index()['index'].iloc[0])\n",
    "        print(f'Сеть: {t}')\n",
    "        print('Категории:')\n",
    "        print(categs)\n",
    "        print()\n",
    "    else:\n",
    "        pass"
   ]
  },
  {
   "cell_type": "markdown",
   "metadata": {},
   "source": [
    "Так и есть: в нескольких сетях встречается больше одной категории.\\\n",
    "Это неудивительно, поскольку, как отмечено в начале проекта, данные в Яндекс.Бизнес собираются на основе открытых источников и на основе того, что указали другие пользователи. Они вполне могли трактовать ресторан как кафе, кафе как кофейню и так далее.\\\n",
    "В таком случае стоит ориентироваться на подавляющее большинство, если для сети указано несколько категорий.\\\n",
    "Вывожу таблицу, где для таких сетей указана категория, которая встречается раньше всего в рамках этой сети."
   ]
  },
  {
   "cell_type": "code",
   "execution_count": null,
   "metadata": {
    "scrolled": true
   },
   "outputs": [],
   "source": [
    "topnames = pd.DataFrame({'Сеть':listname, 'Категория':listcateg})\n",
    "topnames"
   ]
  },
  {
   "cell_type": "markdown",
   "metadata": {},
   "source": [
    "Обновляю таблицу, содержащую инфо о топ-15 сетей с указанием категории. Для тех сетей, где указано несколько категорий, вывожу самое популярное название категории в рамках одной сети.\\\n",
    "Помимо этого вывожу круговую диаграмму, на которой отражено количество категорий сетей в рамках списка Топ-15."
   ]
  },
  {
   "cell_type": "code",
   "execution_count": null,
   "metadata": {},
   "outputs": [],
   "source": [
    "many_categories = df[df['name'].isin(top15['Сеть'])].groupby('name', \n",
    "                                   as_index=False).agg({'category':pd.Series.mode, \n",
    "                                                     'lng':'count'}).sort_values('lng', \n",
    "                                                                        ascending=False)[['name',\n",
    "                                                                                          'category']].head(15)\n",
    "many_categories.columns = ['Сеть', 'Категория']\n",
    "top15 = top15.merge(many_categories, on='Сеть')\n",
    "\n",
    "topcateg = df[df['name'].isin(top15['Сеть'])]\n",
    "topcateg = topcateg.groupby('name', \n",
    "                 as_index=False).agg({'category':'first'}).groupby('category',\n",
    "                                                                   as_index=False).agg({'name':'count'})"
   ]
  },
  {
   "cell_type": "code",
   "execution_count": null,
   "metadata": {},
   "outputs": [],
   "source": [
    "fig = px.bar(top15.sort_values(by='Заведений', ascending=True), \n",
    "             x='Заведений', y='Сеть', color_discrete_sequence=colors, text='Заведений',\n",
    "             hover_data=['Заведений','Категория']\n",
    "            )\n",
    "\n",
    "fig.update_layout(title='Топ-15 сетей Москвы по количеству заведений',\n",
    "                   xaxis_title='Количество заведений',\n",
    "                   yaxis_title='Название сети',\n",
    "                   font=dict(size=14))\n",
    "fig.show()\n",
    "\n",
    "fig = go.Figure(data=[go.Pie(labels=topcateg['category'],\n",
    "                             values=topcateg['name'], marker=dict(colors=colors))])\n",
    "                             \n",
    "\n",
    "fig.update_layout(title='Топ-15 сетей Москвы. Распределение категорий', title_x = 0.050,\n",
    "    legend=dict(title='Категории'), legend_x=0.8, legend_y=0.6, font=dict(size=14))\n",
    "\n",
    "fig.show()"
   ]
  },
  {
   "cell_type": "markdown",
   "metadata": {},
   "source": [
    "**Вывод:** Среди топ-15 заведений самой популярной категорией являются кофейни - более 33% от всех заведений. С кофейнями по популярности сопоставимы только кафе - более 26%.\\\n",
    "Если рассматривать сами сети, то лидер по популярности - кофейня Шоколадница, у неё заметно больше точек, чем у всех остальных.\\\n",
    "После Шоколадницы в рейтинге следуют 2 пиццерии - Доминос пицца и Додо пицца. Далее снова идут кофейни - one price coffee и cofix.\n",
    "\n",
    "Исходя из фактов выше - если смотреть на топ-15 популярных сетей Москвы, то наибольшую популярность имеют именно кофейни. Причём это заметно:\n",
    "* В том, что кофейни составляют треть от всего топ-15\n",
    "* В том, что самое популярное заведение с большим отрывом по точкам - тоже кофейня\n",
    "* В том, что даже в Топ-5 популярных заведений 3 из 5 позиций занимают кофейни."
   ]
  },
  {
   "cell_type": "markdown",
   "metadata": {},
   "source": [
    "### Анализ по административным районам Москвы"
   ]
  },
  {
   "cell_type": "markdown",
   "metadata": {},
   "source": [
    "Пришло время изучить карту административных районов Москвы. На первом графике - цветовое обозначение количества заведений в районах Москвы."
   ]
  },
  {
   "cell_type": "code",
   "execution_count": null,
   "metadata": {
    "scrolled": false
   },
   "outputs": [],
   "source": [
    "reg = df.groupby('district', as_index=False).agg({'lat':'count'})\n",
    "state_geo = '/datasets/admin_level_geomap.geojson'\n",
    "# moscow_lat - широта центра Москвы, moscow_lng - долгота центра Москвы\n",
    "moscow_lat, moscow_lng = 55.751244, 37.618423\n",
    "m = Map(location=[moscow_lat, moscow_lng], zoom_start=10, tiles='Cartodb Positron', font=dict(size=50))\n",
    "Choropleth(mapbox_style=\"carto-positron\",\n",
    "    geo_data = state_geo,\n",
    "data = reg,\n",
    "    columns=['district', 'lat'],\n",
    "    key_on='feature.name',\n",
    "    fill_color='PuRd',\n",
    "    fill_opacity=0.9,\n",
    "    legend_name='Количество заведений в районах Москвы',\n",
    "    font=dict(size=500),\n",
    ").add_to(m)\n",
    "m"
   ]
  },
  {
   "cell_type": "markdown",
   "metadata": {},
   "source": [
    "На графике отчётливо видно, что в ЦАО, или центральном округе, гораздо больше заведений, чем в остальных категориях - более 2 000 точек. На втором месте по плотности заведений - все районы, кроме ЮЗАО, ЮВАО и СЗАО."
   ]
  },
  {
   "cell_type": "markdown",
   "metadata": {},
   "source": [
    "ЦАО на карте заметно выбивается из общей картины. Это может быть связано с большой проходимостью в центре Москвы, а также с активностью туристов в этом районе, которые посещают достопримечательности и заходят куда-то зайти. Ввиду очень высокой проходимости (по сравнению с другими районами) и наличия туристов многие хотят разместить заведение именно здесь."
   ]
  },
  {
   "cell_type": "markdown",
   "metadata": {},
   "source": [
    "Для анализа по категориям использую столбчатую диаграмму.\n",
    "Сначала выводу график по районам города."
   ]
  },
  {
   "cell_type": "code",
   "execution_count": null,
   "metadata": {},
   "outputs": [],
   "source": [
    "reg_cat = df.groupby(['district', 'category'], as_index=False).agg({'lng':'count'})\n",
    "reg_cat['district'] = \\\n",
    "reg_cat['district'].replace({'Северный административный округ':'САО', \n",
    "                             'Южный административный округ':'ЮАО',\n",
    "                            'Восточный административный округ':'ВАО',\n",
    "                            'Западный административный округ':'ЗАО',\n",
    "                            'Северо-Западный административный округ':'СЗАО',\n",
    "                            'Северо-Восточный административный округ':'СВАО',\n",
    "                            'Юго-Западный административный округ':'ЮЗАО',\n",
    "                            'Юго-Восточный административный округ':'ЮВАО',\n",
    "                            'Центральный административный округ':'ЦАО'})"
   ]
  },
  {
   "cell_type": "code",
   "execution_count": null,
   "metadata": {},
   "outputs": [],
   "source": [
    "plt.figure(figsize=(16, 7))\n",
    "plt.title('Распределение заведений по районам Москвы')\n",
    "\n",
    "distr = reg_cat.groupby('district', \n",
    "                        as_index=False).agg({'lng':'sum'}).sort_values('lng')\n",
    "distr['perc'] = ( distr['lng'] / \n",
    "                  distr['lng'].sum() * 100 ).round(2)\n",
    "sns.barplot(x='district', y='lng', data=distr, palette='Accent')\n",
    "# Вывод процентов\n",
    "vls = distr['perc']\n",
    "for i, value in enumerate(vls):\n",
    "    plt.text(i, value + 180, value, ha='center', va='center')\n",
    "plt.xlabel('Административный район')\n",
    "plt.ylabel('Количество заведений');"
   ]
  },
  {
   "cell_type": "markdown",
   "metadata": {},
   "source": [
    "И столбчатый график категорий по районам - в каждом указаны топ-4 категории по количеству заведений, и \"Другое\" - сумма остальных категорий."
   ]
  },
  {
   "cell_type": "code",
   "execution_count": null,
   "metadata": {},
   "outputs": [],
   "source": [
    "categ_distr = reg_cat.groupby(['district',\n",
    "                               'category'], as_index=False).agg({'lng':'sum'})\n",
    "\n",
    "def make_top_districts(dist, data):\n",
    "    warnings.filterwarnings('ignore')\n",
    "    district = data[data['district'] == dist].groupby(['district', \n",
    "                                                       'category'], as_index=False).agg(\n",
    "                                                                            {'lng':'sum'}).sort_values('lng',\n",
    "                                                                                                       ascending=False)\n",
    "    top4 = district.head(4)\n",
    "    others_sum = top4.loc[4:]['lng'].sum()\n",
    "    top4.loc[9] = [dist, 'Другое', others_sum]\n",
    "    top4 = top4.sort_values('lng')\n",
    "    top4['lng'] = (top4['lng'] / top4['lng'].sum() * 100).round(0)\n",
    "    return top4"
   ]
  },
  {
   "cell_type": "code",
   "execution_count": null,
   "metadata": {},
   "outputs": [],
   "source": [
    "new_stats =pd.DataFrame()\n",
    "for a in list(categ_distr['district'].unique()):\n",
    "    new_stats = new_stats.append(make_top_districts(a, categ_distr))\n",
    "    \n",
    "\n",
    "plt.figure(figsize=(14,7))    \n",
    "plt.title('Доля, которую составляют категории в каждом районе Москвы')\n",
    "sns.barplot(x='district', y='lng', data=new_stats, hue='category')\n",
    "plt.xlabel('Административный район')\n",
    "plt.ylabel('Доля от всех категорий, %');"
   ]
  },
  {
   "cell_type": "markdown",
   "metadata": {},
   "source": [
    "На этом графике заметно, что во всех регионах по популярности лидирует тройка \"кафе\", \"ресторан\" и \"кофейня\". Причём во всех случаях на первом месте \"кафе\", исключение составляет ЦАО: в ЦАО на первом месте \"ресторан\", что в целом неудивительно. При анализе не рассматривается категория \"Другое\", где объединены все заведения, не попавшие в топ-4."
   ]
  },
  {
   "cell_type": "markdown",
   "metadata": {},
   "source": [
    "В каких районах кофейни встречаются чаще всего?"
   ]
  },
  {
   "cell_type": "code",
   "execution_count": null,
   "metadata": {},
   "outputs": [],
   "source": [
    "df.query('category ==\"кофейня\"').groupby('district').agg({'lat':'count'}).sort_values('lat', ascending=False)"
   ]
  },
  {
   "cell_type": "markdown",
   "metadata": {},
   "source": [
    "**Вывод по районам расположения заведений:** Среди всех районов по плотности заведений заметно лидирует ЦАО - в этом районе находится более 2000 заведений. Количество заведений в остальных районах не превышает 1500. Меньше всего заведений в ЮЗАО, ЮВАО и СЗАО - там их количество не превышает 700 на район.\\\n",
    "При анализе по категориям стало заметно, что независимо от района лидируют три категории - кафе, ресторан и кофейня. При этом в ЦАО лидируют рестораны, а во всех остальных районах - кофейни.\\\n",
    "Четверть всех заведений расположены в ЦАО.\\\n",
    "Подавляющее большинство всех кофеен расположено в ЦАО с большим отрывом от остальных районов по количеству."
   ]
  },
  {
   "cell_type": "markdown",
   "metadata": {},
   "source": [
    "### Распределение средних рейтингов по категориям заведений"
   ]
  },
  {
   "cell_type": "markdown",
   "metadata": {},
   "source": [
    "Теперь смотрю, как распределены оценки посетилелей в разных категориях.\\\n",
    "Строю 2 графика:\\\n",
    "На первом графике - гистограммы всех категорий по оценкам, размеченные разным цветом.\\\n",
    "На втором графике - плотность распределения оценок, также разным цветом на одном графике."
   ]
  },
  {
   "cell_type": "code",
   "execution_count": null,
   "metadata": {
    "scrolled": false
   },
   "outputs": [],
   "source": [
    "rate = df[['category', 'rating']]\n",
    "\n",
    "warnings.filterwarnings('ignore')\n",
    "sns.set_style('darkgrid')\n",
    "sns.set_palette(\n",
    "\"muted\", 12)\n",
    "\n",
    "plt.figure(figsize=(15,10))\n",
    "ax1 = plt.subplot(2, 1, 1)\n",
    "for a in rate['category'].unique():\n",
    "    subset = rate[rate['category'] == a]\n",
    "    sns.distplot(subset['rating'], hist=True, kde=False,\n",
    "                 kde_kws = {'linewidth': 2, 'alpha': 0.1},\n",
    "                 label = a, ax=ax1)\n",
    "\n",
    "plt.legend(prop={'size': 16}, title = 'Категории')\n",
    "plt.title('Распределение оценок заведений посетителями по категориям', size=25)\n",
    "plt.xlabel('Оценка', size=16)\n",
    "plt.xticks(np.arange(1, 5.5, 0.5))\n",
    "plt.ylabel('Количество оценок', size=16)\n",
    "\n",
    "\n",
    "plt.figure(figsize=(15,10))\n",
    "ax2 = plt.subplot(2,1,2)\n",
    "for a in rate['category'].unique():\n",
    "    subset = rate[rate['category'] == a]\n",
    "    sns.distplot(subset['rating'], hist = False, kde = True,\n",
    "                 kde_kws = {'linewidth': 2, \"alpha\":0},\n",
    "                 label = a, ax=ax2)\n",
    "\n",
    "plt.legend(prop={'size': 16}, title = 'Категории')\n",
    "plt.title('')\n",
    "plt.xlabel('Оценка', size=16)\n",
    "plt.xticks(np.arange(1, 5.5, 0.5))\n",
    "plt.ylabel('Плотность распределения', size=16);"
   ]
  },
  {
   "cell_type": "markdown",
   "metadata": {},
   "source": [
    "Заметно, что во всех категориях большинство оценок в среднем распределено от 4 до 4.5 баллов. Что покажут средние оценки по категориям?"
   ]
  },
  {
   "cell_type": "code",
   "execution_count": null,
   "metadata": {},
   "outputs": [],
   "source": [
    "mean_rate = df.groupby('category', as_index=False).agg({'rating':'mean'}).round(2)\n",
    "\n",
    "fig = px.bar(mean_rate.sort_values(by='rating', ascending=True), \n",
    "             x='rating', y='category', color_discrete_sequence=colors, text='rating',\n",
    "             hover_data=['rating','category']\n",
    "            )\n",
    "\n",
    "fig.update_layout(title='Средний рейтинг разных категорий заведений Москвы',\n",
    "                   xaxis_title='Средний рейтинг',\n",
    "                   yaxis_title='Категория',\n",
    "                   font=dict(size=16))\n",
    "fig.show()"
   ]
  },
  {
   "cell_type": "markdown",
   "metadata": {},
   "source": [
    "**Вывод:** Во всех категориях оценка заведения в среднем составляет от 4 до 4.5 баллов.\\\n",
    "При этом самый высокий средний рейтинг - у баров, 4.39. Интересно, в насколько трезвом состоянии выставляются оценки?\\\n",
    "На втором и третьем месте - рестораны и пиццерии. Кофейни находятся посередине - средний рейтинг 4.28."
   ]
  },
  {
   "cell_type": "markdown",
   "metadata": {},
   "source": [
    "### Средний рейтинг заведений по районам"
   ]
  },
  {
   "cell_type": "markdown",
   "metadata": {},
   "source": [
    "Теперь анализирую оценки посетителей заведений по районам Москвы."
   ]
  },
  {
   "cell_type": "code",
   "execution_count": null,
   "metadata": {
    "scrolled": false
   },
   "outputs": [],
   "source": [
    "reg_rate = df.groupby('district', as_index=False).agg({'rating':'mean'}).round(2)\n",
    "state_geo = '/datasets/admin_level_geomap.geojson'\n",
    "# moscow_lat - широта центра Москвы, moscow_lng - долгота центра Москвы\n",
    "moscow_lat, moscow_lng = 55.751244, 37.618423\n",
    "m = Map(location=[moscow_lat, moscow_lng], zoom_start=10, tiles='Cartodb Positron')\n",
    "Choropleth(\n",
    "    geo_data = state_geo,\n",
    "data = reg_rate,\n",
    "    \n",
    "    columns=['district', 'rating'],\n",
    "    key_on='feature.name',\n",
    "    fill_color='PuRd',\n",
    "    fill_opacity=0.8,\n",
    "    legend_name='Средний рейтинг заведений в районах Москвы',\n",
    ").add_to(m)\n",
    "m"
   ]
  },
  {
   "cell_type": "markdown",
   "metadata": {},
   "source": [
    "Средний рейтинг по районам для кофеен:"
   ]
  },
  {
   "cell_type": "code",
   "execution_count": null,
   "metadata": {},
   "outputs": [],
   "source": [
    "reg_coffee = df.query('category == \"кофейня\"').groupby('district', as_index=False).agg({'rating':'mean'}).round(2)\n",
    "m = Map(location=[moscow_lat, moscow_lng], zoom_start=10, tiles='Cartodb Positron')\n",
    "Choropleth(\n",
    "    geo_data = state_geo,\n",
    "data = reg_coffee,\n",
    "    \n",
    "    columns=['district', 'rating'],\n",
    "    key_on='feature.name',\n",
    "    fill_color='PuRd',\n",
    "    fill_opacity=0.8,\n",
    "    legend_name='Средний рейтинг кофеен в районах Москвы',\n",
    ").add_to(m)\n",
    "m"
   ]
  },
  {
   "cell_type": "markdown",
   "metadata": {},
   "source": [
    "**Вывод:** По средним оценкам заметно лидируют заведения, расположенные в ЦАО - средний рейтинг 4.38.\\\n",
    "На втором месте - САО и СЗАО со средней оценкой примерно в 4.20.\\\n",
    "Среди остальных регионов самый низкий рейтинг у СВАО и ЮВАО - в районе 4.11.\n",
    "\n",
    "Среди кофеен самый высокий средний рейтинг - в ЦАО и СЗАО, оценка в среднем 4.34. На втором месте - САО, ВАО и ЮЗАО с оценкой в 4.29 Самые низкие рейтинги - в ЗАО и СВАО - там оценка не превышает 4.22.\n"
   ]
  },
  {
   "cell_type": "markdown",
   "metadata": {},
   "source": [
    "### Заведения по кластерам на карте"
   ]
  },
  {
   "cell_type": "markdown",
   "metadata": {},
   "source": [
    "Теперь размечаю все заведения датасета на карте Москвы, объединяя кластеры.\\\n",
    "Каждой кагетегории соответствует иконка:"
   ]
  },
  {
   "attachments": {
    "%D0%91%D0%B5%D0%B7%20%D0%B8%D0%BC%D0%B5%D0%BD%D0%B8-2.png": {
     "image/png": "[encoded data removed]"
    },
    "%D0%91%D0%B5%D0%B7%20%D0%B8%D0%BC%D0%B5%D0%BD%D0%B8-3.png": {
     "image/png": "[encoded data removed]"
    },
    "%D0%91%D0%B5%D0%B7%20%D0%B8%D0%BC%D0%B5%D0%BD%D0%B8-4.png": {
     "image/png": "[encoded data removed]"
    },
    "%D0%91%D0%B5%D0%B7%20%D0%B8%D0%BC%D0%B5%D0%BD%D0%B8-5.png": {
     "image/png": "[encoded data removed]"
    },
    "%D0%91%D0%B5%D0%B7%20%D0%B8%D0%BC%D0%B5%D0%BD%D0%B8-6.png": {
     "image/png": "[encoded data removed]"
    },
    "%D0%91%D0%B5%D0%B7%20%D0%B8%D0%BC%D0%B5%D0%BD%D0%B8-7.png": {
     "image/png": "[encoded data removed]"
    },
    "%D0%91%D0%B5%D0%B7%20%D0%B8%D0%BC%D0%B5%D0%BD%D0%B8-8.png": {
     "image/png": "[encoded data removed]"
    },
    "%D0%91%D0%B5%D0%B7%20%D0%B8%D0%BC%D0%B5%D0%BD%D0%B8.png": {
     "image/png": "[encoded data removed]"
    }
   },
   "cell_type": "markdown",
   "metadata": {},
   "source": [
    "| Символ | Категория заведения              |\n",
    "|--------|----------------------------------|\n",
    "|   ![%D0%91%D0%B5%D0%B7%20%D0%B8%D0%BC%D0%B5%D0%BD%D0%B8.png](attachment:%D0%91%D0%B5%D0%B7%20%D0%B8%D0%BC%D0%B5%D0%BD%D0%B8.png)     | Кофейня                   |\n",
    "|![%D0%91%D0%B5%D0%B7%20%D0%B8%D0%BC%D0%B5%D0%BD%D0%B8-2.png](attachment:%D0%91%D0%B5%D0%B7%20%D0%B8%D0%BC%D0%B5%D0%BD%D0%B8-2.png)        | Ресторан |\n",
    "|   ![%D0%91%D0%B5%D0%B7%20%D0%B8%D0%BC%D0%B5%D0%BD%D0%B8-3.png](attachment:%D0%91%D0%B5%D0%B7%20%D0%B8%D0%BC%D0%B5%D0%BD%D0%B8-3.png)    | Кафе                   |\n",
    "|![%D0%91%D0%B5%D0%B7%20%D0%B8%D0%BC%D0%B5%D0%BD%D0%B8-4.png](attachment:%D0%91%D0%B5%D0%B7%20%D0%B8%D0%BC%D0%B5%D0%BD%D0%B8-4.png)        | Бар, паб |\n",
    "|  ![%D0%91%D0%B5%D0%B7%20%D0%B8%D0%BC%D0%B5%D0%BD%D0%B8-5.png](attachment:%D0%91%D0%B5%D0%B7%20%D0%B8%D0%BC%D0%B5%D0%BD%D0%B8-5.png)  | Пиццерия                  |\n",
    "|![%D0%91%D0%B5%D0%B7%20%D0%B8%D0%BC%D0%B5%D0%BD%D0%B8-6.png](attachment:%D0%91%D0%B5%D0%B7%20%D0%B8%D0%BC%D0%B5%D0%BD%D0%B8-6.png)       | Быстрое питание |\n",
    "| ![%D0%91%D0%B5%D0%B7%20%D0%B8%D0%BC%D0%B5%D0%BD%D0%B8-7.png](attachment:%D0%91%D0%B5%D0%B7%20%D0%B8%D0%BC%D0%B5%D0%BD%D0%B8-7.png)    | Булочная                   |\n",
    "|![%D0%91%D0%B5%D0%B7%20%D0%B8%D0%BC%D0%B5%D0%BD%D0%B8-8.png](attachment:%D0%91%D0%B5%D0%B7%20%D0%B8%D0%BC%D0%B5%D0%BD%D0%B8-8.png)       | Столовая |"
   ]
  },
  {
   "cell_type": "code",
   "execution_count": null,
   "metadata": {},
   "outputs": [],
   "source": [
    "moscow_lat, moscow_lng = 55.751244, 37.618423\n",
    "\n",
    "m = Map(location=[moscow_lat, moscow_lng], zoom_start=10, tiles=\"Cartodb Positron\")\n",
    "\n",
    "marker_cluster = MarkerCluster().add_to(m)\n",
    "\n",
    "def create_clusters(row):\n",
    "    if row['category'] == 'кофейня':\n",
    "        icon_url = 'https://img.icons8.com/?size=128&id=2FD6pYQuKzhr&format=png'  \n",
    "    elif row['category'] == 'ресторан':\n",
    "        icon_url = 'https://img.icons8.com/?size=100&id=8300&format=png'\n",
    "    elif row['category'] == 'кафе':\n",
    "        icon_url = 'https://img.icons8.com/?size=160&id=kuqvHKbsjVtV&format=png'\n",
    "    elif row['category'] == 'пиццерия':\n",
    "        icon_url = 'https://img.icons8.com/?size=128&id=ZKwfz3uUjX0E&format=png'\n",
    "    elif row['category'] == 'бар,паб':\n",
    "        icon_url ='https://img.icons8.com/?size=160&id=gSfDLdJxeeGn&format=png'\n",
    "    elif row['category'] == 'быстрое питание':\n",
    "        icon_url ='https://img.icons8.com/?size=160&id=3IMITbl59zLf&format=png'\n",
    "    elif row['category'] ==  'булочная':\n",
    "        icon_url ='https://img.icons8.com/?size=128&id=l1clFG024sY9&format=png'\n",
    "    else:\n",
    "        icon_url ='https://img.icons8.com/?size=128&id=qQ9JM56zTLJk&format=png'\n",
    "    # создаём объект с собственной иконкой размером 30x30\n",
    "    icon = CustomIcon(icon_url, icon_size=(30, 30))\n",
    "    \n",
    "    Marker(\n",
    "        [row['lat'], row['lng']],\n",
    "        popup=f\"{row['name']} {row['rating']}\",\n",
    "        icon=icon,\n",
    "    ).add_to(marker_cluster)\n",
    "\n",
    "df.apply(create_clusters, axis=1)\n",
    "m"
   ]
  },
  {
   "cell_type": "markdown",
   "metadata": {},
   "source": [
    "### Топ-15 улиц по количеству заведений"
   ]
  },
  {
   "cell_type": "markdown",
   "metadata": {},
   "source": [
    "Нахожу топ-15 улиц по количеству заведений и строю визуализацию в формате тепловой карты - для каждой улицы видно распределение заведений и их количество в каждой из категорий."
   ]
  },
  {
   "cell_type": "code",
   "execution_count": null,
   "metadata": {
    "scrolled": true
   },
   "outputs": [],
   "source": [
    "top_streets = df.groupby('street',\n",
    "                         as_index=False).agg({'name':'count'}).sort_values('name', \n",
    "                                                                           ascending=False).head(15)\n",
    "\n",
    "top_streets_cat = df[df['street'].isin\n",
    "                     (top_streets['street'])].groupby(['street', \n",
    "                                                       'category'], \n",
    "                                                      as_index=False).agg({'name':'count'}\n",
    "                                                                         ).sort_values('name', ascending=False)"
   ]
  },
  {
   "cell_type": "code",
   "execution_count": null,
   "metadata": {},
   "outputs": [],
   "source": [
    "streets_pivot = top_streets_cat.pivot('street', \n",
    "                                      'category', \n",
    "                                      'name').fillna(0).sort_values(['кафе',\n",
    "                                                                     'булочная', \n",
    "                                                                     'кофейня'], ascending=False)\n",
    "streets_pivot['всего заведений'] = streets_pivot.sum(axis=1, numeric_only=True)\n",
    "streets_pivot = streets_pivot.astype(int).sort_values('всего заведений', ascending=False)\n",
    "plt.figure(figsize = (14,9))\n",
    "\n",
    "sns.heatmap(streets_pivot, cmap='Spectral', annot=True, fmt='d', cbar=False, linewidth=0.5)\n",
    "plt.title('Количество заведений по категориям на Топ-15 самых популярных улиц Москвы', fontsize=20)\n",
    "plt.xlabel('Категория')\n",
    "plt.xticks(rotation=55)\n",
    "plt.ylabel('Улица');"
   ]
  },
  {
   "cell_type": "markdown",
   "metadata": {},
   "source": [
    "**Вывод:** С большим отрывом лидирует Проспект мира - 184 заведения на этой улице. однако стоит учитывать и её протяженность - это большой проспект. Он лидирует практически во всех категориях.\\\n",
    "Следом идёт Профсоюзная улица и Ленинский проспект.\\\n",
    "Также заметно, что на улицах из Топ-15 расположены преимущественно кофейни, кафе, и рестораны. Это также коррелирует с анализом категорий в разных административных районах Москвы."
   ]
  },
  {
   "cell_type": "markdown",
   "metadata": {},
   "source": [
    "Теперь смотрю, в каких районах располагаются улицы с наибольшей проходимостью:"
   ]
  },
  {
   "cell_type": "code",
   "execution_count": null,
   "metadata": {},
   "outputs": [],
   "source": [
    "top_districts = df[df['street'].isin(top_streets['street'])][['street', \n",
    "                                              'district']].groupby('street',\n",
    "                                                                  as_index=False).agg({'district':'first'})\n",
    "top_d = top_districts.groupby('district').agg({'district':'count'})\n",
    "top_d.columns = ['популярных улиц']\n",
    "\n",
    "plt.figure(figsize=(8,6))\n",
    "sns.barplot(x='популярных улиц', y='district', data=top_d.sort_values('популярных улиц', ascending=False).reset_index());\n",
    "plt.title('Количество улиц из топ-15 по популярности в каждом районе Москвы')\n",
    "plt.ylabel('Улица')\n",
    "plt.xticks(range(0, 5, 1));"
   ]
  },
  {
   "cell_type": "markdown",
   "metadata": {},
   "source": [
    "**Вывод:** из топ-15 по проходимости улиц больше всего улиц находятся в САО - 4 улицы из 15. На втором месте - ЮЗАО с 3 популярными улицами.\\\n",
    "Занимательно, что ЦАО только в середине рейтинга по самым популярным улицам."
   ]
  },
  {
   "cell_type": "markdown",
   "metadata": {},
   "source": [
    "### Улицы, на которых есть только одно заведение общепита"
   ]
  },
  {
   "cell_type": "markdown",
   "metadata": {},
   "source": [
    "Смотрю, на каких улицах расположено только одно заведения общепита."
   ]
  },
  {
   "cell_type": "code",
   "execution_count": null,
   "metadata": {},
   "outputs": [],
   "source": [
    "one_s = df.groupby('street', as_index=False).agg({'name':'count'}).query('name == 1')\n",
    "one_s"
   ]
  },
  {
   "cell_type": "markdown",
   "metadata": {},
   "source": [
    "Сколько таких улиц есть в процентном выражении?"
   ]
  },
  {
   "cell_type": "code",
   "execution_count": null,
   "metadata": {},
   "outputs": [],
   "source": [
    "one_s['street'].count() / df['street'].count() * 100"
   ]
  },
  {
   "cell_type": "markdown",
   "metadata": {},
   "source": [
    "Теперь создаю таблицу с заведениями, которые расположены на этих улицах, и ключевой информацией о них."
   ]
  },
  {
   "cell_type": "code",
   "execution_count": null,
   "metadata": {},
   "outputs": [],
   "source": [
    "one_streets = df[df['street'].isin(one_s['street'])\n",
    "                ][['name', 'category', 'district', \n",
    "                   'rating', 'price', 'middle_avg_bill', \n",
    "                   'seats', 'street', 'chain', 'is_24_7']]\n",
    "one_streets.head()"
   ]
  },
  {
   "cell_type": "markdown",
   "metadata": {},
   "source": [
    "Интересно, в каких районах они расположены?"
   ]
  },
  {
   "cell_type": "code",
   "execution_count": null,
   "metadata": {},
   "outputs": [],
   "source": [
    "one_streets['district'].value_counts()"
   ]
  },
  {
   "cell_type": "markdown",
   "metadata": {},
   "source": [
    "Занимательно - заведения чаще всего бывают единственными на одну улицу в ЦАО: таких заведений 134. В остальных районах это число не превышает 49, заметен очень сильный отрыв."
   ]
  },
  {
   "cell_type": "code",
   "execution_count": null,
   "metadata": {},
   "outputs": [],
   "source": [
    "plt.figure(figsize=(13,5))\n",
    "sns.distplot(one_streets['rating'], hist=True, kde=True,\n",
    "                 kde_kws = {'linewidth': 2, 'alpha': 0.1})\n",
    "plt.xlabel('Оценка посетителями')\n",
    "plt.ylabel('Плотность распределения')\n",
    "plt.title('Распределение оценок заведений на улицах, где есть только одно заведение');"
   ]
  },
  {
   "cell_type": "markdown",
   "metadata": {},
   "source": [
    "Распределение оценок не отличается от распределения для остальных заведений.\\\n",
    "Какие это категории?"
   ]
  },
  {
   "cell_type": "code",
   "execution_count": null,
   "metadata": {},
   "outputs": [],
   "source": [
    "one_streets['category'].value_counts()"
   ]
  },
  {
   "cell_type": "markdown",
   "metadata": {},
   "source": [
    "Чаще всего такие заведения являются кафе, рестораном или кофейней."
   ]
  },
  {
   "cell_type": "markdown",
   "metadata": {},
   "source": [
    "Если оценить улицы, где есть только одно заведение, и это кофейня, то в каких районах их больше всего?"
   ]
  },
  {
   "cell_type": "code",
   "execution_count": null,
   "metadata": {},
   "outputs": [],
   "source": [
    "one_streets.query('category ==\"кофейня\"')['district'].value_counts()"
   ]
  },
  {
   "cell_type": "markdown",
   "metadata": {},
   "source": [
    "**Вывод:** в Москве есть улицы, на которых расположено только одно заведение. Всего таких улиц - более 400, а заведения на этих улицах относятся к кафе, ресторанам или кофейням.\n",
    "В подавляющем большинстве случаев кофейни из этого списка расположены в ЦАО."
   ]
  },
  {
   "cell_type": "markdown",
   "metadata": {},
   "source": [
    "### Исследование среднего чека"
   ]
  },
  {
   "cell_type": "markdown",
   "metadata": {},
   "source": [
    "Теперь считаю медиану среднего чека по районам и строю фоновую картограмму, на которой отражаю медианный средний чек (медиана хорошо подходит, поскольку болеее устойчива к выбросам)."
   ]
  },
  {
   "cell_type": "code",
   "execution_count": null,
   "metadata": {
    "scrolled": true
   },
   "outputs": [],
   "source": [
    "bills = df.groupby('district', as_index=False).agg({'middle_avg_bill':'median'})\n",
    "state_geo = '/datasets/admin_level_geomap.geojson'\n",
    "\n",
    "moscow_lat, moscow_lng = 55.751244, 37.618423\n",
    "m = Map(location=[moscow_lat, moscow_lng], zoom_start=10, tiles='Cartodb Positron')\n",
    "Choropleth(\n",
    "    geo_data = state_geo,\n",
    "data = bills,\n",
    "    columns=['district', 'middle_avg_bill'],\n",
    "    key_on='feature.name',\n",
    "    fill_color='PuRd',\n",
    "    fill_opacity=0.8,\n",
    "    legend_name='Средний чек в заведениях по районам Москвы',\n",
    ").add_to(m)\n",
    "m"
   ]
  },
  {
   "cell_type": "markdown",
   "metadata": {},
   "source": [
    "Также строю аналогичную карту, отражая на ней среднюю стоимость чашки кофе для кофеен."
   ]
  },
  {
   "cell_type": "code",
   "execution_count": null,
   "metadata": {},
   "outputs": [],
   "source": [
    "bills_cup = df.query('category==\"кофейня\"').groupby('district', as_index=False).agg({'middle_coffee_cup':'median'})\n",
    "\n",
    "m = Map(location=[moscow_lat, moscow_lng], zoom_start=10, tiles='Cartodb Positron')\n",
    "Choropleth(\n",
    "    geo_data = state_geo,\n",
    "data = bills_cup,\n",
    "    columns=['district', 'middle_coffee_cup'],\n",
    "    key_on='feature.name',\n",
    "    fill_color='PuRd',\n",
    "    fill_opacity=0.8,\n",
    "    legend_name='Средняя цена чашки кофе в кофейнях Москвы по районам',\n",
    ").add_to(m)\n",
    "m"
   ]
  },
  {
   "cell_type": "markdown",
   "metadata": {},
   "source": [
    "**Вывод**: самый высокий средний чек - в заведениях в ЦАО и ЗАО, в этих районах он находится в диапозоне 900 - 1000 рублей.\\\n",
    "На втором месте идут ЮЗАО, САО, СЗАО и ВАО - тут средний чек находится в диапозоне 600 - 700 рублей.\\\n",
    "В остальных районах он не превышает 540 рублей.\n",
    "\n",
    "В целом нет прямой закономерности с уменьшением цен при отдалении от центра - общая картина показывает, что сумма среднего чека в западной части Москвы в среднем выше, чем сумма среднего чека в восточной части. При этом нельзя утверждать, что восточные районы находятся от центра дальше западных - и в западной части города есть очень удалённые точки.\n",
    "\n",
    "**Вывод по средней цене чашки кофе:** Самая высокая стоимость - в ЦАО, ЗАО и ЮЗАО - она составляет 188 - 198 рублей.\\\n",
    "в САО, СЗАО и СВАО средняя стоимость - 156 - 167 рублей.\\\n",
    "В ЮАО и ЮВАО - 146 - 156 рублей.\\\n",
    "Самая низкая стоимость - в ВАО, до 146 рублей."
   ]
  },
  {
   "cell_type": "markdown",
   "metadata": {},
   "source": [
    "### Круглосуточные кофейни"
   ]
  },
  {
   "cell_type": "markdown",
   "metadata": {},
   "source": [
    "Есть ли круглосуточные кофейни в датасете, и какова их доля от всех кофеен?"
   ]
  },
  {
   "cell_type": "code",
   "execution_count": null,
   "metadata": {},
   "outputs": [],
   "source": [
    "coffee_24 = df.query('category == \"кофейня\" and is_24_7 == True')['name'].count()\n",
    "num = coffee_24 / df.query('category == \"кофейня\"')['name'].count() * 100\n",
    "print(f'В датасете есть {coffee_24} круглосуточных кофеен.')\n",
    "print(f'Это {num.round(2)}% от всех кофеен.')"
   ]
  },
  {
   "cell_type": "markdown",
   "metadata": {},
   "source": [
    "В каких районах они расположены?"
   ]
  },
  {
   "cell_type": "code",
   "execution_count": null,
   "metadata": {},
   "outputs": [],
   "source": [
    "df.query('category == \"кофейня\" and is_24_7 == True')['district'].value_counts()"
   ]
  },
  {
   "cell_type": "markdown",
   "metadata": {},
   "source": [
    "Также можно оценить, отличаются ли усредненные оценки для круглосуточных и некруглосуточных кофеен."
   ]
  },
  {
   "cell_type": "code",
   "execution_count": null,
   "metadata": {},
   "outputs": [],
   "source": [
    "coffee_24_7 = df.query('category == \"кофейня\"')\n",
    "rate_no_24 = coffee_24_7.query('is_24_7 == False')['rating']\n",
    "rate_24 = coffee_24_7.query('is_24_7 == True')['rating']\n",
    "\n",
    "print(f'Средний рейтинг не круглосуточных кофеен: {rate_no_24.mean().round(2)}')\n",
    "print(f'Средний рейтинг кофеен 24/7:{rate_24.mean().round(2)}')"
   ]
  },
  {
   "cell_type": "markdown",
   "metadata": {},
   "source": [
    "**Вывод:** в датасете всего 59 круглосуточных кофеен, или 4.18% от всех кофеен.\\\n",
    "Подавляющее большинство таких кофеен находится в ЦАО."
   ]
  },
  {
   "cell_type": "markdown",
   "metadata": {},
   "source": [
    "### Часы работы кофеен в Топ-15 популярных сетей"
   ]
  },
  {
   "cell_type": "markdown",
   "metadata": {},
   "source": [
    "Также оцениваю, какие часы работы у кофеен из Топ-15 сетей, не учитывая кофейни, работающие круглосуточно."
   ]
  },
  {
   "cell_type": "code",
   "execution_count": null,
   "metadata": {},
   "outputs": [],
   "source": [
    "df[df['name'].isin(top15['Сеть'])].query('category == \"кофейня\" and is_24_7 != True')['hours'].value_counts().head(10)"
   ]
  },
  {
   "cell_type": "markdown",
   "metadata": {},
   "source": [
    "Практически все сетевые кофейни работают до 22:00, начало работы варьируется с 7 до 10 утра. Самый распространённый вариант - 10:00 - 22:00."
   ]
  },
  {
   "cell_type": "markdown",
   "metadata": {},
   "source": [
    "## Ответы на поставленные вопросы"
   ]
  },
  {
   "cell_type": "markdown",
   "metadata": {},
   "source": [
    "1. Сколько всего кофеен в датасете? \n",
    "2.  В каких районах их больше всего, каковы особенности их расположения?\n",
    "3.  Есть ли круглосуточные кофейни?\n",
    "4.  Какие у кофеен рейтинги? Как они распределяются по районам?\n",
    "5.   На какую стоимость чашки капучино стоит ориентироваться при открытии и почему?"
   ]
  },
  {
   "cell_type": "markdown",
   "metadata": {},
   "source": [
    "1. Сколько всего кофеен в датасете?\n",
    "\n",
    "В датасете есть 1417 кофеен. Это 17% от всех заведений."
   ]
  },
  {
   "cell_type": "markdown",
   "metadata": {},
   "source": [
    "2. В каких районах их больше всего, каковы особенности их расположения?\n",
    "\n",
    "Больше всего кофеен - в ЦАО, их количество - 428. Это количество гораздо выше остальных районов - на втором месте идёт САО с 193 кофейнями и СВАО со 159 кофейнями.\\\n",
    "При этом есть улицы, на которых расположено только одно заведение. Если говорить о кофейнях, то наибольшее количество таких кофеен расположено в ЦАО - 33 кофейни. На втором месте САО с 10 кофейнями и ВАО с 8 кофейнями. Здесь также большой отрыв ЦАО по количеству налицо.\\\n",
    "Больше всего кофеен находится на Проспекте мира,  Ленинском и Ленинградском проспекте."
   ]
  },
  {
   "cell_type": "markdown",
   "metadata": {},
   "source": [
    "3. Есть ли круглосуточные кофейни?\n",
    "\n",
    "Да, есть информация о кофейнях, работающих 24/7. Всего таких кофеен 59, или около 4% от всех кофеен в данных.\\\n",
    "При этом 40% всех круглосуточных кофеен расположены в ЦАО.\\\n",
    "Средний рейтинг не круглосуточных кофеен составляет 4.28, а средний рейтинг кофеен 24/7 - 4.21."
   ]
  },
  {
   "cell_type": "markdown",
   "metadata": {},
   "source": [
    "4. Какие у кофеен рейтинги? Как они распределяются по районам?\n",
    "\n",
    "Усредненная оценка кофеейн в Москве - 4.28.\n",
    "По районам лидирует кофейни, расположенные в ЦАО и СЗАО - средний рейтинг 4.38.\\\n",
    "На втором месте - САО, ВАО и ЮЗАО с оценкой в 4.29. \\\n",
    "Самые низкие рейтинги - в ЗАО и СВАО - там оценка не превышает 4.22."
   ]
  },
  {
   "cell_type": "markdown",
   "metadata": {},
   "source": [
    "5. На какую стоимость чашки капучино стоит ориентироваться при открытии и почему?\n",
    "\n",
    "Этот показатель будет отличаться для разных районов Москвы. Средняя цена чашки капучино зависит от района.\\\n",
    "Самая высокая стоимость - в ЦАО, ЗАО и ЮЗАО - она составляет 188 - 198 рублей.\\\n",
    "в САО, СЗАО и СВАО средняя стоимость - 156 - 167 рублей.\\\n",
    "В ЮАО и ЮВАО - 146 - 156 рублей.\\\n",
    "Самая низкая стоимость - в ВАО, до 146 рублей.\\\n",
    "В целом эту тенденцию за исключаем ВАО можно описать следующим образом: самая высокая средняя стоимость чашки кофе - в ЦАО, ЗАО и ЮЗАО. На втором месте идут северные районы, на третьем - южные, а на последнем месте - ВАО.\n",
    "\n"
   ]
  },
  {
   "cell_type": "markdown",
   "metadata": {},
   "source": [
    "6. Какие часы работы у популярных сетей кофеен? \n",
    "\n",
    "Практически все сетевые кофейни из топ-15 по популярности работают до 22:00, начало работы варьируется с 7 до 10 утра. Самый распространённый вариант - 10:00 - 22:00."
   ]
  },
  {
   "cell_type": "markdown",
   "metadata": {},
   "source": [
    "7. Сколько кофеен есть среди Топ-15 самых популярных сетей Москвы(по количеству точек)?\n",
    "\n",
    "Кофейни составляют самый большой процент в Топ-15 по популярности - они составляют треть от всех категорий.\\\n",
    "При этом даже среди топ-5 кофейнями являются 3 из 5 заведений.\n",
    "\n"
   ]
  },
  {
   "cell_type": "markdown",
   "metadata": {},
   "source": [
    "## Подведение итогов"
   ]
  },
  {
   "cell_type": "markdown",
   "metadata": {},
   "source": [
    "Я провёл исследование на основании датасета заведений общепита Москвы Яндекс.Карт и Яндекс.Бизнес по состоянию на лето 2022 года. Целью исследования был поиск закономерностей и метрик, которые помогут принять решение для открытия новой точки общепита: какие категории заведений наиболее популярны, какие у них цены и особенности расположения, оценки посетителей и иные зависимости.\n",
    "\n",
    "Я выполнил предобработку данных. Полностью дублирующихся строк не обнаружено. В названиях заведений обнаружено большое количество неявных дубликатов - разные варианты написания одних и тех же заведений.\\\n",
    "Данные в Яндекс.Бизнес заполняются пользователями и на основе открытых источников, это и стало причиной неявных дублей. Я обработал названия, максимально исключив такие дубли.\\\n",
    "Помимо этого, обнаружено много пропусков - они могут быть связаны как с человеческим фактором (в информации о среднем чеке), так и с техническими особенностями при выгрузке с Яндекс.Карт. Пропуски решено оставить, поскольку их удаление или заполнение нулём могли повлиять на результаты исследования, важно минимизировать это влияние.\\\n",
    "После предобработки я добавил новые колонки - вынес название улицы, где расположено заведение, а также добавил колонку с признаком, работает ли заведение 24/7.\n",
    "В завершение предобработки я изучил аномалии и исключил выбросы в размере среднего чека и количестве сидячих мест в заведении.\n",
    "\n",
    "После предобработки я приступил к анализу.\n",
    "\n",
    "Я изучил распределение заведений Москвы по категориям. Выяснилось, что самую большую долю всех заведений составляют **рестораны, кафе и кофейни**. Ресторанов - **28.3%**, кафе - **24.3%** и кофеен - **16.8%**.\\\n",
    "Меньше всего - булочных.\n",
    "\n",
    "Далее я изучил среднее количество сидящих мест в заведениях. Установлено, что самая большая вместимость в среднем у **ресторанов** (более **80** мест), **баров/пабов** (**80** мест) и **кофеен** (более **70** мест). Меньше всего мест в среднем в булочных.\n",
    "\n",
    "После этого проанализировал соотношение сетевых и несетевых заведений в Москве. Значительная часть заведений Москвы является сетевыми - **38% сетевых** заведений против **62% несетевых**.\\\n",
    "Также я узнал, какие категории чаще являются сетевыми.\\\n",
    "Больше всего сетевых заведений в категории **\"булочная\" - 60%** от всех заведений. После этого идут **пиццерии** и **кофейни** - в каждой из этих категорий доля **сетевых** заведений составляет около **50%**.\n",
    "\n",
    "За этим последовал список Топ-15 сетей Москвы по популярности - оценил эту метрику по количеству точек в каждой сети.\\\n",
    " Среди **топ-15** заведений **самой популярной** категорией являются **кофейни** - более **33%**, или трети от всех заведений. С кофейнями по популярности сопоставимы только **кафе** - более **26%**.\\\n",
    "Если рассматривать сами сети, то лидер по популярности - кофейня Шоколадница, у неё заметно больше точек, чем у всех остальных.\\\n",
    "После Шоколадницы в рейтинге следуют 2 пиццерии - Доминос пицца и Додо пицца. Далее снова идут кофейни - one price coffee и cofix.\n",
    "\n",
    "Исходя из фактов выше - если смотреть на топ-15 популярных сетей Москвы, то **наибольшую популярность** имеют именно **кофейни**. И вот, почему:\n",
    "* кофейни составляют треть от всего топ-15\n",
    "* самое популярное заведение с большим отрывом по точкам - тоже кофейня\n",
    "* даже в Топ-5 популярных заведений 3 из 5 позиций занимают кофейни.\n",
    "\n",
    "После анализа Топ-15 я перешёл к анализу количества заведений в разных административных районах Москвы, а также категорий заведений в каждом из районов.\\\n",
    "Среди всех районов по плотности заведений заметно **лидирует ЦАО** - в этом районе находится **более 2000 заведений**. Количество заведений в остальных районах не превышает **1500**. **Меньше всего** заведений в **ЮЗАО, ЮВАО и СЗАО** - там их количество не превышает **700** на район.\\\n",
    "При анализе по категориям стало заметно, что **независимо** от района лидируют **три категории - кафе, ресторан и кофейня**. При этом в ЦАО лидируют **рестораны**, а во всех остальных районах - **кофейни**.\\\n",
    "**Четверть** всех заведений расположены в **ЦАО**.\\\n",
    "Подавляющее большинство всех **кофеен** расположено в **ЦАО** с большим отрывом от остальных районов по количеству.\\\n",
    "В ЦАО расположено **425** кофеен.\n",
    "\n",
    "Далее я проанализировал, какие оценки выставляют посетители заведением разных категорий, и сравнил их друг с другом.\\\n",
    "Установлено, что **во всех** категориях оценка заведения в среднем составляет от **4** до **4.5** баллов.\\\n",
    "При этом самый высокий средний рейтинг - у **баров, 4.39**.\\\n",
    "На втором и третьем месте - **рестораны и пиццерии**. **Кофейни** находятся посередине - средний рейтинг **4.28**.\\\n",
    "Также я сравнил рейтинг круглосуточных и не круглосуточных кофеен.\\\n",
    "Средний рейтинг не круглосуточных кофеен: **4.28**.\\\n",
    "Средний рейтинг кофеен 24/7: **4.21**.\n",
    "\n",
    "После анализа оценок я составил **Топ-15 улиц** по количеству заведений, на них расположенных, также посмотрел, какие категории расположены на этих улицах.\\\n",
    "С большим отрывом лидирует **Проспект мира** - **184** заведения на этой улице. Он лидирует практически во всех категориях.\\\n",
    "Однако стоит учитывать и её протяженность - это большой проспект.\\\n",
    "Следом идёт **Профсоюзная улица и Ленинский проспект**.\\\n",
    "Также заметно, что на **улицах из Топ-15** расположены преимущественно **кофейни, кафе, и рестораны**. Это также коррелирует с анализом категорий в разных административных районах Москвы.\n",
    "\n",
    "Также я изучил улицы, на которых расположено **только одно заведение**. Всего таких улиц - **более 400**, или около **5%** от всех улиц. Чаще всего это переулки и проезды. Заведения на этих улицах относятся к **кафе, ресторанам или кофейням**.\\\n",
    "Я провёл анализ по **кофейням** в этом списке - выяснилось, что в подавляющем большинстве случаев **такие улицы расположены в ЦАО**.\n",
    "\n",
    "Следом я провёл анализ среднего чека в заведениях в зависимости от района.\\\n",
    "Самый **высокий** средний чек - в заведениях в **ЦАО и ЗАО**, в этих районах он находится в диапозоне **900 - 1000** рублей.\\\n",
    "На втором месте идут **ЮЗАО, САО, СЗАО и ВАО** - тут средний чек находится в диапозоне **600 - 700** рублей.\\\n",
    "В остальных районах он не превышает **540** рублей.\n",
    "\n",
    "В целом нет прямой закономерности с уменьшением цен при отдалении от центра - общая картина показывает, что сумма среднего чека в западной части Москвы в среднем выше, чем сумма среднего чека в восточной части. При этом нельзя утверждать, что восточные районы находятся от центра дальше западных - и в западной части города есть очень удалённые точки.\n",
    "\n",
    "Помимо этого, я оценил зависимость средней цены чашки кофе от района Москвы.\\\n",
    "Самая высокая стоимость - в **ЦАО, ЗАО и ЮЗАО** - она составляет **188 - 198** рублей.\\\n",
    "в **САО, СЗАО и СВАО** средняя стоимость - **156 - 167** рублей.\\\n",
    "В **ЮАО и ЮВАО** - **146 - 156** рублей.\\\n",
    "Самая низкая стоимость - в **ВАО, до 146** рублей.\\\n",
    "В целом эту тенденцию за исключаем ВАО можно описать следующим образом: самая высокая средняя стоимость чашки кофе - в центре и в западных районах. На втором месте идут северные районы, на третьем - южные, а на последнем месте - ВАО.\n",
    "\n",
    "В завершении исследования я проанализировал **круглосуточные кофейни**.\\\n",
    "Выяснилось, что в датасете всего 59 круглосуточных кофеен, или **4.18%** от всех кофеен.\\\n",
    "Подавляющее большинство таких кофеен находится в **ЦАО**.\n",
    "\n",
    "Помимо этого выяснил, что прктически все сетевые кофейни из топ-15 сетей работают до 22:00, начало работы варьируется с 7 до 10 утра. Самый распространённый вариант - 10:00 - 22:00."
   ]
  },
  {
   "cell_type": "markdown",
   "metadata": {},
   "source": [
    "## Финальные выводы"
   ]
  },
  {
   "cell_type": "markdown",
   "metadata": {},
   "source": [
    "Главной целью исследования было выявить Выявить, какими характерными признаками обладают наиболее популярные заведения общепита, а также найти закономерности, которые помогут сделать выбор в пользу той или иной категории, расположения или среднего чека.\\\n",
    "В частности, инвесторов интересовало открытия кофейни.\\\n",
    "Вопрос конкуренции в этой сфере не учитывается, исходя из запроса фонда.\n",
    "\n",
    "Вот несколько фактов по результатам анализа данных **о всех заведениях общепита в Москве**.\n",
    "\n",
    "1. Тройка категорий-лидеров общепита по популярности - рестораны, кафе и кофейни.\n",
    "2. Самая большая вместимость (в среднем) у заведений в категориях рестораны(80+ мест), бары(80 мест) и кофейни (70 мест).\n",
    "3. Заметная часть заведений Москвы - сетевые. Их количество - 38%, несетевых - 62%.\n",
    "4. Среди категорий сетевых заведений самый большой процент сетевых точек - у булочных(60%), кофеен и пиццерий (в каждой 50% сетевых заведений).\n",
    "5. В топ-15 сетевых заведений первое место занимает Шоколадница с категорией \"кофейня\". Среди топ-15 кофеен больше всего - 33%, или треть от всех сетей. На втором месте - кафе, 26% от всего топа.\n",
    "6. Оценка посетителями заведений во всех категориях варьируется от 4 до 4.5 баллов. Наивысший балл - у баров, 4.39 балла. Самый высокий средний рейтинг - у заведений, расположенных в ЦАО.\n",
    "7. Больше всего заведений находится в ЦАО - более 2000 точек. Это четверть всех заведений в датасете. Количество заведений в остальных районах не превышает 1500. Меньше всего заведений в ЮЗАО, ЮВАО и СЗАО - там их количество не превышает 700 на район.\n",
    "8. Независимо от района по популярности лидируют 3 категории - кофейни, кафе и рестораны. При этом в ЦАО лидируют рестораны, а в остальных районах - кофейни.\n",
    "9. Самые популярные по количеству заведений улицы - Проспект мира, Профсоюзная улица и Ленинский проспект. При этом на всех улицах из Топ-15 популярных улицах самые популярные категории - также кофейни, кафе и рестораны, как и в предыдущем пункте.\n",
    "10. Есть улицы, на которых расположено только одно заведение. Таких улиц более 400, или 5% от всех улиц. Преимущественно это переулки и проезды. Заведения на этих улицах также чаще всего относятся к кофейням, кафе и ресторанам.\n",
    "11. Самый высокий средний чек - в заведениях в ЦАО и ЗАО, в этих районах он находится в диапозоне 900 - 1000 рублей.\n",
    "    На втором месте идут ЮЗАО, САО, СЗАО и ВАО - тут средний чек находится в диапозоне 600 - 700 рублей.\n",
    "    В остальных районах он не превышает 540 рублей.\n",
    "    \n",
    "\n",
    "А здесь - ключевые факты, которые касаются именно **кофеен в Москве**.\n",
    "\n",
    "1. Кофейни входят в тройку самых популярных категорий заведений в Москве.\n",
    "2. В среднем кофейни имеют вместимость в 70 сидячих мест.\n",
    "3. Кофейни входят в тройку самых популярных сетевых категорий. 50% всех кофеен в данных - сетевые.\n",
    "4. Кофейни составляют самую большую долю от Топ-15 популярных сетей (треть от всех сетей) и занимают лидирующие позиции в рейтинге. Самая популярная сеть Москвы - тоже кофейня (речь о Шоколаднице). Из Топ-5 сетей 3 из 5 позиций также занимают кофейни.\n",
    "5. Средняя оценка кофеен пользователями - 4.28 балла.\n",
    "6. Средняя оценка кофеен варьируется в зависимости от района. Самый высокий рейтинг - у кофеен в ЦАО и СЗАО, далее идут ЮЗАО, САО и ВАО.\n",
    "5. среди всех категорий общепита кофейни лидируют по популярности (количеству заведений) во всех административных районах города за исключением ЦАО - там с небольшим отрывом лидируют рестораны, кофейни на втором месте.\n",
    "6. Подавляющее большинство всех кофеен Москвы находится в ЦАО с большим отрывом по количеству от остальных районов.\n",
    "7. Есть улицы, на которых расположено только одно заведение. Несмотря на пункт 6, больше всего таких улиц с кофейнями расположены в ЦАО.\n",
    "8. В данных есть записи о 59 круглосуточных кофейнях, это около 4% от всех кофеен. Преимущественно они расположены в ЦАО.\n",
    "9. Практически все сетевые кофейни из топ-15 сетей работают до 22:00, начало работы варьируется с 7 до 10 утра. Самый распространённый вариант - 10:00 - 22:00.\n",
    "10. Средняя стоимость чашки капучино варьируется в зависимости от района города.\\\n",
    "    Самая высокая стоимость - в ЦАО, ЗАО и ЮЗАО - она составляет 188 - 198 рублей.\\\n",
    "    в САО, СЗАО и СВАО средняя стоимость - 156 - 167 рублей.\\\n",
    "    В ЮАО и ЮВАО - 146 - 156 рублей.\\\n",
    "    Самая низкая стоимость - в ВАО, до 146 рублей.\\\n",
    "    В целом эту тенденцию за исключаем ВАО можно описать следующим образом: самая высокая средняя стоимость чашки кофе - в центре и в западных районах. На втором месте идут северные районы, на третьем - южные, а на последнем месте - ВАО.\n",
    "    \n"
   ]
  },
  {
   "cell_type": "markdown",
   "metadata": {},
   "source": [
    "## Заключение по экономической целесообразности"
   ]
  },
  {
   "cell_type": "markdown",
   "metadata": {},
   "source": [
    "Кофейня - хороший вариант для открытия заведения в Москве: эта категория входит в тройку лидирующих во всех районах города, что говорит о популярности формата и спросе на него. Кроме этого, средний рейтинг кофеен находится на очень хороших значениях.\\\n",
    "Важно выбрать место с наибольшей проходимостью, в районе с хорошим спросом на эту категорию и с хорошим средним рейтингом кофеен. Помимо этого, важна и стоимость кофе.\n",
    "\n",
    "Самая лучшая проходимость - у заведений в ЦАО, это объясняет также то, что подавляющее большинство всех заведений Москвы находятся именно в ЦАО. Здесь(а также в ЗАО)с охраняется наивысшая цена чашки кофе, как и наивысшие рейтинги.\\\n",
    "Однако если посмотреть на топ-15 улиц города по проходимости, то станет заметно, что эти улицы чаще всего находятся в САО.\\\n",
    "То есть район в целом показывает хорошую проходимость во всех категориях. ЦАО находится лишь в середине рейтинга. При этом аренда в САО обойдётся существенно выгоднее, чем в ЦАО.\\\n",
    "В пользу этого также говорит то, что после \"дорогих\" районов ЦАО и ЗАО следует именно САО - и по размеру среднего чека, и по средней стоимости чашки капучино. Таким образом, можно выбрать не самый популярный вариант ЦАО с огромной плотностью заведений, а САО, в котором наилучшая проходимость сочетается с популярностью кофеен среди остальных категорий (они на втором месте). Кроме этого, САО находится на втором месте по размеру среднего чека среди районом Москвы, и это сулит хороший доход. При этом кофе будет более доступен для посетителей по цене, нежели в ЦАО."
   ]
  }
 ],
 "metadata": {
  "ExecuteTimeLog": [
   {
    "duration": 484,
    "start_time": "2024-05-28T12:20:16.276Z"
   },
   {
    "duration": 110,
    "start_time": "2024-05-28T12:20:26.416Z"
   },
   {
    "duration": 36,
    "start_time": "2024-05-28T12:20:31.904Z"
   },
   {
    "duration": 238,
    "start_time": "2024-05-28T12:20:36.353Z"
   },
   {
    "duration": 26,
    "start_time": "2024-05-28T12:20:40.815Z"
   },
   {
    "duration": 55,
    "start_time": "2024-05-28T12:22:07.952Z"
   },
   {
    "duration": 69,
    "start_time": "2024-05-28T12:22:14.510Z"
   },
   {
    "duration": 53,
    "start_time": "2024-05-28T12:22:28.654Z"
   },
   {
    "duration": 16,
    "start_time": "2024-05-28T12:29:57.005Z"
   },
   {
    "duration": 14,
    "start_time": "2024-05-28T12:41:16.115Z"
   },
   {
    "duration": 17,
    "start_time": "2024-05-28T12:45:03.697Z"
   },
   {
    "duration": 18,
    "start_time": "2024-05-28T12:45:11.355Z"
   },
   {
    "duration": 18,
    "start_time": "2024-05-28T12:48:25.196Z"
   },
   {
    "duration": 74,
    "start_time": "2024-05-28T15:56:50.637Z"
   },
   {
    "duration": 24,
    "start_time": "2024-05-28T15:57:27.629Z"
   },
   {
    "duration": 54,
    "start_time": "2024-05-31T12:33:35.666Z"
   },
   {
    "duration": 449,
    "start_time": "2024-05-31T12:33:39.225Z"
   },
   {
    "duration": 126,
    "start_time": "2024-05-31T12:33:39.676Z"
   },
   {
    "duration": 22,
    "start_time": "2024-05-31T12:33:39.804Z"
   },
   {
    "duration": 15,
    "start_time": "2024-05-31T12:33:39.828Z"
   },
   {
    "duration": 14,
    "start_time": "2024-05-31T12:33:39.845Z"
   },
   {
    "duration": 17,
    "start_time": "2024-05-31T12:38:19.929Z"
   },
   {
    "duration": 11,
    "start_time": "2024-05-31T12:38:33.113Z"
   },
   {
    "duration": 11,
    "start_time": "2024-05-31T12:38:38.393Z"
   },
   {
    "duration": 26,
    "start_time": "2024-05-31T12:39:56.444Z"
   },
   {
    "duration": 38,
    "start_time": "2024-05-31T12:40:08.522Z"
   },
   {
    "duration": 12,
    "start_time": "2024-05-31T12:40:46.011Z"
   },
   {
    "duration": 39,
    "start_time": "2024-05-31T12:50:19.500Z"
   },
   {
    "duration": 29,
    "start_time": "2024-05-31T12:50:28.987Z"
   },
   {
    "duration": 30,
    "start_time": "2024-05-31T12:51:13.594Z"
   },
   {
    "duration": 15,
    "start_time": "2024-05-31T12:51:18.315Z"
   },
   {
    "duration": 16,
    "start_time": "2024-05-31T12:52:02.524Z"
   },
   {
    "duration": 11,
    "start_time": "2024-05-31T12:56:08.236Z"
   },
   {
    "duration": 9,
    "start_time": "2024-05-31T14:13:33.986Z"
   },
   {
    "duration": 10,
    "start_time": "2024-05-31T14:13:48.809Z"
   },
   {
    "duration": 24,
    "start_time": "2024-05-31T14:14:05.666Z"
   },
   {
    "duration": 47,
    "start_time": "2024-06-03T12:51:42.381Z"
   },
   {
    "duration": 425,
    "start_time": "2024-06-03T12:51:45.382Z"
   },
   {
    "duration": 113,
    "start_time": "2024-06-03T12:51:45.808Z"
   },
   {
    "duration": 20,
    "start_time": "2024-06-03T12:51:45.922Z"
   },
   {
    "duration": 15,
    "start_time": "2024-06-03T12:51:45.944Z"
   },
   {
    "duration": 13,
    "start_time": "2024-06-03T12:51:45.960Z"
   },
   {
    "duration": 34,
    "start_time": "2024-06-03T12:51:47.730Z"
   },
   {
    "duration": 27,
    "start_time": "2024-06-03T12:52:02.824Z"
   },
   {
    "duration": 27,
    "start_time": "2024-06-03T12:53:45.280Z"
   },
   {
    "duration": 13,
    "start_time": "2024-06-03T12:53:49.732Z"
   },
   {
    "duration": 62,
    "start_time": "2024-06-03T12:54:05.811Z"
   },
   {
    "duration": 59,
    "start_time": "2024-06-03T12:54:19.641Z"
   },
   {
    "duration": 18,
    "start_time": "2024-06-03T13:14:25.627Z"
   },
   {
    "duration": 17,
    "start_time": "2024-06-03T13:14:55.232Z"
   },
   {
    "duration": 19,
    "start_time": "2024-06-03T13:17:13.473Z"
   },
   {
    "duration": 13,
    "start_time": "2024-06-03T13:17:52.873Z"
   },
   {
    "duration": 10,
    "start_time": "2024-06-03T13:18:30.049Z"
   },
   {
    "duration": 12,
    "start_time": "2024-06-03T13:18:40.835Z"
   },
   {
    "duration": 5,
    "start_time": "2024-06-03T13:18:50.437Z"
   },
   {
    "duration": 4,
    "start_time": "2024-06-03T13:18:55.141Z"
   },
   {
    "duration": 14,
    "start_time": "2024-06-03T13:19:01.608Z"
   },
   {
    "duration": 10,
    "start_time": "2024-06-03T13:32:15.756Z"
   },
   {
    "duration": 65,
    "start_time": "2024-06-03T13:36:28.004Z"
   },
   {
    "duration": 4,
    "start_time": "2024-06-03T13:44:19.697Z"
   },
   {
    "duration": 18,
    "start_time": "2024-06-03T13:44:26.015Z"
   },
   {
    "duration": 484,
    "start_time": "2024-06-03T13:47:32.461Z"
   },
   {
    "duration": 10,
    "start_time": "2024-06-03T13:49:48.888Z"
   },
   {
    "duration": 4,
    "start_time": "2024-06-03T13:50:40.094Z"
   },
   {
    "duration": 25,
    "start_time": "2024-06-03T13:51:10.379Z"
   },
   {
    "duration": 22,
    "start_time": "2024-06-03T13:51:19.372Z"
   },
   {
    "duration": 20,
    "start_time": "2024-06-03T13:51:33.817Z"
   },
   {
    "duration": 24,
    "start_time": "2024-06-03T13:51:57.268Z"
   },
   {
    "duration": 23,
    "start_time": "2024-06-03T13:52:44.219Z"
   },
   {
    "duration": 10,
    "start_time": "2024-06-03T13:53:18.928Z"
   },
   {
    "duration": 13,
    "start_time": "2024-06-03T13:53:31.821Z"
   },
   {
    "duration": 26,
    "start_time": "2024-06-03T13:54:31.163Z"
   },
   {
    "duration": 12,
    "start_time": "2024-06-03T13:54:40.367Z"
   },
   {
    "duration": 72,
    "start_time": "2024-06-03T14:13:27.284Z"
   },
   {
    "duration": 58,
    "start_time": "2024-06-03T14:13:33.685Z"
   },
   {
    "duration": 14,
    "start_time": "2024-06-03T14:13:36.798Z"
   },
   {
    "duration": 84,
    "start_time": "2024-06-03T14:13:45.947Z"
   },
   {
    "duration": 12,
    "start_time": "2024-06-03T14:13:54.501Z"
   },
   {
    "duration": 13,
    "start_time": "2024-06-03T14:13:55.338Z"
   },
   {
    "duration": 101,
    "start_time": "2024-06-03T14:14:14.052Z"
   },
   {
    "duration": 13,
    "start_time": "2024-06-03T14:14:19.349Z"
   },
   {
    "duration": 91,
    "start_time": "2024-06-03T14:14:34.163Z"
   },
   {
    "duration": 14,
    "start_time": "2024-06-03T14:14:37.882Z"
   },
   {
    "duration": 13,
    "start_time": "2024-06-03T14:15:23.560Z"
   },
   {
    "duration": 22,
    "start_time": "2024-06-03T14:15:43.423Z"
   },
   {
    "duration": 15,
    "start_time": "2024-06-03T14:16:16.542Z"
   },
   {
    "duration": 15,
    "start_time": "2024-06-03T14:16:17.760Z"
   },
   {
    "duration": 13,
    "start_time": "2024-06-03T14:16:19.941Z"
   },
   {
    "duration": 26,
    "start_time": "2024-06-03T14:16:36.099Z"
   },
   {
    "duration": 416,
    "start_time": "2024-06-03T20:08:32.486Z"
   },
   {
    "duration": 216,
    "start_time": "2024-06-03T20:08:33.551Z"
   },
   {
    "duration": 17,
    "start_time": "2024-06-03T20:08:34.789Z"
   },
   {
    "duration": 11,
    "start_time": "2024-06-03T20:08:36.362Z"
   },
   {
    "duration": 9,
    "start_time": "2024-06-03T20:08:55.283Z"
   },
   {
    "duration": 13,
    "start_time": "2024-06-03T20:08:56.651Z"
   },
   {
    "duration": 72,
    "start_time": "2024-06-03T20:08:58.747Z"
   },
   {
    "duration": 7,
    "start_time": "2024-06-03T20:10:17.425Z"
   },
   {
    "duration": 15,
    "start_time": "2024-06-03T20:12:59.132Z"
   },
   {
    "duration": 9,
    "start_time": "2024-06-03T20:13:11.699Z"
   },
   {
    "duration": 31,
    "start_time": "2024-06-03T20:14:38.643Z"
   },
   {
    "duration": 14,
    "start_time": "2024-06-03T20:23:11.209Z"
   },
   {
    "duration": 84,
    "start_time": "2024-06-03T20:23:18.452Z"
   },
   {
    "duration": 86,
    "start_time": "2024-06-03T20:23:47.969Z"
   },
   {
    "duration": 46,
    "start_time": "2024-06-03T20:23:53.750Z"
   },
   {
    "duration": 29,
    "start_time": "2024-06-03T20:24:07.671Z"
   },
   {
    "duration": 18,
    "start_time": "2024-06-03T20:24:30.519Z"
   },
   {
    "duration": 6,
    "start_time": "2024-06-03T20:25:49.890Z"
   },
   {
    "duration": 6,
    "start_time": "2024-06-03T20:25:53.795Z"
   },
   {
    "duration": 6,
    "start_time": "2024-06-03T20:26:00.656Z"
   },
   {
    "duration": 7,
    "start_time": "2024-06-03T20:26:08.156Z"
   },
   {
    "duration": 10,
    "start_time": "2024-06-03T20:26:17.670Z"
   },
   {
    "duration": 20,
    "start_time": "2024-06-03T20:26:21.254Z"
   },
   {
    "duration": 9,
    "start_time": "2024-06-03T20:26:30.632Z"
   },
   {
    "duration": 9,
    "start_time": "2024-06-03T20:26:52.430Z"
   },
   {
    "duration": 21,
    "start_time": "2024-06-03T20:27:40.369Z"
   },
   {
    "duration": 49,
    "start_time": "2024-06-03T20:27:59.245Z"
   },
   {
    "duration": 25,
    "start_time": "2024-06-03T20:28:14.420Z"
   },
   {
    "duration": 2,
    "start_time": "2024-06-03T20:28:24.715Z"
   },
   {
    "duration": 21,
    "start_time": "2024-06-03T20:28:35.175Z"
   },
   {
    "duration": 19,
    "start_time": "2024-06-03T20:28:42.254Z"
   },
   {
    "duration": 20,
    "start_time": "2024-06-03T20:33:15.295Z"
   },
   {
    "duration": 9,
    "start_time": "2024-06-03T20:33:55.940Z"
   },
   {
    "duration": 9,
    "start_time": "2024-06-03T20:34:17.604Z"
   },
   {
    "duration": 10,
    "start_time": "2024-06-03T20:34:39.036Z"
   },
   {
    "duration": 7,
    "start_time": "2024-06-03T20:35:04.064Z"
   },
   {
    "duration": 9,
    "start_time": "2024-06-03T20:35:10.174Z"
   },
   {
    "duration": 22,
    "start_time": "2024-06-03T20:36:09.631Z"
   },
   {
    "duration": 9,
    "start_time": "2024-06-03T20:36:42.193Z"
   },
   {
    "duration": 8,
    "start_time": "2024-06-03T20:36:49.421Z"
   },
   {
    "duration": 7,
    "start_time": "2024-06-03T20:39:23.111Z"
   },
   {
    "duration": 19,
    "start_time": "2024-06-03T20:39:30.547Z"
   },
   {
    "duration": 7,
    "start_time": "2024-06-03T20:39:41.277Z"
   },
   {
    "duration": 12,
    "start_time": "2024-06-03T20:40:06.908Z"
   },
   {
    "duration": 14,
    "start_time": "2024-06-03T20:40:15.617Z"
   },
   {
    "duration": 7,
    "start_time": "2024-06-03T20:40:23.249Z"
   },
   {
    "duration": 9,
    "start_time": "2024-06-03T20:40:27.895Z"
   },
   {
    "duration": 8,
    "start_time": "2024-06-03T20:41:30.017Z"
   },
   {
    "duration": 8,
    "start_time": "2024-06-03T20:41:32.530Z"
   },
   {
    "duration": 8,
    "start_time": "2024-06-03T20:41:35.823Z"
   },
   {
    "duration": 12,
    "start_time": "2024-06-03T20:41:37.796Z"
   },
   {
    "duration": 8,
    "start_time": "2024-06-03T20:41:52.760Z"
   },
   {
    "duration": 49,
    "start_time": "2024-06-03T20:42:00.373Z"
   },
   {
    "duration": 9,
    "start_time": "2024-06-03T20:42:02.808Z"
   },
   {
    "duration": 9,
    "start_time": "2024-06-03T20:42:05.102Z"
   },
   {
    "duration": 8,
    "start_time": "2024-06-03T20:42:09.669Z"
   },
   {
    "duration": 8,
    "start_time": "2024-06-03T20:42:12.533Z"
   },
   {
    "duration": 11,
    "start_time": "2024-06-03T20:42:19.220Z"
   },
   {
    "duration": 8,
    "start_time": "2024-06-03T20:42:21.958Z"
   },
   {
    "duration": 12,
    "start_time": "2024-06-03T20:42:30.530Z"
   },
   {
    "duration": 8,
    "start_time": "2024-06-03T20:42:33.846Z"
   },
   {
    "duration": 12,
    "start_time": "2024-06-03T20:42:37.785Z"
   },
   {
    "duration": 12,
    "start_time": "2024-06-03T20:42:42.857Z"
   },
   {
    "duration": 11,
    "start_time": "2024-06-03T20:42:45.163Z"
   },
   {
    "duration": 8,
    "start_time": "2024-06-03T20:42:51.962Z"
   },
   {
    "duration": 10,
    "start_time": "2024-06-03T20:42:54.217Z"
   },
   {
    "duration": 8,
    "start_time": "2024-06-03T20:42:56.985Z"
   },
   {
    "duration": 6,
    "start_time": "2024-06-03T20:45:15.479Z"
   },
   {
    "duration": 7,
    "start_time": "2024-06-03T20:45:18.759Z"
   },
   {
    "duration": 16,
    "start_time": "2024-06-03T20:48:21.316Z"
   },
   {
    "duration": 15,
    "start_time": "2024-06-03T20:48:29.843Z"
   },
   {
    "duration": 123,
    "start_time": "2024-06-03T20:48:40.912Z"
   },
   {
    "duration": 125,
    "start_time": "2024-06-03T20:48:50.779Z"
   },
   {
    "duration": 130,
    "start_time": "2024-06-03T20:49:31.206Z"
   },
   {
    "duration": 128,
    "start_time": "2024-06-03T20:49:39.765Z"
   },
   {
    "duration": 122,
    "start_time": "2024-06-03T20:49:46.406Z"
   },
   {
    "duration": 123,
    "start_time": "2024-06-03T20:49:48.111Z"
   },
   {
    "duration": 128,
    "start_time": "2024-06-03T20:50:22.992Z"
   },
   {
    "duration": 163,
    "start_time": "2024-06-03T20:50:24.821Z"
   },
   {
    "duration": 123,
    "start_time": "2024-06-03T20:50:36.269Z"
   },
   {
    "duration": 126,
    "start_time": "2024-06-03T20:50:38.159Z"
   },
   {
    "duration": 123,
    "start_time": "2024-06-03T20:50:43.456Z"
   },
   {
    "duration": 234,
    "start_time": "2024-06-03T20:50:57.755Z"
   },
   {
    "duration": 250,
    "start_time": "2024-06-03T20:51:15.034Z"
   },
   {
    "duration": 243,
    "start_time": "2024-06-03T20:51:23.994Z"
   },
   {
    "duration": 49,
    "start_time": "2024-06-03T20:52:38.145Z"
   },
   {
    "duration": 44,
    "start_time": "2024-06-03T20:52:45.791Z"
   },
   {
    "duration": 42,
    "start_time": "2024-06-03T20:52:47.487Z"
   },
   {
    "duration": 51,
    "start_time": "2024-06-03T20:53:24.299Z"
   },
   {
    "duration": 61,
    "start_time": "2024-06-03T20:53:28.448Z"
   },
   {
    "duration": 146,
    "start_time": "2024-06-03T20:54:38.448Z"
   },
   {
    "duration": 47,
    "start_time": "2024-06-03T20:54:58.173Z"
   },
   {
    "duration": 47,
    "start_time": "2024-06-03T20:54:59.657Z"
   },
   {
    "duration": 53,
    "start_time": "2024-06-03T20:55:07.710Z"
   },
   {
    "duration": 13,
    "start_time": "2024-06-03T20:55:28.587Z"
   },
   {
    "duration": 50,
    "start_time": "2024-06-03T20:55:31.156Z"
   },
   {
    "duration": 43,
    "start_time": "2024-06-03T20:55:34.721Z"
   },
   {
    "duration": 44,
    "start_time": "2024-06-03T20:56:29.990Z"
   },
   {
    "duration": 43,
    "start_time": "2024-06-03T20:56:31.363Z"
   },
   {
    "duration": 46,
    "start_time": "2024-06-03T20:56:33.974Z"
   },
   {
    "duration": 46,
    "start_time": "2024-06-03T20:56:35.568Z"
   },
   {
    "duration": 11,
    "start_time": "2024-06-03T20:56:49.309Z"
   },
   {
    "duration": 49,
    "start_time": "2024-06-03T20:56:56.021Z"
   },
   {
    "duration": 49,
    "start_time": "2024-06-03T20:58:03.883Z"
   },
   {
    "duration": 11,
    "start_time": "2024-06-03T21:04:08.275Z"
   },
   {
    "duration": 10,
    "start_time": "2024-06-03T21:04:11.029Z"
   },
   {
    "duration": 8,
    "start_time": "2024-06-03T21:04:12.468Z"
   },
   {
    "duration": 8,
    "start_time": "2024-06-03T21:09:45.710Z"
   },
   {
    "duration": 10,
    "start_time": "2024-06-03T21:10:36.695Z"
   },
   {
    "duration": 9,
    "start_time": "2024-06-03T21:10:47.644Z"
   },
   {
    "duration": 15,
    "start_time": "2024-06-03T21:11:03.384Z"
   },
   {
    "duration": 18,
    "start_time": "2024-06-03T21:11:22.155Z"
   },
   {
    "duration": 16,
    "start_time": "2024-06-03T21:11:29.516Z"
   },
   {
    "duration": 14,
    "start_time": "2024-06-03T21:11:45.596Z"
   },
   {
    "duration": 63,
    "start_time": "2024-06-03T21:11:52.029Z"
   },
   {
    "duration": 15,
    "start_time": "2024-06-03T21:11:54.639Z"
   },
   {
    "duration": 18,
    "start_time": "2024-06-03T21:12:20.188Z"
   },
   {
    "duration": 16,
    "start_time": "2024-06-03T21:12:45.473Z"
   },
   {
    "duration": 16,
    "start_time": "2024-06-03T21:13:05.660Z"
   },
   {
    "duration": 64,
    "start_time": "2024-06-03T21:14:34.050Z"
   },
   {
    "duration": 107,
    "start_time": "2024-06-03T21:14:40.309Z"
   },
   {
    "duration": 117,
    "start_time": "2024-06-03T21:15:29.825Z"
   },
   {
    "duration": 116,
    "start_time": "2024-06-03T21:15:53.400Z"
   },
   {
    "duration": 119,
    "start_time": "2024-06-03T21:16:19.627Z"
   },
   {
    "duration": 65,
    "start_time": "2024-06-03T21:17:39.589Z"
   },
   {
    "duration": 2,
    "start_time": "2024-06-03T21:17:51.278Z"
   },
   {
    "duration": 56,
    "start_time": "2024-06-03T21:17:51.282Z"
   },
   {
    "duration": 12,
    "start_time": "2024-06-03T21:17:51.339Z"
   },
   {
    "duration": 11,
    "start_time": "2024-06-03T21:17:51.352Z"
   },
   {
    "duration": 13,
    "start_time": "2024-06-03T21:17:51.365Z"
   },
   {
    "duration": 17,
    "start_time": "2024-06-03T21:17:51.379Z"
   },
   {
    "duration": 79,
    "start_time": "2024-06-03T21:17:51.397Z"
   },
   {
    "duration": 14,
    "start_time": "2024-06-03T21:17:51.478Z"
   },
   {
    "duration": 8,
    "start_time": "2024-06-03T21:17:51.493Z"
   },
   {
    "duration": 17,
    "start_time": "2024-06-03T21:17:51.502Z"
   },
   {
    "duration": 4,
    "start_time": "2024-06-03T21:18:04.075Z"
   },
   {
    "duration": 7,
    "start_time": "2024-06-03T21:18:21.713Z"
   },
   {
    "duration": 6,
    "start_time": "2024-06-03T21:18:26.151Z"
   },
   {
    "duration": 7,
    "start_time": "2024-06-03T21:18:35.024Z"
   },
   {
    "duration": 10,
    "start_time": "2024-06-03T21:18:54.947Z"
   },
   {
    "duration": 20,
    "start_time": "2024-06-03T21:19:04.143Z"
   },
   {
    "duration": 8,
    "start_time": "2024-06-03T21:19:14.279Z"
   },
   {
    "duration": 7,
    "start_time": "2024-06-03T21:19:20.198Z"
   },
   {
    "duration": 50,
    "start_time": "2024-06-04T10:09:06.831Z"
   },
   {
    "duration": 502,
    "start_time": "2024-06-04T10:09:09.688Z"
   },
   {
    "duration": 400,
    "start_time": "2024-06-04T10:09:10.191Z"
   },
   {
    "duration": 23,
    "start_time": "2024-06-04T10:09:10.593Z"
   },
   {
    "duration": 15,
    "start_time": "2024-06-04T10:09:10.618Z"
   },
   {
    "duration": 21,
    "start_time": "2024-06-04T10:09:10.635Z"
   },
   {
    "duration": 23,
    "start_time": "2024-06-04T10:09:10.658Z"
   },
   {
    "duration": 100,
    "start_time": "2024-06-04T10:09:10.683Z"
   },
   {
    "duration": 11,
    "start_time": "2024-06-04T10:09:10.785Z"
   },
   {
    "duration": 77,
    "start_time": "2024-06-04T10:09:10.798Z"
   },
   {
    "duration": 14,
    "start_time": "2024-06-04T10:09:10.876Z"
   },
   {
    "duration": 27,
    "start_time": "2024-06-04T10:09:10.892Z"
   },
   {
    "duration": 3,
    "start_time": "2024-06-04T10:14:45.215Z"
   },
   {
    "duration": 107,
    "start_time": "2024-06-04T10:14:45.220Z"
   },
   {
    "duration": 16,
    "start_time": "2024-06-04T10:14:45.328Z"
   },
   {
    "duration": 19,
    "start_time": "2024-06-04T10:14:45.346Z"
   },
   {
    "duration": 16,
    "start_time": "2024-06-04T10:14:45.367Z"
   },
   {
    "duration": 11,
    "start_time": "2024-06-04T10:15:15.182Z"
   },
   {
    "duration": 26,
    "start_time": "2024-06-04T10:15:21.949Z"
   },
   {
    "duration": 13,
    "start_time": "2024-06-04T10:15:30.974Z"
   },
   {
    "duration": 4,
    "start_time": "2024-06-04T10:16:10.032Z"
   },
   {
    "duration": 11,
    "start_time": "2024-06-04T10:16:15.310Z"
   },
   {
    "duration": 22,
    "start_time": "2024-06-04T10:20:55.406Z"
   },
   {
    "duration": 4,
    "start_time": "2024-06-04T10:21:22.206Z"
   },
   {
    "duration": 60,
    "start_time": "2024-06-04T10:21:28.205Z"
   },
   {
    "duration": 28,
    "start_time": "2024-06-04T10:21:35.359Z"
   },
   {
    "duration": 85,
    "start_time": "2024-06-04T10:22:27.710Z"
   },
   {
    "duration": 80,
    "start_time": "2024-06-04T10:22:36.141Z"
   },
   {
    "duration": 29,
    "start_time": "2024-06-04T10:22:48.575Z"
   },
   {
    "duration": 88,
    "start_time": "2024-06-04T10:23:10.813Z"
   },
   {
    "duration": 12,
    "start_time": "2024-06-04T10:23:24.030Z"
   },
   {
    "duration": 9,
    "start_time": "2024-06-04T10:23:50.718Z"
   },
   {
    "duration": 47,
    "start_time": "2024-06-04T10:24:50.621Z"
   },
   {
    "duration": 14,
    "start_time": "2024-06-04T10:25:03.205Z"
   },
   {
    "duration": 16,
    "start_time": "2024-06-04T10:25:45.951Z"
   },
   {
    "duration": 21,
    "start_time": "2024-06-04T10:26:02.461Z"
   },
   {
    "duration": 25,
    "start_time": "2024-06-04T10:26:09.934Z"
   },
   {
    "duration": 26,
    "start_time": "2024-06-04T10:26:17.776Z"
   },
   {
    "duration": 2,
    "start_time": "2024-06-04T10:26:22.113Z"
   },
   {
    "duration": 76,
    "start_time": "2024-06-04T10:26:22.117Z"
   },
   {
    "duration": 15,
    "start_time": "2024-06-04T10:26:22.195Z"
   },
   {
    "duration": 21,
    "start_time": "2024-06-04T10:26:22.212Z"
   },
   {
    "duration": 25,
    "start_time": "2024-06-04T10:26:22.236Z"
   },
   {
    "duration": 14,
    "start_time": "2024-06-04T10:26:22.263Z"
   },
   {
    "duration": 30,
    "start_time": "2024-06-04T10:26:22.279Z"
   },
   {
    "duration": 53,
    "start_time": "2024-06-04T10:26:22.311Z"
   },
   {
    "duration": 21,
    "start_time": "2024-06-04T10:26:22.366Z"
   },
   {
    "duration": 106,
    "start_time": "2024-06-04T10:26:22.389Z"
   },
   {
    "duration": 10,
    "start_time": "2024-06-04T10:26:22.497Z"
   },
   {
    "duration": 54,
    "start_time": "2024-06-04T10:26:22.509Z"
   },
   {
    "duration": 15,
    "start_time": "2024-06-04T10:26:22.564Z"
   },
   {
    "duration": 41,
    "start_time": "2024-06-04T10:26:22.581Z"
   },
   {
    "duration": 8,
    "start_time": "2024-06-04T10:26:41.936Z"
   },
   {
    "duration": 9,
    "start_time": "2024-06-04T10:26:58.831Z"
   },
   {
    "duration": 8,
    "start_time": "2024-06-04T10:28:06.254Z"
   },
   {
    "duration": 11,
    "start_time": "2024-06-04T10:28:19.934Z"
   },
   {
    "duration": 2,
    "start_time": "2024-06-04T10:28:25.368Z"
   },
   {
    "duration": 83,
    "start_time": "2024-06-04T10:28:25.372Z"
   },
   {
    "duration": 15,
    "start_time": "2024-06-04T10:28:25.457Z"
   },
   {
    "duration": 23,
    "start_time": "2024-06-04T10:28:25.473Z"
   },
   {
    "duration": 17,
    "start_time": "2024-06-04T10:28:25.498Z"
   },
   {
    "duration": 19,
    "start_time": "2024-06-04T10:28:25.517Z"
   },
   {
    "duration": 34,
    "start_time": "2024-06-04T10:28:25.538Z"
   },
   {
    "duration": 8,
    "start_time": "2024-06-04T10:28:25.574Z"
   },
   {
    "duration": 11,
    "start_time": "2024-06-04T10:28:31.601Z"
   },
   {
    "duration": 21,
    "start_time": "2024-06-04T10:29:25.199Z"
   },
   {
    "duration": 21,
    "start_time": "2024-06-04T10:33:29.875Z"
   },
   {
    "duration": 10,
    "start_time": "2024-06-04T10:33:37.727Z"
   },
   {
    "duration": 11,
    "start_time": "2024-06-04T10:34:09.040Z"
   },
   {
    "duration": 73,
    "start_time": "2024-06-04T10:35:06.514Z"
   },
   {
    "duration": 25,
    "start_time": "2024-06-04T10:43:50.816Z"
   },
   {
    "duration": 25,
    "start_time": "2024-06-04T10:45:28.577Z"
   },
   {
    "duration": 29,
    "start_time": "2024-06-04T10:46:28.481Z"
   },
   {
    "duration": 11,
    "start_time": "2024-06-04T11:03:45.241Z"
   },
   {
    "duration": 8,
    "start_time": "2024-06-04T11:03:55.666Z"
   },
   {
    "duration": 15,
    "start_time": "2024-06-04T11:35:49.966Z"
   },
   {
    "duration": 10,
    "start_time": "2024-06-04T11:36:04.279Z"
   },
   {
    "duration": 12,
    "start_time": "2024-06-04T11:36:08.199Z"
   },
   {
    "duration": 26,
    "start_time": "2024-06-04T11:37:25.145Z"
   },
   {
    "duration": 45,
    "start_time": "2024-06-04T11:39:55.737Z"
   },
   {
    "duration": 36,
    "start_time": "2024-06-04T11:40:08.217Z"
   },
   {
    "duration": 38,
    "start_time": "2024-06-04T11:40:12.105Z"
   },
   {
    "duration": 14,
    "start_time": "2024-06-04T11:46:15.021Z"
   },
   {
    "duration": 21,
    "start_time": "2024-06-04T11:46:27.019Z"
   },
   {
    "duration": 40,
    "start_time": "2024-06-04T11:58:04.975Z"
   },
   {
    "duration": 14,
    "start_time": "2024-06-04T12:18:21.477Z"
   },
   {
    "duration": 11,
    "start_time": "2024-06-04T12:18:29.492Z"
   },
   {
    "duration": 10,
    "start_time": "2024-06-04T12:18:35.383Z"
   },
   {
    "duration": 19,
    "start_time": "2024-06-04T12:20:52.949Z"
   },
   {
    "duration": 15,
    "start_time": "2024-06-04T12:21:10.773Z"
   },
   {
    "duration": 460,
    "start_time": "2024-06-05T09:35:13.949Z"
   },
   {
    "duration": 117,
    "start_time": "2024-06-05T09:35:14.410Z"
   },
   {
    "duration": 17,
    "start_time": "2024-06-05T09:35:14.528Z"
   },
   {
    "duration": 20,
    "start_time": "2024-06-05T09:35:14.547Z"
   },
   {
    "duration": 15,
    "start_time": "2024-06-05T09:35:14.568Z"
   },
   {
    "duration": 12,
    "start_time": "2024-06-05T09:35:14.584Z"
   },
   {
    "duration": 22,
    "start_time": "2024-06-05T09:35:14.597Z"
   },
   {
    "duration": 6,
    "start_time": "2024-06-05T09:35:14.620Z"
   },
   {
    "duration": 9,
    "start_time": "2024-06-05T09:35:14.627Z"
   },
   {
    "duration": 17,
    "start_time": "2024-06-05T09:35:14.637Z"
   },
   {
    "duration": 69,
    "start_time": "2024-06-05T09:35:14.655Z"
   },
   {
    "duration": 15,
    "start_time": "2024-06-05T09:35:14.725Z"
   },
   {
    "duration": 36,
    "start_time": "2024-06-05T09:35:14.741Z"
   },
   {
    "duration": 11,
    "start_time": "2024-06-05T09:35:23.121Z"
   },
   {
    "duration": 55,
    "start_time": "2024-06-05T09:36:41.390Z"
   },
   {
    "duration": 53,
    "start_time": "2024-06-05T09:37:18.184Z"
   },
   {
    "duration": 73,
    "start_time": "2024-06-05T09:37:24.798Z"
   },
   {
    "duration": 511,
    "start_time": "2024-06-06T12:23:15.143Z"
   },
   {
    "duration": 128,
    "start_time": "2024-06-06T12:23:15.656Z"
   },
   {
    "duration": 23,
    "start_time": "2024-06-06T12:23:15.785Z"
   },
   {
    "duration": 14,
    "start_time": "2024-06-06T12:23:15.809Z"
   },
   {
    "duration": 81,
    "start_time": "2024-06-06T12:23:15.825Z"
   },
   {
    "duration": 13,
    "start_time": "2024-06-06T12:23:15.908Z"
   },
   {
    "duration": 92,
    "start_time": "2024-06-06T12:23:15.922Z"
   },
   {
    "duration": 36,
    "start_time": "2024-06-06T12:23:16.016Z"
   },
   {
    "duration": 24,
    "start_time": "2024-06-06T12:23:16.054Z"
   },
   {
    "duration": 27,
    "start_time": "2024-06-06T12:23:16.080Z"
   },
   {
    "duration": 103,
    "start_time": "2024-06-06T12:23:16.108Z"
   },
   {
    "duration": 20,
    "start_time": "2024-06-06T12:23:16.212Z"
   },
   {
    "duration": 31,
    "start_time": "2024-06-06T12:23:16.233Z"
   },
   {
    "duration": 25,
    "start_time": "2024-06-06T12:23:16.266Z"
   },
   {
    "duration": 106,
    "start_time": "2024-06-06T12:23:16.292Z"
   },
   {
    "duration": 82,
    "start_time": "2024-06-06T12:23:24.461Z"
   },
   {
    "duration": 13,
    "start_time": "2024-06-06T12:28:51.068Z"
   },
   {
    "duration": 28,
    "start_time": "2024-06-06T12:28:56.860Z"
   },
   {
    "duration": 15,
    "start_time": "2024-06-06T12:29:11.059Z"
   },
   {
    "duration": 75,
    "start_time": "2024-06-06T12:30:38.413Z"
   },
   {
    "duration": 16,
    "start_time": "2024-06-06T12:31:48.062Z"
   },
   {
    "duration": 11,
    "start_time": "2024-06-06T12:41:43.183Z"
   },
   {
    "duration": 818,
    "start_time": "2024-06-06T12:42:41.956Z"
   },
   {
    "duration": 5,
    "start_time": "2024-06-06T12:49:35.314Z"
   },
   {
    "duration": 27,
    "start_time": "2024-06-06T12:51:25.001Z"
   },
   {
    "duration": 229,
    "start_time": "2024-06-06T12:51:31.762Z"
   },
   {
    "duration": 113,
    "start_time": "2024-06-06T12:52:35.830Z"
   },
   {
    "duration": 16,
    "start_time": "2024-06-06T12:52:45.428Z"
   },
   {
    "duration": 14,
    "start_time": "2024-06-06T12:53:19.781Z"
   },
   {
    "duration": 22,
    "start_time": "2024-06-06T12:59:54.317Z"
   },
   {
    "duration": 16,
    "start_time": "2024-06-06T13:01:38.568Z"
   },
   {
    "duration": 34,
    "start_time": "2024-06-06T13:01:47.096Z"
   },
   {
    "duration": 15,
    "start_time": "2024-06-06T13:01:51.144Z"
   },
   {
    "duration": 26,
    "start_time": "2024-06-06T13:01:57.096Z"
   },
   {
    "duration": 13,
    "start_time": "2024-06-06T13:01:59.770Z"
   },
   {
    "duration": 21,
    "start_time": "2024-06-06T13:03:21.304Z"
   },
   {
    "duration": 25,
    "start_time": "2024-06-06T13:03:30.247Z"
   },
   {
    "duration": 22,
    "start_time": "2024-06-06T13:03:42.201Z"
   },
   {
    "duration": 19,
    "start_time": "2024-06-06T13:04:17.289Z"
   },
   {
    "duration": 20,
    "start_time": "2024-06-06T13:04:50.905Z"
   },
   {
    "duration": 21,
    "start_time": "2024-06-06T13:04:55.642Z"
   },
   {
    "duration": 20,
    "start_time": "2024-06-06T13:05:32.396Z"
   },
   {
    "duration": 3,
    "start_time": "2024-06-06T13:06:37.434Z"
   },
   {
    "duration": 22,
    "start_time": "2024-06-06T13:06:40.120Z"
   },
   {
    "duration": 20,
    "start_time": "2024-06-06T13:07:41.516Z"
   },
   {
    "duration": 14,
    "start_time": "2024-06-06T13:07:44.409Z"
   },
   {
    "duration": 20,
    "start_time": "2024-06-06T13:08:10.970Z"
   },
   {
    "duration": 15,
    "start_time": "2024-06-06T13:08:25.673Z"
   },
   {
    "duration": 21,
    "start_time": "2024-06-06T13:08:54.794Z"
   },
   {
    "duration": 24,
    "start_time": "2024-06-06T13:09:03.834Z"
   },
   {
    "duration": 20,
    "start_time": "2024-06-06T13:09:16.569Z"
   },
   {
    "duration": 15,
    "start_time": "2024-06-06T13:09:21.770Z"
   },
   {
    "duration": 17,
    "start_time": "2024-06-06T13:29:26.168Z"
   },
   {
    "duration": 41,
    "start_time": "2024-06-06T13:29:29.867Z"
   },
   {
    "duration": 17,
    "start_time": "2024-06-06T13:29:37.595Z"
   },
   {
    "duration": 19,
    "start_time": "2024-06-06T13:30:15.751Z"
   },
   {
    "duration": 129,
    "start_time": "2024-06-06T13:30:37.447Z"
   },
   {
    "duration": 18,
    "start_time": "2024-06-06T13:30:40.264Z"
   },
   {
    "duration": 15,
    "start_time": "2024-06-06T13:30:47.111Z"
   },
   {
    "duration": 15,
    "start_time": "2024-06-06T13:30:55.863Z"
   },
   {
    "duration": 15,
    "start_time": "2024-06-06T13:31:05.431Z"
   },
   {
    "duration": 15,
    "start_time": "2024-06-06T13:31:10.647Z"
   },
   {
    "duration": 15,
    "start_time": "2024-06-06T13:31:17.350Z"
   },
   {
    "duration": 15,
    "start_time": "2024-06-06T13:31:25.767Z"
   },
   {
    "duration": 15,
    "start_time": "2024-06-06T13:31:31.142Z"
   },
   {
    "duration": 14,
    "start_time": "2024-06-06T13:31:45.046Z"
   },
   {
    "duration": 15,
    "start_time": "2024-06-06T13:32:14.984Z"
   },
   {
    "duration": 115,
    "start_time": "2024-06-06T13:33:00.006Z"
   },
   {
    "duration": 6,
    "start_time": "2024-06-06T13:33:08.821Z"
   },
   {
    "duration": 10,
    "start_time": "2024-06-06T13:33:13.606Z"
   },
   {
    "duration": 16,
    "start_time": "2024-06-06T13:37:41.317Z"
   },
   {
    "duration": 16,
    "start_time": "2024-06-06T13:37:46.469Z"
   },
   {
    "duration": 16,
    "start_time": "2024-06-06T13:39:02.790Z"
   },
   {
    "duration": 76,
    "start_time": "2024-06-06T13:39:11.399Z"
   },
   {
    "duration": 18,
    "start_time": "2024-06-06T13:39:18.261Z"
   },
   {
    "duration": 15,
    "start_time": "2024-06-06T13:39:25.605Z"
   },
   {
    "duration": 15,
    "start_time": "2024-06-06T14:50:25.194Z"
   },
   {
    "duration": 18,
    "start_time": "2024-06-06T14:51:10.824Z"
   },
   {
    "duration": 15,
    "start_time": "2024-06-06T14:51:22.567Z"
   },
   {
    "duration": 17,
    "start_time": "2024-06-06T14:51:26.056Z"
   },
   {
    "duration": 17,
    "start_time": "2024-06-06T14:51:58.890Z"
   },
   {
    "duration": 16,
    "start_time": "2024-06-06T14:52:06.583Z"
   },
   {
    "duration": 17,
    "start_time": "2024-06-06T14:52:11.623Z"
   },
   {
    "duration": 15,
    "start_time": "2024-06-06T14:52:17.832Z"
   },
   {
    "duration": 17,
    "start_time": "2024-06-06T14:52:37.577Z"
   },
   {
    "duration": 16,
    "start_time": "2024-06-06T14:52:40.920Z"
   },
   {
    "duration": 15,
    "start_time": "2024-06-06T14:52:43.863Z"
   },
   {
    "duration": 17,
    "start_time": "2024-06-06T14:52:49.912Z"
   },
   {
    "duration": 17,
    "start_time": "2024-06-06T14:52:52.808Z"
   },
   {
    "duration": 17,
    "start_time": "2024-06-06T14:52:56.504Z"
   },
   {
    "duration": 15,
    "start_time": "2024-06-06T14:53:21.464Z"
   },
   {
    "duration": 17,
    "start_time": "2024-06-06T14:54:42.539Z"
   },
   {
    "duration": 16,
    "start_time": "2024-06-06T14:54:49.433Z"
   },
   {
    "duration": 27,
    "start_time": "2024-06-06T14:55:06.073Z"
   },
   {
    "duration": 25,
    "start_time": "2024-06-06T14:55:08.217Z"
   },
   {
    "duration": 16,
    "start_time": "2024-06-06T14:55:10.729Z"
   },
   {
    "duration": 16,
    "start_time": "2024-06-06T14:55:23.866Z"
   },
   {
    "duration": 27,
    "start_time": "2024-06-06T14:55:34.984Z"
   },
   {
    "duration": 17,
    "start_time": "2024-06-06T14:55:37.688Z"
   },
   {
    "duration": 15,
    "start_time": "2024-06-06T14:55:46.808Z"
   },
   {
    "duration": 15,
    "start_time": "2024-06-06T14:55:51.706Z"
   },
   {
    "duration": 16,
    "start_time": "2024-06-06T14:55:54.615Z"
   },
   {
    "duration": 17,
    "start_time": "2024-06-06T14:55:57.178Z"
   },
   {
    "duration": 17,
    "start_time": "2024-06-06T14:55:59.464Z"
   },
   {
    "duration": 16,
    "start_time": "2024-06-06T14:56:01.801Z"
   },
   {
    "duration": 15,
    "start_time": "2024-06-06T14:56:03.753Z"
   },
   {
    "duration": 21,
    "start_time": "2024-06-06T14:56:13.514Z"
   },
   {
    "duration": 21,
    "start_time": "2024-06-06T14:56:24.921Z"
   },
   {
    "duration": 16,
    "start_time": "2024-06-06T14:56:27.004Z"
   },
   {
    "duration": 17,
    "start_time": "2024-06-06T14:56:32.185Z"
   },
   {
    "duration": 16,
    "start_time": "2024-06-06T14:56:35.865Z"
   },
   {
    "duration": 15,
    "start_time": "2024-06-06T14:57:07.065Z"
   },
   {
    "duration": 15,
    "start_time": "2024-06-06T14:57:21.003Z"
   },
   {
    "duration": 16,
    "start_time": "2024-06-06T14:57:25.305Z"
   },
   {
    "duration": 16,
    "start_time": "2024-06-06T14:57:28.360Z"
   },
   {
    "duration": 16,
    "start_time": "2024-06-06T14:57:31.291Z"
   },
   {
    "duration": 15,
    "start_time": "2024-06-06T14:57:35.417Z"
   },
   {
    "duration": 15,
    "start_time": "2024-06-06T14:57:48.088Z"
   },
   {
    "duration": 11,
    "start_time": "2024-06-06T14:59:04.938Z"
   },
   {
    "duration": 10,
    "start_time": "2024-06-06T14:59:08.120Z"
   },
   {
    "duration": 11,
    "start_time": "2024-06-06T14:59:12.153Z"
   },
   {
    "duration": 150,
    "start_time": "2024-06-06T14:59:31.416Z"
   },
   {
    "duration": 10,
    "start_time": "2024-06-06T14:59:44.729Z"
   },
   {
    "duration": 4,
    "start_time": "2024-06-06T15:02:12.569Z"
   },
   {
    "duration": 8,
    "start_time": "2024-06-06T15:02:15.290Z"
   },
   {
    "duration": 146,
    "start_time": "2024-06-06T15:02:22.953Z"
   },
   {
    "duration": 5,
    "start_time": "2024-06-06T15:04:01.163Z"
   },
   {
    "duration": 5,
    "start_time": "2024-06-06T15:04:17.018Z"
   },
   {
    "duration": 5,
    "start_time": "2024-06-06T15:04:27.561Z"
   },
   {
    "duration": 794,
    "start_time": "2024-06-06T15:06:11.435Z"
   },
   {
    "duration": 344,
    "start_time": "2024-06-06T15:06:18.618Z"
   },
   {
    "duration": 312,
    "start_time": "2024-06-06T15:06:27.548Z"
   },
   {
    "duration": 321,
    "start_time": "2024-06-06T15:06:48.204Z"
   },
   {
    "duration": 15,
    "start_time": "2024-06-06T15:07:13.852Z"
   },
   {
    "duration": 303,
    "start_time": "2024-06-06T15:07:25.803Z"
   },
   {
    "duration": 307,
    "start_time": "2024-06-06T15:08:11.323Z"
   },
   {
    "duration": 308,
    "start_time": "2024-06-06T15:08:17.707Z"
   },
   {
    "duration": 307,
    "start_time": "2024-06-06T15:08:24.523Z"
   },
   {
    "duration": 401,
    "start_time": "2024-06-06T15:08:45.934Z"
   },
   {
    "duration": 128,
    "start_time": "2024-06-06T15:19:53.534Z"
   },
   {
    "duration": 87,
    "start_time": "2024-06-06T15:20:03.039Z"
   },
   {
    "duration": 18,
    "start_time": "2024-06-06T15:20:07.055Z"
   },
   {
    "duration": 0,
    "start_time": "2024-06-06T15:22:02.267Z"
   },
   {
    "duration": 0,
    "start_time": "2024-06-06T15:22:02.268Z"
   },
   {
    "duration": 321,
    "start_time": "2024-06-06T15:22:10.063Z"
   },
   {
    "duration": 303,
    "start_time": "2024-06-06T15:22:12.911Z"
   },
   {
    "duration": 116,
    "start_time": "2024-06-06T15:22:17.455Z"
   },
   {
    "duration": 301,
    "start_time": "2024-06-06T15:22:24.511Z"
   },
   {
    "duration": 309,
    "start_time": "2024-06-06T15:29:31.089Z"
   },
   {
    "duration": 130,
    "start_time": "2024-06-06T15:29:34.096Z"
   },
   {
    "duration": 316,
    "start_time": "2024-06-06T15:29:39.408Z"
   },
   {
    "duration": 113,
    "start_time": "2024-06-06T15:30:50.961Z"
   },
   {
    "duration": 304,
    "start_time": "2024-06-06T15:30:58.305Z"
   },
   {
    "duration": 24016,
    "start_time": "2024-06-06T15:37:34.593Z"
   },
   {
    "duration": 75,
    "start_time": "2024-06-06T15:38:33.313Z"
   },
   {
    "duration": 113,
    "start_time": "2024-06-06T15:38:43.763Z"
   },
   {
    "duration": 307,
    "start_time": "2024-06-06T15:38:48.835Z"
   },
   {
    "duration": 457,
    "start_time": "2024-06-06T15:42:09.315Z"
   },
   {
    "duration": 158,
    "start_time": "2024-06-06T15:43:24.035Z"
   },
   {
    "duration": 157,
    "start_time": "2024-06-06T15:43:32.226Z"
   },
   {
    "duration": 156,
    "start_time": "2024-06-06T15:43:44.260Z"
   },
   {
    "duration": 150,
    "start_time": "2024-06-06T15:43:50.083Z"
   },
   {
    "duration": 24,
    "start_time": "2024-06-06T15:43:58.563Z"
   },
   {
    "duration": 154,
    "start_time": "2024-06-06T15:44:05.348Z"
   },
   {
    "duration": 13,
    "start_time": "2024-06-06T15:44:28.098Z"
   },
   {
    "duration": 153,
    "start_time": "2024-06-06T15:44:32.404Z"
   },
   {
    "duration": 147,
    "start_time": "2024-06-06T15:44:41.779Z"
   },
   {
    "duration": 157,
    "start_time": "2024-06-06T15:44:45.492Z"
   },
   {
    "duration": 23,
    "start_time": "2024-06-06T15:44:53.668Z"
   },
   {
    "duration": 25,
    "start_time": "2024-06-06T15:45:08.083Z"
   },
   {
    "duration": 26,
    "start_time": "2024-06-06T15:45:09.780Z"
   },
   {
    "duration": 315,
    "start_time": "2024-06-06T15:45:19.540Z"
   },
   {
    "duration": 309,
    "start_time": "2024-06-06T15:45:30.484Z"
   },
   {
    "duration": 22,
    "start_time": "2024-06-06T15:45:43.236Z"
   },
   {
    "duration": 394,
    "start_time": "2024-06-06T15:45:49.188Z"
   },
   {
    "duration": 310,
    "start_time": "2024-06-06T15:45:58.948Z"
   },
   {
    "duration": 304,
    "start_time": "2024-06-06T15:46:09.252Z"
   },
   {
    "duration": 329,
    "start_time": "2024-06-06T15:46:14.164Z"
   },
   {
    "duration": 15,
    "start_time": "2024-06-06T15:46:30.787Z"
   },
   {
    "duration": 21,
    "start_time": "2024-06-06T15:46:37.316Z"
   },
   {
    "duration": 3,
    "start_time": "2024-06-06T15:46:48.595Z"
   },
   {
    "duration": 23,
    "start_time": "2024-06-06T15:46:53.091Z"
   },
   {
    "duration": 23,
    "start_time": "2024-06-06T15:46:54.147Z"
   },
   {
    "duration": 4,
    "start_time": "2024-06-06T15:46:55.811Z"
   },
   {
    "duration": 574,
    "start_time": "2024-06-06T15:47:01.653Z"
   },
   {
    "duration": 591,
    "start_time": "2024-06-06T15:47:09.590Z"
   },
   {
    "duration": 595,
    "start_time": "2024-06-06T15:47:13.076Z"
   },
   {
    "duration": 592,
    "start_time": "2024-06-06T15:47:21.861Z"
   },
   {
    "duration": 588,
    "start_time": "2024-06-06T15:47:42.995Z"
   },
   {
    "duration": 577,
    "start_time": "2024-06-06T15:47:45.716Z"
   },
   {
    "duration": 595,
    "start_time": "2024-06-06T15:48:27.332Z"
   },
   {
    "duration": 705,
    "start_time": "2024-06-06T15:48:36.262Z"
   },
   {
    "duration": 586,
    "start_time": "2024-06-06T15:48:40.199Z"
   },
   {
    "duration": 605,
    "start_time": "2024-06-06T15:48:44.759Z"
   },
   {
    "duration": 619,
    "start_time": "2024-06-06T15:48:55.863Z"
   },
   {
    "duration": 601,
    "start_time": "2024-06-06T15:49:03.411Z"
   },
   {
    "duration": 612,
    "start_time": "2024-06-06T15:49:12.996Z"
   },
   {
    "duration": 598,
    "start_time": "2024-06-06T15:49:35.541Z"
   },
   {
    "duration": 607,
    "start_time": "2024-06-06T15:49:52.725Z"
   },
   {
    "duration": 608,
    "start_time": "2024-06-06T15:49:57.284Z"
   },
   {
    "duration": 628,
    "start_time": "2024-06-06T15:50:07.572Z"
   },
   {
    "duration": 617,
    "start_time": "2024-06-06T15:51:59.956Z"
   },
   {
    "duration": 697,
    "start_time": "2024-06-06T15:52:41.429Z"
   },
   {
    "duration": 612,
    "start_time": "2024-06-06T15:52:48.533Z"
   },
   {
    "duration": 617,
    "start_time": "2024-06-06T15:52:59.700Z"
   },
   {
    "duration": 622,
    "start_time": "2024-06-06T15:53:05.525Z"
   },
   {
    "duration": 622,
    "start_time": "2024-06-06T15:53:09.893Z"
   },
   {
    "duration": 621,
    "start_time": "2024-06-06T15:53:13.716Z"
   },
   {
    "duration": 603,
    "start_time": "2024-06-06T15:53:42.804Z"
   },
   {
    "duration": 637,
    "start_time": "2024-06-06T15:53:48.293Z"
   },
   {
    "duration": 791,
    "start_time": "2024-06-06T15:53:52.518Z"
   },
   {
    "duration": 691,
    "start_time": "2024-06-06T15:53:58.517Z"
   },
   {
    "duration": 657,
    "start_time": "2024-06-06T15:54:03.349Z"
   },
   {
    "duration": 732,
    "start_time": "2024-06-06T15:54:07.285Z"
   },
   {
    "duration": 649,
    "start_time": "2024-06-06T15:54:13.125Z"
   },
   {
    "duration": 623,
    "start_time": "2024-06-06T15:54:18.885Z"
   },
   {
    "duration": 624,
    "start_time": "2024-06-06T15:54:48.869Z"
   },
   {
    "duration": 61,
    "start_time": "2024-06-06T15:55:09.365Z"
   },
   {
    "duration": 623,
    "start_time": "2024-06-06T15:55:16.901Z"
   },
   {
    "duration": 642,
    "start_time": "2024-06-06T15:55:21.765Z"
   },
   {
    "duration": 625,
    "start_time": "2024-06-06T15:55:28.502Z"
   },
   {
    "duration": 655,
    "start_time": "2024-06-06T15:55:36.549Z"
   },
   {
    "duration": 635,
    "start_time": "2024-06-06T15:55:47.924Z"
   },
   {
    "duration": 651,
    "start_time": "2024-06-06T15:55:53.909Z"
   },
   {
    "duration": 642,
    "start_time": "2024-06-06T15:56:01.718Z"
   },
   {
    "duration": 753,
    "start_time": "2024-06-06T15:56:08.070Z"
   },
   {
    "duration": 657,
    "start_time": "2024-06-06T15:56:16.471Z"
   },
   {
    "duration": 648,
    "start_time": "2024-06-06T15:56:23.428Z"
   },
   {
    "duration": 652,
    "start_time": "2024-06-06T15:56:27.222Z"
   },
   {
    "duration": 643,
    "start_time": "2024-06-06T15:56:31.398Z"
   },
   {
    "duration": 15,
    "start_time": "2024-06-06T15:56:56.629Z"
   },
   {
    "duration": 692,
    "start_time": "2024-06-06T15:57:25.894Z"
   },
   {
    "duration": 630,
    "start_time": "2024-06-06T15:57:28.661Z"
   },
   {
    "duration": 639,
    "start_time": "2024-06-06T15:57:32.470Z"
   },
   {
    "duration": 654,
    "start_time": "2024-06-06T15:57:34.838Z"
   },
   {
    "duration": 679,
    "start_time": "2024-06-06T15:58:14.183Z"
   },
   {
    "duration": 678,
    "start_time": "2024-06-06T15:58:52.694Z"
   },
   {
    "duration": 1455,
    "start_time": "2024-06-07T08:31:13.657Z"
   },
   {
    "duration": 142,
    "start_time": "2024-06-07T08:31:15.115Z"
   },
   {
    "duration": 21,
    "start_time": "2024-06-07T08:31:15.259Z"
   },
   {
    "duration": 23,
    "start_time": "2024-06-07T08:31:15.282Z"
   },
   {
    "duration": 18,
    "start_time": "2024-06-07T08:31:15.308Z"
   },
   {
    "duration": 34,
    "start_time": "2024-06-07T08:31:15.328Z"
   },
   {
    "duration": 29,
    "start_time": "2024-06-07T08:31:15.364Z"
   },
   {
    "duration": 12,
    "start_time": "2024-06-07T08:31:15.395Z"
   },
   {
    "duration": 36,
    "start_time": "2024-06-07T08:31:15.409Z"
   },
   {
    "duration": 42,
    "start_time": "2024-06-07T08:31:15.447Z"
   },
   {
    "duration": 80,
    "start_time": "2024-06-07T08:31:15.490Z"
   },
   {
    "duration": 19,
    "start_time": "2024-06-07T08:31:15.572Z"
   },
   {
    "duration": 15,
    "start_time": "2024-06-07T08:31:15.593Z"
   },
   {
    "duration": 115,
    "start_time": "2024-06-07T08:31:15.610Z"
   },
   {
    "duration": 20,
    "start_time": "2024-06-07T08:31:15.728Z"
   },
   {
    "duration": 20,
    "start_time": "2024-06-07T08:31:15.761Z"
   },
   {
    "duration": 203,
    "start_time": "2024-06-07T08:31:15.783Z"
   },
   {
    "duration": 830,
    "start_time": "2024-06-07T08:31:15.987Z"
   },
   {
    "duration": 7,
    "start_time": "2024-06-07T08:31:16.819Z"
   },
   {
    "duration": 155,
    "start_time": "2024-06-07T08:32:44.308Z"
   },
   {
    "duration": 229,
    "start_time": "2024-06-07T08:33:59.565Z"
   },
   {
    "duration": 262,
    "start_time": "2024-06-07T08:34:05.823Z"
   },
   {
    "duration": 242,
    "start_time": "2024-06-07T08:34:09.254Z"
   },
   {
    "duration": 284,
    "start_time": "2024-06-07T08:34:15.167Z"
   },
   {
    "duration": 198,
    "start_time": "2024-06-07T08:34:34.565Z"
   },
   {
    "duration": 28,
    "start_time": "2024-06-07T08:38:27.334Z"
   },
   {
    "duration": 25,
    "start_time": "2024-06-07T08:38:35.695Z"
   },
   {
    "duration": 27,
    "start_time": "2024-06-07T08:39:57.170Z"
   },
   {
    "duration": 27,
    "start_time": "2024-06-07T08:40:06.872Z"
   },
   {
    "duration": 26,
    "start_time": "2024-06-07T08:40:23.206Z"
   },
   {
    "duration": 27,
    "start_time": "2024-06-07T08:40:31.946Z"
   },
   {
    "duration": 132,
    "start_time": "2024-06-07T08:46:34.828Z"
   },
   {
    "duration": 14,
    "start_time": "2024-06-07T08:46:37.499Z"
   },
   {
    "duration": 30,
    "start_time": "2024-06-07T08:46:54.113Z"
   },
   {
    "duration": 16,
    "start_time": "2024-06-07T08:46:57.078Z"
   },
   {
    "duration": 16,
    "start_time": "2024-06-07T08:47:02.040Z"
   },
   {
    "duration": 5,
    "start_time": "2024-06-07T08:52:23.425Z"
   },
   {
    "duration": 42,
    "start_time": "2024-06-07T08:52:25.752Z"
   },
   {
    "duration": 8,
    "start_time": "2024-06-07T08:52:41.882Z"
   },
   {
    "duration": 20,
    "start_time": "2024-06-07T08:52:44.495Z"
   },
   {
    "duration": 27,
    "start_time": "2024-06-07T08:53:25.027Z"
   },
   {
    "duration": 30,
    "start_time": "2024-06-07T08:53:32.545Z"
   },
   {
    "duration": 34,
    "start_time": "2024-06-07T08:54:01.463Z"
   },
   {
    "duration": 20,
    "start_time": "2024-06-07T08:54:06.302Z"
   },
   {
    "duration": 27,
    "start_time": "2024-06-07T08:54:24.148Z"
   },
   {
    "duration": 23,
    "start_time": "2024-06-07T08:54:37.857Z"
   },
   {
    "duration": 17,
    "start_time": "2024-06-07T08:54:40.908Z"
   },
   {
    "duration": 33,
    "start_time": "2024-06-07T08:54:48.459Z"
   },
   {
    "duration": 35,
    "start_time": "2024-06-07T08:55:17.140Z"
   },
   {
    "duration": 4,
    "start_time": "2024-06-07T09:00:45.884Z"
   },
   {
    "duration": 4,
    "start_time": "2024-06-07T09:01:09.933Z"
   },
   {
    "duration": 4,
    "start_time": "2024-06-07T09:01:18.580Z"
   },
   {
    "duration": 33,
    "start_time": "2024-06-07T09:01:44.442Z"
   },
   {
    "duration": 8,
    "start_time": "2024-06-07T09:13:47.551Z"
   },
   {
    "duration": 43,
    "start_time": "2024-06-07T09:13:59.885Z"
   },
   {
    "duration": 37,
    "start_time": "2024-06-07T09:17:30.006Z"
   },
   {
    "duration": 23,
    "start_time": "2024-06-07T09:23:16.967Z"
   },
   {
    "duration": 14,
    "start_time": "2024-06-07T12:23:43.080Z"
   },
   {
    "duration": 32,
    "start_time": "2024-06-07T12:23:45.409Z"
   },
   {
    "duration": 17,
    "start_time": "2024-06-07T12:24:00.830Z"
   },
   {
    "duration": 758,
    "start_time": "2024-06-07T12:24:16.544Z"
   },
   {
    "duration": 702,
    "start_time": "2024-06-07T12:24:41.269Z"
   },
   {
    "duration": 17,
    "start_time": "2024-06-07T12:24:50.787Z"
   },
   {
    "duration": 12,
    "start_time": "2024-06-07T12:38:28.196Z"
   },
   {
    "duration": 19,
    "start_time": "2024-06-07T12:38:37.107Z"
   },
   {
    "duration": 735,
    "start_time": "2024-06-07T12:51:59.371Z"
   },
   {
    "duration": 32,
    "start_time": "2024-06-07T12:53:28.386Z"
   },
   {
    "duration": 24,
    "start_time": "2024-06-07T12:53:37.864Z"
   },
   {
    "duration": 4,
    "start_time": "2024-06-07T12:56:47.766Z"
   },
   {
    "duration": 29,
    "start_time": "2024-06-07T12:56:49.830Z"
   },
   {
    "duration": 29,
    "start_time": "2024-06-07T13:02:51.461Z"
   },
   {
    "duration": 40,
    "start_time": "2024-06-07T13:03:19.618Z"
   },
   {
    "duration": 31,
    "start_time": "2024-06-07T13:03:30.473Z"
   },
   {
    "duration": 32,
    "start_time": "2024-06-07T13:03:53.548Z"
   },
   {
    "duration": 59,
    "start_time": "2024-06-07T13:04:22.080Z"
   },
   {
    "duration": 58,
    "start_time": "2024-06-07T13:04:42.254Z"
   },
   {
    "duration": 45,
    "start_time": "2024-06-07T13:07:28.847Z"
   },
   {
    "duration": 699,
    "start_time": "2024-06-07T13:08:22.874Z"
   },
   {
    "duration": 44,
    "start_time": "2024-06-07T13:09:05.459Z"
   },
   {
    "duration": 44,
    "start_time": "2024-06-07T13:10:16.794Z"
   },
   {
    "duration": 704,
    "start_time": "2024-06-07T13:10:18.708Z"
   },
   {
    "duration": 258,
    "start_time": "2024-06-07T13:17:46.033Z"
   },
   {
    "duration": 170,
    "start_time": "2024-06-07T13:17:58.100Z"
   },
   {
    "duration": 16,
    "start_time": "2024-06-07T13:22:21.399Z"
   },
   {
    "duration": 10,
    "start_time": "2024-06-07T13:22:55.079Z"
   },
   {
    "duration": 18,
    "start_time": "2024-06-07T13:23:58.339Z"
   },
   {
    "duration": 39,
    "start_time": "2024-06-07T13:24:31.701Z"
   },
   {
    "duration": 24,
    "start_time": "2024-06-07T13:24:49.982Z"
   },
   {
    "duration": 16,
    "start_time": "2024-06-07T13:24:52.968Z"
   },
   {
    "duration": 21,
    "start_time": "2024-06-07T13:24:59.890Z"
   },
   {
    "duration": 1019,
    "start_time": "2024-06-07T13:25:15.523Z"
   },
   {
    "duration": 17,
    "start_time": "2024-06-07T13:25:19.530Z"
   },
   {
    "duration": 8,
    "start_time": "2024-06-07T13:25:23.287Z"
   },
   {
    "duration": 1000,
    "start_time": "2024-06-07T13:27:21.556Z"
   },
   {
    "duration": 17,
    "start_time": "2024-06-07T13:27:25.168Z"
   },
   {
    "duration": 677,
    "start_time": "2024-06-07T13:27:31.252Z"
   },
   {
    "duration": 9,
    "start_time": "2024-06-07T13:27:35.846Z"
   },
   {
    "duration": 4,
    "start_time": "2024-06-07T13:27:54.517Z"
   },
   {
    "duration": 8,
    "start_time": "2024-06-07T13:28:00.085Z"
   },
   {
    "duration": 18,
    "start_time": "2024-06-07T13:28:12.475Z"
   },
   {
    "duration": 17,
    "start_time": "2024-06-07T13:28:23.110Z"
   },
   {
    "duration": 21,
    "start_time": "2024-06-07T13:28:26.795Z"
   },
   {
    "duration": 16,
    "start_time": "2024-06-07T13:33:16.500Z"
   },
   {
    "duration": 5,
    "start_time": "2024-06-07T13:33:52.170Z"
   },
   {
    "duration": 19,
    "start_time": "2024-06-07T13:33:54.320Z"
   },
   {
    "duration": 16,
    "start_time": "2024-06-07T13:34:35.042Z"
   },
   {
    "duration": 14,
    "start_time": "2024-06-07T13:34:42.450Z"
   },
   {
    "duration": 15,
    "start_time": "2024-06-07T13:34:58.100Z"
   },
   {
    "duration": 5,
    "start_time": "2024-06-07T13:37:03.617Z"
   },
   {
    "duration": 12,
    "start_time": "2024-06-07T13:37:06.834Z"
   },
   {
    "duration": 16,
    "start_time": "2024-06-07T13:37:33.598Z"
   },
   {
    "duration": 22,
    "start_time": "2024-06-07T13:38:31.161Z"
   },
   {
    "duration": 34,
    "start_time": "2024-06-07T13:38:51.133Z"
   },
   {
    "duration": 37,
    "start_time": "2024-06-07T13:39:45.762Z"
   },
   {
    "duration": 26,
    "start_time": "2024-06-07T13:39:56.840Z"
   },
   {
    "duration": 38,
    "start_time": "2024-06-07T13:40:10.644Z"
   },
   {
    "duration": 137,
    "start_time": "2024-06-07T13:40:42.040Z"
   },
   {
    "duration": 38,
    "start_time": "2024-06-07T13:41:03.059Z"
   },
   {
    "duration": 27,
    "start_time": "2024-06-07T13:41:15.226Z"
   },
   {
    "duration": 37,
    "start_time": "2024-06-07T13:52:30.084Z"
   },
   {
    "duration": 27,
    "start_time": "2024-06-07T13:53:02.016Z"
   },
   {
    "duration": 599,
    "start_time": "2024-06-07T13:54:35.186Z"
   },
   {
    "duration": 677,
    "start_time": "2024-06-07T13:54:46.906Z"
   },
   {
    "duration": 390,
    "start_time": "2024-06-07T13:54:56.591Z"
   },
   {
    "duration": 388,
    "start_time": "2024-06-07T13:55:03.484Z"
   },
   {
    "duration": 248,
    "start_time": "2024-06-07T13:55:28.337Z"
   },
   {
    "duration": 251,
    "start_time": "2024-06-07T13:55:46.831Z"
   },
   {
    "duration": 249,
    "start_time": "2024-06-07T13:55:56.430Z"
   },
   {
    "duration": 9,
    "start_time": "2024-06-07T14:12:25.501Z"
   },
   {
    "duration": 38,
    "start_time": "2024-06-07T14:12:35.842Z"
   },
   {
    "duration": 30,
    "start_time": "2024-06-07T14:12:42.270Z"
   },
   {
    "duration": 8,
    "start_time": "2024-06-07T14:12:43.612Z"
   },
   {
    "duration": 42,
    "start_time": "2024-06-07T14:13:22.074Z"
   },
   {
    "duration": 684,
    "start_time": "2024-06-07T14:18:36.487Z"
   },
   {
    "duration": 697,
    "start_time": "2024-06-07T14:18:42.092Z"
   },
   {
    "duration": 14,
    "start_time": "2024-06-07T14:21:06.217Z"
   },
   {
    "duration": 11,
    "start_time": "2024-06-07T14:23:50.220Z"
   },
   {
    "duration": 11,
    "start_time": "2024-06-07T14:23:58.972Z"
   },
   {
    "duration": 38,
    "start_time": "2024-06-07T15:34:14.658Z"
   },
   {
    "duration": 17,
    "start_time": "2024-06-07T15:34:16.823Z"
   },
   {
    "duration": 12,
    "start_time": "2024-06-07T15:34:20.122Z"
   },
   {
    "duration": 13,
    "start_time": "2024-06-07T15:34:42.835Z"
   },
   {
    "duration": 12,
    "start_time": "2024-06-07T15:35:28.841Z"
   },
   {
    "duration": 15,
    "start_time": "2024-06-07T15:35:54.029Z"
   },
   {
    "duration": 674,
    "start_time": "2024-06-07T15:36:39.671Z"
   },
   {
    "duration": 678,
    "start_time": "2024-06-07T15:36:53.705Z"
   },
   {
    "duration": 224,
    "start_time": "2024-06-07T15:37:10.220Z"
   },
   {
    "duration": 255,
    "start_time": "2024-06-07T15:37:16.045Z"
   },
   {
    "duration": 249,
    "start_time": "2024-06-07T15:40:04.803Z"
   },
   {
    "duration": 15431,
    "start_time": "2024-06-07T15:41:35.247Z"
   },
   {
    "duration": 255,
    "start_time": "2024-06-07T15:41:55.773Z"
   },
   {
    "duration": 228,
    "start_time": "2024-06-07T15:41:58.608Z"
   },
   {
    "duration": 216,
    "start_time": "2024-06-07T15:42:00.434Z"
   },
   {
    "duration": 5,
    "start_time": "2024-06-07T15:42:14.906Z"
   },
   {
    "duration": 24,
    "start_time": "2024-06-07T15:42:25.803Z"
   },
   {
    "duration": 263,
    "start_time": "2024-06-07T15:42:26.954Z"
   },
   {
    "duration": 378,
    "start_time": "2024-06-07T15:44:11.004Z"
   },
   {
    "duration": 231,
    "start_time": "2024-06-07T15:44:19.739Z"
   },
   {
    "duration": 246,
    "start_time": "2024-06-07T15:44:50.715Z"
   },
   {
    "duration": 246,
    "start_time": "2024-06-07T15:44:55.859Z"
   },
   {
    "duration": 242,
    "start_time": "2024-06-07T15:48:42.307Z"
   },
   {
    "duration": 235,
    "start_time": "2024-06-07T16:02:12.415Z"
   },
   {
    "duration": 228,
    "start_time": "2024-06-07T16:02:48.477Z"
   },
   {
    "duration": 1420,
    "start_time": "2024-06-08T07:33:46.589Z"
   },
   {
    "duration": 139,
    "start_time": "2024-06-08T07:33:48.012Z"
   },
   {
    "duration": 19,
    "start_time": "2024-06-08T07:33:48.153Z"
   },
   {
    "duration": 40,
    "start_time": "2024-06-08T07:33:48.174Z"
   },
   {
    "duration": 38,
    "start_time": "2024-06-08T07:33:48.216Z"
   },
   {
    "duration": 14,
    "start_time": "2024-06-08T07:33:48.256Z"
   },
   {
    "duration": 30,
    "start_time": "2024-06-08T07:33:48.272Z"
   },
   {
    "duration": 9,
    "start_time": "2024-06-08T07:33:48.304Z"
   },
   {
    "duration": 13,
    "start_time": "2024-06-08T07:33:48.314Z"
   },
   {
    "duration": 36,
    "start_time": "2024-06-08T07:33:48.330Z"
   },
   {
    "duration": 94,
    "start_time": "2024-06-08T07:33:48.368Z"
   },
   {
    "duration": 21,
    "start_time": "2024-06-08T07:33:48.464Z"
   },
   {
    "duration": 14,
    "start_time": "2024-06-08T07:33:48.487Z"
   },
   {
    "duration": 120,
    "start_time": "2024-06-08T07:33:48.503Z"
   },
   {
    "duration": 44,
    "start_time": "2024-06-08T07:33:48.624Z"
   },
   {
    "duration": 17,
    "start_time": "2024-06-08T07:33:48.670Z"
   },
   {
    "duration": 206,
    "start_time": "2024-06-08T07:33:48.689Z"
   },
   {
    "duration": 286,
    "start_time": "2024-06-08T07:33:48.897Z"
   },
   {
    "duration": 29,
    "start_time": "2024-06-08T07:33:49.185Z"
   },
   {
    "duration": 64,
    "start_time": "2024-06-08T07:33:49.215Z"
   },
   {
    "duration": 707,
    "start_time": "2024-06-08T07:33:49.280Z"
   },
   {
    "duration": 17,
    "start_time": "2024-06-08T07:33:49.989Z"
   },
   {
    "duration": 128,
    "start_time": "2024-06-08T07:33:50.007Z"
   },
   {
    "duration": 0,
    "start_time": "2024-06-08T07:33:50.137Z"
   },
   {
    "duration": 0,
    "start_time": "2024-06-08T07:33:50.138Z"
   },
   {
    "duration": 24,
    "start_time": "2024-06-08T07:34:10.826Z"
   },
   {
    "duration": 271,
    "start_time": "2024-06-08T07:34:12.556Z"
   },
   {
    "duration": 17,
    "start_time": "2024-06-08T07:39:27.586Z"
   },
   {
    "duration": 17,
    "start_time": "2024-06-08T07:40:05.955Z"
   },
   {
    "duration": 12,
    "start_time": "2024-06-08T07:40:29.859Z"
   },
   {
    "duration": 17,
    "start_time": "2024-06-08T07:41:19.313Z"
   },
   {
    "duration": 16,
    "start_time": "2024-06-08T07:41:49.711Z"
   },
   {
    "duration": 18,
    "start_time": "2024-06-08T07:42:00.837Z"
   },
   {
    "duration": 18,
    "start_time": "2024-06-08T07:42:09.006Z"
   },
   {
    "duration": 15,
    "start_time": "2024-06-08T07:42:15.328Z"
   },
   {
    "duration": 13,
    "start_time": "2024-06-08T07:43:07.550Z"
   },
   {
    "duration": 259,
    "start_time": "2024-06-08T07:43:16.566Z"
   },
   {
    "duration": 14,
    "start_time": "2024-06-08T07:43:28.207Z"
   },
   {
    "duration": 19,
    "start_time": "2024-06-08T07:43:31.724Z"
   },
   {
    "duration": 21,
    "start_time": "2024-06-08T07:43:50.495Z"
   },
   {
    "duration": 17,
    "start_time": "2024-06-08T07:45:38.884Z"
   },
   {
    "duration": 19,
    "start_time": "2024-06-08T07:46:26.388Z"
   },
   {
    "duration": 18,
    "start_time": "2024-06-08T07:46:29.570Z"
   },
   {
    "duration": 29,
    "start_time": "2024-06-08T07:46:33.805Z"
   },
   {
    "duration": 11,
    "start_time": "2024-06-08T07:47:50.108Z"
   },
   {
    "duration": 14,
    "start_time": "2024-06-08T07:51:14.646Z"
   },
   {
    "duration": 90,
    "start_time": "2024-06-08T07:51:37.586Z"
   },
   {
    "duration": 326,
    "start_time": "2024-06-08T07:51:58.470Z"
   },
   {
    "duration": 50,
    "start_time": "2024-06-08T07:52:41.086Z"
   },
   {
    "duration": 782,
    "start_time": "2024-06-08T07:57:14.392Z"
   },
   {
    "duration": 263,
    "start_time": "2024-06-08T07:57:37.033Z"
   },
   {
    "duration": 22,
    "start_time": "2024-06-08T07:57:53.121Z"
   },
   {
    "duration": 989,
    "start_time": "2024-06-08T07:57:58.000Z"
   },
   {
    "duration": 29,
    "start_time": "2024-06-08T07:58:13.678Z"
   },
   {
    "duration": 1574,
    "start_time": "2024-06-09T11:17:19.143Z"
   },
   {
    "duration": 126,
    "start_time": "2024-06-09T11:17:20.720Z"
   },
   {
    "duration": 20,
    "start_time": "2024-06-09T11:17:20.848Z"
   },
   {
    "duration": 16,
    "start_time": "2024-06-09T11:17:20.870Z"
   },
   {
    "duration": 16,
    "start_time": "2024-06-09T11:17:20.888Z"
   },
   {
    "duration": 44,
    "start_time": "2024-06-09T11:17:20.906Z"
   },
   {
    "duration": 31,
    "start_time": "2024-06-09T11:17:20.952Z"
   },
   {
    "duration": 19,
    "start_time": "2024-06-09T11:17:20.985Z"
   },
   {
    "duration": 32,
    "start_time": "2024-06-09T11:17:21.006Z"
   },
   {
    "duration": 30,
    "start_time": "2024-06-09T11:17:21.039Z"
   },
   {
    "duration": 91,
    "start_time": "2024-06-09T11:17:21.070Z"
   },
   {
    "duration": 23,
    "start_time": "2024-06-09T11:17:21.164Z"
   },
   {
    "duration": 13,
    "start_time": "2024-06-09T11:17:21.188Z"
   },
   {
    "duration": 111,
    "start_time": "2024-06-09T11:17:21.204Z"
   },
   {
    "duration": 17,
    "start_time": "2024-06-09T11:17:21.317Z"
   },
   {
    "duration": 42,
    "start_time": "2024-06-09T11:17:21.345Z"
   },
   {
    "duration": 213,
    "start_time": "2024-06-09T11:17:21.389Z"
   },
   {
    "duration": 276,
    "start_time": "2024-06-09T11:17:21.603Z"
   },
   {
    "duration": 29,
    "start_time": "2024-06-09T11:17:21.881Z"
   },
   {
    "duration": 62,
    "start_time": "2024-06-09T11:17:21.912Z"
   },
   {
    "duration": 766,
    "start_time": "2024-06-09T11:17:21.976Z"
   },
   {
    "duration": 20,
    "start_time": "2024-06-09T11:17:22.747Z"
   },
   {
    "duration": 31,
    "start_time": "2024-06-09T11:17:22.769Z"
   },
   {
    "duration": 270,
    "start_time": "2024-06-09T11:17:22.802Z"
   },
   {
    "duration": 18,
    "start_time": "2024-06-09T11:17:23.073Z"
   },
   {
    "duration": 67,
    "start_time": "2024-06-09T11:17:23.093Z"
   },
   {
    "duration": 0,
    "start_time": "2024-06-09T11:17:23.162Z"
   },
   {
    "duration": 15,
    "start_time": "2024-06-09T11:17:32.145Z"
   },
   {
    "duration": 318,
    "start_time": "2024-06-09T11:17:34.741Z"
   },
   {
    "duration": 715,
    "start_time": "2024-06-09T11:19:23.697Z"
   },
   {
    "duration": 28,
    "start_time": "2024-06-09T11:20:49.127Z"
   },
   {
    "duration": 29,
    "start_time": "2024-06-09T11:21:07.260Z"
   },
   {
    "duration": 299,
    "start_time": "2024-06-09T11:21:35.564Z"
   },
   {
    "duration": 14,
    "start_time": "2024-06-09T11:23:51.405Z"
   },
   {
    "duration": 167,
    "start_time": "2024-06-09T11:24:24.058Z"
   },
   {
    "duration": 14,
    "start_time": "2024-06-09T11:24:35.156Z"
   },
   {
    "duration": 260,
    "start_time": "2024-06-09T11:24:57.877Z"
   },
   {
    "duration": 24,
    "start_time": "2024-06-09T11:25:18.609Z"
   },
   {
    "duration": 64,
    "start_time": "2024-06-09T11:25:23.976Z"
   },
   {
    "duration": 113,
    "start_time": "2024-06-09T11:25:27.067Z"
   },
   {
    "duration": 268,
    "start_time": "2024-06-09T11:25:31.940Z"
   },
   {
    "duration": 14,
    "start_time": "2024-06-09T11:25:48.923Z"
   },
   {
    "duration": 15,
    "start_time": "2024-06-09T11:26:00.743Z"
   },
   {
    "duration": 280,
    "start_time": "2024-06-09T11:26:07.264Z"
   },
   {
    "duration": 197,
    "start_time": "2024-06-09T11:26:17.294Z"
   },
   {
    "duration": 354,
    "start_time": "2024-06-09T11:26:36.892Z"
   },
   {
    "duration": 200,
    "start_time": "2024-06-09T11:26:43.299Z"
   },
   {
    "duration": 360,
    "start_time": "2024-06-09T11:26:47.807Z"
   },
   {
    "duration": 9,
    "start_time": "2024-06-09T11:28:57.700Z"
   },
   {
    "duration": 334,
    "start_time": "2024-06-09T11:30:31.654Z"
   },
   {
    "duration": 10,
    "start_time": "2024-06-09T11:32:06.944Z"
   },
   {
    "duration": 13,
    "start_time": "2024-06-09T11:33:25.009Z"
   },
   {
    "duration": 11,
    "start_time": "2024-06-09T11:34:29.626Z"
   },
   {
    "duration": 313,
    "start_time": "2024-06-09T11:35:05.133Z"
   },
   {
    "duration": 291,
    "start_time": "2024-06-09T11:35:12.745Z"
   },
   {
    "duration": 276,
    "start_time": "2024-06-09T11:35:42.655Z"
   },
   {
    "duration": 283,
    "start_time": "2024-06-09T11:35:48.074Z"
   },
   {
    "duration": 15,
    "start_time": "2024-06-09T11:36:31.045Z"
   },
   {
    "duration": 284,
    "start_time": "2024-06-09T11:40:23.814Z"
   },
   {
    "duration": 282,
    "start_time": "2024-06-09T11:40:47.302Z"
   },
   {
    "duration": 280,
    "start_time": "2024-06-09T11:40:53.695Z"
   },
   {
    "duration": 341,
    "start_time": "2024-06-09T11:41:07.738Z"
   },
   {
    "duration": 21,
    "start_time": "2024-06-09T11:41:23.139Z"
   },
   {
    "duration": 22,
    "start_time": "2024-06-09T11:51:32.817Z"
   },
   {
    "duration": 12,
    "start_time": "2024-06-09T11:51:52.421Z"
   },
   {
    "duration": 20,
    "start_time": "2024-06-09T11:52:12.044Z"
   },
   {
    "duration": 292,
    "start_time": "2024-06-09T11:53:34.171Z"
   },
   {
    "duration": 19,
    "start_time": "2024-06-09T11:54:02.677Z"
   },
   {
    "duration": 13,
    "start_time": "2024-06-09T11:54:38.855Z"
   },
   {
    "duration": 16,
    "start_time": "2024-06-09T11:54:40.864Z"
   },
   {
    "duration": 19,
    "start_time": "2024-06-09T11:54:49.830Z"
   },
   {
    "duration": 183,
    "start_time": "2024-06-09T11:55:05.603Z"
   },
   {
    "duration": 52,
    "start_time": "2024-06-09T11:55:33.569Z"
   },
   {
    "duration": 210,
    "start_time": "2024-06-09T11:55:43.965Z"
   },
   {
    "duration": 31,
    "start_time": "2024-06-09T11:55:48.565Z"
   },
   {
    "duration": 13,
    "start_time": "2024-06-09T12:01:30.536Z"
   },
   {
    "duration": 68,
    "start_time": "2024-06-09T12:01:54.371Z"
   },
   {
    "duration": 6,
    "start_time": "2024-06-09T12:02:00.459Z"
   },
   {
    "duration": 31,
    "start_time": "2024-06-09T12:03:34.933Z"
   },
   {
    "duration": 972,
    "start_time": "2024-06-09T12:04:36.248Z"
   },
   {
    "duration": 39,
    "start_time": "2024-06-09T12:05:10.522Z"
   },
   {
    "duration": 39,
    "start_time": "2024-06-09T12:05:41.506Z"
   },
   {
    "duration": 41,
    "start_time": "2024-06-09T12:05:56.607Z"
   },
   {
    "duration": 40,
    "start_time": "2024-06-09T12:06:14.419Z"
   },
   {
    "duration": 39,
    "start_time": "2024-06-09T12:06:19.439Z"
   },
   {
    "duration": 39,
    "start_time": "2024-06-09T12:12:25.340Z"
   },
   {
    "duration": 54,
    "start_time": "2024-06-09T12:14:07.464Z"
   },
   {
    "duration": 54,
    "start_time": "2024-06-09T12:14:18.865Z"
   },
   {
    "duration": 47,
    "start_time": "2024-06-09T12:14:23.606Z"
   },
   {
    "duration": 5,
    "start_time": "2024-06-09T12:14:37.997Z"
   },
   {
    "duration": 10,
    "start_time": "2024-06-09T12:14:44.157Z"
   },
   {
    "duration": 10,
    "start_time": "2024-06-09T12:14:53.384Z"
   },
   {
    "duration": 7,
    "start_time": "2024-06-09T12:14:55.360Z"
   },
   {
    "duration": 15,
    "start_time": "2024-06-09T12:15:48.422Z"
   },
   {
    "duration": 43,
    "start_time": "2024-06-09T12:15:51.694Z"
   },
   {
    "duration": 7,
    "start_time": "2024-06-09T12:16:06.579Z"
   },
   {
    "duration": 7,
    "start_time": "2024-06-09T12:16:11.444Z"
   },
   {
    "duration": 7,
    "start_time": "2024-06-09T12:16:15.238Z"
   },
   {
    "duration": 19,
    "start_time": "2024-06-09T12:16:17.830Z"
   },
   {
    "duration": 7,
    "start_time": "2024-06-09T12:16:23.648Z"
   },
   {
    "duration": 13,
    "start_time": "2024-06-09T12:16:28.145Z"
   },
   {
    "duration": 6,
    "start_time": "2024-06-09T12:16:30.437Z"
   },
   {
    "duration": 7,
    "start_time": "2024-06-09T12:16:37.783Z"
   },
   {
    "duration": 12,
    "start_time": "2024-06-09T12:16:41.129Z"
   },
   {
    "duration": 7,
    "start_time": "2024-06-09T12:16:44.478Z"
   },
   {
    "duration": 18,
    "start_time": "2024-06-09T12:16:49.849Z"
   },
   {
    "duration": 19,
    "start_time": "2024-06-09T12:16:51.501Z"
   },
   {
    "duration": 6,
    "start_time": "2024-06-09T12:16:55.227Z"
   },
   {
    "duration": 15,
    "start_time": "2024-06-09T12:18:26.845Z"
   },
   {
    "duration": 9,
    "start_time": "2024-06-09T12:18:37.286Z"
   },
   {
    "duration": 9,
    "start_time": "2024-06-09T12:18:43.993Z"
   },
   {
    "duration": 11,
    "start_time": "2024-06-09T12:18:52.873Z"
   },
   {
    "duration": 985,
    "start_time": "2024-06-09T12:19:03.669Z"
   },
   {
    "duration": 14,
    "start_time": "2024-06-09T12:19:08.965Z"
   },
   {
    "duration": 8,
    "start_time": "2024-06-09T12:19:14.234Z"
   },
   {
    "duration": 60,
    "start_time": "2024-06-09T12:19:44.511Z"
   },
   {
    "duration": 54,
    "start_time": "2024-06-09T12:20:55.606Z"
   },
   {
    "duration": 9,
    "start_time": "2024-06-09T12:21:08.249Z"
   },
   {
    "duration": 10,
    "start_time": "2024-06-09T12:21:14.913Z"
   },
   {
    "duration": 12,
    "start_time": "2024-06-09T12:21:22.099Z"
   },
   {
    "duration": 9,
    "start_time": "2024-06-09T12:21:25.327Z"
   },
   {
    "duration": 10,
    "start_time": "2024-06-09T12:21:32.427Z"
   },
   {
    "duration": 10,
    "start_time": "2024-06-09T12:21:45.153Z"
   },
   {
    "duration": 10,
    "start_time": "2024-06-09T12:21:49.420Z"
   },
   {
    "duration": 8,
    "start_time": "2024-06-09T12:21:51.831Z"
   },
   {
    "duration": 65,
    "start_time": "2024-06-09T12:22:00.444Z"
   },
   {
    "duration": 1027,
    "start_time": "2024-06-09T12:22:10.974Z"
   },
   {
    "duration": 22,
    "start_time": "2024-06-09T12:22:20.515Z"
   },
   {
    "duration": 11,
    "start_time": "2024-06-09T12:22:26.279Z"
   },
   {
    "duration": 59,
    "start_time": "2024-06-09T12:22:32.989Z"
   },
   {
    "duration": 11,
    "start_time": "2024-06-09T12:22:35.880Z"
   },
   {
    "duration": 7,
    "start_time": "2024-06-09T12:22:58.713Z"
   },
   {
    "duration": 7,
    "start_time": "2024-06-09T12:23:02.918Z"
   },
   {
    "duration": 14,
    "start_time": "2024-06-09T12:23:07.428Z"
   },
   {
    "duration": 14,
    "start_time": "2024-06-09T12:23:09.526Z"
   },
   {
    "duration": 8,
    "start_time": "2024-06-09T12:23:12.310Z"
   },
   {
    "duration": 9,
    "start_time": "2024-06-09T12:23:21.638Z"
   },
   {
    "duration": 10,
    "start_time": "2024-06-09T12:23:27.470Z"
   },
   {
    "duration": 8,
    "start_time": "2024-06-09T12:23:39.761Z"
   },
   {
    "duration": 9,
    "start_time": "2024-06-09T12:23:48.257Z"
   },
   {
    "duration": 9,
    "start_time": "2024-06-09T12:26:54.892Z"
   },
   {
    "duration": 11,
    "start_time": "2024-06-09T12:27:54.413Z"
   },
   {
    "duration": 8,
    "start_time": "2024-06-09T12:28:01.694Z"
   },
   {
    "duration": 53,
    "start_time": "2024-06-09T12:28:21.999Z"
   },
   {
    "duration": 62,
    "start_time": "2024-06-09T12:29:40.540Z"
   },
   {
    "duration": 9,
    "start_time": "2024-06-09T12:30:23.968Z"
   },
   {
    "duration": 10,
    "start_time": "2024-06-09T12:31:34.750Z"
   },
   {
    "duration": 3,
    "start_time": "2024-06-09T12:32:22.873Z"
   },
   {
    "duration": 14,
    "start_time": "2024-06-09T12:32:27.593Z"
   },
   {
    "duration": 16,
    "start_time": "2024-06-09T12:32:59.713Z"
   },
   {
    "duration": 15,
    "start_time": "2024-06-09T12:33:04.318Z"
   },
   {
    "duration": 9,
    "start_time": "2024-06-09T12:33:08.009Z"
   },
   {
    "duration": 28,
    "start_time": "2024-06-09T12:34:02.915Z"
   },
   {
    "duration": 23,
    "start_time": "2024-06-09T12:37:58.968Z"
   },
   {
    "duration": 14,
    "start_time": "2024-06-09T12:38:19.892Z"
   },
   {
    "duration": 20,
    "start_time": "2024-06-09T12:40:41.226Z"
   },
   {
    "duration": 20,
    "start_time": "2024-06-09T12:41:08.589Z"
   },
   {
    "duration": 25,
    "start_time": "2024-06-09T12:44:03.257Z"
   },
   {
    "duration": 1546,
    "start_time": "2024-06-09T18:30:41.472Z"
   },
   {
    "duration": 238,
    "start_time": "2024-06-09T18:30:43.021Z"
   },
   {
    "duration": 22,
    "start_time": "2024-06-09T18:30:43.261Z"
   },
   {
    "duration": 15,
    "start_time": "2024-06-09T18:30:43.286Z"
   },
   {
    "duration": 42,
    "start_time": "2024-06-09T18:30:43.303Z"
   },
   {
    "duration": 76,
    "start_time": "2024-06-09T18:30:43.347Z"
   },
   {
    "duration": 40,
    "start_time": "2024-06-09T18:30:43.425Z"
   },
   {
    "duration": 9,
    "start_time": "2024-06-09T18:30:43.467Z"
   },
   {
    "duration": 17,
    "start_time": "2024-06-09T18:30:43.477Z"
   },
   {
    "duration": 29,
    "start_time": "2024-06-09T18:30:43.497Z"
   },
   {
    "duration": 83,
    "start_time": "2024-06-09T18:30:43.528Z"
   },
   {
    "duration": 23,
    "start_time": "2024-06-09T18:30:43.612Z"
   },
   {
    "duration": 13,
    "start_time": "2024-06-09T18:30:43.637Z"
   },
   {
    "duration": 107,
    "start_time": "2024-06-09T18:30:43.653Z"
   },
   {
    "duration": 33,
    "start_time": "2024-06-09T18:30:43.762Z"
   },
   {
    "duration": 28,
    "start_time": "2024-06-09T18:30:43.798Z"
   },
   {
    "duration": 221,
    "start_time": "2024-06-09T18:30:43.827Z"
   },
   {
    "duration": 278,
    "start_time": "2024-06-09T18:30:44.051Z"
   },
   {
    "duration": 30,
    "start_time": "2024-06-09T18:30:44.331Z"
   },
   {
    "duration": 65,
    "start_time": "2024-06-09T18:30:44.363Z"
   },
   {
    "duration": 731,
    "start_time": "2024-06-09T18:30:44.430Z"
   },
   {
    "duration": 16,
    "start_time": "2024-06-09T18:30:45.163Z"
   },
   {
    "duration": 411,
    "start_time": "2024-06-09T18:30:45.180Z"
   },
   {
    "duration": 16,
    "start_time": "2024-06-09T18:30:45.593Z"
   },
   {
    "duration": 326,
    "start_time": "2024-06-09T18:30:45.611Z"
   },
   {
    "duration": 72,
    "start_time": "2024-06-09T18:30:45.939Z"
   },
   {
    "duration": 11,
    "start_time": "2024-06-09T18:30:46.014Z"
   },
   {
    "duration": 212,
    "start_time": "2024-06-09T18:30:46.029Z"
   },
   {
    "duration": 20,
    "start_time": "2024-06-09T18:34:00.793Z"
   },
   {
    "duration": 17,
    "start_time": "2024-06-09T18:34:10.850Z"
   },
   {
    "duration": 16,
    "start_time": "2024-06-09T18:34:21.859Z"
   },
   {
    "duration": 17,
    "start_time": "2024-06-09T18:34:42.214Z"
   },
   {
    "duration": 9,
    "start_time": "2024-06-09T18:34:53.863Z"
   },
   {
    "duration": 935,
    "start_time": "2024-06-09T18:36:06.390Z"
   },
   {
    "duration": 9,
    "start_time": "2024-06-09T18:36:17.477Z"
   },
   {
    "duration": 17,
    "start_time": "2024-06-09T18:36:25.659Z"
   },
   {
    "duration": 17,
    "start_time": "2024-06-09T18:36:41.576Z"
   },
   {
    "duration": 10,
    "start_time": "2024-06-09T18:42:51.289Z"
   },
   {
    "duration": 4,
    "start_time": "2024-06-09T18:50:48.474Z"
   },
   {
    "duration": 30,
    "start_time": "2024-06-09T18:50:51.145Z"
   },
   {
    "duration": 5,
    "start_time": "2024-06-09T18:52:53.073Z"
   },
   {
    "duration": 64,
    "start_time": "2024-06-09T18:52:58.184Z"
   },
   {
    "duration": 29,
    "start_time": "2024-06-09T18:53:04.978Z"
   },
   {
    "duration": 33,
    "start_time": "2024-06-09T18:54:34.428Z"
   },
   {
    "duration": 9,
    "start_time": "2024-06-09T18:54:42.186Z"
   },
   {
    "duration": 7,
    "start_time": "2024-06-09T18:57:47.178Z"
   },
   {
    "duration": 29,
    "start_time": "2024-06-09T18:57:57.343Z"
   },
   {
    "duration": 29,
    "start_time": "2024-06-09T18:58:18.762Z"
   },
   {
    "duration": 16,
    "start_time": "2024-06-09T18:58:42.348Z"
   },
   {
    "duration": 13,
    "start_time": "2024-06-09T18:59:24.475Z"
   },
   {
    "duration": 11,
    "start_time": "2024-06-09T18:59:49.210Z"
   },
   {
    "duration": 34,
    "start_time": "2024-06-09T18:59:57.819Z"
   },
   {
    "duration": 15,
    "start_time": "2024-06-09T19:00:06.637Z"
   },
   {
    "duration": 28,
    "start_time": "2024-06-09T19:22:36.059Z"
   },
   {
    "duration": 7,
    "start_time": "2024-06-09T19:22:49.249Z"
   },
   {
    "duration": 28,
    "start_time": "2024-06-09T19:22:56.936Z"
   },
   {
    "duration": 20,
    "start_time": "2024-06-09T19:23:08.895Z"
   },
   {
    "duration": 38,
    "start_time": "2024-06-09T19:25:55.293Z"
   },
   {
    "duration": 22,
    "start_time": "2024-06-09T19:26:03.070Z"
   },
   {
    "duration": 16,
    "start_time": "2024-06-09T19:26:06.452Z"
   },
   {
    "duration": 959,
    "start_time": "2024-06-09T19:26:20.174Z"
   },
   {
    "duration": 905,
    "start_time": "2024-06-09T19:27:03.283Z"
   },
   {
    "duration": 1043,
    "start_time": "2024-06-09T19:31:03.872Z"
   },
   {
    "duration": 9,
    "start_time": "2024-06-09T19:36:38.668Z"
   },
   {
    "duration": 18,
    "start_time": "2024-06-09T19:37:16.609Z"
   },
   {
    "duration": 9,
    "start_time": "2024-06-09T19:39:32.158Z"
   },
   {
    "duration": 45,
    "start_time": "2024-06-09T19:42:19.112Z"
   },
   {
    "duration": 13,
    "start_time": "2024-06-09T19:45:18.634Z"
   },
   {
    "duration": 7028,
    "start_time": "2024-06-09T19:45:57.459Z"
   },
   {
    "duration": 665,
    "start_time": "2024-06-09T19:46:31.161Z"
   },
   {
    "duration": 641,
    "start_time": "2024-06-09T19:46:47.667Z"
   },
   {
    "duration": 610,
    "start_time": "2024-06-09T19:47:26.745Z"
   },
   {
    "duration": 15,
    "start_time": "2024-06-09T19:48:00.815Z"
   },
   {
    "duration": 14,
    "start_time": "2024-06-09T19:48:05.881Z"
   },
   {
    "duration": 17,
    "start_time": "2024-06-09T19:48:20.330Z"
   },
   {
    "duration": 21,
    "start_time": "2024-06-09T19:48:41.898Z"
   },
   {
    "duration": 16,
    "start_time": "2024-06-09T19:48:52.912Z"
   },
   {
    "duration": 5,
    "start_time": "2024-06-09T19:49:00.035Z"
   },
   {
    "duration": 660,
    "start_time": "2024-06-09T19:49:07.008Z"
   },
   {
    "duration": 671,
    "start_time": "2024-06-09T19:49:34.756Z"
   },
   {
    "duration": 155,
    "start_time": "2024-06-09T19:50:01.156Z"
   },
   {
    "duration": 150,
    "start_time": "2024-06-09T19:50:37.068Z"
   },
   {
    "duration": 142,
    "start_time": "2024-06-09T19:50:43.350Z"
   },
   {
    "duration": 14,
    "start_time": "2024-06-09T19:54:20.007Z"
   },
   {
    "duration": 74,
    "start_time": "2024-06-09T19:57:01.723Z"
   },
   {
    "duration": 938,
    "start_time": "2024-06-09T19:57:08.874Z"
   },
   {
    "duration": 23,
    "start_time": "2024-06-09T19:57:20.504Z"
   },
   {
    "duration": 25,
    "start_time": "2024-06-09T19:59:00.735Z"
   },
   {
    "duration": 22,
    "start_time": "2024-06-09T19:59:09.694Z"
   },
   {
    "duration": 76,
    "start_time": "2024-06-09T19:59:30.613Z"
   },
   {
    "duration": 27,
    "start_time": "2024-06-09T19:59:35.306Z"
   },
   {
    "duration": 18,
    "start_time": "2024-06-09T20:01:04.123Z"
   },
   {
    "duration": 23,
    "start_time": "2024-06-09T20:01:07.946Z"
   },
   {
    "duration": 40,
    "start_time": "2024-06-09T20:01:53.189Z"
   },
   {
    "duration": 863,
    "start_time": "2024-06-09T20:06:17.585Z"
   },
   {
    "duration": 876,
    "start_time": "2024-06-09T20:06:21.012Z"
   },
   {
    "duration": 9,
    "start_time": "2024-06-09T20:06:43.908Z"
   },
   {
    "duration": 3,
    "start_time": "2024-06-09T20:07:00.870Z"
   },
   {
    "duration": 116,
    "start_time": "2024-06-09T20:07:00.879Z"
   },
   {
    "duration": 16,
    "start_time": "2024-06-09T20:07:00.997Z"
   },
   {
    "duration": 38,
    "start_time": "2024-06-09T20:07:01.015Z"
   },
   {
    "duration": 67,
    "start_time": "2024-06-09T20:07:01.055Z"
   },
   {
    "duration": 37,
    "start_time": "2024-06-09T20:07:01.123Z"
   },
   {
    "duration": 81,
    "start_time": "2024-06-09T20:07:01.162Z"
   },
   {
    "duration": 51,
    "start_time": "2024-06-09T20:07:01.245Z"
   },
   {
    "duration": 67,
    "start_time": "2024-06-09T20:07:01.298Z"
   },
   {
    "duration": 77,
    "start_time": "2024-06-09T20:07:01.366Z"
   },
   {
    "duration": 132,
    "start_time": "2024-06-09T20:07:01.446Z"
   },
   {
    "duration": 23,
    "start_time": "2024-06-09T20:07:01.580Z"
   },
   {
    "duration": 85,
    "start_time": "2024-06-09T20:07:01.605Z"
   },
   {
    "duration": 105,
    "start_time": "2024-06-09T20:07:01.691Z"
   },
   {
    "duration": 17,
    "start_time": "2024-06-09T20:07:01.798Z"
   },
   {
    "duration": 49,
    "start_time": "2024-06-09T20:07:01.816Z"
   },
   {
    "duration": 43,
    "start_time": "2024-06-09T20:07:01.867Z"
   },
   {
    "duration": 227,
    "start_time": "2024-06-09T20:07:01.912Z"
   },
   {
    "duration": 28,
    "start_time": "2024-06-09T20:07:02.141Z"
   },
   {
    "duration": 57,
    "start_time": "2024-06-09T20:07:02.171Z"
   },
   {
    "duration": 877,
    "start_time": "2024-06-09T20:07:02.230Z"
   },
   {
    "duration": 16,
    "start_time": "2024-06-09T20:07:03.108Z"
   },
   {
    "duration": 333,
    "start_time": "2024-06-09T20:07:03.126Z"
   },
   {
    "duration": 13,
    "start_time": "2024-06-09T20:07:03.461Z"
   },
   {
    "duration": 66,
    "start_time": "2024-06-09T20:07:03.475Z"
   },
   {
    "duration": 50,
    "start_time": "2024-06-09T20:07:06.594Z"
   },
   {
    "duration": 46,
    "start_time": "2024-06-09T20:07:10.474Z"
   },
   {
    "duration": 15,
    "start_time": "2024-06-09T20:07:26.686Z"
   },
   {
    "duration": 44,
    "start_time": "2024-06-09T20:07:48.988Z"
   },
   {
    "duration": 15,
    "start_time": "2024-06-09T20:07:52.518Z"
   },
   {
    "duration": 13,
    "start_time": "2024-06-09T20:07:53.423Z"
   },
   {
    "duration": 4,
    "start_time": "2024-06-09T20:08:13.185Z"
   },
   {
    "duration": 43,
    "start_time": "2024-06-09T20:08:23.262Z"
   },
   {
    "duration": 8,
    "start_time": "2024-06-09T20:08:26.775Z"
   },
   {
    "duration": 12,
    "start_time": "2024-06-09T20:19:10.735Z"
   },
   {
    "duration": 54,
    "start_time": "2024-06-09T20:19:13.581Z"
   },
   {
    "duration": 44,
    "start_time": "2024-06-09T20:19:17.766Z"
   },
   {
    "duration": 8,
    "start_time": "2024-06-09T20:19:23.189Z"
   },
   {
    "duration": 294,
    "start_time": "2024-06-09T20:20:46.790Z"
   },
   {
    "duration": 29,
    "start_time": "2024-06-09T20:20:54.616Z"
   },
   {
    "duration": 22,
    "start_time": "2024-06-09T20:20:56.788Z"
   },
   {
    "duration": 20,
    "start_time": "2024-06-09T20:21:55.684Z"
   },
   {
    "duration": 27,
    "start_time": "2024-06-09T20:21:59.176Z"
   },
   {
    "duration": 4,
    "start_time": "2024-06-09T20:22:20.189Z"
   },
   {
    "duration": 102,
    "start_time": "2024-06-09T20:22:20.196Z"
   },
   {
    "duration": 20,
    "start_time": "2024-06-09T20:22:20.300Z"
   },
   {
    "duration": 16,
    "start_time": "2024-06-09T20:22:20.323Z"
   },
   {
    "duration": 16,
    "start_time": "2024-06-09T20:22:20.341Z"
   },
   {
    "duration": 43,
    "start_time": "2024-06-09T20:22:20.359Z"
   },
   {
    "duration": 42,
    "start_time": "2024-06-09T20:22:20.403Z"
   },
   {
    "duration": 10,
    "start_time": "2024-06-09T20:22:20.447Z"
   },
   {
    "duration": 25,
    "start_time": "2024-06-09T20:22:20.459Z"
   },
   {
    "duration": 60,
    "start_time": "2024-06-09T20:22:20.487Z"
   },
   {
    "duration": 81,
    "start_time": "2024-06-09T20:22:20.549Z"
   },
   {
    "duration": 24,
    "start_time": "2024-06-09T20:22:20.632Z"
   },
   {
    "duration": 37,
    "start_time": "2024-06-09T20:22:20.658Z"
   },
   {
    "duration": 77,
    "start_time": "2024-06-09T20:22:20.696Z"
   },
   {
    "duration": 32,
    "start_time": "2024-06-09T20:22:20.775Z"
   },
   {
    "duration": 26,
    "start_time": "2024-06-09T20:22:20.808Z"
   },
   {
    "duration": 24,
    "start_time": "2024-06-09T20:22:20.836Z"
   },
   {
    "duration": 247,
    "start_time": "2024-06-09T20:22:20.861Z"
   },
   {
    "duration": 29,
    "start_time": "2024-06-09T20:22:21.110Z"
   },
   {
    "duration": 63,
    "start_time": "2024-06-09T20:22:21.141Z"
   },
   {
    "duration": 785,
    "start_time": "2024-06-09T20:22:21.206Z"
   },
   {
    "duration": 17,
    "start_time": "2024-06-09T20:22:21.993Z"
   },
   {
    "duration": 314,
    "start_time": "2024-06-09T20:22:22.012Z"
   },
   {
    "duration": 14,
    "start_time": "2024-06-09T20:22:22.328Z"
   },
   {
    "duration": 71,
    "start_time": "2024-06-09T20:22:22.343Z"
   },
   {
    "duration": 48,
    "start_time": "2024-06-09T20:22:22.416Z"
   },
   {
    "duration": 8,
    "start_time": "2024-06-09T20:22:22.465Z"
   },
   {
    "duration": 25,
    "start_time": "2024-06-09T20:22:26.076Z"
   },
   {
    "duration": 25,
    "start_time": "2024-06-09T20:22:39.949Z"
   },
   {
    "duration": 27,
    "start_time": "2024-06-09T20:23:16.125Z"
   },
   {
    "duration": 29,
    "start_time": "2024-06-09T20:23:18.307Z"
   },
   {
    "duration": 4,
    "start_time": "2024-06-09T20:23:31.188Z"
   },
   {
    "duration": 103,
    "start_time": "2024-06-09T20:23:31.194Z"
   },
   {
    "duration": 16,
    "start_time": "2024-06-09T20:23:31.299Z"
   },
   {
    "duration": 57,
    "start_time": "2024-06-09T20:23:31.316Z"
   },
   {
    "duration": 17,
    "start_time": "2024-06-09T20:23:31.375Z"
   },
   {
    "duration": 26,
    "start_time": "2024-06-09T20:23:31.394Z"
   },
   {
    "duration": 57,
    "start_time": "2024-06-09T20:23:31.421Z"
   },
   {
    "duration": 11,
    "start_time": "2024-06-09T20:23:31.479Z"
   },
   {
    "duration": 22,
    "start_time": "2024-06-09T20:23:31.492Z"
   },
   {
    "duration": 79,
    "start_time": "2024-06-09T20:23:31.515Z"
   },
   {
    "duration": 92,
    "start_time": "2024-06-09T20:23:31.596Z"
   },
   {
    "duration": 22,
    "start_time": "2024-06-09T20:23:31.690Z"
   },
   {
    "duration": 19,
    "start_time": "2024-06-09T20:23:31.715Z"
   },
   {
    "duration": 99,
    "start_time": "2024-06-09T20:23:31.736Z"
   },
   {
    "duration": 17,
    "start_time": "2024-06-09T20:23:31.837Z"
   },
   {
    "duration": 27,
    "start_time": "2024-06-09T20:23:31.856Z"
   },
   {
    "duration": 33,
    "start_time": "2024-06-09T20:23:31.885Z"
   },
   {
    "duration": 252,
    "start_time": "2024-06-09T20:23:31.920Z"
   },
   {
    "duration": 28,
    "start_time": "2024-06-09T20:23:32.174Z"
   },
   {
    "duration": 38,
    "start_time": "2024-06-09T20:23:32.204Z"
   },
   {
    "duration": 739,
    "start_time": "2024-06-09T20:23:32.243Z"
   },
   {
    "duration": 20,
    "start_time": "2024-06-09T20:23:32.984Z"
   },
   {
    "duration": 412,
    "start_time": "2024-06-09T20:23:33.006Z"
   },
   {
    "duration": 12,
    "start_time": "2024-06-09T20:23:33.419Z"
   },
   {
    "duration": 64,
    "start_time": "2024-06-09T20:23:33.433Z"
   },
   {
    "duration": 48,
    "start_time": "2024-06-09T20:23:33.499Z"
   },
   {
    "duration": 8,
    "start_time": "2024-06-09T20:23:33.549Z"
   },
   {
    "duration": 26,
    "start_time": "2024-06-09T20:23:35.071Z"
   },
   {
    "duration": 11,
    "start_time": "2024-06-09T20:23:53.827Z"
   },
   {
    "duration": 53,
    "start_time": "2024-06-09T20:24:51.259Z"
   },
   {
    "duration": 65,
    "start_time": "2024-06-09T20:24:58.962Z"
   },
   {
    "duration": 3,
    "start_time": "2024-06-09T20:26:51.091Z"
   },
   {
    "duration": 138,
    "start_time": "2024-06-09T20:26:51.099Z"
   },
   {
    "duration": 22,
    "start_time": "2024-06-09T20:26:51.240Z"
   },
   {
    "duration": 33,
    "start_time": "2024-06-09T20:26:51.264Z"
   },
   {
    "duration": 16,
    "start_time": "2024-06-09T20:26:51.299Z"
   },
   {
    "duration": 15,
    "start_time": "2024-06-09T20:26:51.317Z"
   },
   {
    "duration": 41,
    "start_time": "2024-06-09T20:26:51.334Z"
   },
   {
    "duration": 24,
    "start_time": "2024-06-09T20:26:51.376Z"
   },
   {
    "duration": 12,
    "start_time": "2024-06-09T20:26:51.402Z"
   },
   {
    "duration": 43,
    "start_time": "2024-06-09T20:26:51.415Z"
   },
   {
    "duration": 92,
    "start_time": "2024-06-09T20:26:51.461Z"
   },
   {
    "duration": 48,
    "start_time": "2024-06-09T20:26:51.555Z"
   },
   {
    "duration": 19,
    "start_time": "2024-06-09T20:26:51.605Z"
   },
   {
    "duration": 275,
    "start_time": "2024-06-09T20:26:51.626Z"
   },
   {
    "duration": 17,
    "start_time": "2024-06-09T20:26:51.903Z"
   },
   {
    "duration": 27,
    "start_time": "2024-06-09T20:26:51.922Z"
   },
   {
    "duration": 52,
    "start_time": "2024-06-09T20:26:51.951Z"
   },
   {
    "duration": 258,
    "start_time": "2024-06-09T20:26:52.005Z"
   },
   {
    "duration": 47,
    "start_time": "2024-06-09T20:26:52.265Z"
   },
   {
    "duration": 43,
    "start_time": "2024-06-09T20:26:52.314Z"
   },
   {
    "duration": 720,
    "start_time": "2024-06-09T20:26:52.359Z"
   },
   {
    "duration": 27,
    "start_time": "2024-06-09T20:26:53.081Z"
   },
   {
    "duration": 334,
    "start_time": "2024-06-09T20:26:53.110Z"
   },
   {
    "duration": 16,
    "start_time": "2024-06-09T20:26:53.445Z"
   },
   {
    "duration": 51,
    "start_time": "2024-06-09T20:26:56.037Z"
   },
   {
    "duration": 8,
    "start_time": "2024-06-09T20:27:00.521Z"
   },
   {
    "duration": 22,
    "start_time": "2024-06-09T20:27:04.511Z"
   },
   {
    "duration": 9,
    "start_time": "2024-06-09T20:27:07.863Z"
   },
   {
    "duration": 12,
    "start_time": "2024-06-09T20:27:27.376Z"
   },
   {
    "duration": 32,
    "start_time": "2024-06-09T20:27:40.743Z"
   },
   {
    "duration": 7,
    "start_time": "2024-06-09T20:27:57.592Z"
   },
   {
    "duration": 20,
    "start_time": "2024-06-09T20:28:06.212Z"
   },
   {
    "duration": 23,
    "start_time": "2024-06-09T20:29:07.176Z"
   },
   {
    "duration": 17,
    "start_time": "2024-06-09T20:29:40.478Z"
   },
   {
    "duration": 17,
    "start_time": "2024-06-09T20:30:01.859Z"
   },
   {
    "duration": 66,
    "start_time": "2024-06-09T20:30:07.165Z"
   },
   {
    "duration": 13,
    "start_time": "2024-06-09T20:30:17.847Z"
   },
   {
    "duration": 11,
    "start_time": "2024-06-09T20:30:25.499Z"
   },
   {
    "duration": 3,
    "start_time": "2024-06-09T20:30:36.970Z"
   },
   {
    "duration": 74,
    "start_time": "2024-06-09T20:30:36.975Z"
   },
   {
    "duration": 14,
    "start_time": "2024-06-09T20:30:37.051Z"
   },
   {
    "duration": 27,
    "start_time": "2024-06-09T20:30:37.067Z"
   },
   {
    "duration": 16,
    "start_time": "2024-06-09T20:30:37.096Z"
   },
   {
    "duration": 19,
    "start_time": "2024-06-09T20:30:37.113Z"
   },
   {
    "duration": 37,
    "start_time": "2024-06-09T20:30:37.133Z"
   },
   {
    "duration": 11,
    "start_time": "2024-06-09T20:30:37.172Z"
   },
   {
    "duration": 15,
    "start_time": "2024-06-09T20:30:37.184Z"
   },
   {
    "duration": 26,
    "start_time": "2024-06-09T20:30:37.201Z"
   },
   {
    "duration": 82,
    "start_time": "2024-06-09T20:30:37.228Z"
   },
   {
    "duration": 19,
    "start_time": "2024-06-09T20:30:37.311Z"
   },
   {
    "duration": 13,
    "start_time": "2024-06-09T20:30:37.333Z"
   },
   {
    "duration": 104,
    "start_time": "2024-06-09T20:30:37.347Z"
   },
   {
    "duration": 17,
    "start_time": "2024-06-09T20:30:37.453Z"
   },
   {
    "duration": 42,
    "start_time": "2024-06-09T20:30:37.471Z"
   },
   {
    "duration": 35,
    "start_time": "2024-06-09T20:30:37.515Z"
   },
   {
    "duration": 219,
    "start_time": "2024-06-09T20:30:37.551Z"
   },
   {
    "duration": 40,
    "start_time": "2024-06-09T20:30:37.772Z"
   },
   {
    "duration": 44,
    "start_time": "2024-06-09T20:30:37.813Z"
   },
   {
    "duration": 772,
    "start_time": "2024-06-09T20:30:37.859Z"
   },
   {
    "duration": 18,
    "start_time": "2024-06-09T20:30:38.633Z"
   },
   {
    "duration": 313,
    "start_time": "2024-06-09T20:30:38.653Z"
   },
   {
    "duration": 23,
    "start_time": "2024-06-09T20:30:38.968Z"
   },
   {
    "duration": 52,
    "start_time": "2024-06-09T20:30:38.993Z"
   },
   {
    "duration": 65,
    "start_time": "2024-06-09T20:30:39.049Z"
   },
   {
    "duration": 8,
    "start_time": "2024-06-09T20:30:39.115Z"
   },
   {
    "duration": 7,
    "start_time": "2024-06-09T20:31:42.147Z"
   },
   {
    "duration": 12,
    "start_time": "2024-06-09T20:31:52.114Z"
   },
   {
    "duration": 17,
    "start_time": "2024-06-09T20:32:01.299Z"
   },
   {
    "duration": 10,
    "start_time": "2024-06-09T20:32:02.113Z"
   },
   {
    "duration": 52,
    "start_time": "2024-06-09T20:32:08.789Z"
   },
   {
    "duration": 54,
    "start_time": "2024-06-09T20:32:57.099Z"
   },
   {
    "duration": 50,
    "start_time": "2024-06-09T20:33:11.884Z"
   },
   {
    "duration": 54,
    "start_time": "2024-06-09T20:33:21.163Z"
   },
   {
    "duration": 63,
    "start_time": "2024-06-09T20:33:32.970Z"
   },
   {
    "duration": 20,
    "start_time": "2024-06-09T20:33:49.614Z"
   },
   {
    "duration": 51,
    "start_time": "2024-06-09T20:34:08.961Z"
   },
   {
    "duration": 21,
    "start_time": "2024-06-09T20:36:39.732Z"
   },
   {
    "duration": 57,
    "start_time": "2024-06-09T20:37:06.610Z"
   },
   {
    "duration": 52,
    "start_time": "2024-06-09T20:37:42.514Z"
   },
   {
    "duration": 14,
    "start_time": "2024-06-09T20:42:42.644Z"
   },
   {
    "duration": 56,
    "start_time": "2024-06-09T20:43:09.071Z"
   },
   {
    "duration": 7,
    "start_time": "2024-06-09T20:43:15.416Z"
   },
   {
    "duration": 14,
    "start_time": "2024-06-09T20:43:19.172Z"
   },
   {
    "duration": 10,
    "start_time": "2024-06-09T20:43:22.575Z"
   },
   {
    "duration": 203,
    "start_time": "2024-06-09T20:49:19.174Z"
   },
   {
    "duration": 3,
    "start_time": "2024-06-09T20:49:58.769Z"
   },
   {
    "duration": 6,
    "start_time": "2024-06-09T20:50:28.414Z"
   },
   {
    "duration": 13,
    "start_time": "2024-06-09T20:51:21.170Z"
   },
   {
    "duration": 4,
    "start_time": "2024-06-09T20:52:08.993Z"
   },
   {
    "duration": 210,
    "start_time": "2024-06-09T20:52:10.991Z"
   },
   {
    "duration": 137,
    "start_time": "2024-06-09T20:52:17.149Z"
   },
   {
    "duration": 4,
    "start_time": "2024-06-09T20:53:48.439Z"
   },
   {
    "duration": 3,
    "start_time": "2024-06-09T20:53:57.199Z"
   },
   {
    "duration": 3,
    "start_time": "2024-06-09T20:54:49.110Z"
   },
   {
    "duration": 4,
    "start_time": "2024-06-09T20:55:12.515Z"
   },
   {
    "duration": 4,
    "start_time": "2024-06-09T20:55:17.920Z"
   },
   {
    "duration": 23,
    "start_time": "2024-06-09T20:55:54.225Z"
   },
   {
    "duration": 12,
    "start_time": "2024-06-09T20:56:23.639Z"
   },
   {
    "duration": 16,
    "start_time": "2024-06-09T20:56:29.680Z"
   },
   {
    "duration": 51,
    "start_time": "2024-06-09T20:56:59.374Z"
   },
   {
    "duration": 33,
    "start_time": "2024-06-09T20:57:32.006Z"
   },
   {
    "duration": 31,
    "start_time": "2024-06-09T20:57:42.564Z"
   },
   {
    "duration": 32,
    "start_time": "2024-06-09T20:58:05.774Z"
   },
   {
    "duration": 113,
    "start_time": "2024-06-09T20:58:13.086Z"
   },
   {
    "duration": 9,
    "start_time": "2024-06-09T21:01:02.642Z"
   },
   {
    "duration": 16,
    "start_time": "2024-06-09T21:01:06.158Z"
   },
   {
    "duration": 123,
    "start_time": "2024-06-09T21:01:09.210Z"
   },
   {
    "duration": 14,
    "start_time": "2024-06-09T21:03:55.931Z"
   },
   {
    "duration": 11,
    "start_time": "2024-06-09T21:04:03.692Z"
   },
   {
    "duration": 202,
    "start_time": "2024-06-09T21:04:16.298Z"
   },
   {
    "duration": 12,
    "start_time": "2024-06-09T21:04:31.507Z"
   },
   {
    "duration": 11,
    "start_time": "2024-06-09T21:04:42.451Z"
   },
   {
    "duration": 11,
    "start_time": "2024-06-09T21:06:15.405Z"
   },
   {
    "duration": 2,
    "start_time": "2024-06-09T21:06:19.511Z"
   },
   {
    "duration": 4,
    "start_time": "2024-06-09T21:06:30.944Z"
   },
   {
    "duration": 209,
    "start_time": "2024-06-09T21:08:22.200Z"
   },
   {
    "duration": 12,
    "start_time": "2024-06-09T21:08:31.553Z"
   },
   {
    "duration": 11,
    "start_time": "2024-06-09T21:08:35.471Z"
   },
   {
    "duration": 11,
    "start_time": "2024-06-09T21:09:10.698Z"
   },
   {
    "duration": 12,
    "start_time": "2024-06-09T21:09:23.160Z"
   },
   {
    "duration": 12,
    "start_time": "2024-06-09T21:10:28.761Z"
   },
   {
    "duration": 127,
    "start_time": "2024-06-09T21:10:31.879Z"
   },
   {
    "duration": 68,
    "start_time": "2024-06-09T21:12:55.370Z"
   },
   {
    "duration": 4,
    "start_time": "2024-06-09T21:13:17.382Z"
   },
   {
    "duration": 11,
    "start_time": "2024-06-09T21:13:36.651Z"
   },
   {
    "duration": 77,
    "start_time": "2024-06-09T21:16:56.578Z"
   },
   {
    "duration": 124,
    "start_time": "2024-06-09T21:17:04.028Z"
   },
   {
    "duration": 124,
    "start_time": "2024-06-09T21:17:59.779Z"
   },
   {
    "duration": 4,
    "start_time": "2024-06-09T21:38:54.256Z"
   },
   {
    "duration": 75,
    "start_time": "2024-06-09T21:38:54.262Z"
   },
   {
    "duration": 16,
    "start_time": "2024-06-09T21:38:54.339Z"
   },
   {
    "duration": 36,
    "start_time": "2024-06-09T21:38:54.357Z"
   },
   {
    "duration": 14,
    "start_time": "2024-06-09T21:38:54.395Z"
   },
   {
    "duration": 12,
    "start_time": "2024-06-09T21:38:54.411Z"
   },
   {
    "duration": 28,
    "start_time": "2024-06-09T21:38:54.425Z"
   },
   {
    "duration": 41,
    "start_time": "2024-06-09T21:38:54.454Z"
   },
   {
    "duration": 10,
    "start_time": "2024-06-09T21:38:54.497Z"
   },
   {
    "duration": 22,
    "start_time": "2024-06-09T21:38:54.509Z"
   },
   {
    "duration": 100,
    "start_time": "2024-06-09T21:38:54.533Z"
   },
   {
    "duration": 20,
    "start_time": "2024-06-09T21:38:54.635Z"
   },
   {
    "duration": 45,
    "start_time": "2024-06-09T21:38:54.656Z"
   },
   {
    "duration": 71,
    "start_time": "2024-06-09T21:38:54.702Z"
   },
   {
    "duration": 32,
    "start_time": "2024-06-09T21:38:54.775Z"
   },
   {
    "duration": 23,
    "start_time": "2024-06-09T21:38:54.809Z"
   },
   {
    "duration": 36,
    "start_time": "2024-06-09T21:38:54.835Z"
   },
   {
    "duration": 379,
    "start_time": "2024-06-09T21:38:54.873Z"
   },
   {
    "duration": 26,
    "start_time": "2024-06-09T21:38:55.253Z"
   },
   {
    "duration": 40,
    "start_time": "2024-06-09T21:38:55.290Z"
   },
   {
    "duration": 720,
    "start_time": "2024-06-09T21:38:55.332Z"
   },
   {
    "duration": 18,
    "start_time": "2024-06-09T21:38:56.054Z"
   },
   {
    "duration": 366,
    "start_time": "2024-06-09T21:38:56.073Z"
   },
   {
    "duration": 14,
    "start_time": "2024-06-09T21:38:56.442Z"
   },
   {
    "duration": 67,
    "start_time": "2024-06-09T21:38:56.458Z"
   },
   {
    "duration": 46,
    "start_time": "2024-06-09T21:38:56.527Z"
   },
   {
    "duration": 8,
    "start_time": "2024-06-09T21:38:56.591Z"
   },
   {
    "duration": 16,
    "start_time": "2024-06-09T21:38:56.600Z"
   },
   {
    "duration": 60,
    "start_time": "2024-06-09T21:38:56.618Z"
   },
   {
    "duration": 78,
    "start_time": "2024-06-09T21:38:56.680Z"
   },
   {
    "duration": 108,
    "start_time": "2024-06-09T21:38:56.759Z"
   },
   {
    "duration": 60,
    "start_time": "2024-06-09T21:42:03.786Z"
   },
   {
    "duration": 124,
    "start_time": "2024-06-09T21:42:07.794Z"
   },
   {
    "duration": 15,
    "start_time": "2024-06-09T21:42:42.882Z"
   },
   {
    "duration": 17,
    "start_time": "2024-06-09T21:48:55.611Z"
   },
   {
    "duration": 18,
    "start_time": "2024-06-09T21:49:20.257Z"
   },
   {
    "duration": 13,
    "start_time": "2024-06-09T21:51:21.076Z"
   },
   {
    "duration": 9,
    "start_time": "2024-06-09T21:51:31.470Z"
   },
   {
    "duration": 17,
    "start_time": "2024-06-09T21:51:33.093Z"
   },
   {
    "duration": 19,
    "start_time": "2024-06-09T21:52:17.647Z"
   },
   {
    "duration": 17,
    "start_time": "2024-06-09T21:52:33.261Z"
   },
   {
    "duration": 17,
    "start_time": "2024-06-09T21:53:41.255Z"
   },
   {
    "duration": 13,
    "start_time": "2024-06-09T22:02:31.362Z"
   },
   {
    "duration": 74,
    "start_time": "2024-06-09T22:02:51.997Z"
   },
   {
    "duration": 73,
    "start_time": "2024-06-09T22:03:03.236Z"
   },
   {
    "duration": 50,
    "start_time": "2024-06-09T22:03:18.157Z"
   },
   {
    "duration": 12,
    "start_time": "2024-06-09T22:03:45.458Z"
   },
   {
    "duration": 70,
    "start_time": "2024-06-09T22:03:45.486Z"
   },
   {
    "duration": 4,
    "start_time": "2024-06-09T22:03:58.953Z"
   },
   {
    "duration": 89,
    "start_time": "2024-06-09T22:03:58.959Z"
   },
   {
    "duration": 16,
    "start_time": "2024-06-09T22:03:59.050Z"
   },
   {
    "duration": 18,
    "start_time": "2024-06-09T22:03:59.067Z"
   },
   {
    "duration": 17,
    "start_time": "2024-06-09T22:03:59.086Z"
   },
   {
    "duration": 12,
    "start_time": "2024-06-09T22:03:59.106Z"
   },
   {
    "duration": 40,
    "start_time": "2024-06-09T22:03:59.119Z"
   },
   {
    "duration": 8,
    "start_time": "2024-06-09T22:03:59.161Z"
   },
   {
    "duration": 28,
    "start_time": "2024-06-09T22:03:59.172Z"
   },
   {
    "duration": 52,
    "start_time": "2024-06-09T22:03:59.202Z"
   },
   {
    "duration": 97,
    "start_time": "2024-06-09T22:03:59.255Z"
   },
   {
    "duration": 42,
    "start_time": "2024-06-09T22:03:59.353Z"
   },
   {
    "duration": 13,
    "start_time": "2024-06-09T22:03:59.396Z"
   },
   {
    "duration": 90,
    "start_time": "2024-06-09T22:03:59.410Z"
   },
   {
    "duration": 17,
    "start_time": "2024-06-09T22:03:59.502Z"
   },
   {
    "duration": 38,
    "start_time": "2024-06-09T22:03:59.521Z"
   },
   {
    "duration": 20,
    "start_time": "2024-06-09T22:03:59.561Z"
   },
   {
    "duration": 228,
    "start_time": "2024-06-09T22:03:59.582Z"
   },
   {
    "duration": 29,
    "start_time": "2024-06-09T22:03:59.812Z"
   },
   {
    "duration": 67,
    "start_time": "2024-06-09T22:03:59.843Z"
   },
   {
    "duration": 799,
    "start_time": "2024-06-09T22:03:59.912Z"
   },
   {
    "duration": 18,
    "start_time": "2024-06-09T22:04:00.713Z"
   },
   {
    "duration": 494,
    "start_time": "2024-06-09T22:04:00.733Z"
   },
   {
    "duration": 18,
    "start_time": "2024-06-09T22:04:01.232Z"
   },
   {
    "duration": 85,
    "start_time": "2024-06-09T22:04:01.252Z"
   },
   {
    "duration": 104,
    "start_time": "2024-06-09T22:04:01.339Z"
   },
   {
    "duration": 34,
    "start_time": "2024-06-09T22:04:01.444Z"
   },
   {
    "duration": 31,
    "start_time": "2024-06-09T22:04:01.480Z"
   },
   {
    "duration": 92,
    "start_time": "2024-06-09T22:04:01.513Z"
   },
   {
    "duration": 100,
    "start_time": "2024-06-09T22:04:01.607Z"
   },
   {
    "duration": 141,
    "start_time": "2024-06-09T22:04:01.709Z"
   },
   {
    "duration": 20,
    "start_time": "2024-06-09T22:04:01.851Z"
   },
   {
    "duration": 32,
    "start_time": "2024-06-09T22:04:01.873Z"
   },
   {
    "duration": 18,
    "start_time": "2024-06-09T22:04:13.084Z"
   },
   {
    "duration": 1572,
    "start_time": "2024-06-09T22:04:30.802Z"
   },
   {
    "duration": 68,
    "start_time": "2024-06-09T22:04:32.376Z"
   },
   {
    "duration": 20,
    "start_time": "2024-06-09T22:04:32.445Z"
   },
   {
    "duration": 14,
    "start_time": "2024-06-09T22:04:32.467Z"
   },
   {
    "duration": 22,
    "start_time": "2024-06-09T22:04:32.482Z"
   },
   {
    "duration": 13,
    "start_time": "2024-06-09T22:04:32.505Z"
   },
   {
    "duration": 33,
    "start_time": "2024-06-09T22:04:32.519Z"
   },
   {
    "duration": 8,
    "start_time": "2024-06-09T22:04:32.553Z"
   },
   {
    "duration": 32,
    "start_time": "2024-06-09T22:04:32.563Z"
   },
   {
    "duration": 78,
    "start_time": "2024-06-09T22:04:32.597Z"
   },
   {
    "duration": 66,
    "start_time": "2024-06-09T22:04:32.677Z"
   },
   {
    "duration": 22,
    "start_time": "2024-06-09T22:04:32.745Z"
   },
   {
    "duration": 15,
    "start_time": "2024-06-09T22:04:32.792Z"
   },
   {
    "duration": 88,
    "start_time": "2024-06-09T22:04:32.809Z"
   },
   {
    "duration": 17,
    "start_time": "2024-06-09T22:04:32.898Z"
   },
   {
    "duration": 17,
    "start_time": "2024-06-09T22:04:32.917Z"
   },
   {
    "duration": 162,
    "start_time": "2024-06-09T22:04:32.935Z"
   },
   {
    "duration": 272,
    "start_time": "2024-06-09T22:04:33.098Z"
   },
   {
    "duration": 49,
    "start_time": "2024-06-09T22:04:33.372Z"
   },
   {
    "duration": 128,
    "start_time": "2024-06-09T22:04:33.423Z"
   },
   {
    "duration": 738,
    "start_time": "2024-06-09T22:04:33.553Z"
   },
   {
    "duration": 16,
    "start_time": "2024-06-09T22:04:34.293Z"
   },
   {
    "duration": 312,
    "start_time": "2024-06-09T22:04:34.311Z"
   },
   {
    "duration": 12,
    "start_time": "2024-06-09T22:04:34.625Z"
   },
   {
    "duration": 238,
    "start_time": "2024-06-09T22:04:34.638Z"
   },
   {
    "duration": 52,
    "start_time": "2024-06-09T22:04:34.878Z"
   },
   {
    "duration": 9,
    "start_time": "2024-06-09T22:04:34.932Z"
   },
   {
    "duration": 17,
    "start_time": "2024-06-09T22:04:34.945Z"
   },
   {
    "duration": 80,
    "start_time": "2024-06-09T22:04:34.964Z"
   },
   {
    "duration": 84,
    "start_time": "2024-06-09T22:04:35.046Z"
   },
   {
    "duration": 128,
    "start_time": "2024-06-09T22:04:35.131Z"
   },
   {
    "duration": 35,
    "start_time": "2024-06-09T22:04:35.261Z"
   },
   {
    "duration": 9,
    "start_time": "2024-06-09T22:04:35.298Z"
   },
   {
    "duration": 211,
    "start_time": "2024-06-09T22:09:01.859Z"
   },
   {
    "duration": 14,
    "start_time": "2024-06-09T22:09:12.663Z"
   },
   {
    "duration": 13,
    "start_time": "2024-06-09T22:10:12.942Z"
   },
   {
    "duration": 9,
    "start_time": "2024-06-09T22:10:46.964Z"
   },
   {
    "duration": 16,
    "start_time": "2024-06-09T22:10:57.819Z"
   },
   {
    "duration": 10,
    "start_time": "2024-06-09T22:11:00.571Z"
   },
   {
    "duration": 9,
    "start_time": "2024-06-09T22:11:25.741Z"
   },
   {
    "duration": 209,
    "start_time": "2024-06-09T22:12:14.210Z"
   },
   {
    "duration": 186,
    "start_time": "2024-06-09T22:12:32.188Z"
   },
   {
    "duration": 13,
    "start_time": "2024-06-09T22:13:02.418Z"
   },
   {
    "duration": 7,
    "start_time": "2024-06-09T22:13:43.283Z"
   },
   {
    "duration": 14,
    "start_time": "2024-06-09T22:13:53.016Z"
   },
   {
    "duration": 16,
    "start_time": "2024-06-09T22:15:08.801Z"
   },
   {
    "duration": 17,
    "start_time": "2024-06-09T22:15:17.978Z"
   },
   {
    "duration": 13,
    "start_time": "2024-06-09T22:15:38.678Z"
   },
   {
    "duration": 13,
    "start_time": "2024-06-09T22:15:59.855Z"
   },
   {
    "duration": 12,
    "start_time": "2024-06-09T22:16:17.633Z"
   },
   {
    "duration": 13,
    "start_time": "2024-06-09T22:16:22.092Z"
   },
   {
    "duration": 11,
    "start_time": "2024-06-09T22:16:28.782Z"
   },
   {
    "duration": 12,
    "start_time": "2024-06-09T22:16:42.401Z"
   },
   {
    "duration": 12,
    "start_time": "2024-06-09T22:16:51.451Z"
   },
   {
    "duration": 14,
    "start_time": "2024-06-09T22:19:03.878Z"
   },
   {
    "duration": 12,
    "start_time": "2024-06-09T22:19:54.547Z"
   },
   {
    "duration": 12,
    "start_time": "2024-06-09T22:20:02.760Z"
   },
   {
    "duration": 12,
    "start_time": "2024-06-09T22:20:12.569Z"
   },
   {
    "duration": 107,
    "start_time": "2024-06-09T22:20:19.553Z"
   },
   {
    "duration": 11,
    "start_time": "2024-06-09T22:20:25.239Z"
   },
   {
    "duration": 11,
    "start_time": "2024-06-09T22:20:37.722Z"
   },
   {
    "duration": 12,
    "start_time": "2024-06-09T22:21:01.713Z"
   },
   {
    "duration": 11,
    "start_time": "2024-06-09T22:21:07.744Z"
   },
   {
    "duration": 52,
    "start_time": "2024-06-09T22:21:29.056Z"
   },
   {
    "duration": 12,
    "start_time": "2024-06-09T22:21:33.128Z"
   },
   {
    "duration": 11,
    "start_time": "2024-06-09T22:21:44.770Z"
   },
   {
    "duration": 12,
    "start_time": "2024-06-09T22:21:53.648Z"
   },
   {
    "duration": 12,
    "start_time": "2024-06-09T22:21:58.353Z"
   },
   {
    "duration": 17,
    "start_time": "2024-06-09T22:22:05.524Z"
   },
   {
    "duration": 13,
    "start_time": "2024-06-09T22:22:36.200Z"
   },
   {
    "duration": 13,
    "start_time": "2024-06-09T22:24:38.934Z"
   },
   {
    "duration": 12,
    "start_time": "2024-06-09T22:24:43.403Z"
   },
   {
    "duration": 12,
    "start_time": "2024-06-09T22:24:52.939Z"
   },
   {
    "duration": 929,
    "start_time": "2024-06-09T22:25:18.015Z"
   },
   {
    "duration": 4,
    "start_time": "2024-06-09T22:25:26.308Z"
   },
   {
    "duration": 5,
    "start_time": "2024-06-09T22:26:07.204Z"
   },
   {
    "duration": 5,
    "start_time": "2024-06-09T22:26:47.641Z"
   },
   {
    "duration": 13,
    "start_time": "2024-06-09T22:26:58.273Z"
   },
   {
    "duration": 12,
    "start_time": "2024-06-09T22:27:03.030Z"
   },
   {
    "duration": 88,
    "start_time": "2024-06-09T22:30:41.754Z"
   },
   {
    "duration": 99,
    "start_time": "2024-06-09T22:30:46.051Z"
   },
   {
    "duration": 60,
    "start_time": "2024-06-09T22:30:57.021Z"
   },
   {
    "duration": 17,
    "start_time": "2024-06-09T22:31:01.937Z"
   },
   {
    "duration": 68,
    "start_time": "2024-06-09T22:31:42.648Z"
   },
   {
    "duration": 648,
    "start_time": "2024-06-09T22:33:30.707Z"
   },
   {
    "duration": 175,
    "start_time": "2024-06-09T22:33:46.480Z"
   },
   {
    "duration": 11,
    "start_time": "2024-06-09T22:34:07.552Z"
   },
   {
    "duration": 14,
    "start_time": "2024-06-09T22:35:15.132Z"
   },
   {
    "duration": 13,
    "start_time": "2024-06-09T22:35:26.498Z"
   },
   {
    "duration": 13,
    "start_time": "2024-06-09T22:35:35.872Z"
   },
   {
    "duration": 14,
    "start_time": "2024-06-09T22:35:40.498Z"
   },
   {
    "duration": 12,
    "start_time": "2024-06-09T22:35:52.482Z"
   },
   {
    "duration": 94,
    "start_time": "2024-06-09T22:37:33.702Z"
   },
   {
    "duration": 14,
    "start_time": "2024-06-09T22:37:43.094Z"
   },
   {
    "duration": 21,
    "start_time": "2024-06-09T22:39:26.008Z"
   },
   {
    "duration": 14,
    "start_time": "2024-06-09T22:40:15.198Z"
   },
   {
    "duration": 19,
    "start_time": "2024-06-09T22:40:17.979Z"
   },
   {
    "duration": 70,
    "start_time": "2024-06-09T22:40:29.181Z"
   },
   {
    "duration": 80,
    "start_time": "2024-06-09T22:40:47.630Z"
   },
   {
    "duration": 74,
    "start_time": "2024-06-09T22:41:01.444Z"
   },
   {
    "duration": 75,
    "start_time": "2024-06-09T22:41:06.578Z"
   },
   {
    "duration": 90,
    "start_time": "2024-06-09T22:41:11.402Z"
   },
   {
    "duration": 79,
    "start_time": "2024-06-09T22:41:17.550Z"
   },
   {
    "duration": 92,
    "start_time": "2024-06-09T22:41:21.159Z"
   },
   {
    "duration": 76,
    "start_time": "2024-06-09T22:41:26.928Z"
   },
   {
    "duration": 77,
    "start_time": "2024-06-09T22:41:29.767Z"
   },
   {
    "duration": 73,
    "start_time": "2024-06-09T22:41:34.551Z"
   },
   {
    "duration": 72,
    "start_time": "2024-06-09T22:41:38.308Z"
   },
   {
    "duration": 71,
    "start_time": "2024-06-09T22:41:43.628Z"
   },
   {
    "duration": 80,
    "start_time": "2024-06-09T22:41:49.815Z"
   },
   {
    "duration": 76,
    "start_time": "2024-06-09T22:42:02.082Z"
   },
   {
    "duration": 73,
    "start_time": "2024-06-09T22:42:05.823Z"
   },
   {
    "duration": 74,
    "start_time": "2024-06-09T22:42:07.876Z"
   },
   {
    "duration": 79,
    "start_time": "2024-06-09T22:42:11.975Z"
   },
   {
    "duration": 78,
    "start_time": "2024-06-09T22:42:15.290Z"
   },
   {
    "duration": 71,
    "start_time": "2024-06-09T22:42:21.752Z"
   },
   {
    "duration": 78,
    "start_time": "2024-06-09T22:42:25.973Z"
   },
   {
    "duration": 77,
    "start_time": "2024-06-09T22:42:30.448Z"
   },
   {
    "duration": 80,
    "start_time": "2024-06-09T22:42:32.613Z"
   },
   {
    "duration": 76,
    "start_time": "2024-06-09T22:42:44.498Z"
   },
   {
    "duration": 69,
    "start_time": "2024-06-09T22:42:51.490Z"
   },
   {
    "duration": 72,
    "start_time": "2024-06-09T22:42:55.437Z"
   },
   {
    "duration": 89,
    "start_time": "2024-06-09T22:44:31.986Z"
   },
   {
    "duration": 73,
    "start_time": "2024-06-09T22:45:20.745Z"
   },
   {
    "duration": 73,
    "start_time": "2024-06-09T22:45:28.023Z"
   },
   {
    "duration": 76,
    "start_time": "2024-06-09T22:45:37.914Z"
   },
   {
    "duration": 76,
    "start_time": "2024-06-09T22:46:36.228Z"
   },
   {
    "duration": 73,
    "start_time": "2024-06-09T22:46:42.716Z"
   },
   {
    "duration": 101,
    "start_time": "2024-06-09T22:46:46.325Z"
   },
   {
    "duration": 107,
    "start_time": "2024-06-09T22:46:50.050Z"
   },
   {
    "duration": 75,
    "start_time": "2024-06-09T22:46:54.775Z"
   },
   {
    "duration": 73,
    "start_time": "2024-06-09T22:46:59.007Z"
   },
   {
    "duration": 11,
    "start_time": "2024-06-09T22:47:49.994Z"
   },
   {
    "duration": 54,
    "start_time": "2024-06-09T22:48:16.903Z"
   },
   {
    "duration": 7,
    "start_time": "2024-06-09T22:48:24.390Z"
   },
   {
    "duration": 8,
    "start_time": "2024-06-09T22:49:05.987Z"
   },
   {
    "duration": 69,
    "start_time": "2024-06-09T22:51:06.584Z"
   },
   {
    "duration": 7,
    "start_time": "2024-06-09T22:51:19.304Z"
   },
   {
    "duration": 8,
    "start_time": "2024-06-09T22:52:00.719Z"
   },
   {
    "duration": 8,
    "start_time": "2024-06-09T22:52:14.976Z"
   },
   {
    "duration": 4,
    "start_time": "2024-06-09T22:52:25.485Z"
   },
   {
    "duration": 78,
    "start_time": "2024-06-09T22:52:33.980Z"
   },
   {
    "duration": 74,
    "start_time": "2024-06-09T22:52:40.162Z"
   },
   {
    "duration": 86,
    "start_time": "2024-06-09T22:52:46.819Z"
   },
   {
    "duration": 62,
    "start_time": "2024-06-09T22:53:59.784Z"
   },
   {
    "duration": 52,
    "start_time": "2024-06-09T22:54:02.769Z"
   },
   {
    "duration": 80,
    "start_time": "2024-06-09T22:54:09.673Z"
   },
   {
    "duration": 90,
    "start_time": "2024-06-09T22:54:15.533Z"
   },
   {
    "duration": 71,
    "start_time": "2024-06-09T22:54:22.599Z"
   },
   {
    "duration": 87,
    "start_time": "2024-06-09T22:54:25.250Z"
   },
   {
    "duration": 96,
    "start_time": "2024-06-09T22:54:27.969Z"
   },
   {
    "duration": 77,
    "start_time": "2024-06-09T22:54:35.044Z"
   },
   {
    "duration": 75,
    "start_time": "2024-06-09T22:54:38.868Z"
   },
   {
    "duration": 77,
    "start_time": "2024-06-09T22:54:47.786Z"
   },
   {
    "duration": 75,
    "start_time": "2024-06-09T22:54:58.783Z"
   },
   {
    "duration": 77,
    "start_time": "2024-06-09T22:55:00.991Z"
   },
   {
    "duration": 75,
    "start_time": "2024-06-09T22:55:03.608Z"
   },
   {
    "duration": 72,
    "start_time": "2024-06-09T22:55:06.895Z"
   },
   {
    "duration": 75,
    "start_time": "2024-06-09T22:55:09.258Z"
   },
   {
    "duration": 180,
    "start_time": "2024-06-09T22:55:12.910Z"
   },
   {
    "duration": 74,
    "start_time": "2024-06-09T22:55:17.666Z"
   },
   {
    "duration": 73,
    "start_time": "2024-06-09T22:55:20.697Z"
   },
   {
    "duration": 75,
    "start_time": "2024-06-09T22:55:26.100Z"
   },
   {
    "duration": 74,
    "start_time": "2024-06-09T22:55:30.479Z"
   },
   {
    "duration": 75,
    "start_time": "2024-06-09T22:55:48.202Z"
   },
   {
    "duration": 73,
    "start_time": "2024-06-09T22:55:50.299Z"
   },
   {
    "duration": 72,
    "start_time": "2024-06-09T22:55:53.792Z"
   },
   {
    "duration": 75,
    "start_time": "2024-06-09T22:56:03.758Z"
   },
   {
    "duration": 76,
    "start_time": "2024-06-09T22:56:10.372Z"
   },
   {
    "duration": 76,
    "start_time": "2024-06-09T22:57:38.084Z"
   },
   {
    "duration": 78,
    "start_time": "2024-06-09T22:57:42.717Z"
   },
   {
    "duration": 80,
    "start_time": "2024-06-09T22:57:45.950Z"
   },
   {
    "duration": 73,
    "start_time": "2024-06-09T22:57:49.127Z"
   },
   {
    "duration": 74,
    "start_time": "2024-06-09T22:57:51.691Z"
   },
   {
    "duration": 73,
    "start_time": "2024-06-09T22:57:54.429Z"
   },
   {
    "duration": 83,
    "start_time": "2024-06-09T22:57:57.585Z"
   },
   {
    "duration": 77,
    "start_time": "2024-06-09T22:58:04.541Z"
   },
   {
    "duration": 78,
    "start_time": "2024-06-09T22:58:08.091Z"
   },
   {
    "duration": 73,
    "start_time": "2024-06-09T22:58:11.730Z"
   },
   {
    "duration": 74,
    "start_time": "2024-06-09T22:58:15.687Z"
   },
   {
    "duration": 76,
    "start_time": "2024-06-09T22:58:18.649Z"
   },
   {
    "duration": 78,
    "start_time": "2024-06-09T22:58:22.983Z"
   },
   {
    "duration": 76,
    "start_time": "2024-06-09T22:58:28.864Z"
   },
   {
    "duration": 77,
    "start_time": "2024-06-09T22:58:34.328Z"
   },
   {
    "duration": 75,
    "start_time": "2024-06-09T22:58:39.923Z"
   },
   {
    "duration": 72,
    "start_time": "2024-06-09T22:58:43.660Z"
   },
   {
    "duration": 74,
    "start_time": "2024-06-09T22:58:51.672Z"
   },
   {
    "duration": 74,
    "start_time": "2024-06-09T22:58:57.227Z"
   },
   {
    "duration": 88,
    "start_time": "2024-06-09T22:59:03.017Z"
   },
   {
    "duration": 74,
    "start_time": "2024-06-09T22:59:08.373Z"
   },
   {
    "duration": 77,
    "start_time": "2024-06-09T22:59:13.748Z"
   },
   {
    "duration": 84,
    "start_time": "2024-06-09T22:59:18.652Z"
   },
   {
    "duration": 75,
    "start_time": "2024-06-09T22:59:24.927Z"
   },
   {
    "duration": 85,
    "start_time": "2024-06-09T22:59:28.786Z"
   },
   {
    "duration": 78,
    "start_time": "2024-06-09T23:01:01.836Z"
   },
   {
    "duration": 86,
    "start_time": "2024-06-09T23:01:15.752Z"
   },
   {
    "duration": 74,
    "start_time": "2024-06-09T23:01:18.544Z"
   },
   {
    "duration": 18,
    "start_time": "2024-06-09T23:15:01.081Z"
   },
   {
    "duration": 4,
    "start_time": "2024-06-09T23:15:25.287Z"
   },
   {
    "duration": 11,
    "start_time": "2024-06-09T23:15:27.145Z"
   },
   {
    "duration": 830,
    "start_time": "2024-06-09T23:17:13.642Z"
   },
   {
    "duration": 77,
    "start_time": "2024-06-09T23:17:40.997Z"
   },
   {
    "duration": 8,
    "start_time": "2024-06-09T23:17:51.526Z"
   },
   {
    "duration": 12,
    "start_time": "2024-06-09T23:18:52.703Z"
   },
   {
    "duration": 170,
    "start_time": "2024-06-09T23:19:03.930Z"
   },
   {
    "duration": 5,
    "start_time": "2024-06-09T23:20:16.947Z"
   },
   {
    "duration": 10,
    "start_time": "2024-06-09T23:20:34.073Z"
   },
   {
    "duration": 10,
    "start_time": "2024-06-09T23:20:41.438Z"
   },
   {
    "duration": 59,
    "start_time": "2024-06-09T23:21:00.172Z"
   },
   {
    "duration": 619,
    "start_time": "2024-06-09T23:21:24.411Z"
   },
   {
    "duration": 689,
    "start_time": "2024-06-09T23:21:31.587Z"
   },
   {
    "duration": 588,
    "start_time": "2024-06-09T23:21:37.609Z"
   },
   {
    "duration": 12,
    "start_time": "2024-06-09T23:24:55.573Z"
   },
   {
    "duration": 11,
    "start_time": "2024-06-09T23:25:03.982Z"
   },
   {
    "duration": 196,
    "start_time": "2024-06-09T23:25:13.149Z"
   },
   {
    "duration": 16861,
    "start_time": "2024-06-09T23:26:04.726Z"
   },
   {
    "duration": 1464,
    "start_time": "2024-06-09T23:28:06.151Z"
   },
   {
    "duration": 70,
    "start_time": "2024-06-09T23:28:07.617Z"
   },
   {
    "duration": 20,
    "start_time": "2024-06-09T23:28:07.692Z"
   },
   {
    "duration": 14,
    "start_time": "2024-06-09T23:28:07.714Z"
   },
   {
    "duration": 16,
    "start_time": "2024-06-09T23:28:07.730Z"
   },
   {
    "duration": 25,
    "start_time": "2024-06-09T23:28:07.747Z"
   },
   {
    "duration": 45,
    "start_time": "2024-06-09T23:28:07.774Z"
   },
   {
    "duration": 9,
    "start_time": "2024-06-09T23:28:07.821Z"
   },
   {
    "duration": 13,
    "start_time": "2024-06-09T23:28:07.833Z"
   },
   {
    "duration": 25,
    "start_time": "2024-06-09T23:28:07.848Z"
   },
   {
    "duration": 84,
    "start_time": "2024-06-09T23:28:07.874Z"
   },
   {
    "duration": 49,
    "start_time": "2024-06-09T23:28:07.959Z"
   },
   {
    "duration": 18,
    "start_time": "2024-06-09T23:28:08.010Z"
   },
   {
    "duration": 113,
    "start_time": "2024-06-09T23:28:08.030Z"
   },
   {
    "duration": 16,
    "start_time": "2024-06-09T23:28:08.145Z"
   },
   {
    "duration": 49,
    "start_time": "2024-06-09T23:28:08.163Z"
   },
   {
    "duration": 150,
    "start_time": "2024-06-09T23:28:08.213Z"
   },
   {
    "duration": 262,
    "start_time": "2024-06-09T23:28:08.364Z"
   },
   {
    "duration": 28,
    "start_time": "2024-06-09T23:28:08.628Z"
   },
   {
    "duration": 123,
    "start_time": "2024-06-09T23:28:08.657Z"
   },
   {
    "duration": 697,
    "start_time": "2024-06-09T23:28:08.782Z"
   },
   {
    "duration": 23,
    "start_time": "2024-06-09T23:28:09.480Z"
   },
   {
    "duration": 319,
    "start_time": "2024-06-09T23:28:09.505Z"
   },
   {
    "duration": 14,
    "start_time": "2024-06-09T23:28:09.826Z"
   },
   {
    "duration": 258,
    "start_time": "2024-06-09T23:28:09.843Z"
   },
   {
    "duration": 45,
    "start_time": "2024-06-09T23:28:10.103Z"
   },
   {
    "duration": 9,
    "start_time": "2024-06-09T23:28:10.151Z"
   },
   {
    "duration": 42,
    "start_time": "2024-06-09T23:28:10.161Z"
   },
   {
    "duration": 51,
    "start_time": "2024-06-09T23:28:10.204Z"
   },
   {
    "duration": 82,
    "start_time": "2024-06-09T23:28:10.257Z"
   },
   {
    "duration": 113,
    "start_time": "2024-06-09T23:28:10.341Z"
   },
   {
    "duration": 41,
    "start_time": "2024-06-09T23:28:10.456Z"
   },
   {
    "duration": 5,
    "start_time": "2024-06-09T23:28:10.499Z"
   },
   {
    "duration": 104,
    "start_time": "2024-06-09T23:28:10.506Z"
   },
   {
    "duration": 9,
    "start_time": "2024-06-09T23:28:10.611Z"
   },
   {
    "duration": 8,
    "start_time": "2024-06-09T23:28:10.622Z"
   },
   {
    "duration": 641,
    "start_time": "2024-06-09T23:28:10.632Z"
   },
   {
    "duration": 17,
    "start_time": "2024-06-09T23:30:58.600Z"
   },
   {
    "duration": 82,
    "start_time": "2024-06-09T23:30:58.618Z"
   },
   {
    "duration": 16,
    "start_time": "2024-06-09T23:30:58.701Z"
   },
   {
    "duration": 79,
    "start_time": "2024-06-09T23:30:58.718Z"
   },
   {
    "duration": 18,
    "start_time": "2024-06-09T23:30:58.799Z"
   },
   {
    "duration": 25,
    "start_time": "2024-06-09T23:30:58.819Z"
   },
   {
    "duration": 34,
    "start_time": "2024-06-09T23:30:58.846Z"
   },
   {
    "duration": 18,
    "start_time": "2024-06-09T23:30:58.882Z"
   },
   {
    "duration": 10,
    "start_time": "2024-06-09T23:30:58.901Z"
   },
   {
    "duration": 44,
    "start_time": "2024-06-09T23:30:58.912Z"
   },
   {
    "duration": 86,
    "start_time": "2024-06-09T23:30:58.958Z"
   },
   {
    "duration": 47,
    "start_time": "2024-06-09T23:30:59.046Z"
   },
   {
    "duration": 13,
    "start_time": "2024-06-09T23:30:59.096Z"
   },
   {
    "duration": 87,
    "start_time": "2024-06-09T23:30:59.111Z"
   },
   {
    "duration": 18,
    "start_time": "2024-06-09T23:30:59.200Z"
   },
   {
    "duration": 28,
    "start_time": "2024-06-09T23:30:59.219Z"
   },
   {
    "duration": 22,
    "start_time": "2024-06-09T23:30:59.249Z"
   },
   {
    "duration": 220,
    "start_time": "2024-06-09T23:30:59.273Z"
   },
   {
    "duration": 27,
    "start_time": "2024-06-09T23:30:59.495Z"
   },
   {
    "duration": 39,
    "start_time": "2024-06-09T23:30:59.523Z"
   },
   {
    "duration": 753,
    "start_time": "2024-06-09T23:30:59.564Z"
   },
   {
    "duration": 16,
    "start_time": "2024-06-09T23:31:00.319Z"
   },
   {
    "duration": 343,
    "start_time": "2024-06-09T23:31:00.337Z"
   },
   {
    "duration": 18,
    "start_time": "2024-06-09T23:31:00.682Z"
   },
   {
    "duration": 280,
    "start_time": "2024-06-09T23:31:00.701Z"
   },
   {
    "duration": 201,
    "start_time": "2024-06-09T23:31:00.985Z"
   },
   {
    "duration": 15,
    "start_time": "2024-06-09T23:31:01.188Z"
   },
   {
    "duration": 378,
    "start_time": "2024-06-09T23:31:01.205Z"
   },
   {
    "duration": 283,
    "start_time": "2024-06-09T23:31:01.586Z"
   },
   {
    "duration": 206,
    "start_time": "2024-06-09T23:31:01.870Z"
   },
   {
    "duration": 120,
    "start_time": "2024-06-09T23:31:02.077Z"
   },
   {
    "duration": 15,
    "start_time": "2024-06-09T23:31:02.199Z"
   },
   {
    "duration": 68,
    "start_time": "2024-06-09T23:31:02.216Z"
   },
   {
    "duration": 117,
    "start_time": "2024-06-09T23:31:02.285Z"
   },
   {
    "duration": 25,
    "start_time": "2024-06-09T23:31:02.404Z"
   },
   {
    "duration": 68,
    "start_time": "2024-06-09T23:31:02.430Z"
   },
   {
    "duration": 712,
    "start_time": "2024-06-09T23:31:02.500Z"
   },
   {
    "duration": 2,
    "start_time": "2024-06-09T23:31:03.214Z"
   },
   {
    "duration": 51514,
    "start_time": "2024-06-09T23:31:03.218Z"
   },
   {
    "duration": 0,
    "start_time": "2024-06-09T23:31:54.734Z"
   },
   {
    "duration": 0,
    "start_time": "2024-06-09T23:31:54.735Z"
   },
   {
    "duration": 151,
    "start_time": "2024-06-09T23:32:05.576Z"
   },
   {
    "duration": 11,
    "start_time": "2024-06-09T23:32:21.618Z"
   },
   {
    "duration": 164,
    "start_time": "2024-06-09T23:32:33.345Z"
   },
   {
    "duration": 168,
    "start_time": "2024-06-09T23:38:20.090Z"
   },
   {
    "duration": 942,
    "start_time": "2024-06-09T23:38:28.276Z"
   },
   {
    "duration": 154,
    "start_time": "2024-06-09T23:38:35.540Z"
   },
   {
    "duration": 221,
    "start_time": "2024-06-09T23:38:48.209Z"
   },
   {
    "duration": 193,
    "start_time": "2024-06-09T23:38:56.568Z"
   },
   {
    "duration": 206,
    "start_time": "2024-06-09T23:39:02.063Z"
   },
   {
    "duration": 195,
    "start_time": "2024-06-09T23:39:19.255Z"
   },
   {
    "duration": 569,
    "start_time": "2024-06-09T23:41:38.554Z"
   },
   {
    "duration": 1238,
    "start_time": "2024-06-09T23:41:57.117Z"
   },
   {
    "duration": 654,
    "start_time": "2024-06-09T23:42:51.715Z"
   },
   {
    "duration": 204,
    "start_time": "2024-06-09T23:43:18.945Z"
   },
   {
    "duration": 907,
    "start_time": "2024-06-09T23:43:32.599Z"
   },
   {
    "duration": 1175,
    "start_time": "2024-06-09T23:44:06.325Z"
   },
   {
    "duration": 1385,
    "start_time": "2024-06-09T23:44:14.498Z"
   },
   {
    "duration": 1007,
    "start_time": "2024-06-09T23:44:37.229Z"
   },
   {
    "duration": 1138,
    "start_time": "2024-06-09T23:45:15.877Z"
   },
   {
    "duration": 160,
    "start_time": "2024-06-09T23:50:02.382Z"
   },
   {
    "duration": 211,
    "start_time": "2024-06-09T23:50:18.106Z"
   },
   {
    "duration": 219,
    "start_time": "2024-06-09T23:50:41.812Z"
   },
   {
    "duration": 289,
    "start_time": "2024-06-09T23:50:54.477Z"
   },
   {
    "duration": 268,
    "start_time": "2024-06-09T23:53:16.547Z"
   },
   {
    "duration": 347,
    "start_time": "2024-06-09T23:53:29.326Z"
   },
   {
    "duration": 537,
    "start_time": "2024-06-09T23:53:57.186Z"
   },
   {
    "duration": 791,
    "start_time": "2024-06-09T23:54:04.011Z"
   },
   {
    "duration": 356,
    "start_time": "2024-06-09T23:54:18.320Z"
   },
   {
    "duration": 532,
    "start_time": "2024-06-09T23:54:27.693Z"
   },
   {
    "duration": 540,
    "start_time": "2024-06-09T23:54:37.377Z"
   },
   {
    "duration": 547,
    "start_time": "2024-06-09T23:54:41.028Z"
   },
   {
    "duration": 561,
    "start_time": "2024-06-09T23:54:45.232Z"
   },
   {
    "duration": 1023,
    "start_time": "2024-06-09T23:55:17.824Z"
   },
   {
    "duration": 46,
    "start_time": "2024-06-10T11:52:57.466Z"
   },
   {
    "duration": 7,
    "start_time": "2024-06-10T11:53:01.143Z"
   },
   {
    "duration": 1548,
    "start_time": "2024-06-10T11:53:03.391Z"
   },
   {
    "duration": 117,
    "start_time": "2024-06-10T11:53:04.940Z"
   },
   {
    "duration": 20,
    "start_time": "2024-06-10T11:53:05.059Z"
   },
   {
    "duration": 13,
    "start_time": "2024-06-10T11:53:05.081Z"
   },
   {
    "duration": 13,
    "start_time": "2024-06-10T11:53:05.095Z"
   },
   {
    "duration": 11,
    "start_time": "2024-06-10T11:53:05.110Z"
   },
   {
    "duration": 39,
    "start_time": "2024-06-10T11:53:05.122Z"
   },
   {
    "duration": 8,
    "start_time": "2024-06-10T11:53:05.162Z"
   },
   {
    "duration": 17,
    "start_time": "2024-06-10T11:53:05.172Z"
   },
   {
    "duration": 39,
    "start_time": "2024-06-10T11:53:05.191Z"
   },
   {
    "duration": 72,
    "start_time": "2024-06-10T11:53:05.231Z"
   },
   {
    "duration": 17,
    "start_time": "2024-06-10T11:53:05.304Z"
   },
   {
    "duration": 32,
    "start_time": "2024-06-10T11:53:05.322Z"
   },
   {
    "duration": 89,
    "start_time": "2024-06-10T11:53:05.355Z"
   },
   {
    "duration": 17,
    "start_time": "2024-06-10T11:53:05.446Z"
   },
   {
    "duration": 47,
    "start_time": "2024-06-10T11:53:05.465Z"
   },
   {
    "duration": 172,
    "start_time": "2024-06-10T11:53:05.514Z"
   },
   {
    "duration": 240,
    "start_time": "2024-06-10T11:53:05.688Z"
   },
   {
    "duration": 37,
    "start_time": "2024-06-10T11:53:05.929Z"
   },
   {
    "duration": 114,
    "start_time": "2024-06-10T11:53:05.968Z"
   },
   {
    "duration": 637,
    "start_time": "2024-06-10T11:53:06.084Z"
   },
   {
    "duration": 23,
    "start_time": "2024-06-10T11:53:06.722Z"
   },
   {
    "duration": 271,
    "start_time": "2024-06-10T11:53:06.747Z"
   },
   {
    "duration": 26,
    "start_time": "2024-06-10T11:53:07.020Z"
   },
   {
    "duration": 223,
    "start_time": "2024-06-10T11:53:07.048Z"
   },
   {
    "duration": 45,
    "start_time": "2024-06-10T11:53:07.273Z"
   },
   {
    "duration": 8,
    "start_time": "2024-06-10T11:53:07.319Z"
   },
   {
    "duration": 14,
    "start_time": "2024-06-10T11:53:07.346Z"
   },
   {
    "duration": 48,
    "start_time": "2024-06-10T11:53:07.361Z"
   },
   {
    "duration": 83,
    "start_time": "2024-06-10T11:53:07.411Z"
   },
   {
    "duration": 162,
    "start_time": "2024-06-10T11:53:07.496Z"
   },
   {
    "duration": 17,
    "start_time": "2024-06-10T11:53:07.660Z"
   },
   {
    "duration": 24,
    "start_time": "2024-06-10T11:53:07.679Z"
   },
   {
    "duration": 103,
    "start_time": "2024-06-10T11:53:07.705Z"
   },
   {
    "duration": 9,
    "start_time": "2024-06-10T11:53:07.810Z"
   },
   {
    "duration": 8,
    "start_time": "2024-06-10T11:53:07.820Z"
   },
   {
    "duration": 599,
    "start_time": "2024-06-10T11:53:07.830Z"
   },
   {
    "duration": 3,
    "start_time": "2024-06-10T11:53:08.430Z"
   },
   {
    "duration": 639,
    "start_time": "2024-06-10T11:53:08.434Z"
   },
   {
    "duration": 0,
    "start_time": "2024-06-10T11:53:09.074Z"
   },
   {
    "duration": 0,
    "start_time": "2024-06-10T11:53:09.076Z"
   },
   {
    "duration": 682,
    "start_time": "2024-06-10T11:53:44.153Z"
   },
   {
    "duration": 690,
    "start_time": "2024-06-10T11:54:09.001Z"
   },
   {
    "duration": 752,
    "start_time": "2024-06-10T11:54:14.422Z"
   },
   {
    "duration": 541,
    "start_time": "2024-06-10T11:54:18.947Z"
   },
   {
    "duration": 559,
    "start_time": "2024-06-10T11:56:24.998Z"
   },
   {
    "duration": 571,
    "start_time": "2024-06-10T11:56:36.551Z"
   },
   {
    "duration": 559,
    "start_time": "2024-06-10T11:57:52.936Z"
   },
   {
    "duration": 460,
    "start_time": "2024-06-10T11:57:57.285Z"
   },
   {
    "duration": 426,
    "start_time": "2024-06-10T11:58:11.124Z"
   },
   {
    "duration": 61,
    "start_time": "2024-06-10T11:58:18.037Z"
   },
   {
    "duration": 399,
    "start_time": "2024-06-10T11:58:20.128Z"
   },
   {
    "duration": 622,
    "start_time": "2024-06-10T11:58:23.668Z"
   },
   {
    "duration": 294,
    "start_time": "2024-06-10T11:58:32.284Z"
   },
   {
    "duration": 445,
    "start_time": "2024-06-10T11:58:39.596Z"
   },
   {
    "duration": 451,
    "start_time": "2024-06-10T11:58:42.539Z"
   },
   {
    "duration": 472,
    "start_time": "2024-06-10T11:58:59.588Z"
   },
   {
    "duration": 319,
    "start_time": "2024-06-10T11:59:03.326Z"
   },
   {
    "duration": 299,
    "start_time": "2024-06-10T11:59:10.453Z"
   },
   {
    "duration": 309,
    "start_time": "2024-06-10T11:59:15.048Z"
   },
   {
    "duration": 291,
    "start_time": "2024-06-10T11:59:20.156Z"
   },
   {
    "duration": 498,
    "start_time": "2024-06-10T11:59:22.626Z"
   },
   {
    "duration": 295,
    "start_time": "2024-06-10T11:59:25.622Z"
   },
   {
    "duration": 285,
    "start_time": "2024-06-10T11:59:30.008Z"
   },
   {
    "duration": 68,
    "start_time": "2024-06-10T11:59:35.584Z"
   },
   {
    "duration": 20,
    "start_time": "2024-06-10T11:59:37.498Z"
   },
   {
    "duration": 275,
    "start_time": "2024-06-10T11:59:40.054Z"
   },
   {
    "duration": 316,
    "start_time": "2024-06-10T11:59:41.996Z"
   },
   {
    "duration": 412,
    "start_time": "2024-06-10T11:59:48.859Z"
   },
   {
    "duration": 668,
    "start_time": "2024-06-10T12:00:00.467Z"
   },
   {
    "duration": 312,
    "start_time": "2024-06-10T12:00:04.287Z"
   },
   {
    "duration": 427,
    "start_time": "2024-06-10T12:00:09.126Z"
   },
   {
    "duration": 278,
    "start_time": "2024-06-10T12:00:12.802Z"
   },
   {
    "duration": 300,
    "start_time": "2024-06-10T12:00:14.870Z"
   },
   {
    "duration": 312,
    "start_time": "2024-06-10T12:00:18.473Z"
   },
   {
    "duration": 559,
    "start_time": "2024-06-10T12:00:24.300Z"
   },
   {
    "duration": 338,
    "start_time": "2024-06-10T12:00:30.312Z"
   },
   {
    "duration": 11,
    "start_time": "2024-06-10T12:06:06.312Z"
   },
   {
    "duration": 3,
    "start_time": "2024-06-10T12:06:55.704Z"
   },
   {
    "duration": 149,
    "start_time": "2024-06-10T12:06:59.619Z"
   },
   {
    "duration": 10,
    "start_time": "2024-06-10T12:11:50.475Z"
   },
   {
    "duration": 188,
    "start_time": "2024-06-10T12:12:29.589Z"
   },
   {
    "duration": 25,
    "start_time": "2024-06-10T12:12:37.876Z"
   },
   {
    "duration": 335,
    "start_time": "2024-06-10T12:12:40.886Z"
   },
   {
    "duration": 299,
    "start_time": "2024-06-10T12:12:54.956Z"
   },
   {
    "duration": 758,
    "start_time": "2024-06-10T12:13:02.487Z"
   },
   {
    "duration": 377,
    "start_time": "2024-06-10T12:13:17.820Z"
   },
   {
    "duration": 10,
    "start_time": "2024-06-10T12:14:01.486Z"
   },
   {
    "duration": 12,
    "start_time": "2024-06-10T12:14:15.858Z"
   },
   {
    "duration": 243,
    "start_time": "2024-06-10T12:14:43.186Z"
   },
   {
    "duration": 207,
    "start_time": "2024-06-10T12:15:03.293Z"
   },
   {
    "duration": 9,
    "start_time": "2024-06-10T12:15:06.869Z"
   },
   {
    "duration": 367,
    "start_time": "2024-06-10T12:19:26.371Z"
   },
   {
    "duration": 663,
    "start_time": "2024-06-10T12:19:35.214Z"
   },
   {
    "duration": 134,
    "start_time": "2024-06-10T12:19:59.249Z"
   },
   {
    "duration": 350,
    "start_time": "2024-06-10T12:20:34.653Z"
   },
   {
    "duration": 367,
    "start_time": "2024-06-10T12:20:39.515Z"
   },
   {
    "duration": 310,
    "start_time": "2024-06-10T12:20:54.933Z"
   },
   {
    "duration": 342,
    "start_time": "2024-06-10T12:21:10.603Z"
   },
   {
    "duration": 198,
    "start_time": "2024-06-10T12:22:20.790Z"
   },
   {
    "duration": 194,
    "start_time": "2024-06-10T12:22:29.091Z"
   },
   {
    "duration": 195,
    "start_time": "2024-06-10T12:22:37.979Z"
   },
   {
    "duration": 199,
    "start_time": "2024-06-10T12:23:46.430Z"
   },
   {
    "duration": 7,
    "start_time": "2024-06-10T12:24:21.945Z"
   },
   {
    "duration": 377,
    "start_time": "2024-06-10T12:25:06.872Z"
   },
   {
    "duration": 200,
    "start_time": "2024-06-10T12:26:34.463Z"
   },
   {
    "duration": 6,
    "start_time": "2024-06-10T12:26:41.283Z"
   },
   {
    "duration": 892,
    "start_time": "2024-06-10T12:27:12.796Z"
   },
   {
    "duration": 1088,
    "start_time": "2024-06-10T12:27:20.346Z"
   },
   {
    "duration": 860,
    "start_time": "2024-06-10T12:27:34.821Z"
   },
   {
    "duration": 882,
    "start_time": "2024-06-10T12:27:46.119Z"
   },
   {
    "duration": 1253,
    "start_time": "2024-06-10T12:28:06.552Z"
   },
   {
    "duration": 878,
    "start_time": "2024-06-10T12:31:38.652Z"
   },
   {
    "duration": 855,
    "start_time": "2024-06-10T12:32:06.790Z"
   },
   {
    "duration": 847,
    "start_time": "2024-06-10T12:32:13.695Z"
   },
   {
    "duration": 374,
    "start_time": "2024-06-10T12:33:57.999Z"
   },
   {
    "duration": 386,
    "start_time": "2024-06-10T12:34:12.239Z"
   },
   {
    "duration": 407,
    "start_time": "2024-06-10T12:35:43.825Z"
   },
   {
    "duration": 1636,
    "start_time": "2024-06-10T12:35:58.472Z"
   },
   {
    "duration": 1192,
    "start_time": "2024-06-10T12:36:18.866Z"
   },
   {
    "duration": 10,
    "start_time": "2024-06-10T12:38:32.506Z"
   },
   {
    "duration": 295,
    "start_time": "2024-06-10T12:38:40.679Z"
   },
   {
    "duration": 553,
    "start_time": "2024-06-10T12:38:49.503Z"
   },
   {
    "duration": 536,
    "start_time": "2024-06-10T12:39:03.809Z"
   },
   {
    "duration": 67,
    "start_time": "2024-06-10T12:39:22.822Z"
   },
   {
    "duration": 1274,
    "start_time": "2024-06-10T12:39:27.258Z"
   },
   {
    "duration": 8,
    "start_time": "2024-06-10T13:37:40.956Z"
   },
   {
    "duration": 10,
    "start_time": "2024-06-10T13:37:43.819Z"
   },
   {
    "duration": 10,
    "start_time": "2024-06-10T13:37:57.027Z"
   },
   {
    "duration": 19,
    "start_time": "2024-06-10T13:38:59.201Z"
   },
   {
    "duration": 20,
    "start_time": "2024-06-10T13:39:06.988Z"
   },
   {
    "duration": 115,
    "start_time": "2024-06-10T13:39:34.399Z"
   },
   {
    "duration": 10020,
    "start_time": "2024-06-10T13:42:33.305Z"
   },
   {
    "duration": 8,
    "start_time": "2024-06-10T14:15:10.550Z"
   },
   {
    "duration": 11,
    "start_time": "2024-06-10T14:15:15.795Z"
   },
   {
    "duration": 15,
    "start_time": "2024-06-10T14:15:41.744Z"
   },
   {
    "duration": 12,
    "start_time": "2024-06-10T14:15:49.424Z"
   },
   {
    "duration": 63,
    "start_time": "2024-06-10T14:16:59.512Z"
   },
   {
    "duration": 94,
    "start_time": "2024-06-10T14:17:25.141Z"
   },
   {
    "duration": 74,
    "start_time": "2024-06-10T14:17:38.025Z"
   },
   {
    "duration": 70,
    "start_time": "2024-06-10T14:17:46.302Z"
   },
   {
    "duration": 18,
    "start_time": "2024-06-10T14:17:56.768Z"
   },
   {
    "duration": 14,
    "start_time": "2024-06-10T14:18:00.505Z"
   },
   {
    "duration": 17,
    "start_time": "2024-06-10T14:18:12.231Z"
   },
   {
    "duration": 15,
    "start_time": "2024-06-10T14:19:15.060Z"
   },
   {
    "duration": 15,
    "start_time": "2024-06-10T14:20:04.716Z"
   },
   {
    "duration": 9,
    "start_time": "2024-06-10T14:20:10.738Z"
   },
   {
    "duration": 17,
    "start_time": "2024-06-10T14:20:41.907Z"
   },
   {
    "duration": 20,
    "start_time": "2024-06-10T14:20:47.479Z"
   },
   {
    "duration": 253,
    "start_time": "2024-06-10T14:22:44.610Z"
   },
   {
    "duration": 10,
    "start_time": "2024-06-10T14:24:29.831Z"
   },
   {
    "duration": 14,
    "start_time": "2024-06-10T14:24:46.838Z"
   },
   {
    "duration": 369,
    "start_time": "2024-06-10T14:25:01.455Z"
   },
   {
    "duration": 16,
    "start_time": "2024-06-10T14:25:16.123Z"
   },
   {
    "duration": 15,
    "start_time": "2024-06-10T14:25:18.033Z"
   },
   {
    "duration": 385,
    "start_time": "2024-06-10T14:25:25.476Z"
   },
   {
    "duration": 13,
    "start_time": "2024-06-10T14:25:53.811Z"
   },
   {
    "duration": 21,
    "start_time": "2024-06-10T14:26:14.386Z"
   },
   {
    "duration": 81,
    "start_time": "2024-06-10T14:26:27.684Z"
   },
   {
    "duration": 98,
    "start_time": "2024-06-10T14:26:33.520Z"
   },
   {
    "duration": 15,
    "start_time": "2024-06-10T14:26:38.520Z"
   },
   {
    "duration": 13,
    "start_time": "2024-06-10T14:26:43.483Z"
   },
   {
    "duration": 35,
    "start_time": "2024-06-10T14:27:30.620Z"
   },
   {
    "duration": 13,
    "start_time": "2024-06-10T14:27:45.843Z"
   },
   {
    "duration": 14,
    "start_time": "2024-06-10T14:27:52.895Z"
   },
   {
    "duration": 24,
    "start_time": "2024-06-10T14:28:06.784Z"
   },
   {
    "duration": 401,
    "start_time": "2024-06-10T14:28:23.431Z"
   },
   {
    "duration": 409,
    "start_time": "2024-06-10T14:29:07.902Z"
   },
   {
    "duration": 486,
    "start_time": "2024-06-10T14:29:58.643Z"
   },
   {
    "duration": 498,
    "start_time": "2024-06-10T15:10:02.221Z"
   },
   {
    "duration": 23,
    "start_time": "2024-06-10T15:10:18.484Z"
   },
   {
    "duration": 22,
    "start_time": "2024-06-10T15:10:34.091Z"
   },
   {
    "duration": 446,
    "start_time": "2024-06-10T15:10:43.970Z"
   },
   {
    "duration": 465,
    "start_time": "2024-06-10T15:11:22.218Z"
   },
   {
    "duration": 951,
    "start_time": "2024-06-10T15:13:02.177Z"
   },
   {
    "duration": 22,
    "start_time": "2024-06-10T15:13:20.695Z"
   },
   {
    "duration": 979,
    "start_time": "2024-06-10T15:13:23.404Z"
   },
   {
    "duration": 1021,
    "start_time": "2024-06-10T15:14:31.492Z"
   },
   {
    "duration": 1035,
    "start_time": "2024-06-10T15:14:42.828Z"
   },
   {
    "duration": 978,
    "start_time": "2024-06-10T15:14:48.467Z"
   },
   {
    "duration": 959,
    "start_time": "2024-06-10T15:14:57.979Z"
   },
   {
    "duration": 1035,
    "start_time": "2024-06-10T15:16:47.309Z"
   },
   {
    "duration": 971,
    "start_time": "2024-06-10T15:16:52.887Z"
   },
   {
    "duration": 958,
    "start_time": "2024-06-10T15:17:25.275Z"
   },
   {
    "duration": 15,
    "start_time": "2024-06-10T15:19:02.822Z"
   },
   {
    "duration": 17,
    "start_time": "2024-06-10T15:19:09.682Z"
   },
   {
    "duration": 10,
    "start_time": "2024-06-10T15:20:04.550Z"
   },
   {
    "duration": 32,
    "start_time": "2024-06-10T15:20:06.159Z"
   },
   {
    "duration": 7,
    "start_time": "2024-06-10T15:20:09.844Z"
   },
   {
    "duration": 66,
    "start_time": "2024-06-10T15:20:42.325Z"
   },
   {
    "duration": 13,
    "start_time": "2024-06-10T15:20:52.936Z"
   },
   {
    "duration": 59,
    "start_time": "2024-06-10T15:21:14.856Z"
   },
   {
    "duration": 12,
    "start_time": "2024-06-10T15:21:21.068Z"
   },
   {
    "duration": 25,
    "start_time": "2024-06-10T15:21:56.969Z"
   },
   {
    "duration": 8,
    "start_time": "2024-06-10T15:24:50.791Z"
   },
   {
    "duration": 24,
    "start_time": "2024-06-10T15:25:02.715Z"
   },
   {
    "duration": 7,
    "start_time": "2024-06-10T15:25:15.498Z"
   },
   {
    "duration": 6,
    "start_time": "2024-06-10T15:27:11.333Z"
   },
   {
    "duration": 10,
    "start_time": "2024-06-10T15:27:31.830Z"
   },
   {
    "duration": 13,
    "start_time": "2024-06-10T15:28:44.010Z"
   },
   {
    "duration": 6,
    "start_time": "2024-06-10T15:28:48.664Z"
   },
   {
    "duration": 122,
    "start_time": "2024-06-10T15:28:49.959Z"
   },
   {
    "duration": 119,
    "start_time": "2024-06-10T15:29:01.900Z"
   },
   {
    "duration": 113,
    "start_time": "2024-06-10T15:29:18.271Z"
   },
   {
    "duration": 194,
    "start_time": "2024-06-10T15:42:30.154Z"
   },
   {
    "duration": 17,
    "start_time": "2024-06-10T15:43:12.903Z"
   },
   {
    "duration": 261,
    "start_time": "2024-06-10T15:43:15.379Z"
   },
   {
    "duration": 67,
    "start_time": "2024-06-10T15:44:06.278Z"
   },
   {
    "duration": 201,
    "start_time": "2024-06-10T15:48:12.726Z"
   },
   {
    "duration": 196,
    "start_time": "2024-06-10T15:48:33.231Z"
   },
   {
    "duration": 195,
    "start_time": "2024-06-10T15:48:40.224Z"
   },
   {
    "duration": 71,
    "start_time": "2024-06-10T15:48:56.309Z"
   },
   {
    "duration": 188,
    "start_time": "2024-06-10T15:49:01.062Z"
   },
   {
    "duration": 203,
    "start_time": "2024-06-10T15:49:06.067Z"
   },
   {
    "duration": 143,
    "start_time": "2024-06-10T15:49:18.031Z"
   },
   {
    "duration": 201,
    "start_time": "2024-06-10T15:49:21.906Z"
   },
   {
    "duration": 59,
    "start_time": "2024-06-10T15:49:32.577Z"
   },
   {
    "duration": 210,
    "start_time": "2024-06-10T15:49:36.257Z"
   },
   {
    "duration": 212,
    "start_time": "2024-06-10T15:49:48.225Z"
   },
   {
    "duration": 171,
    "start_time": "2024-06-10T15:49:53.944Z"
   },
   {
    "duration": 211,
    "start_time": "2024-06-10T15:49:55.663Z"
   },
   {
    "duration": 206,
    "start_time": "2024-06-10T15:50:26.781Z"
   },
   {
    "duration": 220,
    "start_time": "2024-06-10T15:50:33.469Z"
   },
   {
    "duration": 23,
    "start_time": "2024-06-10T18:51:40.541Z"
   },
   {
    "duration": 1187,
    "start_time": "2024-06-10T18:52:20.292Z"
   },
   {
    "duration": 1644,
    "start_time": "2024-06-10T18:53:20.436Z"
   },
   {
    "duration": 994,
    "start_time": "2024-06-10T18:53:26.403Z"
   },
   {
    "duration": 1215,
    "start_time": "2024-06-10T18:53:36.724Z"
   },
   {
    "duration": 853,
    "start_time": "2024-06-10T18:54:15.016Z"
   },
   {
    "duration": 875,
    "start_time": "2024-06-10T18:54:28.775Z"
   },
   {
    "duration": 853,
    "start_time": "2024-06-10T18:54:37.896Z"
   },
   {
    "duration": 1568,
    "start_time": "2024-06-10T18:54:45.613Z"
   },
   {
    "duration": 864,
    "start_time": "2024-06-10T18:55:01.465Z"
   },
   {
    "duration": 846,
    "start_time": "2024-06-10T18:55:16.438Z"
   },
   {
    "duration": 812,
    "start_time": "2024-06-10T18:55:33.721Z"
   },
   {
    "duration": 801,
    "start_time": "2024-06-10T18:55:38.312Z"
   },
   {
    "duration": 68,
    "start_time": "2024-06-10T18:55:45.216Z"
   },
   {
    "duration": 72,
    "start_time": "2024-06-10T18:55:50.818Z"
   },
   {
    "duration": 59,
    "start_time": "2024-06-10T18:55:54.541Z"
   },
   {
    "duration": 63,
    "start_time": "2024-06-10T18:55:56.943Z"
   },
   {
    "duration": 1112,
    "start_time": "2024-06-10T18:56:01.276Z"
   },
   {
    "duration": 1143,
    "start_time": "2024-06-10T18:56:07.250Z"
   },
   {
    "duration": 1954,
    "start_time": "2024-06-10T18:56:52.675Z"
   },
   {
    "duration": 1199,
    "start_time": "2024-06-10T18:57:03.355Z"
   },
   {
    "duration": 152,
    "start_time": "2024-06-10T18:57:04.556Z"
   },
   {
    "duration": 1150,
    "start_time": "2024-06-10T18:57:42.989Z"
   },
   {
    "duration": 1224,
    "start_time": "2024-06-10T18:58:26.192Z"
   },
   {
    "duration": 1212,
    "start_time": "2024-06-10T18:58:31.028Z"
   },
   {
    "duration": 1173,
    "start_time": "2024-06-10T19:05:01.488Z"
   },
   {
    "duration": 430,
    "start_time": "2024-06-10T19:05:09.485Z"
   },
   {
    "duration": 4588,
    "start_time": "2024-06-10T19:06:44.722Z"
   },
   {
    "duration": 5729,
    "start_time": "2024-06-10T19:09:16.922Z"
   },
   {
    "duration": 5460,
    "start_time": "2024-06-10T19:10:38.868Z"
   },
   {
    "duration": 5378,
    "start_time": "2024-06-10T19:10:47.216Z"
   },
   {
    "duration": 3669,
    "start_time": "2024-06-10T19:11:21.714Z"
   },
   {
    "duration": 74,
    "start_time": "2024-06-10T19:11:55.441Z"
   },
   {
    "duration": 2909,
    "start_time": "2024-06-10T19:12:03.688Z"
   },
   {
    "duration": 3877,
    "start_time": "2024-06-10T19:12:13.870Z"
   },
   {
    "duration": 2866,
    "start_time": "2024-06-10T19:12:28.096Z"
   },
   {
    "duration": 3209,
    "start_time": "2024-06-10T19:13:43.511Z"
   },
   {
    "duration": 4096,
    "start_time": "2024-06-10T19:13:57.010Z"
   },
   {
    "duration": 2946,
    "start_time": "2024-06-10T19:14:15.701Z"
   },
   {
    "duration": 3026,
    "start_time": "2024-06-10T19:14:27.284Z"
   },
   {
    "duration": 3822,
    "start_time": "2024-06-10T19:16:53.557Z"
   },
   {
    "duration": 2860,
    "start_time": "2024-06-10T19:17:04.234Z"
   },
   {
    "duration": 147,
    "start_time": "2024-06-10T19:17:48.230Z"
   },
   {
    "duration": 141,
    "start_time": "2024-06-10T19:17:55.554Z"
   },
   {
    "duration": 150,
    "start_time": "2024-06-10T19:18:04.716Z"
   },
   {
    "duration": 141,
    "start_time": "2024-06-10T19:18:39.991Z"
   },
   {
    "duration": 1171,
    "start_time": "2024-06-10T19:18:42.440Z"
   },
   {
    "duration": 755,
    "start_time": "2024-06-10T19:19:20.799Z"
   },
   {
    "duration": 15,
    "start_time": "2024-06-10T19:19:37.471Z"
   },
   {
    "duration": 510,
    "start_time": "2024-06-10T19:19:46.778Z"
   },
   {
    "duration": 524,
    "start_time": "2024-06-10T19:19:57.811Z"
   },
   {
    "duration": 2487,
    "start_time": "2024-06-10T19:20:02.199Z"
   },
   {
    "duration": 2500,
    "start_time": "2024-06-10T19:20:56.911Z"
   },
   {
    "duration": 3628,
    "start_time": "2024-06-10T19:21:15.740Z"
   },
   {
    "duration": 2555,
    "start_time": "2024-06-10T19:21:29.934Z"
   },
   {
    "duration": 2411,
    "start_time": "2024-06-10T19:21:41.528Z"
   },
   {
    "duration": 20,
    "start_time": "2024-06-10T19:22:18.257Z"
   },
   {
    "duration": 14,
    "start_time": "2024-06-10T19:22:21.216Z"
   },
   {
    "duration": 10,
    "start_time": "2024-06-10T19:22:44.775Z"
   },
   {
    "duration": 10,
    "start_time": "2024-06-10T19:22:49.343Z"
   },
   {
    "duration": 10,
    "start_time": "2024-06-10T19:22:53.149Z"
   },
   {
    "duration": 10,
    "start_time": "2024-06-10T19:22:55.980Z"
   },
   {
    "duration": 9,
    "start_time": "2024-06-10T19:22:59.623Z"
   },
   {
    "duration": 2500,
    "start_time": "2024-06-10T19:23:33.696Z"
   },
   {
    "duration": 2570,
    "start_time": "2024-06-10T19:23:42.386Z"
   },
   {
    "duration": 12,
    "start_time": "2024-06-10T19:26:49.545Z"
   },
   {
    "duration": 582,
    "start_time": "2024-06-10T19:28:11.285Z"
   },
   {
    "duration": 3826,
    "start_time": "2024-06-10T19:28:19.076Z"
   },
   {
    "duration": 1233,
    "start_time": "2024-06-10T19:29:51.260Z"
   },
   {
    "duration": 1429,
    "start_time": "2024-06-10T19:30:23.529Z"
   },
   {
    "duration": 1287,
    "start_time": "2024-06-10T19:30:26.158Z"
   },
   {
    "duration": 1153,
    "start_time": "2024-06-10T19:37:34.337Z"
   },
   {
    "duration": 1191,
    "start_time": "2024-06-10T19:39:21.280Z"
   },
   {
    "duration": 1281,
    "start_time": "2024-06-10T19:40:11.693Z"
   },
   {
    "duration": 1145,
    "start_time": "2024-06-10T19:40:34.736Z"
   },
   {
    "duration": 1176,
    "start_time": "2024-06-10T19:40:56.040Z"
   },
   {
    "duration": 1157,
    "start_time": "2024-06-10T19:41:09.553Z"
   },
   {
    "duration": 1123,
    "start_time": "2024-06-10T19:41:18.022Z"
   },
   {
    "duration": 1188,
    "start_time": "2024-06-10T19:42:12.479Z"
   },
   {
    "duration": 2931,
    "start_time": "2024-06-10T19:42:25.646Z"
   },
   {
    "duration": 1215,
    "start_time": "2024-06-10T19:42:36.474Z"
   },
   {
    "duration": 1177,
    "start_time": "2024-06-10T19:42:47.262Z"
   },
   {
    "duration": 1172,
    "start_time": "2024-06-10T19:44:36.257Z"
   },
   {
    "duration": 1187,
    "start_time": "2024-06-10T19:46:05.200Z"
   },
   {
    "duration": 1247,
    "start_time": "2024-06-10T19:46:20.775Z"
   },
   {
    "duration": 1229,
    "start_time": "2024-06-10T19:46:29.710Z"
   },
   {
    "duration": 1152,
    "start_time": "2024-06-10T19:46:44.459Z"
   },
   {
    "duration": 1120,
    "start_time": "2024-06-10T19:46:48.755Z"
   },
   {
    "duration": 1146,
    "start_time": "2024-06-10T19:46:58.021Z"
   },
   {
    "duration": 837,
    "start_time": "2024-06-10T19:47:44.325Z"
   },
   {
    "duration": 850,
    "start_time": "2024-06-10T19:47:50.257Z"
   },
   {
    "duration": 1183,
    "start_time": "2024-06-10T19:48:01.194Z"
   },
   {
    "duration": 1170,
    "start_time": "2024-06-10T19:49:17.385Z"
   },
   {
    "duration": 1221,
    "start_time": "2024-06-10T19:49:22.310Z"
   },
   {
    "duration": 2901,
    "start_time": "2024-06-10T19:49:40.849Z"
   },
   {
    "duration": 1193,
    "start_time": "2024-06-10T19:49:47.540Z"
   },
   {
    "duration": 1190,
    "start_time": "2024-06-10T19:49:51.766Z"
   },
   {
    "duration": 1164,
    "start_time": "2024-06-10T19:49:56.203Z"
   },
   {
    "duration": 1101,
    "start_time": "2024-06-10T19:50:42.850Z"
   },
   {
    "duration": 1157,
    "start_time": "2024-06-10T19:51:01.138Z"
   },
   {
    "duration": 1093,
    "start_time": "2024-06-10T19:51:16.220Z"
   },
   {
    "duration": 1123,
    "start_time": "2024-06-10T19:51:42.330Z"
   },
   {
    "duration": 1118,
    "start_time": "2024-06-10T19:51:58.724Z"
   },
   {
    "duration": 1140,
    "start_time": "2024-06-10T19:52:18.223Z"
   },
   {
    "duration": 1138,
    "start_time": "2024-06-10T19:54:45.412Z"
   },
   {
    "duration": 1118,
    "start_time": "2024-06-10T19:55:08.481Z"
   },
   {
    "duration": 1194,
    "start_time": "2024-06-10T19:56:37.415Z"
   },
   {
    "duration": 14,
    "start_time": "2024-06-10T19:57:18.423Z"
   },
   {
    "duration": 16,
    "start_time": "2024-06-10T19:57:25.461Z"
   },
   {
    "duration": 15,
    "start_time": "2024-06-10T19:57:29.714Z"
   },
   {
    "duration": 1212,
    "start_time": "2024-06-10T19:57:37.475Z"
   },
   {
    "duration": 3011,
    "start_time": "2024-06-10T19:58:16.850Z"
   },
   {
    "duration": 206,
    "start_time": "2024-06-10T20:00:11.859Z"
   },
   {
    "duration": 184,
    "start_time": "2024-06-10T20:00:17.750Z"
   },
   {
    "duration": 144,
    "start_time": "2024-06-10T20:00:46.489Z"
   },
   {
    "duration": 1271,
    "start_time": "2024-06-10T20:00:52.744Z"
   },
   {
    "duration": 1258,
    "start_time": "2024-06-10T20:01:20.796Z"
   },
   {
    "duration": 1265,
    "start_time": "2024-06-10T20:01:41.965Z"
   },
   {
    "duration": 1275,
    "start_time": "2024-06-10T20:01:49.575Z"
   },
   {
    "duration": 1302,
    "start_time": "2024-06-10T20:01:55.103Z"
   },
   {
    "duration": 105,
    "start_time": "2024-06-10T20:04:24.666Z"
   },
   {
    "duration": 73,
    "start_time": "2024-06-10T20:04:28.360Z"
   },
   {
    "duration": 1227,
    "start_time": "2024-06-10T20:04:31.985Z"
   },
   {
    "duration": 1352,
    "start_time": "2024-06-10T20:05:36.910Z"
   },
   {
    "duration": 1260,
    "start_time": "2024-06-10T20:05:52.928Z"
   },
   {
    "duration": 991,
    "start_time": "2024-06-10T20:06:30.059Z"
   },
   {
    "duration": 1175,
    "start_time": "2024-06-10T20:06:34.211Z"
   },
   {
    "duration": 1155,
    "start_time": "2024-06-10T20:06:48.993Z"
   },
   {
    "duration": 1202,
    "start_time": "2024-06-10T20:07:10.016Z"
   },
   {
    "duration": 1159,
    "start_time": "2024-06-10T20:07:22.254Z"
   },
   {
    "duration": 2971,
    "start_time": "2024-06-10T20:08:04.907Z"
   },
   {
    "duration": 1284,
    "start_time": "2024-06-10T20:08:16.396Z"
   },
   {
    "duration": 1169,
    "start_time": "2024-06-10T20:08:21.686Z"
   },
   {
    "duration": 1256,
    "start_time": "2024-06-10T20:09:14.438Z"
   },
   {
    "duration": 1155,
    "start_time": "2024-06-10T20:09:26.269Z"
   },
   {
    "duration": 1354,
    "start_time": "2024-06-10T20:09:41.126Z"
   },
   {
    "duration": 1157,
    "start_time": "2024-06-10T20:10:56.035Z"
   },
   {
    "duration": 1171,
    "start_time": "2024-06-10T20:11:11.860Z"
   },
   {
    "duration": 1189,
    "start_time": "2024-06-10T20:11:47.214Z"
   },
   {
    "duration": 1314,
    "start_time": "2024-06-10T20:11:56.563Z"
   },
   {
    "duration": 1220,
    "start_time": "2024-06-10T20:12:39.968Z"
   },
   {
    "duration": 1184,
    "start_time": "2024-06-10T20:12:52.883Z"
   },
   {
    "duration": 62,
    "start_time": "2024-06-10T20:20:44.021Z"
   },
   {
    "duration": 62,
    "start_time": "2024-06-10T20:21:36.781Z"
   },
   {
    "duration": 4,
    "start_time": "2024-06-10T21:55:43.395Z"
   },
   {
    "duration": 64,
    "start_time": "2024-06-10T21:55:44.078Z"
   },
   {
    "duration": 14,
    "start_time": "2024-06-10T21:55:45.082Z"
   },
   {
    "duration": 14,
    "start_time": "2024-06-10T21:55:58.369Z"
   },
   {
    "duration": 22,
    "start_time": "2024-06-10T21:56:00.792Z"
   },
   {
    "duration": 11,
    "start_time": "2024-06-10T21:56:04.409Z"
   },
   {
    "duration": 26,
    "start_time": "2024-06-10T21:56:19.603Z"
   },
   {
    "duration": 27,
    "start_time": "2024-06-10T21:57:16.534Z"
   },
   {
    "duration": 8,
    "start_time": "2024-06-10T21:57:55.299Z"
   },
   {
    "duration": 9,
    "start_time": "2024-06-10T21:59:56.522Z"
   },
   {
    "duration": 9,
    "start_time": "2024-06-10T22:00:13.893Z"
   },
   {
    "duration": 14,
    "start_time": "2024-06-10T22:00:58.948Z"
   },
   {
    "duration": 78,
    "start_time": "2024-06-10T22:01:16.355Z"
   },
   {
    "duration": 11,
    "start_time": "2024-06-10T22:01:26.381Z"
   },
   {
    "duration": 11,
    "start_time": "2024-06-10T22:01:36.423Z"
   },
   {
    "duration": 11,
    "start_time": "2024-06-10T22:01:46.053Z"
   },
   {
    "duration": 19,
    "start_time": "2024-06-10T22:02:02.440Z"
   },
   {
    "duration": 72,
    "start_time": "2024-06-10T22:03:12.033Z"
   },
   {
    "duration": 25,
    "start_time": "2024-06-10T22:03:24.178Z"
   },
   {
    "duration": 19,
    "start_time": "2024-06-10T22:03:28.707Z"
   },
   {
    "duration": 19,
    "start_time": "2024-06-10T22:03:30.369Z"
   },
   {
    "duration": 10,
    "start_time": "2024-06-10T22:03:31.598Z"
   },
   {
    "duration": 20,
    "start_time": "2024-06-10T22:03:32.570Z"
   },
   {
    "duration": 60,
    "start_time": "2024-06-10T22:03:41.119Z"
   },
   {
    "duration": 17,
    "start_time": "2024-06-10T22:05:25.854Z"
   },
   {
    "duration": 23,
    "start_time": "2024-06-10T22:06:00.288Z"
   },
   {
    "duration": 59,
    "start_time": "2024-06-10T22:07:51.083Z"
   },
   {
    "duration": 59,
    "start_time": "2024-06-10T22:09:02.530Z"
   },
   {
    "duration": 3,
    "start_time": "2024-06-10T22:09:23.011Z"
   },
   {
    "duration": 64,
    "start_time": "2024-06-10T22:09:23.018Z"
   },
   {
    "duration": 14,
    "start_time": "2024-06-10T22:09:23.084Z"
   },
   {
    "duration": 42,
    "start_time": "2024-06-10T22:09:23.100Z"
   },
   {
    "duration": 14,
    "start_time": "2024-06-10T22:09:23.144Z"
   },
   {
    "duration": 11,
    "start_time": "2024-06-10T22:09:23.159Z"
   },
   {
    "duration": 29,
    "start_time": "2024-06-10T22:09:23.172Z"
   },
   {
    "duration": 8,
    "start_time": "2024-06-10T22:09:23.202Z"
   },
   {
    "duration": 35,
    "start_time": "2024-06-10T22:09:23.212Z"
   },
   {
    "duration": 21,
    "start_time": "2024-06-10T22:09:23.248Z"
   },
   {
    "duration": 20,
    "start_time": "2024-06-10T22:09:25.919Z"
   },
   {
    "duration": 63,
    "start_time": "2024-06-10T22:09:27.877Z"
   },
   {
    "duration": 6,
    "start_time": "2024-06-10T22:09:36.372Z"
   },
   {
    "duration": 17,
    "start_time": "2024-06-10T22:14:21.617Z"
   },
   {
    "duration": 6,
    "start_time": "2024-06-10T22:17:07.041Z"
   },
   {
    "duration": 10,
    "start_time": "2024-06-10T22:18:03.808Z"
   },
   {
    "duration": 63,
    "start_time": "2024-06-10T22:20:53.845Z"
   },
   {
    "duration": 67,
    "start_time": "2024-06-10T22:21:00.474Z"
   },
   {
    "duration": 68,
    "start_time": "2024-06-10T22:21:08.923Z"
   },
   {
    "duration": 62,
    "start_time": "2024-06-10T22:21:23.266Z"
   },
   {
    "duration": 1034,
    "start_time": "2024-06-10T22:21:28.292Z"
   },
   {
    "duration": 1006,
    "start_time": "2024-06-10T22:21:51.361Z"
   },
   {
    "duration": 1045,
    "start_time": "2024-06-10T22:22:18.891Z"
   },
   {
    "duration": 20,
    "start_time": "2024-06-10T22:22:42.773Z"
   },
   {
    "duration": 6,
    "start_time": "2024-06-10T22:23:08.448Z"
   },
   {
    "duration": 6,
    "start_time": "2024-06-10T22:23:35.909Z"
   },
   {
    "duration": 23,
    "start_time": "2024-06-10T22:24:16.567Z"
   },
   {
    "duration": 4,
    "start_time": "2024-06-10T22:26:11.180Z"
   },
   {
    "duration": 786,
    "start_time": "2024-06-10T22:26:24.910Z"
   },
   {
    "duration": 796,
    "start_time": "2024-06-10T22:26:34.990Z"
   },
   {
    "duration": 1017,
    "start_time": "2024-06-10T22:27:34.929Z"
   },
   {
    "duration": 775,
    "start_time": "2024-06-10T22:28:10.942Z"
   },
   {
    "duration": 16,
    "start_time": "2024-06-10T22:28:34.625Z"
   },
   {
    "duration": 777,
    "start_time": "2024-06-10T22:28:39.695Z"
   },
   {
    "duration": 14,
    "start_time": "2024-06-10T22:31:33.427Z"
   },
   {
    "duration": 1465,
    "start_time": "2024-06-10T22:31:37.457Z"
   },
   {
    "duration": 1433,
    "start_time": "2024-06-10T22:31:45.638Z"
   },
   {
    "duration": 1482,
    "start_time": "2024-06-10T22:31:57.535Z"
   },
   {
    "duration": 1476,
    "start_time": "2024-06-10T22:32:09.570Z"
   },
   {
    "duration": 1165,
    "start_time": "2024-06-10T22:32:32.294Z"
   },
   {
    "duration": 1205,
    "start_time": "2024-06-10T22:32:47.487Z"
   },
   {
    "duration": 1231,
    "start_time": "2024-06-10T22:33:26.391Z"
   },
   {
    "duration": 15,
    "start_time": "2024-06-10T22:35:14.407Z"
   },
   {
    "duration": 11,
    "start_time": "2024-06-10T22:35:23.722Z"
   },
   {
    "duration": 70,
    "start_time": "2024-06-10T22:35:26.343Z"
   },
   {
    "duration": 69,
    "start_time": "2024-06-10T22:35:47.217Z"
   },
   {
    "duration": 16,
    "start_time": "2024-06-10T22:35:54.523Z"
   },
   {
    "duration": 68,
    "start_time": "2024-06-10T22:36:10.330Z"
   },
   {
    "duration": 16,
    "start_time": "2024-06-10T22:36:25.823Z"
   },
   {
    "duration": 23,
    "start_time": "2024-06-10T22:37:42.662Z"
   },
   {
    "duration": 17,
    "start_time": "2024-06-10T22:37:52.588Z"
   },
   {
    "duration": 24,
    "start_time": "2024-06-10T22:38:07.204Z"
   },
   {
    "duration": 16,
    "start_time": "2024-06-10T22:38:12.996Z"
   },
   {
    "duration": 16,
    "start_time": "2024-06-10T22:38:23.183Z"
   },
   {
    "duration": 14,
    "start_time": "2024-06-10T22:38:35.047Z"
   },
   {
    "duration": 74,
    "start_time": "2024-06-10T22:38:58.205Z"
   },
   {
    "duration": 69,
    "start_time": "2024-06-10T22:39:08.542Z"
   },
   {
    "duration": 15,
    "start_time": "2024-06-10T22:39:21.434Z"
   },
   {
    "duration": 16,
    "start_time": "2024-06-10T22:39:30.659Z"
   },
   {
    "duration": 15,
    "start_time": "2024-06-10T22:39:35.079Z"
   },
   {
    "duration": 66,
    "start_time": "2024-06-10T22:39:54.818Z"
   },
   {
    "duration": 17,
    "start_time": "2024-06-10T22:40:07.526Z"
   },
   {
    "duration": 24,
    "start_time": "2024-06-10T22:40:19.815Z"
   },
   {
    "duration": 16,
    "start_time": "2024-06-10T22:40:23.122Z"
   },
   {
    "duration": 15,
    "start_time": "2024-06-10T22:40:38.633Z"
   },
   {
    "duration": 17,
    "start_time": "2024-06-10T22:40:42.958Z"
   },
   {
    "duration": 17,
    "start_time": "2024-06-10T22:40:49.388Z"
   },
   {
    "duration": 16,
    "start_time": "2024-06-10T22:41:06.865Z"
   },
   {
    "duration": 16,
    "start_time": "2024-06-10T22:41:15.486Z"
   },
   {
    "duration": 16,
    "start_time": "2024-06-10T22:41:19.044Z"
   },
   {
    "duration": 23,
    "start_time": "2024-06-10T22:41:43.556Z"
   },
   {
    "duration": 17,
    "start_time": "2024-06-10T22:41:49.722Z"
   },
   {
    "duration": 18,
    "start_time": "2024-06-10T22:41:56.391Z"
   },
   {
    "duration": 16,
    "start_time": "2024-06-10T22:48:06.379Z"
   },
   {
    "duration": 79,
    "start_time": "2024-06-10T22:52:01.488Z"
   },
   {
    "duration": 9,
    "start_time": "2024-06-10T22:52:16.832Z"
   },
   {
    "duration": 9,
    "start_time": "2024-06-10T22:53:28.852Z"
   },
   {
    "duration": 73,
    "start_time": "2024-06-11T07:58:59.182Z"
   },
   {
    "duration": 45,
    "start_time": "2024-06-11T08:03:28.998Z"
   },
   {
    "duration": 1868,
    "start_time": "2024-06-11T08:03:32.988Z"
   },
   {
    "duration": 138,
    "start_time": "2024-06-11T08:03:34.858Z"
   },
   {
    "duration": 21,
    "start_time": "2024-06-11T08:03:34.998Z"
   },
   {
    "duration": 16,
    "start_time": "2024-06-11T08:03:35.021Z"
   },
   {
    "duration": 33,
    "start_time": "2024-06-11T08:03:35.039Z"
   },
   {
    "duration": 23,
    "start_time": "2024-06-11T08:03:35.074Z"
   },
   {
    "duration": 52,
    "start_time": "2024-06-11T08:03:35.099Z"
   },
   {
    "duration": 30,
    "start_time": "2024-06-11T08:03:35.153Z"
   },
   {
    "duration": 17,
    "start_time": "2024-06-11T08:03:35.185Z"
   },
   {
    "duration": 44,
    "start_time": "2024-06-11T08:03:35.206Z"
   },
   {
    "duration": 85,
    "start_time": "2024-06-11T08:03:35.252Z"
   },
   {
    "duration": 59,
    "start_time": "2024-06-11T08:03:35.338Z"
   },
   {
    "duration": 14,
    "start_time": "2024-06-11T08:03:35.399Z"
   },
   {
    "duration": 25,
    "start_time": "2024-06-11T08:03:35.415Z"
   },
   {
    "duration": 212,
    "start_time": "2024-06-11T08:03:35.443Z"
   },
   {
    "duration": 51,
    "start_time": "2024-06-11T08:03:35.657Z"
   },
   {
    "duration": 67,
    "start_time": "2024-06-11T08:03:35.710Z"
   },
   {
    "duration": 16,
    "start_time": "2024-06-11T08:03:38.111Z"
   },
   {
    "duration": 8,
    "start_time": "2024-06-11T08:04:33.116Z"
   },
   {
    "duration": 13,
    "start_time": "2024-06-11T08:04:41.893Z"
   },
   {
    "duration": 85,
    "start_time": "2024-06-11T08:05:16.622Z"
   },
   {
    "duration": 92,
    "start_time": "2024-06-11T08:05:23.352Z"
   },
   {
    "duration": 172,
    "start_time": "2024-06-11T08:05:55.453Z"
   },
   {
    "duration": 10,
    "start_time": "2024-06-11T08:06:13.797Z"
   },
   {
    "duration": 163,
    "start_time": "2024-06-11T08:07:05.972Z"
   },
   {
    "duration": 245,
    "start_time": "2024-06-11T08:07:59.243Z"
   },
   {
    "duration": 150,
    "start_time": "2024-06-11T08:08:01.491Z"
   },
   {
    "duration": 164,
    "start_time": "2024-06-11T08:08:14.138Z"
   },
   {
    "duration": 169,
    "start_time": "2024-06-11T08:08:20.081Z"
   },
   {
    "duration": 181,
    "start_time": "2024-06-11T08:08:42.088Z"
   },
   {
    "duration": 188,
    "start_time": "2024-06-11T08:09:37.415Z"
   },
   {
    "duration": 212,
    "start_time": "2024-06-11T08:09:40.439Z"
   },
   {
    "duration": 225,
    "start_time": "2024-06-11T08:09:42.200Z"
   },
   {
    "duration": 14,
    "start_time": "2024-06-11T08:09:52.585Z"
   },
   {
    "duration": 189,
    "start_time": "2024-06-11T08:10:02.132Z"
   },
   {
    "duration": 209,
    "start_time": "2024-06-11T08:10:07.889Z"
   },
   {
    "duration": 218,
    "start_time": "2024-06-11T08:11:04.576Z"
   },
   {
    "duration": 193,
    "start_time": "2024-06-11T08:11:08.945Z"
   },
   {
    "duration": 48,
    "start_time": "2024-06-11T08:12:36.870Z"
   },
   {
    "duration": 7,
    "start_time": "2024-06-11T08:12:41.527Z"
   },
   {
    "duration": 4,
    "start_time": "2024-06-11T08:13:21.888Z"
   },
   {
    "duration": 93,
    "start_time": "2024-06-11T08:13:21.894Z"
   },
   {
    "duration": 17,
    "start_time": "2024-06-11T08:13:21.993Z"
   },
   {
    "duration": 15,
    "start_time": "2024-06-11T08:13:22.012Z"
   },
   {
    "duration": 17,
    "start_time": "2024-06-11T08:13:22.029Z"
   },
   {
    "duration": 28,
    "start_time": "2024-06-11T08:13:22.062Z"
   },
   {
    "duration": 28,
    "start_time": "2024-06-11T08:13:22.092Z"
   },
   {
    "duration": 10,
    "start_time": "2024-06-11T08:13:22.123Z"
   },
   {
    "duration": 39,
    "start_time": "2024-06-11T08:13:22.135Z"
   },
   {
    "duration": 35,
    "start_time": "2024-06-11T08:13:22.176Z"
   },
   {
    "duration": 106,
    "start_time": "2024-06-11T08:13:22.213Z"
   },
   {
    "duration": 21,
    "start_time": "2024-06-11T08:13:22.320Z"
   },
   {
    "duration": 36,
    "start_time": "2024-06-11T08:13:22.344Z"
   },
   {
    "duration": 17,
    "start_time": "2024-06-11T08:13:22.382Z"
   },
   {
    "duration": 235,
    "start_time": "2024-06-11T08:13:22.401Z"
   },
   {
    "duration": 49,
    "start_time": "2024-06-11T08:13:22.638Z"
   },
   {
    "duration": 44,
    "start_time": "2024-06-11T08:13:22.693Z"
   },
   {
    "duration": 337,
    "start_time": "2024-06-11T08:13:22.739Z"
   },
   {
    "duration": 28,
    "start_time": "2024-06-11T08:13:46.853Z"
   },
   {
    "duration": 16,
    "start_time": "2024-06-11T08:16:20.207Z"
   },
   {
    "duration": 28,
    "start_time": "2024-06-11T08:18:55.658Z"
   },
   {
    "duration": 7,
    "start_time": "2024-06-11T08:21:05.734Z"
   },
   {
    "duration": 11,
    "start_time": "2024-06-11T08:21:31.843Z"
   },
   {
    "duration": 4,
    "start_time": "2024-06-11T08:21:35.271Z"
   },
   {
    "duration": 96,
    "start_time": "2024-06-11T08:21:35.278Z"
   },
   {
    "duration": 19,
    "start_time": "2024-06-11T08:21:35.376Z"
   },
   {
    "duration": 14,
    "start_time": "2024-06-11T08:21:35.397Z"
   },
   {
    "duration": 15,
    "start_time": "2024-06-11T08:21:35.413Z"
   },
   {
    "duration": 37,
    "start_time": "2024-06-11T08:21:35.429Z"
   },
   {
    "duration": 38,
    "start_time": "2024-06-11T08:21:35.468Z"
   },
   {
    "duration": 9,
    "start_time": "2024-06-11T08:21:35.508Z"
   },
   {
    "duration": 25,
    "start_time": "2024-06-11T08:21:35.518Z"
   },
   {
    "duration": 48,
    "start_time": "2024-06-11T08:21:35.545Z"
   },
   {
    "duration": 93,
    "start_time": "2024-06-11T08:21:35.596Z"
   },
   {
    "duration": 21,
    "start_time": "2024-06-11T08:21:35.691Z"
   },
   {
    "duration": 13,
    "start_time": "2024-06-11T08:21:35.714Z"
   },
   {
    "duration": 35,
    "start_time": "2024-06-11T08:21:35.729Z"
   },
   {
    "duration": 215,
    "start_time": "2024-06-11T08:21:35.770Z"
   },
   {
    "duration": 38,
    "start_time": "2024-06-11T08:21:35.987Z"
   },
   {
    "duration": 68,
    "start_time": "2024-06-11T08:21:36.027Z"
   },
   {
    "duration": 220,
    "start_time": "2024-06-11T08:21:36.098Z"
   },
   {
    "duration": 18,
    "start_time": "2024-06-11T08:21:36.320Z"
   },
   {
    "duration": 247,
    "start_time": "2024-06-11T08:21:36.340Z"
   },
   {
    "duration": 24,
    "start_time": "2024-06-11T08:21:39.374Z"
   },
   {
    "duration": 8,
    "start_time": "2024-06-11T08:21:45.858Z"
   },
   {
    "duration": 10,
    "start_time": "2024-06-11T08:22:41.690Z"
   },
   {
    "duration": 10,
    "start_time": "2024-06-11T08:22:45.905Z"
   },
   {
    "duration": 10,
    "start_time": "2024-06-11T08:22:48.394Z"
   },
   {
    "duration": 10,
    "start_time": "2024-06-11T08:22:53.241Z"
   },
   {
    "duration": 13,
    "start_time": "2024-06-11T08:23:11.952Z"
   },
   {
    "duration": 196,
    "start_time": "2024-06-11T08:23:27.859Z"
   },
   {
    "duration": 173,
    "start_time": "2024-06-11T08:23:33.215Z"
   },
   {
    "duration": 179,
    "start_time": "2024-06-11T08:23:34.606Z"
   },
   {
    "duration": 4,
    "start_time": "2024-06-11T08:23:38.606Z"
   },
   {
    "duration": 101,
    "start_time": "2024-06-11T08:23:38.612Z"
   },
   {
    "duration": 16,
    "start_time": "2024-06-11T08:23:38.715Z"
   },
   {
    "duration": 24,
    "start_time": "2024-06-11T08:23:38.733Z"
   },
   {
    "duration": 25,
    "start_time": "2024-06-11T08:23:38.765Z"
   },
   {
    "duration": 12,
    "start_time": "2024-06-11T08:23:38.791Z"
   },
   {
    "duration": 26,
    "start_time": "2024-06-11T08:23:38.805Z"
   },
   {
    "duration": 29,
    "start_time": "2024-06-11T08:23:38.833Z"
   },
   {
    "duration": 24,
    "start_time": "2024-06-11T08:23:38.864Z"
   },
   {
    "duration": 24,
    "start_time": "2024-06-11T08:23:38.889Z"
   },
   {
    "duration": 90,
    "start_time": "2024-06-11T08:23:38.915Z"
   },
   {
    "duration": 19,
    "start_time": "2024-06-11T08:23:39.007Z"
   },
   {
    "duration": 47,
    "start_time": "2024-06-11T08:23:39.028Z"
   },
   {
    "duration": 11,
    "start_time": "2024-06-11T08:23:39.077Z"
   },
   {
    "duration": 206,
    "start_time": "2024-06-11T08:23:39.090Z"
   },
   {
    "duration": 25,
    "start_time": "2024-06-11T08:23:39.298Z"
   },
   {
    "duration": 72,
    "start_time": "2024-06-11T08:23:39.325Z"
   },
   {
    "duration": 189,
    "start_time": "2024-06-11T08:23:42.703Z"
   },
   {
    "duration": 23,
    "start_time": "2024-06-11T08:23:47.433Z"
   },
   {
    "duration": 217,
    "start_time": "2024-06-11T08:23:49.129Z"
   },
   {
    "duration": 6,
    "start_time": "2024-06-11T08:31:03.621Z"
   },
   {
    "duration": 24,
    "start_time": "2024-06-11T08:31:04.715Z"
   },
   {
    "duration": 13,
    "start_time": "2024-06-11T08:31:06.139Z"
   },
   {
    "duration": 11,
    "start_time": "2024-06-11T08:31:16.518Z"
   },
   {
    "duration": 4,
    "start_time": "2024-06-11T08:31:23.737Z"
   },
   {
    "duration": 70,
    "start_time": "2024-06-11T08:31:25.060Z"
   },
   {
    "duration": 17,
    "start_time": "2024-06-11T08:31:29.114Z"
   },
   {
    "duration": 15,
    "start_time": "2024-06-11T08:31:30.734Z"
   },
   {
    "duration": 31,
    "start_time": "2024-06-11T08:31:32.058Z"
   },
   {
    "duration": 19,
    "start_time": "2024-06-11T08:31:33.569Z"
   },
   {
    "duration": 43,
    "start_time": "2024-06-11T08:31:35.559Z"
   },
   {
    "duration": 18,
    "start_time": "2024-06-11T08:31:36.953Z"
   },
   {
    "duration": 11,
    "start_time": "2024-06-11T08:31:38.682Z"
   },
   {
    "duration": 26,
    "start_time": "2024-06-11T08:31:40.038Z"
   },
   {
    "duration": 78,
    "start_time": "2024-06-11T08:31:42.306Z"
   },
   {
    "duration": 37,
    "start_time": "2024-06-11T08:31:46.072Z"
   },
   {
    "duration": 14,
    "start_time": "2024-06-11T08:31:50.230Z"
   },
   {
    "duration": 9,
    "start_time": "2024-06-11T08:31:54.250Z"
   },
   {
    "duration": 248,
    "start_time": "2024-06-11T08:31:55.843Z"
   },
   {
    "duration": 23,
    "start_time": "2024-06-11T08:31:58.711Z"
   },
   {
    "duration": 40,
    "start_time": "2024-06-11T08:32:00.787Z"
   },
   {
    "duration": 209,
    "start_time": "2024-06-11T08:32:03.128Z"
   },
   {
    "duration": 16,
    "start_time": "2024-06-11T08:32:05.840Z"
   },
   {
    "duration": 226,
    "start_time": "2024-06-11T08:32:09.031Z"
   },
   {
    "duration": 15,
    "start_time": "2024-06-11T08:32:12.010Z"
   },
   {
    "duration": 6,
    "start_time": "2024-06-11T08:32:16.786Z"
   },
   {
    "duration": 35,
    "start_time": "2024-06-11T08:32:20.869Z"
   },
   {
    "duration": 12,
    "start_time": "2024-06-11T08:32:22.145Z"
   },
   {
    "duration": 11,
    "start_time": "2024-06-11T08:32:42.047Z"
   },
   {
    "duration": 14,
    "start_time": "2024-06-11T08:33:06.698Z"
   },
   {
    "duration": 13,
    "start_time": "2024-06-11T08:33:09.051Z"
   },
   {
    "duration": 13,
    "start_time": "2024-06-11T08:33:11.278Z"
   },
   {
    "duration": 71,
    "start_time": "2024-06-11T08:33:57.354Z"
   },
   {
    "duration": 19,
    "start_time": "2024-06-11T08:33:59.279Z"
   },
   {
    "duration": 13,
    "start_time": "2024-06-11T08:34:00.915Z"
   },
   {
    "duration": 16,
    "start_time": "2024-06-11T08:34:03.321Z"
   },
   {
    "duration": 27,
    "start_time": "2024-06-11T08:34:03.845Z"
   },
   {
    "duration": 35,
    "start_time": "2024-06-11T08:34:06.667Z"
   },
   {
    "duration": 16,
    "start_time": "2024-06-11T08:34:08.757Z"
   },
   {
    "duration": 10,
    "start_time": "2024-06-11T08:34:10.139Z"
   },
   {
    "duration": 20,
    "start_time": "2024-06-11T08:34:11.488Z"
   },
   {
    "duration": 101,
    "start_time": "2024-06-11T08:34:16.600Z"
   },
   {
    "duration": 19,
    "start_time": "2024-06-11T08:34:21.531Z"
   },
   {
    "duration": 3,
    "start_time": "2024-06-11T08:34:28.692Z"
   },
   {
    "duration": 88,
    "start_time": "2024-06-11T08:34:28.697Z"
   },
   {
    "duration": 16,
    "start_time": "2024-06-11T08:34:28.787Z"
   },
   {
    "duration": 17,
    "start_time": "2024-06-11T08:34:28.804Z"
   },
   {
    "duration": 15,
    "start_time": "2024-06-11T08:34:28.823Z"
   },
   {
    "duration": 46,
    "start_time": "2024-06-11T08:34:28.840Z"
   },
   {
    "duration": 28,
    "start_time": "2024-06-11T08:34:28.890Z"
   },
   {
    "duration": 21,
    "start_time": "2024-06-11T08:34:28.919Z"
   },
   {
    "duration": 10,
    "start_time": "2024-06-11T08:34:28.941Z"
   },
   {
    "duration": 47,
    "start_time": "2024-06-11T08:34:28.952Z"
   },
   {
    "duration": 76,
    "start_time": "2024-06-11T08:34:29.001Z"
   },
   {
    "duration": 22,
    "start_time": "2024-06-11T08:34:33.431Z"
   },
   {
    "duration": 29,
    "start_time": "2024-06-11T08:34:37.960Z"
   },
   {
    "duration": 17,
    "start_time": "2024-06-11T08:34:40.695Z"
   },
   {
    "duration": 3,
    "start_time": "2024-06-11T08:34:45.008Z"
   },
   {
    "duration": 123,
    "start_time": "2024-06-11T08:34:45.013Z"
   },
   {
    "duration": 15,
    "start_time": "2024-06-11T08:34:45.138Z"
   },
   {
    "duration": 44,
    "start_time": "2024-06-11T08:34:45.155Z"
   },
   {
    "duration": 16,
    "start_time": "2024-06-11T08:34:45.201Z"
   },
   {
    "duration": 12,
    "start_time": "2024-06-11T08:34:45.218Z"
   },
   {
    "duration": 61,
    "start_time": "2024-06-11T08:34:45.231Z"
   },
   {
    "duration": 29,
    "start_time": "2024-06-11T08:34:45.294Z"
   },
   {
    "duration": 15,
    "start_time": "2024-06-11T08:34:45.325Z"
   },
   {
    "duration": 61,
    "start_time": "2024-06-11T08:34:45.342Z"
   },
   {
    "duration": 70,
    "start_time": "2024-06-11T08:34:45.405Z"
   },
   {
    "duration": 24,
    "start_time": "2024-06-11T08:34:45.483Z"
   },
   {
    "duration": 14,
    "start_time": "2024-06-11T08:34:45.508Z"
   },
   {
    "duration": 10,
    "start_time": "2024-06-11T08:34:49.090Z"
   },
   {
    "duration": 203,
    "start_time": "2024-06-11T08:34:50.801Z"
   },
   {
    "duration": 18,
    "start_time": "2024-06-11T08:34:55.289Z"
   },
   {
    "duration": 4,
    "start_time": "2024-06-11T08:34:59.208Z"
   },
   {
    "duration": 92,
    "start_time": "2024-06-11T08:34:59.214Z"
   },
   {
    "duration": 16,
    "start_time": "2024-06-11T08:34:59.307Z"
   },
   {
    "duration": 17,
    "start_time": "2024-06-11T08:34:59.326Z"
   },
   {
    "duration": 39,
    "start_time": "2024-06-11T08:34:59.345Z"
   },
   {
    "duration": 12,
    "start_time": "2024-06-11T08:34:59.386Z"
   },
   {
    "duration": 26,
    "start_time": "2024-06-11T08:34:59.400Z"
   },
   {
    "duration": 8,
    "start_time": "2024-06-11T08:34:59.428Z"
   },
   {
    "duration": 25,
    "start_time": "2024-06-11T08:34:59.462Z"
   },
   {
    "duration": 22,
    "start_time": "2024-06-11T08:34:59.490Z"
   },
   {
    "duration": 202,
    "start_time": "2024-06-11T08:34:59.514Z"
   },
   {
    "duration": 20,
    "start_time": "2024-06-11T08:34:59.718Z"
   },
   {
    "duration": 41,
    "start_time": "2024-06-11T08:34:59.739Z"
   },
   {
    "duration": 16,
    "start_time": "2024-06-11T08:34:59.782Z"
   },
   {
    "duration": 223,
    "start_time": "2024-06-11T08:34:59.799Z"
   },
   {
    "duration": 45,
    "start_time": "2024-06-11T08:35:03.177Z"
   },
   {
    "duration": 28,
    "start_time": "2024-06-11T08:35:11.869Z"
   },
   {
    "duration": 4,
    "start_time": "2024-06-11T08:35:15.211Z"
   },
   {
    "duration": 109,
    "start_time": "2024-06-11T08:35:15.217Z"
   },
   {
    "duration": 16,
    "start_time": "2024-06-11T08:35:15.328Z"
   },
   {
    "duration": 30,
    "start_time": "2024-06-11T08:35:15.346Z"
   },
   {
    "duration": 17,
    "start_time": "2024-06-11T08:35:15.382Z"
   },
   {
    "duration": 23,
    "start_time": "2024-06-11T08:35:15.401Z"
   },
   {
    "duration": 42,
    "start_time": "2024-06-11T08:35:15.426Z"
   },
   {
    "duration": 16,
    "start_time": "2024-06-11T08:35:15.475Z"
   },
   {
    "duration": 21,
    "start_time": "2024-06-11T08:35:15.493Z"
   },
   {
    "duration": 26,
    "start_time": "2024-06-11T08:35:15.516Z"
   },
   {
    "duration": 95,
    "start_time": "2024-06-11T08:35:15.545Z"
   },
   {
    "duration": 51,
    "start_time": "2024-06-11T08:35:15.642Z"
   },
   {
    "duration": 14,
    "start_time": "2024-06-11T08:35:15.694Z"
   },
   {
    "duration": 22,
    "start_time": "2024-06-11T08:35:15.710Z"
   },
   {
    "duration": 213,
    "start_time": "2024-06-11T08:35:15.734Z"
   },
   {
    "duration": 56,
    "start_time": "2024-06-11T08:35:15.948Z"
   },
   {
    "duration": 41,
    "start_time": "2024-06-11T08:35:16.005Z"
   },
   {
    "duration": 220,
    "start_time": "2024-06-11T08:35:23.958Z"
   },
   {
    "duration": 37,
    "start_time": "2024-06-11T08:35:25.350Z"
   },
   {
    "duration": 199,
    "start_time": "2024-06-11T08:35:30.808Z"
   },
   {
    "duration": 17,
    "start_time": "2024-06-11T08:35:33.730Z"
   },
   {
    "duration": 26,
    "start_time": "2024-06-11T08:35:39.147Z"
   },
   {
    "duration": 10,
    "start_time": "2024-06-11T08:36:12.326Z"
   },
   {
    "duration": 18,
    "start_time": "2024-06-11T08:36:21.113Z"
   },
   {
    "duration": 82,
    "start_time": "2024-06-11T08:42:26.457Z"
   },
   {
    "duration": 27,
    "start_time": "2024-06-11T08:42:27.121Z"
   },
   {
    "duration": 19,
    "start_time": "2024-06-11T08:42:28.766Z"
   },
   {
    "duration": 190,
    "start_time": "2024-06-11T08:42:32.396Z"
   },
   {
    "duration": 26,
    "start_time": "2024-06-11T08:44:45.290Z"
   },
   {
    "duration": 753,
    "start_time": "2024-06-11T08:45:07.587Z"
   },
   {
    "duration": 26,
    "start_time": "2024-06-11T08:48:49.683Z"
   },
   {
    "duration": 18,
    "start_time": "2024-06-11T08:48:56.398Z"
   },
   {
    "duration": 4,
    "start_time": "2024-06-11T08:49:17.288Z"
   },
   {
    "duration": 18,
    "start_time": "2024-06-11T08:49:21.240Z"
   },
   {
    "duration": 18,
    "start_time": "2024-06-11T08:49:26.789Z"
   },
   {
    "duration": 18,
    "start_time": "2024-06-11T08:49:30.186Z"
   },
   {
    "duration": 773,
    "start_time": "2024-06-11T08:51:57.950Z"
   },
   {
    "duration": 245,
    "start_time": "2024-06-11T08:56:10.983Z"
   },
   {
    "duration": 738,
    "start_time": "2024-06-11T08:56:19.964Z"
   },
   {
    "duration": 767,
    "start_time": "2024-06-11T08:57:15.647Z"
   },
   {
    "duration": 738,
    "start_time": "2024-06-11T08:57:43.820Z"
   },
   {
    "duration": 882,
    "start_time": "2024-06-11T08:58:06.926Z"
   },
   {
    "duration": 723,
    "start_time": "2024-06-11T08:58:44.516Z"
   },
   {
    "duration": 112,
    "start_time": "2024-06-11T10:25:32.879Z"
   },
   {
    "duration": 36,
    "start_time": "2024-06-11T10:25:53.448Z"
   },
   {
    "duration": 5,
    "start_time": "2024-06-11T10:26:48.664Z"
   },
   {
    "duration": 30,
    "start_time": "2024-06-11T10:26:50.459Z"
   },
   {
    "duration": 29,
    "start_time": "2024-06-11T10:27:01.494Z"
   },
   {
    "duration": 72,
    "start_time": "2024-06-11T10:27:28.804Z"
   },
   {
    "duration": 60,
    "start_time": "2024-06-11T10:27:38.684Z"
   },
   {
    "duration": 31,
    "start_time": "2024-06-11T10:27:54.262Z"
   },
   {
    "duration": 26,
    "start_time": "2024-06-11T10:30:18.081Z"
   },
   {
    "duration": 41,
    "start_time": "2024-06-11T10:31:07.828Z"
   },
   {
    "duration": 29,
    "start_time": "2024-06-11T10:32:11.680Z"
   },
   {
    "duration": 29,
    "start_time": "2024-06-11T10:32:15.275Z"
   },
   {
    "duration": 1191,
    "start_time": "2024-06-11T10:33:28.099Z"
   },
   {
    "duration": 2922,
    "start_time": "2024-06-11T10:33:34.521Z"
   },
   {
    "duration": 39,
    "start_time": "2024-06-11T10:33:40.588Z"
   },
   {
    "duration": 28,
    "start_time": "2024-06-11T10:36:34.414Z"
   },
   {
    "duration": 40,
    "start_time": "2024-06-11T10:36:37.323Z"
   },
   {
    "duration": 1687,
    "start_time": "2024-06-11T10:37:05.799Z"
   },
   {
    "duration": 751,
    "start_time": "2024-06-11T10:37:16.462Z"
   },
   {
    "duration": 18,
    "start_time": "2024-06-11T10:37:32.880Z"
   },
   {
    "duration": 96,
    "start_time": "2024-06-11T10:38:11.228Z"
   },
   {
    "duration": 4,
    "start_time": "2024-06-11T10:38:15.808Z"
   },
   {
    "duration": 24,
    "start_time": "2024-06-11T10:38:19.909Z"
   },
   {
    "duration": 33,
    "start_time": "2024-06-11T10:38:24.719Z"
   },
   {
    "duration": 20,
    "start_time": "2024-06-11T10:39:02.078Z"
   },
   {
    "duration": 20,
    "start_time": "2024-06-11T10:39:09.710Z"
   },
   {
    "duration": 19,
    "start_time": "2024-06-11T10:39:22.796Z"
   },
   {
    "duration": 29,
    "start_time": "2024-06-11T10:39:32.212Z"
   },
   {
    "duration": 18,
    "start_time": "2024-06-11T10:39:43.605Z"
   },
   {
    "duration": 8,
    "start_time": "2024-06-11T10:40:10.514Z"
   },
   {
    "duration": 64,
    "start_time": "2024-06-11T10:40:15.643Z"
   },
   {
    "duration": 62,
    "start_time": "2024-06-11T10:40:26.244Z"
   },
   {
    "duration": 76,
    "start_time": "2024-06-11T10:40:35.909Z"
   },
   {
    "duration": 81,
    "start_time": "2024-06-11T10:40:47.511Z"
   },
   {
    "duration": 60,
    "start_time": "2024-06-11T10:40:51.556Z"
   },
   {
    "duration": 20,
    "start_time": "2024-06-11T10:40:58.257Z"
   },
   {
    "duration": 362,
    "start_time": "2024-06-11T10:41:42.791Z"
   },
   {
    "duration": 13,
    "start_time": "2024-06-11T10:42:00.809Z"
   },
   {
    "duration": 16,
    "start_time": "2024-06-11T10:42:07.020Z"
   },
   {
    "duration": 391,
    "start_time": "2024-06-11T10:42:07.811Z"
   },
   {
    "duration": 6,
    "start_time": "2024-06-11T10:45:16.825Z"
   },
   {
    "duration": 71,
    "start_time": "2024-06-11T10:45:20.246Z"
   },
   {
    "duration": 22,
    "start_time": "2024-06-11T10:45:41.767Z"
   },
   {
    "duration": 23,
    "start_time": "2024-06-11T10:48:45.067Z"
   },
   {
    "duration": 85,
    "start_time": "2024-06-11T10:52:46.393Z"
   },
   {
    "duration": 67,
    "start_time": "2024-06-11T10:52:56.110Z"
   },
   {
    "duration": 72,
    "start_time": "2024-06-11T10:52:58.437Z"
   },
   {
    "duration": 68,
    "start_time": "2024-06-11T10:53:15.744Z"
   },
   {
    "duration": 25,
    "start_time": "2024-06-11T10:53:53.088Z"
   },
   {
    "duration": 24,
    "start_time": "2024-06-11T10:54:08.915Z"
   },
   {
    "duration": 66,
    "start_time": "2024-06-11T10:54:14.012Z"
   },
   {
    "duration": 66,
    "start_time": "2024-06-11T10:54:18.941Z"
   },
   {
    "duration": 78,
    "start_time": "2024-06-11T10:54:28.198Z"
   },
   {
    "duration": 19,
    "start_time": "2024-06-11T10:55:43.304Z"
   },
   {
    "duration": 20,
    "start_time": "2024-06-11T10:55:52.506Z"
   },
   {
    "duration": 36,
    "start_time": "2024-06-11T10:56:01.856Z"
   },
   {
    "duration": 27,
    "start_time": "2024-06-11T10:56:31.613Z"
   },
   {
    "duration": 24,
    "start_time": "2024-06-11T10:58:04.042Z"
   },
   {
    "duration": 19,
    "start_time": "2024-06-11T10:58:36.610Z"
   },
   {
    "duration": 17,
    "start_time": "2024-06-11T10:58:39.923Z"
   },
   {
    "duration": 18,
    "start_time": "2024-06-11T10:58:54.337Z"
   },
   {
    "duration": 5,
    "start_time": "2024-06-11T10:59:51.844Z"
   },
   {
    "duration": 5,
    "start_time": "2024-06-11T10:59:58.985Z"
   },
   {
    "duration": 19,
    "start_time": "2024-06-11T11:02:04.509Z"
   },
   {
    "duration": 20,
    "start_time": "2024-06-11T11:02:24.792Z"
   },
   {
    "duration": 19,
    "start_time": "2024-06-11T11:03:56.236Z"
   },
   {
    "duration": 19,
    "start_time": "2024-06-11T11:04:09.671Z"
   },
   {
    "duration": 26,
    "start_time": "2024-06-11T11:04:26.650Z"
   },
   {
    "duration": 753,
    "start_time": "2024-06-11T11:09:31.086Z"
   },
   {
    "duration": 216,
    "start_time": "2024-06-11T11:09:36.271Z"
   },
   {
    "duration": 207,
    "start_time": "2024-06-11T11:09:39.206Z"
   },
   {
    "duration": 204,
    "start_time": "2024-06-11T11:09:46.580Z"
   },
   {
    "duration": 216,
    "start_time": "2024-06-11T11:09:48.130Z"
   },
   {
    "duration": 700,
    "start_time": "2024-06-11T11:10:40.420Z"
   },
   {
    "duration": 759,
    "start_time": "2024-06-11T11:11:11.619Z"
   },
   {
    "duration": 731,
    "start_time": "2024-06-11T11:11:28.375Z"
   },
   {
    "duration": 20,
    "start_time": "2024-06-11T11:11:42.681Z"
   },
   {
    "duration": 27,
    "start_time": "2024-06-11T11:12:02.742Z"
   },
   {
    "duration": 321,
    "start_time": "2024-06-11T11:12:19.753Z"
   },
   {
    "duration": 320,
    "start_time": "2024-06-11T11:12:32.472Z"
   },
   {
    "duration": 68,
    "start_time": "2024-06-11T11:12:54.757Z"
   },
   {
    "duration": 58,
    "start_time": "2024-06-11T11:12:59.677Z"
   },
   {
    "duration": 324,
    "start_time": "2024-06-11T11:13:03.112Z"
   },
   {
    "duration": 331,
    "start_time": "2024-06-11T11:13:23.330Z"
   },
   {
    "duration": 469,
    "start_time": "2024-06-11T11:14:04.538Z"
   },
   {
    "duration": 318,
    "start_time": "2024-06-11T11:16:31.080Z"
   },
   {
    "duration": 14,
    "start_time": "2024-06-11T11:24:42.502Z"
   },
   {
    "duration": 23,
    "start_time": "2024-06-11T11:25:36.911Z"
   },
   {
    "duration": 22,
    "start_time": "2024-06-11T11:26:05.186Z"
   },
   {
    "duration": 22,
    "start_time": "2024-06-11T11:26:12.623Z"
   },
   {
    "duration": 29,
    "start_time": "2024-06-11T11:26:33.172Z"
   },
   {
    "duration": 65,
    "start_time": "2024-06-11T11:26:52.501Z"
   },
   {
    "duration": 59,
    "start_time": "2024-06-11T11:28:34.974Z"
   },
   {
    "duration": 72,
    "start_time": "2024-06-11T11:28:39.052Z"
   },
   {
    "duration": 97,
    "start_time": "2024-06-11T11:47:34.099Z"
   },
   {
    "duration": 55,
    "start_time": "2024-06-11T11:47:40.003Z"
   },
   {
    "duration": 49,
    "start_time": "2024-06-11T11:47:52.796Z"
   },
   {
    "duration": 59,
    "start_time": "2024-06-11T11:47:55.998Z"
   },
   {
    "duration": 69,
    "start_time": "2024-06-11T12:19:01.710Z"
   },
   {
    "duration": 63,
    "start_time": "2024-06-11T12:19:12.639Z"
   },
   {
    "duration": 12,
    "start_time": "2024-06-11T12:20:45.230Z"
   },
   {
    "duration": 66,
    "start_time": "2024-06-11T12:20:55.272Z"
   },
   {
    "duration": 43,
    "start_time": "2024-06-11T12:21:36.752Z"
   },
   {
    "duration": 73,
    "start_time": "2024-06-11T12:21:46.338Z"
   },
   {
    "duration": 35,
    "start_time": "2024-06-11T12:21:51.407Z"
   },
   {
    "duration": 67,
    "start_time": "2024-06-11T12:21:53.480Z"
   },
   {
    "duration": 40,
    "start_time": "2024-06-11T12:22:00.438Z"
   },
   {
    "duration": 69,
    "start_time": "2024-06-11T12:22:10.281Z"
   },
   {
    "duration": 36,
    "start_time": "2024-06-11T12:22:31.011Z"
   },
   {
    "duration": 3,
    "start_time": "2024-06-11T12:22:42.744Z"
   },
   {
    "duration": 81,
    "start_time": "2024-06-11T12:22:42.749Z"
   },
   {
    "duration": 16,
    "start_time": "2024-06-11T12:22:42.832Z"
   },
   {
    "duration": 28,
    "start_time": "2024-06-11T12:22:42.849Z"
   },
   {
    "duration": 16,
    "start_time": "2024-06-11T12:22:42.879Z"
   },
   {
    "duration": 13,
    "start_time": "2024-06-11T12:22:42.897Z"
   },
   {
    "duration": 58,
    "start_time": "2024-06-11T12:22:42.911Z"
   },
   {
    "duration": 10,
    "start_time": "2024-06-11T12:22:42.971Z"
   },
   {
    "duration": 37,
    "start_time": "2024-06-11T12:22:42.983Z"
   },
   {
    "duration": 34,
    "start_time": "2024-06-11T12:22:43.022Z"
   },
   {
    "duration": 82,
    "start_time": "2024-06-11T12:22:43.058Z"
   },
   {
    "duration": 44,
    "start_time": "2024-06-11T12:22:43.142Z"
   },
   {
    "duration": 13,
    "start_time": "2024-06-11T12:22:43.188Z"
   },
   {
    "duration": 8,
    "start_time": "2024-06-11T12:22:43.203Z"
   },
   {
    "duration": 247,
    "start_time": "2024-06-11T12:22:43.213Z"
   },
   {
    "duration": 35,
    "start_time": "2024-06-11T12:22:43.462Z"
   },
   {
    "duration": 43,
    "start_time": "2024-06-11T12:22:43.499Z"
   },
   {
    "duration": 213,
    "start_time": "2024-06-11T12:22:43.544Z"
   },
   {
    "duration": 20,
    "start_time": "2024-06-11T12:22:43.759Z"
   },
   {
    "duration": 240,
    "start_time": "2024-06-11T12:22:43.782Z"
   },
   {
    "duration": 17,
    "start_time": "2024-06-11T12:22:44.024Z"
   },
   {
    "duration": 39,
    "start_time": "2024-06-11T12:22:44.042Z"
   },
   {
    "duration": 8,
    "start_time": "2024-06-11T12:22:44.083Z"
   },
   {
    "duration": 110,
    "start_time": "2024-06-11T12:22:44.092Z"
   },
   {
    "duration": 18,
    "start_time": "2024-06-11T12:22:44.203Z"
   },
   {
    "duration": 32,
    "start_time": "2024-06-11T12:22:44.223Z"
   },
   {
    "duration": 3,
    "start_time": "2024-06-11T12:22:44.257Z"
   },
   {
    "duration": 31,
    "start_time": "2024-06-11T12:22:44.263Z"
   },
   {
    "duration": 720,
    "start_time": "2024-06-11T12:22:44.297Z"
   },
   {
    "duration": 17,
    "start_time": "2024-06-11T12:22:45.019Z"
   },
   {
    "duration": 366,
    "start_time": "2024-06-11T12:22:45.037Z"
   },
   {
    "duration": 78,
    "start_time": "2024-06-11T12:22:45.405Z"
   },
   {
    "duration": 48,
    "start_time": "2024-06-11T12:22:45.485Z"
   },
   {
    "duration": 29,
    "start_time": "2024-06-11T12:22:45.534Z"
   },
   {
    "duration": 69,
    "start_time": "2024-06-11T12:22:48.059Z"
   },
   {
    "duration": 74,
    "start_time": "2024-06-11T12:26:36.612Z"
   },
   {
    "duration": 23,
    "start_time": "2024-06-11T12:26:40.267Z"
   },
   {
    "duration": 76,
    "start_time": "2024-06-11T12:26:49.973Z"
   },
   {
    "duration": 16,
    "start_time": "2024-06-11T12:27:14.465Z"
   },
   {
    "duration": 15,
    "start_time": "2024-06-11T12:27:23.531Z"
   },
   {
    "duration": 20,
    "start_time": "2024-06-11T12:27:26.440Z"
   },
   {
    "duration": 63,
    "start_time": "2024-06-11T12:30:52.446Z"
   },
   {
    "duration": 74,
    "start_time": "2024-06-11T12:42:26.948Z"
   },
   {
    "duration": 1016,
    "start_time": "2024-06-11T12:43:19.672Z"
   },
   {
    "duration": 29,
    "start_time": "2024-06-11T12:43:27.396Z"
   },
   {
    "duration": 12,
    "start_time": "2024-06-11T12:43:46.939Z"
   },
   {
    "duration": 12,
    "start_time": "2024-06-11T12:44:04.341Z"
   },
   {
    "duration": 13,
    "start_time": "2024-06-11T12:44:14.719Z"
   },
   {
    "duration": 13,
    "start_time": "2024-06-11T12:44:24.773Z"
   },
   {
    "duration": 32,
    "start_time": "2024-06-11T12:45:40.241Z"
   },
   {
    "duration": 20,
    "start_time": "2024-06-11T12:46:04.986Z"
   },
   {
    "duration": 13,
    "start_time": "2024-06-11T12:46:31.532Z"
   },
   {
    "duration": 5,
    "start_time": "2024-06-11T12:47:00.875Z"
   },
   {
    "duration": 28,
    "start_time": "2024-06-11T12:47:07.583Z"
   },
   {
    "duration": 14,
    "start_time": "2024-06-11T12:47:24.226Z"
   },
   {
    "duration": 64,
    "start_time": "2024-06-11T12:48:09.595Z"
   },
   {
    "duration": 16,
    "start_time": "2024-06-11T12:48:14.767Z"
   },
   {
    "duration": 18,
    "start_time": "2024-06-11T12:48:27.046Z"
   },
   {
    "duration": 8,
    "start_time": "2024-06-11T12:49:48.192Z"
   },
   {
    "duration": 22,
    "start_time": "2024-06-11T12:50:16.795Z"
   },
   {
    "duration": 18,
    "start_time": "2024-06-11T12:50:20.057Z"
   },
   {
    "duration": 15,
    "start_time": "2024-06-11T12:50:42.537Z"
   },
   {
    "duration": 15,
    "start_time": "2024-06-11T13:01:37.027Z"
   },
   {
    "duration": 15,
    "start_time": "2024-06-11T13:01:45.797Z"
   },
   {
    "duration": 14,
    "start_time": "2024-06-11T13:01:53.419Z"
   },
   {
    "duration": 21,
    "start_time": "2024-06-11T13:01:56.412Z"
   },
   {
    "duration": 86,
    "start_time": "2024-06-11T13:02:06.173Z"
   },
   {
    "duration": 15,
    "start_time": "2024-06-11T13:02:10.735Z"
   },
   {
    "duration": 13,
    "start_time": "2024-06-11T13:02:33.796Z"
   },
   {
    "duration": 25,
    "start_time": "2024-06-11T13:02:50.925Z"
   },
   {
    "duration": 62,
    "start_time": "2024-06-11T13:04:21.275Z"
   },
   {
    "duration": 22,
    "start_time": "2024-06-11T13:04:46.293Z"
   },
   {
    "duration": 60,
    "start_time": "2024-06-11T13:04:53.075Z"
   },
   {
    "duration": 72,
    "start_time": "2024-06-11T13:04:55.611Z"
   },
   {
    "duration": 71,
    "start_time": "2024-06-11T13:05:13.937Z"
   },
   {
    "duration": 67,
    "start_time": "2024-06-11T13:05:20.121Z"
   },
   {
    "duration": 218,
    "start_time": "2024-06-11T13:05:29.596Z"
   },
   {
    "duration": 71,
    "start_time": "2024-06-11T13:06:32.754Z"
   },
   {
    "duration": 69,
    "start_time": "2024-06-11T13:06:35.286Z"
   },
   {
    "duration": 77,
    "start_time": "2024-06-11T13:07:46.911Z"
   },
   {
    "duration": 90,
    "start_time": "2024-06-11T13:07:50.009Z"
   },
   {
    "duration": 66,
    "start_time": "2024-06-11T13:07:56.193Z"
   },
   {
    "duration": 104,
    "start_time": "2024-06-11T13:08:05.017Z"
   },
   {
    "duration": 82,
    "start_time": "2024-06-11T13:08:07.828Z"
   },
   {
    "duration": 70,
    "start_time": "2024-06-11T13:08:13.553Z"
   },
   {
    "duration": 73,
    "start_time": "2024-06-11T13:08:21.537Z"
   },
   {
    "duration": 78,
    "start_time": "2024-06-11T13:08:26.950Z"
   },
   {
    "duration": 76,
    "start_time": "2024-06-11T13:09:50.941Z"
   },
   {
    "duration": 64,
    "start_time": "2024-06-11T13:10:02.885Z"
   },
   {
    "duration": 68,
    "start_time": "2024-06-11T13:10:07.466Z"
   },
   {
    "duration": 62,
    "start_time": "2024-06-11T13:10:13.455Z"
   },
   {
    "duration": 74,
    "start_time": "2024-06-11T13:10:15.634Z"
   },
   {
    "duration": 66,
    "start_time": "2024-06-11T13:10:20.574Z"
   },
   {
    "duration": 92,
    "start_time": "2024-06-11T13:10:24.210Z"
   },
   {
    "duration": 77,
    "start_time": "2024-06-11T13:10:34.727Z"
   },
   {
    "duration": 75,
    "start_time": "2024-06-11T13:10:48.952Z"
   },
   {
    "duration": 67,
    "start_time": "2024-06-11T13:10:57.583Z"
   },
   {
    "duration": 62,
    "start_time": "2024-06-11T13:11:02.574Z"
   },
   {
    "duration": 79,
    "start_time": "2024-06-11T13:11:08.109Z"
   },
   {
    "duration": 67,
    "start_time": "2024-06-11T13:11:13.461Z"
   },
   {
    "duration": 29,
    "start_time": "2024-06-11T14:42:48.535Z"
   },
   {
    "duration": 11,
    "start_time": "2024-06-11T14:43:09.735Z"
   },
   {
    "duration": 25,
    "start_time": "2024-06-11T14:45:24.479Z"
   },
   {
    "duration": 19,
    "start_time": "2024-06-11T14:45:58.568Z"
   },
   {
    "duration": 13,
    "start_time": "2024-06-11T14:47:29.354Z"
   },
   {
    "duration": 47,
    "start_time": "2024-06-11T14:48:40.596Z"
   },
   {
    "duration": 36,
    "start_time": "2024-06-11T14:48:46.427Z"
   },
   {
    "duration": 15,
    "start_time": "2024-06-11T14:48:53.150Z"
   },
   {
    "duration": 10,
    "start_time": "2024-06-11T14:54:33.521Z"
   },
   {
    "duration": 16,
    "start_time": "2024-06-11T14:54:36.472Z"
   },
   {
    "duration": 71,
    "start_time": "2024-06-11T14:54:49.565Z"
   },
   {
    "duration": 15,
    "start_time": "2024-06-11T14:54:50.963Z"
   },
   {
    "duration": 16,
    "start_time": "2024-06-11T14:54:52.566Z"
   },
   {
    "duration": 16,
    "start_time": "2024-06-11T14:54:54.276Z"
   },
   {
    "duration": 15,
    "start_time": "2024-06-11T14:54:56.092Z"
   },
   {
    "duration": 30,
    "start_time": "2024-06-11T14:54:57.687Z"
   },
   {
    "duration": 9,
    "start_time": "2024-06-11T14:54:58.507Z"
   },
   {
    "duration": 14,
    "start_time": "2024-06-11T14:55:00.084Z"
   },
   {
    "duration": 21,
    "start_time": "2024-06-11T14:55:01.068Z"
   },
   {
    "duration": 91,
    "start_time": "2024-06-11T14:55:03.820Z"
   },
   {
    "duration": 24,
    "start_time": "2024-06-11T14:55:06.802Z"
   },
   {
    "duration": 14,
    "start_time": "2024-06-11T14:55:10.817Z"
   },
   {
    "duration": 7,
    "start_time": "2024-06-11T14:55:17.175Z"
   },
   {
    "duration": 14,
    "start_time": "2024-06-11T14:55:18.698Z"
   },
   {
    "duration": 14,
    "start_time": "2024-06-11T14:55:23.669Z"
   },
   {
    "duration": 8,
    "start_time": "2024-06-11T14:55:29.895Z"
   },
   {
    "duration": 209,
    "start_time": "2024-06-11T14:55:37.999Z"
   },
   {
    "duration": 27,
    "start_time": "2024-06-11T14:55:47.887Z"
   },
   {
    "duration": 39,
    "start_time": "2024-06-11T14:55:54.866Z"
   },
   {
    "duration": 184,
    "start_time": "2024-06-11T14:55:57.291Z"
   },
   {
    "duration": 181,
    "start_time": "2024-06-11T14:56:02.399Z"
   },
   {
    "duration": 209,
    "start_time": "2024-06-11T14:56:09.295Z"
   },
   {
    "duration": 146,
    "start_time": "2024-06-11T14:56:18.229Z"
   },
   {
    "duration": 58,
    "start_time": "2024-06-11T14:56:22.418Z"
   },
   {
    "duration": 182,
    "start_time": "2024-06-11T14:56:29.207Z"
   },
   {
    "duration": 17,
    "start_time": "2024-06-11T14:56:37.497Z"
   },
   {
    "duration": 208,
    "start_time": "2024-06-11T14:56:39.820Z"
   },
   {
    "duration": 207,
    "start_time": "2024-06-11T14:56:54.811Z"
   },
   {
    "duration": 12,
    "start_time": "2024-06-11T14:57:04.507Z"
   },
   {
    "duration": 12,
    "start_time": "2024-06-11T14:57:07.766Z"
   },
   {
    "duration": 12,
    "start_time": "2024-06-11T14:57:11.098Z"
   },
   {
    "duration": 49,
    "start_time": "2024-06-11T14:57:30.969Z"
   },
   {
    "duration": 4,
    "start_time": "2024-06-11T14:58:09.756Z"
   },
   {
    "duration": 228,
    "start_time": "2024-06-11T14:58:24.092Z"
   },
   {
    "duration": 48,
    "start_time": "2024-06-11T14:58:38.189Z"
   },
   {
    "duration": 191,
    "start_time": "2024-06-11T14:58:53.431Z"
   },
   {
    "duration": 194,
    "start_time": "2024-06-11T14:59:03.398Z"
   },
   {
    "duration": 207,
    "start_time": "2024-06-11T14:59:18.273Z"
   },
   {
    "duration": 66,
    "start_time": "2024-06-11T14:59:24.271Z"
   },
   {
    "duration": 334,
    "start_time": "2024-06-11T14:59:27.294Z"
   },
   {
    "duration": 199,
    "start_time": "2024-06-11T14:59:49.389Z"
   },
   {
    "duration": 307,
    "start_time": "2024-06-11T14:59:58.492Z"
   },
   {
    "duration": 326,
    "start_time": "2024-06-11T15:00:02.262Z"
   },
   {
    "duration": 195,
    "start_time": "2024-06-11T15:00:08.927Z"
   },
   {
    "duration": 4,
    "start_time": "2024-06-11T15:00:11.954Z"
   },
   {
    "duration": 83,
    "start_time": "2024-06-11T15:00:11.960Z"
   },
   {
    "duration": 17,
    "start_time": "2024-06-11T15:00:12.045Z"
   },
   {
    "duration": 25,
    "start_time": "2024-06-11T15:00:12.064Z"
   },
   {
    "duration": 17,
    "start_time": "2024-06-11T15:00:12.091Z"
   },
   {
    "duration": 12,
    "start_time": "2024-06-11T15:00:12.110Z"
   },
   {
    "duration": 50,
    "start_time": "2024-06-11T15:00:12.124Z"
   },
   {
    "duration": 9,
    "start_time": "2024-06-11T15:00:12.176Z"
   },
   {
    "duration": 10,
    "start_time": "2024-06-11T15:00:12.187Z"
   },
   {
    "duration": 23,
    "start_time": "2024-06-11T15:00:12.199Z"
   },
   {
    "duration": 87,
    "start_time": "2024-06-11T15:00:12.225Z"
   },
   {
    "duration": 51,
    "start_time": "2024-06-11T15:00:12.314Z"
   },
   {
    "duration": 16,
    "start_time": "2024-06-11T15:00:12.367Z"
   },
   {
    "duration": 7,
    "start_time": "2024-06-11T15:00:12.385Z"
   },
   {
    "duration": 24,
    "start_time": "2024-06-11T15:00:12.393Z"
   },
   {
    "duration": 43,
    "start_time": "2024-06-11T15:00:12.419Z"
   },
   {
    "duration": 4,
    "start_time": "2024-06-11T15:00:12.464Z"
   },
   {
    "duration": 211,
    "start_time": "2024-06-11T15:00:12.470Z"
   },
   {
    "duration": 215,
    "start_time": "2024-06-11T15:00:14.580Z"
   },
   {
    "duration": 201,
    "start_time": "2024-06-11T15:00:16.579Z"
   },
   {
    "duration": 4,
    "start_time": "2024-06-11T15:00:20.793Z"
   },
   {
    "duration": 155,
    "start_time": "2024-06-11T15:00:25.416Z"
   },
   {
    "duration": 195,
    "start_time": "2024-06-11T15:00:36.796Z"
   },
   {
    "duration": 14,
    "start_time": "2024-06-11T15:01:19.466Z"
   },
   {
    "duration": 187,
    "start_time": "2024-06-11T15:01:24.639Z"
   },
   {
    "duration": 208,
    "start_time": "2024-06-11T15:01:30.530Z"
   },
   {
    "duration": 4,
    "start_time": "2024-06-11T15:01:32.595Z"
   },
   {
    "duration": 80,
    "start_time": "2024-06-11T15:01:32.601Z"
   },
   {
    "duration": 17,
    "start_time": "2024-06-11T15:01:32.682Z"
   },
   {
    "duration": 18,
    "start_time": "2024-06-11T15:01:32.701Z"
   },
   {
    "duration": 17,
    "start_time": "2024-06-11T15:01:32.721Z"
   },
   {
    "duration": 32,
    "start_time": "2024-06-11T15:01:32.740Z"
   },
   {
    "duration": 38,
    "start_time": "2024-06-11T15:01:32.774Z"
   },
   {
    "duration": 9,
    "start_time": "2024-06-11T15:01:32.814Z"
   },
   {
    "duration": 11,
    "start_time": "2024-06-11T15:01:32.824Z"
   },
   {
    "duration": 56,
    "start_time": "2024-06-11T15:01:32.837Z"
   },
   {
    "duration": 72,
    "start_time": "2024-06-11T15:01:32.895Z"
   },
   {
    "duration": 19,
    "start_time": "2024-06-11T15:01:32.968Z"
   },
   {
    "duration": 15,
    "start_time": "2024-06-11T15:01:32.989Z"
   },
   {
    "duration": 13,
    "start_time": "2024-06-11T15:01:33.006Z"
   },
   {
    "duration": 45,
    "start_time": "2024-06-11T15:01:33.020Z"
   },
   {
    "duration": 14,
    "start_time": "2024-06-11T15:01:33.067Z"
   },
   {
    "duration": 22,
    "start_time": "2024-06-11T15:01:33.083Z"
   },
   {
    "duration": 199,
    "start_time": "2024-06-11T15:01:33.107Z"
   },
   {
    "duration": 195,
    "start_time": "2024-06-11T15:01:36.606Z"
   },
   {
    "duration": 200,
    "start_time": "2024-06-11T15:01:56.804Z"
   },
   {
    "duration": 198,
    "start_time": "2024-06-11T15:02:09.086Z"
   },
   {
    "duration": 205,
    "start_time": "2024-06-11T15:02:20.745Z"
   },
   {
    "duration": 201,
    "start_time": "2024-06-11T15:02:23.367Z"
   },
   {
    "duration": 344,
    "start_time": "2024-06-11T15:02:27.793Z"
   },
   {
    "duration": 224,
    "start_time": "2024-06-11T15:02:29.902Z"
   },
   {
    "duration": 209,
    "start_time": "2024-06-11T15:02:46.584Z"
   },
   {
    "duration": 216,
    "start_time": "2024-06-11T15:02:50.408Z"
   },
   {
    "duration": 1600,
    "start_time": "2024-06-11T15:03:04.328Z"
   },
   {
    "duration": 75,
    "start_time": "2024-06-11T15:03:05.930Z"
   },
   {
    "duration": 27,
    "start_time": "2024-06-11T15:03:06.007Z"
   },
   {
    "duration": 35,
    "start_time": "2024-06-11T15:03:06.036Z"
   },
   {
    "duration": 18,
    "start_time": "2024-06-11T15:03:06.072Z"
   },
   {
    "duration": 42,
    "start_time": "2024-06-11T15:03:06.091Z"
   },
   {
    "duration": 31,
    "start_time": "2024-06-11T15:03:06.134Z"
   },
   {
    "duration": 9,
    "start_time": "2024-06-11T15:03:06.167Z"
   },
   {
    "duration": 25,
    "start_time": "2024-06-11T15:03:06.177Z"
   },
   {
    "duration": 38,
    "start_time": "2024-06-11T15:03:06.205Z"
   },
   {
    "duration": 74,
    "start_time": "2024-06-11T15:03:06.245Z"
   },
   {
    "duration": 48,
    "start_time": "2024-06-11T15:03:06.321Z"
   },
   {
    "duration": 22,
    "start_time": "2024-06-11T15:03:06.371Z"
   },
   {
    "duration": 11,
    "start_time": "2024-06-11T15:03:06.396Z"
   },
   {
    "duration": 39,
    "start_time": "2024-06-11T15:03:06.409Z"
   },
   {
    "duration": 11,
    "start_time": "2024-06-11T15:03:06.462Z"
   },
   {
    "duration": 5,
    "start_time": "2024-06-11T15:03:06.476Z"
   },
   {
    "duration": 231,
    "start_time": "2024-06-11T15:03:06.483Z"
   },
   {
    "duration": 29,
    "start_time": "2024-06-11T15:03:06.715Z"
   },
   {
    "duration": 59,
    "start_time": "2024-06-11T15:03:06.746Z"
   },
   {
    "duration": 226,
    "start_time": "2024-06-11T15:03:06.807Z"
   },
   {
    "duration": 26,
    "start_time": "2024-06-11T15:03:07.035Z"
   },
   {
    "duration": 222,
    "start_time": "2024-06-11T15:03:07.063Z"
   },
   {
    "duration": 18,
    "start_time": "2024-06-11T15:03:07.286Z"
   },
   {
    "duration": 46,
    "start_time": "2024-06-11T15:03:07.305Z"
   },
   {
    "duration": 25,
    "start_time": "2024-06-11T15:03:07.353Z"
   },
   {
    "duration": 86,
    "start_time": "2024-06-11T15:03:07.380Z"
   },
   {
    "duration": 17,
    "start_time": "2024-06-11T15:03:07.469Z"
   },
   {
    "duration": 17,
    "start_time": "2024-06-11T15:03:07.487Z"
   },
   {
    "duration": 4,
    "start_time": "2024-06-11T15:03:07.506Z"
   },
   {
    "duration": 276,
    "start_time": "2024-06-11T15:03:07.511Z"
   },
   {
    "duration": 830,
    "start_time": "2024-06-11T15:03:07.790Z"
   },
   {
    "duration": 18,
    "start_time": "2024-06-11T15:03:08.622Z"
   },
   {
    "duration": 347,
    "start_time": "2024-06-11T15:03:08.642Z"
   },
   {
    "duration": 288,
    "start_time": "2024-06-11T15:03:08.991Z"
   },
   {
    "duration": 47,
    "start_time": "2024-06-11T15:03:09.281Z"
   },
   {
    "duration": 9,
    "start_time": "2024-06-11T15:03:09.330Z"
   },
   {
    "duration": 35,
    "start_time": "2024-06-11T15:03:09.360Z"
   },
   {
    "duration": 95,
    "start_time": "2024-06-11T15:03:09.397Z"
   },
   {
    "duration": 9,
    "start_time": "2024-06-11T15:03:09.494Z"
   },
   {
    "duration": 44,
    "start_time": "2024-06-11T15:03:09.504Z"
   },
   {
    "duration": 113,
    "start_time": "2024-06-11T15:03:09.550Z"
   },
   {
    "duration": 260,
    "start_time": "2024-06-11T15:03:09.665Z"
   },
   {
    "duration": 44,
    "start_time": "2024-06-11T15:03:09.927Z"
   },
   {
    "duration": 37,
    "start_time": "2024-06-11T15:03:09.974Z"
   },
   {
    "duration": 142,
    "start_time": "2024-06-11T15:03:10.013Z"
   },
   {
    "duration": 13,
    "start_time": "2024-06-11T15:03:10.158Z"
   },
   {
    "duration": 23,
    "start_time": "2024-06-11T15:03:10.173Z"
   },
   {
    "duration": 1392,
    "start_time": "2024-06-11T15:03:10.198Z"
   },
   {
    "duration": 247,
    "start_time": "2024-06-11T15:03:11.592Z"
   },
   {
    "duration": 27,
    "start_time": "2024-06-11T15:03:11.842Z"
   },
   {
    "duration": 137,
    "start_time": "2024-06-11T15:03:11.871Z"
   },
   {
    "duration": 10494,
    "start_time": "2024-06-11T15:03:12.010Z"
   },
   {
    "duration": 58,
    "start_time": "2024-06-11T15:03:22.506Z"
   },
   {
    "duration": 1269,
    "start_time": "2024-06-11T15:03:22.567Z"
   },
   {
    "duration": 23,
    "start_time": "2024-06-11T15:03:23.838Z"
   },
   {
    "duration": 10,
    "start_time": "2024-06-11T15:03:23.863Z"
   },
   {
    "duration": 8,
    "start_time": "2024-06-11T15:03:23.876Z"
   },
   {
    "duration": 130,
    "start_time": "2024-06-11T15:03:23.886Z"
   },
   {
    "duration": 207,
    "start_time": "2024-06-11T15:03:30.334Z"
   },
   {
    "duration": 9,
    "start_time": "2024-06-11T15:08:04.704Z"
   },
   {
    "duration": 8,
    "start_time": "2024-06-11T15:14:00.564Z"
   },
   {
    "duration": 23,
    "start_time": "2024-06-11T15:14:02.145Z"
   },
   {
    "duration": 12,
    "start_time": "2024-06-11T15:14:04.325Z"
   },
   {
    "duration": 12,
    "start_time": "2024-06-11T15:14:24.051Z"
   },
   {
    "duration": 4,
    "start_time": "2024-06-11T15:14:32.221Z"
   },
   {
    "duration": 101,
    "start_time": "2024-06-11T15:14:32.227Z"
   },
   {
    "duration": 17,
    "start_time": "2024-06-11T15:14:32.331Z"
   },
   {
    "duration": 16,
    "start_time": "2024-06-11T15:14:32.360Z"
   },
   {
    "duration": 17,
    "start_time": "2024-06-11T15:14:32.379Z"
   },
   {
    "duration": 13,
    "start_time": "2024-06-11T15:14:32.398Z"
   },
   {
    "duration": 57,
    "start_time": "2024-06-11T15:14:32.413Z"
   },
   {
    "duration": 9,
    "start_time": "2024-06-11T15:14:32.472Z"
   },
   {
    "duration": 50,
    "start_time": "2024-06-11T15:14:32.482Z"
   },
   {
    "duration": 32,
    "start_time": "2024-06-11T15:14:32.534Z"
   },
   {
    "duration": 76,
    "start_time": "2024-06-11T15:14:32.569Z"
   },
   {
    "duration": 26,
    "start_time": "2024-06-11T15:14:32.647Z"
   },
   {
    "duration": 15,
    "start_time": "2024-06-11T15:14:32.675Z"
   },
   {
    "duration": 16,
    "start_time": "2024-06-11T15:14:32.693Z"
   },
   {
    "duration": 22,
    "start_time": "2024-06-11T15:14:32.711Z"
   },
   {
    "duration": 32,
    "start_time": "2024-06-11T15:14:32.735Z"
   },
   {
    "duration": 232,
    "start_time": "2024-06-11T15:14:32.769Z"
   },
   {
    "duration": 26,
    "start_time": "2024-06-11T15:14:33.002Z"
   },
   {
    "duration": 60,
    "start_time": "2024-06-11T15:14:33.030Z"
   },
   {
    "duration": 198,
    "start_time": "2024-06-11T15:14:33.091Z"
   },
   {
    "duration": 17,
    "start_time": "2024-06-11T15:14:33.290Z"
   },
   {
    "duration": 204,
    "start_time": "2024-06-11T15:14:33.308Z"
   },
   {
    "duration": 18,
    "start_time": "2024-06-11T15:14:37.189Z"
   },
   {
    "duration": 18,
    "start_time": "2024-06-11T15:14:44.203Z"
   },
   {
    "duration": 17,
    "start_time": "2024-06-11T15:14:46.722Z"
   },
   {
    "duration": 9,
    "start_time": "2024-06-11T15:16:29.441Z"
   },
   {
    "duration": 75,
    "start_time": "2024-06-11T15:16:30.812Z"
   },
   {
    "duration": 21,
    "start_time": "2024-06-11T15:16:31.972Z"
   },
   {
    "duration": 16,
    "start_time": "2024-06-11T15:16:46.031Z"
   },
   {
    "duration": 20,
    "start_time": "2024-06-11T15:31:51.858Z"
   },
   {
    "duration": 682,
    "start_time": "2024-06-11T15:31:59.054Z"
   },
   {
    "duration": 18,
    "start_time": "2024-06-11T15:32:12.723Z"
   },
   {
    "duration": 314,
    "start_time": "2024-06-11T15:32:21.628Z"
   },
   {
    "duration": 63,
    "start_time": "2024-06-11T15:32:34.027Z"
   },
   {
    "duration": 47,
    "start_time": "2024-06-11T15:32:40.354Z"
   },
   {
    "duration": 9,
    "start_time": "2024-06-11T15:32:44.514Z"
   },
   {
    "duration": 30,
    "start_time": "2024-06-11T15:32:45.903Z"
   },
   {
    "duration": 66,
    "start_time": "2024-06-11T15:32:47.785Z"
   },
   {
    "duration": 10,
    "start_time": "2024-06-11T15:37:00.555Z"
   },
   {
    "duration": 66,
    "start_time": "2024-06-11T15:37:02.296Z"
   },
   {
    "duration": 184,
    "start_time": "2024-06-11T15:58:39.602Z"
   },
   {
    "duration": 24,
    "start_time": "2024-06-11T15:59:45.840Z"
   },
   {
    "duration": 14,
    "start_time": "2024-06-11T15:59:59.272Z"
   },
   {
    "duration": 63,
    "start_time": "2024-06-11T16:00:05.357Z"
   },
   {
    "duration": 17,
    "start_time": "2024-06-11T16:00:12.440Z"
   },
   {
    "duration": 427,
    "start_time": "2024-06-11T16:03:29.876Z"
   },
   {
    "duration": 124,
    "start_time": "2024-06-11T16:03:52.181Z"
   },
   {
    "duration": 123,
    "start_time": "2024-06-11T16:04:23.638Z"
   },
   {
    "duration": 122,
    "start_time": "2024-06-11T16:04:44.173Z"
   },
   {
    "duration": 124,
    "start_time": "2024-06-11T16:04:59.813Z"
   },
   {
    "duration": 130,
    "start_time": "2024-06-11T16:05:09.367Z"
   },
   {
    "duration": 140,
    "start_time": "2024-06-11T16:05:14.983Z"
   },
   {
    "duration": 135,
    "start_time": "2024-06-11T16:05:21.991Z"
   },
   {
    "duration": 86,
    "start_time": "2024-06-11T16:07:26.086Z"
   },
   {
    "duration": 77,
    "start_time": "2024-06-11T16:07:45.280Z"
   },
   {
    "duration": 98,
    "start_time": "2024-06-11T16:07:55.425Z"
   },
   {
    "duration": 1103,
    "start_time": "2024-06-11T16:08:44.854Z"
   },
   {
    "duration": 151,
    "start_time": "2024-06-11T20:27:35.233Z"
   },
   {
    "duration": 136,
    "start_time": "2024-06-11T20:28:08.550Z"
   },
   {
    "duration": 137,
    "start_time": "2024-06-11T20:28:26.280Z"
   },
   {
    "duration": 143,
    "start_time": "2024-06-11T20:29:04.948Z"
   },
   {
    "duration": 432,
    "start_time": "2024-06-11T20:29:18.388Z"
   },
   {
    "duration": 135,
    "start_time": "2024-06-11T20:29:32.396Z"
   },
   {
    "duration": 4,
    "start_time": "2024-06-11T20:30:38.931Z"
   },
   {
    "duration": 69,
    "start_time": "2024-06-11T20:39:09.758Z"
   },
   {
    "duration": 127,
    "start_time": "2024-06-11T20:39:18.769Z"
   },
   {
    "duration": 55,
    "start_time": "2024-06-11T20:39:40.116Z"
   },
   {
    "duration": 53,
    "start_time": "2024-06-11T20:39:53.578Z"
   },
   {
    "duration": 145,
    "start_time": "2024-06-11T20:40:01.687Z"
   },
   {
    "duration": 52,
    "start_time": "2024-06-11T20:40:05.016Z"
   },
   {
    "duration": 156,
    "start_time": "2024-06-11T20:40:09.271Z"
   },
   {
    "duration": 148,
    "start_time": "2024-06-11T20:41:27.637Z"
   },
   {
    "duration": 134,
    "start_time": "2024-06-11T20:41:37.480Z"
   },
   {
    "duration": 133,
    "start_time": "2024-06-11T20:41:54.079Z"
   },
   {
    "duration": 184,
    "start_time": "2024-06-11T20:42:08.406Z"
   },
   {
    "duration": 163,
    "start_time": "2024-06-11T20:42:14.103Z"
   },
   {
    "duration": 131,
    "start_time": "2024-06-11T20:42:20.191Z"
   },
   {
    "duration": 132,
    "start_time": "2024-06-11T20:45:49.203Z"
   },
   {
    "duration": 317,
    "start_time": "2024-06-11T20:46:43.394Z"
   },
   {
    "duration": 133,
    "start_time": "2024-06-11T20:49:16.200Z"
   },
   {
    "duration": 52,
    "start_time": "2024-06-11T20:49:18.846Z"
   },
   {
    "duration": 48,
    "start_time": "2024-06-11T20:50:11.646Z"
   },
   {
    "duration": 69,
    "start_time": "2024-06-11T20:51:25.570Z"
   },
   {
    "duration": 165,
    "start_time": "2024-06-11T20:51:33.597Z"
   },
   {
    "duration": 20,
    "start_time": "2024-06-11T20:58:07.436Z"
   },
   {
    "duration": 5,
    "start_time": "2024-06-11T20:58:09.629Z"
   },
   {
    "duration": 112,
    "start_time": "2024-06-11T20:58:11.075Z"
   },
   {
    "duration": 95,
    "start_time": "2024-06-11T20:58:16.291Z"
   },
   {
    "duration": 9,
    "start_time": "2024-06-11T21:01:05.131Z"
   },
   {
    "duration": 102,
    "start_time": "2024-06-11T21:02:10.213Z"
   },
   {
    "duration": 91,
    "start_time": "2024-06-11T21:03:47.819Z"
   },
   {
    "duration": 79,
    "start_time": "2024-06-11T21:04:10.976Z"
   },
   {
    "duration": 5,
    "start_time": "2024-06-11T21:04:20.944Z"
   },
   {
    "duration": 82,
    "start_time": "2024-06-11T21:04:21.632Z"
   },
   {
    "duration": 92,
    "start_time": "2024-06-11T21:05:43.235Z"
   },
   {
    "duration": 96,
    "start_time": "2024-06-11T21:05:56.622Z"
   },
   {
    "duration": 1856,
    "start_time": "2024-06-11T21:06:47.456Z"
   },
   {
    "duration": 12,
    "start_time": "2024-06-11T21:07:06.392Z"
   },
   {
    "duration": 89,
    "start_time": "2024-06-11T21:07:17.985Z"
   },
   {
    "duration": 3,
    "start_time": "2024-06-11T21:14:55.095Z"
   },
   {
    "duration": 84,
    "start_time": "2024-06-11T21:15:30.030Z"
   },
   {
    "duration": 23,
    "start_time": "2024-06-11T21:16:20.682Z"
   },
   {
    "duration": 20,
    "start_time": "2024-06-11T21:16:39.510Z"
   },
   {
    "duration": 573,
    "start_time": "2024-06-11T21:16:44.735Z"
   },
   {
    "duration": 87,
    "start_time": "2024-06-11T21:16:48.318Z"
   },
   {
    "duration": 86,
    "start_time": "2024-06-11T21:17:03.023Z"
   },
   {
    "duration": 34,
    "start_time": "2024-06-11T21:17:18.574Z"
   },
   {
    "duration": 35,
    "start_time": "2024-06-11T21:18:22.880Z"
   },
   {
    "duration": 3,
    "start_time": "2024-06-11T21:20:26.085Z"
   },
   {
    "duration": 72,
    "start_time": "2024-06-11T21:20:26.090Z"
   },
   {
    "duration": 17,
    "start_time": "2024-06-11T21:20:26.164Z"
   },
   {
    "duration": 16,
    "start_time": "2024-06-11T21:20:26.182Z"
   },
   {
    "duration": 17,
    "start_time": "2024-06-11T21:20:26.200Z"
   },
   {
    "duration": 49,
    "start_time": "2024-06-11T21:20:26.219Z"
   },
   {
    "duration": 29,
    "start_time": "2024-06-11T21:20:26.270Z"
   },
   {
    "duration": 15,
    "start_time": "2024-06-11T21:20:26.302Z"
   },
   {
    "duration": 45,
    "start_time": "2024-06-11T21:20:26.320Z"
   },
   {
    "duration": 24,
    "start_time": "2024-06-11T21:20:26.367Z"
   },
   {
    "duration": 88,
    "start_time": "2024-06-11T21:20:26.395Z"
   },
   {
    "duration": 24,
    "start_time": "2024-06-11T21:20:26.485Z"
   },
   {
    "duration": 51,
    "start_time": "2024-06-11T21:20:26.511Z"
   },
   {
    "duration": 9,
    "start_time": "2024-06-11T21:20:26.564Z"
   },
   {
    "duration": 13,
    "start_time": "2024-06-11T21:20:26.574Z"
   },
   {
    "duration": 8,
    "start_time": "2024-06-11T21:20:26.589Z"
   },
   {
    "duration": 221,
    "start_time": "2024-06-11T21:20:26.599Z"
   },
   {
    "duration": 41,
    "start_time": "2024-06-11T21:20:26.821Z"
   },
   {
    "duration": 40,
    "start_time": "2024-06-11T21:20:26.864Z"
   },
   {
    "duration": 224,
    "start_time": "2024-06-11T21:20:26.906Z"
   },
   {
    "duration": 17,
    "start_time": "2024-06-11T21:20:27.133Z"
   },
   {
    "duration": 208,
    "start_time": "2024-06-11T21:20:27.161Z"
   },
   {
    "duration": 18,
    "start_time": "2024-06-11T21:20:27.371Z"
   },
   {
    "duration": 11,
    "start_time": "2024-06-11T21:20:27.391Z"
   },
   {
    "duration": 98,
    "start_time": "2024-06-11T21:20:27.404Z"
   },
   {
    "duration": 18,
    "start_time": "2024-06-11T21:20:27.504Z"
   },
   {
    "duration": 22,
    "start_time": "2024-06-11T21:20:27.525Z"
   },
   {
    "duration": 20,
    "start_time": "2024-06-11T21:20:27.561Z"
   },
   {
    "duration": 740,
    "start_time": "2024-06-11T21:20:27.585Z"
   },
   {
    "duration": 18,
    "start_time": "2024-06-11T21:20:28.327Z"
   },
   {
    "duration": 327,
    "start_time": "2024-06-11T21:20:28.346Z"
   },
   {
    "duration": 56,
    "start_time": "2024-06-11T21:20:28.674Z"
   },
   {
    "duration": 63,
    "start_time": "2024-06-11T21:20:28.732Z"
   },
   {
    "duration": 8,
    "start_time": "2024-06-11T21:20:28.797Z"
   },
   {
    "duration": 23,
    "start_time": "2024-06-11T21:20:28.807Z"
   },
   {
    "duration": 87,
    "start_time": "2024-06-11T21:20:28.832Z"
   },
   {
    "duration": 128,
    "start_time": "2024-06-11T21:20:28.921Z"
   },
   {
    "duration": 78,
    "start_time": "2024-06-11T21:20:43.463Z"
   },
   {
    "duration": 43,
    "start_time": "2024-06-11T21:24:58.225Z"
   },
   {
    "duration": 35,
    "start_time": "2024-06-11T21:25:21.826Z"
   },
   {
    "duration": 198,
    "start_time": "2024-06-11T21:27:28.528Z"
   },
   {
    "duration": 106,
    "start_time": "2024-06-11T21:28:27.467Z"
   },
   {
    "duration": 10,
    "start_time": "2024-06-11T21:28:27.637Z"
   },
   {
    "duration": 101,
    "start_time": "2024-06-11T21:28:38.952Z"
   },
   {
    "duration": 114,
    "start_time": "2024-06-11T21:28:56.847Z"
   },
   {
    "duration": 109,
    "start_time": "2024-06-11T21:29:26.624Z"
   },
   {
    "duration": 3,
    "start_time": "2024-06-11T21:29:30.601Z"
   },
   {
    "duration": 155,
    "start_time": "2024-06-11T21:29:30.606Z"
   },
   {
    "duration": 16,
    "start_time": "2024-06-11T21:29:30.764Z"
   },
   {
    "duration": 60,
    "start_time": "2024-06-11T21:29:30.782Z"
   },
   {
    "duration": 62,
    "start_time": "2024-06-11T21:29:30.844Z"
   },
   {
    "duration": 130,
    "start_time": "2024-06-11T21:29:30.908Z"
   },
   {
    "duration": 148,
    "start_time": "2024-06-11T21:29:31.040Z"
   },
   {
    "duration": 150,
    "start_time": "2024-06-11T21:29:31.191Z"
   },
   {
    "duration": 58,
    "start_time": "2024-06-11T21:29:31.343Z"
   },
   {
    "duration": 61,
    "start_time": "2024-06-11T21:29:31.403Z"
   },
   {
    "duration": 89,
    "start_time": "2024-06-11T21:29:31.467Z"
   },
   {
    "duration": 19,
    "start_time": "2024-06-11T21:29:31.558Z"
   },
   {
    "duration": 21,
    "start_time": "2024-06-11T21:29:31.578Z"
   },
   {
    "duration": 21,
    "start_time": "2024-06-11T21:29:31.601Z"
   },
   {
    "duration": 29,
    "start_time": "2024-06-11T21:29:31.624Z"
   },
   {
    "duration": 24,
    "start_time": "2024-06-11T21:29:31.654Z"
   },
   {
    "duration": 224,
    "start_time": "2024-06-11T21:29:31.679Z"
   },
   {
    "duration": 25,
    "start_time": "2024-06-11T21:29:31.905Z"
   },
   {
    "duration": 56,
    "start_time": "2024-06-11T21:29:31.932Z"
   },
   {
    "duration": 188,
    "start_time": "2024-06-11T21:29:31.989Z"
   },
   {
    "duration": 15,
    "start_time": "2024-06-11T21:29:32.179Z"
   },
   {
    "duration": 226,
    "start_time": "2024-06-11T21:29:32.196Z"
   },
   {
    "duration": 17,
    "start_time": "2024-06-11T21:29:32.424Z"
   },
   {
    "duration": 21,
    "start_time": "2024-06-11T21:29:32.443Z"
   },
   {
    "duration": 93,
    "start_time": "2024-06-11T21:29:32.465Z"
   },
   {
    "duration": 18,
    "start_time": "2024-06-11T21:29:32.560Z"
   },
   {
    "duration": 40,
    "start_time": "2024-06-11T21:29:32.579Z"
   },
   {
    "duration": 22,
    "start_time": "2024-06-11T21:29:32.621Z"
   },
   {
    "duration": 713,
    "start_time": "2024-06-11T21:29:32.647Z"
   },
   {
    "duration": 18,
    "start_time": "2024-06-11T21:29:33.362Z"
   },
   {
    "duration": 318,
    "start_time": "2024-06-11T21:29:33.381Z"
   },
   {
    "duration": 67,
    "start_time": "2024-06-11T21:29:33.700Z"
   },
   {
    "duration": 48,
    "start_time": "2024-06-11T21:29:33.769Z"
   },
   {
    "duration": 54,
    "start_time": "2024-06-11T21:29:33.819Z"
   },
   {
    "duration": 51,
    "start_time": "2024-06-11T21:29:33.875Z"
   },
   {
    "duration": 88,
    "start_time": "2024-06-11T21:29:33.928Z"
   },
   {
    "duration": 137,
    "start_time": "2024-06-11T21:29:34.017Z"
   },
   {
    "duration": 82,
    "start_time": "2024-06-11T21:29:34.156Z"
   },
   {
    "duration": 4,
    "start_time": "2024-06-11T21:29:34.261Z"
   },
   {
    "duration": 108,
    "start_time": "2024-06-11T21:30:09.515Z"
   },
   {
    "duration": 3,
    "start_time": "2024-06-11T21:30:16.307Z"
   },
   {
    "duration": 135,
    "start_time": "2024-06-11T21:30:23.198Z"
   },
   {
    "duration": 139,
    "start_time": "2024-06-11T21:30:27.000Z"
   },
   {
    "duration": 4,
    "start_time": "2024-06-11T21:31:08.323Z"
   },
   {
    "duration": 81,
    "start_time": "2024-06-11T21:31:08.329Z"
   },
   {
    "duration": 9,
    "start_time": "2024-06-11T21:31:12.276Z"
   },
   {
    "duration": 12,
    "start_time": "2024-06-11T21:31:23.577Z"
   },
   {
    "duration": 84,
    "start_time": "2024-06-11T21:31:44.840Z"
   },
   {
    "duration": 125,
    "start_time": "2024-06-11T21:40:27.264Z"
   },
   {
    "duration": 123,
    "start_time": "2024-06-11T21:41:40.649Z"
   },
   {
    "duration": 14,
    "start_time": "2024-06-11T21:44:32.844Z"
   },
   {
    "duration": 11,
    "start_time": "2024-06-11T21:44:38.021Z"
   },
   {
    "duration": 1308,
    "start_time": "2024-06-11T21:44:39.720Z"
   },
   {
    "duration": 2,
    "start_time": "2024-06-11T21:45:30.035Z"
   },
   {
    "duration": 1752,
    "start_time": "2024-06-11T21:45:31.631Z"
   },
   {
    "duration": 1286,
    "start_time": "2024-06-11T21:46:32.447Z"
   },
   {
    "duration": 10,
    "start_time": "2024-06-11T21:48:28.415Z"
   },
   {
    "duration": 12,
    "start_time": "2024-06-11T21:48:38.343Z"
   },
   {
    "duration": 14,
    "start_time": "2024-06-11T21:48:52.460Z"
   },
   {
    "duration": 77,
    "start_time": "2024-06-11T21:50:10.693Z"
   },
   {
    "duration": 19,
    "start_time": "2024-06-11T21:50:18.268Z"
   },
   {
    "duration": 58,
    "start_time": "2024-06-11T21:50:25.994Z"
   },
   {
    "duration": 52,
    "start_time": "2024-06-11T21:50:53.353Z"
   },
   {
    "duration": 51,
    "start_time": "2024-06-11T21:51:08.598Z"
   },
   {
    "duration": 53,
    "start_time": "2024-06-11T21:51:13.962Z"
   },
   {
    "duration": 50,
    "start_time": "2024-06-11T21:51:16.375Z"
   },
   {
    "duration": 12,
    "start_time": "2024-06-11T21:51:35.786Z"
   },
   {
    "duration": 53,
    "start_time": "2024-06-11T21:55:44.354Z"
   },
   {
    "duration": 14,
    "start_time": "2024-06-11T21:57:34.413Z"
   },
   {
    "duration": 125,
    "start_time": "2024-06-11T21:57:35.630Z"
   },
   {
    "duration": 127,
    "start_time": "2024-06-11T21:57:46.716Z"
   },
   {
    "duration": 134,
    "start_time": "2024-06-11T21:58:18.263Z"
   },
   {
    "duration": 1771,
    "start_time": "2024-06-12T17:46:59.966Z"
   },
   {
    "duration": 273,
    "start_time": "2024-06-12T17:47:01.740Z"
   },
   {
    "duration": 20,
    "start_time": "2024-06-12T17:47:02.015Z"
   },
   {
    "duration": 16,
    "start_time": "2024-06-12T17:47:02.037Z"
   },
   {
    "duration": 16,
    "start_time": "2024-06-12T17:47:02.054Z"
   },
   {
    "duration": 37,
    "start_time": "2024-06-12T17:47:02.072Z"
   },
   {
    "duration": 29,
    "start_time": "2024-06-12T17:47:02.114Z"
   },
   {
    "duration": 10,
    "start_time": "2024-06-12T17:47:02.144Z"
   },
   {
    "duration": 10,
    "start_time": "2024-06-12T17:47:02.156Z"
   },
   {
    "duration": 48,
    "start_time": "2024-06-12T17:47:02.169Z"
   },
   {
    "duration": 63,
    "start_time": "2024-06-12T17:47:02.218Z"
   },
   {
    "duration": 43,
    "start_time": "2024-06-12T17:47:02.283Z"
   },
   {
    "duration": 14,
    "start_time": "2024-06-12T17:47:02.328Z"
   },
   {
    "duration": 6,
    "start_time": "2024-06-12T17:47:02.343Z"
   },
   {
    "duration": 51,
    "start_time": "2024-06-12T17:47:02.351Z"
   },
   {
    "duration": 12,
    "start_time": "2024-06-12T17:47:02.407Z"
   },
   {
    "duration": 226,
    "start_time": "2024-06-12T17:47:02.421Z"
   },
   {
    "duration": 24,
    "start_time": "2024-06-12T17:47:02.648Z"
   },
   {
    "duration": 59,
    "start_time": "2024-06-12T17:47:02.674Z"
   },
   {
    "duration": 183,
    "start_time": "2024-06-12T17:47:02.735Z"
   },
   {
    "duration": 16,
    "start_time": "2024-06-12T17:47:02.919Z"
   },
   {
    "duration": 195,
    "start_time": "2024-06-12T17:47:02.937Z"
   },
   {
    "duration": 16,
    "start_time": "2024-06-12T17:47:03.133Z"
   },
   {
    "duration": 16,
    "start_time": "2024-06-12T17:47:03.151Z"
   },
   {
    "duration": 81,
    "start_time": "2024-06-12T17:47:03.169Z"
   },
   {
    "duration": 17,
    "start_time": "2024-06-12T17:47:03.251Z"
   },
   {
    "duration": 35,
    "start_time": "2024-06-12T17:47:03.270Z"
   },
   {
    "duration": 252,
    "start_time": "2024-06-12T17:47:03.315Z"
   },
   {
    "duration": 843,
    "start_time": "2024-06-12T17:47:03.569Z"
   },
   {
    "duration": 18,
    "start_time": "2024-06-12T17:47:04.414Z"
   },
   {
    "duration": 315,
    "start_time": "2024-06-12T17:47:04.433Z"
   },
   {
    "duration": 254,
    "start_time": "2024-06-12T17:47:04.749Z"
   },
   {
    "duration": 47,
    "start_time": "2024-06-12T17:47:05.005Z"
   },
   {
    "duration": 7,
    "start_time": "2024-06-12T17:47:05.054Z"
   },
   {
    "duration": 46,
    "start_time": "2024-06-12T17:47:05.063Z"
   },
   {
    "duration": 61,
    "start_time": "2024-06-12T17:47:05.113Z"
   },
   {
    "duration": 193,
    "start_time": "2024-06-12T17:47:05.176Z"
   },
   {
    "duration": 0,
    "start_time": "2024-06-12T17:47:05.371Z"
   },
   {
    "duration": 0,
    "start_time": "2024-06-12T17:47:05.373Z"
   },
   {
    "duration": 0,
    "start_time": "2024-06-12T17:47:05.374Z"
   },
   {
    "duration": 0,
    "start_time": "2024-06-12T17:47:05.376Z"
   },
   {
    "duration": 0,
    "start_time": "2024-06-12T17:47:05.377Z"
   },
   {
    "duration": 0,
    "start_time": "2024-06-12T17:47:05.378Z"
   },
   {
    "duration": 0,
    "start_time": "2024-06-12T17:47:05.399Z"
   },
   {
    "duration": 0,
    "start_time": "2024-06-12T17:47:05.401Z"
   },
   {
    "duration": 0,
    "start_time": "2024-06-12T17:47:05.402Z"
   },
   {
    "duration": 0,
    "start_time": "2024-06-12T17:47:05.404Z"
   },
   {
    "duration": 0,
    "start_time": "2024-06-12T17:47:05.406Z"
   },
   {
    "duration": 0,
    "start_time": "2024-06-12T17:47:05.407Z"
   },
   {
    "duration": 14,
    "start_time": "2024-06-12T17:47:34.370Z"
   },
   {
    "duration": 10,
    "start_time": "2024-06-12T17:48:52.506Z"
   },
   {
    "duration": 884,
    "start_time": "2024-06-12T17:48:52.518Z"
   },
   {
    "duration": 342,
    "start_time": "2024-06-12T17:49:05.554Z"
   },
   {
    "duration": 23,
    "start_time": "2024-06-12T17:49:25.697Z"
   },
   {
    "duration": 6,
    "start_time": "2024-06-12T17:50:21.341Z"
   },
   {
    "duration": 153,
    "start_time": "2024-06-12T17:50:23.064Z"
   },
   {
    "duration": 16,
    "start_time": "2024-06-12T17:51:26.652Z"
   },
   {
    "duration": 13,
    "start_time": "2024-06-12T17:51:41.303Z"
   },
   {
    "duration": 101,
    "start_time": "2024-06-12T17:51:41.318Z"
   },
   {
    "duration": 1241,
    "start_time": "2024-06-12T17:54:11.892Z"
   },
   {
    "duration": 54,
    "start_time": "2024-06-12T17:54:46.969Z"
   },
   {
    "duration": 225,
    "start_time": "2024-06-12T17:55:18.520Z"
   },
   {
    "duration": 85,
    "start_time": "2024-06-12T17:59:06.610Z"
   },
   {
    "duration": 9382,
    "start_time": "2024-06-12T17:59:44.045Z"
   },
   {
    "duration": 4,
    "start_time": "2024-06-12T18:01:36.771Z"
   },
   {
    "duration": 13696,
    "start_time": "2024-06-12T18:04:53.380Z"
   },
   {
    "duration": 5,
    "start_time": "2024-06-12T18:05:07.540Z"
   },
   {
    "duration": 13452,
    "start_time": "2024-06-12T18:15:28.751Z"
   },
   {
    "duration": 14136,
    "start_time": "2024-06-12T18:31:32.643Z"
   },
   {
    "duration": 13963,
    "start_time": "2024-06-12T18:36:42.151Z"
   },
   {
    "duration": 3,
    "start_time": "2024-06-12T18:38:22.408Z"
   },
   {
    "duration": 4,
    "start_time": "2024-06-12T18:38:31.510Z"
   },
   {
    "duration": 14,
    "start_time": "2024-06-12T18:40:33.439Z"
   },
   {
    "duration": 53,
    "start_time": "2024-06-12T18:41:37.450Z"
   },
   {
    "duration": 55,
    "start_time": "2024-06-12T18:44:43.411Z"
   },
   {
    "duration": 20,
    "start_time": "2024-06-12T19:06:47.538Z"
   },
   {
    "duration": 1098,
    "start_time": "2024-06-12T19:06:48.896Z"
   },
   {
    "duration": 29,
    "start_time": "2024-06-12T19:13:20.088Z"
   },
   {
    "duration": 22,
    "start_time": "2024-06-12T19:13:23.345Z"
   },
   {
    "duration": 23,
    "start_time": "2024-06-12T19:13:32.491Z"
   },
   {
    "duration": 34,
    "start_time": "2024-06-12T19:14:07.201Z"
   },
   {
    "duration": 12,
    "start_time": "2024-06-12T19:15:08.281Z"
   },
   {
    "duration": 7,
    "start_time": "2024-06-12T19:15:16.231Z"
   },
   {
    "duration": 900,
    "start_time": "2024-06-12T19:15:27.457Z"
   },
   {
    "duration": 882,
    "start_time": "2024-06-12T19:15:42.176Z"
   },
   {
    "duration": 16,
    "start_time": "2024-06-12T19:15:48.566Z"
   },
   {
    "duration": 15,
    "start_time": "2024-06-12T19:15:57.354Z"
   },
   {
    "duration": 963,
    "start_time": "2024-06-12T19:16:06.423Z"
   },
   {
    "duration": 4,
    "start_time": "2024-06-12T19:16:17.700Z"
   },
   {
    "duration": 6,
    "start_time": "2024-06-12T19:16:31.683Z"
   },
   {
    "duration": 28,
    "start_time": "2024-06-12T19:20:06.855Z"
   },
   {
    "duration": 35,
    "start_time": "2024-06-12T19:20:17.247Z"
   },
   {
    "duration": 12,
    "start_time": "2024-06-12T19:22:14.881Z"
   },
   {
    "duration": 12,
    "start_time": "2024-06-12T19:22:54.187Z"
   },
   {
    "duration": 1022,
    "start_time": "2024-06-12T19:23:18.323Z"
   },
   {
    "duration": 1011,
    "start_time": "2024-06-12T19:24:03.319Z"
   },
   {
    "duration": 22,
    "start_time": "2024-06-12T19:24:20.203Z"
   },
   {
    "duration": 17,
    "start_time": "2024-06-12T19:25:52.550Z"
   },
   {
    "duration": 4,
    "start_time": "2024-06-12T19:26:11.003Z"
   },
   {
    "duration": 20,
    "start_time": "2024-06-12T19:26:34.022Z"
   },
   {
    "duration": 879,
    "start_time": "2024-06-12T19:28:24.994Z"
   },
   {
    "duration": 58,
    "start_time": "2024-06-12T19:28:32.852Z"
   },
   {
    "duration": 61,
    "start_time": "2024-06-12T19:28:35.625Z"
   },
   {
    "duration": 58,
    "start_time": "2024-06-12T19:28:37.899Z"
   },
   {
    "duration": 21,
    "start_time": "2024-06-12T19:28:42.291Z"
   },
   {
    "duration": 23,
    "start_time": "2024-06-12T19:28:52.951Z"
   },
   {
    "duration": 19,
    "start_time": "2024-06-12T19:28:57.325Z"
   },
   {
    "duration": 3,
    "start_time": "2024-06-12T19:29:11.943Z"
   },
   {
    "duration": 2,
    "start_time": "2024-06-12T19:30:50.700Z"
   },
   {
    "duration": 22,
    "start_time": "2024-06-12T19:30:56.991Z"
   },
   {
    "duration": 21,
    "start_time": "2024-06-12T19:31:12.762Z"
   },
   {
    "duration": 18,
    "start_time": "2024-06-12T19:31:20.135Z"
   },
   {
    "duration": 18,
    "start_time": "2024-06-12T19:31:37.714Z"
   },
   {
    "duration": 17,
    "start_time": "2024-06-12T19:35:51.622Z"
   },
   {
    "duration": 22,
    "start_time": "2024-06-12T19:37:48.504Z"
   },
   {
    "duration": 1084,
    "start_time": "2024-06-12T19:38:09.099Z"
   },
   {
    "duration": 57,
    "start_time": "2024-06-12T19:38:50.208Z"
   },
   {
    "duration": 1068,
    "start_time": "2024-06-12T19:38:55.482Z"
   },
   {
    "duration": 1802,
    "start_time": "2024-06-12T19:39:20.976Z"
   },
   {
    "duration": 19,
    "start_time": "2024-06-12T19:40:48.784Z"
   },
   {
    "duration": 4,
    "start_time": "2024-06-12T19:41:18.524Z"
   },
   {
    "duration": 19,
    "start_time": "2024-06-12T19:41:23.574Z"
   },
   {
    "duration": 21,
    "start_time": "2024-06-12T19:42:22.272Z"
   },
   {
    "duration": 21,
    "start_time": "2024-06-12T19:42:23.982Z"
   },
   {
    "duration": 870,
    "start_time": "2024-06-12T19:42:38.206Z"
   },
   {
    "duration": 874,
    "start_time": "2024-06-12T19:42:47.329Z"
   },
   {
    "duration": 916,
    "start_time": "2024-06-12T19:42:53.081Z"
   },
   {
    "duration": 932,
    "start_time": "2024-06-12T19:43:09.075Z"
   },
   {
    "duration": 17,
    "start_time": "2024-06-12T19:44:34.495Z"
   },
   {
    "duration": 918,
    "start_time": "2024-06-12T19:45:05.914Z"
   },
   {
    "duration": 18,
    "start_time": "2024-06-12T19:46:23.584Z"
   },
   {
    "duration": 946,
    "start_time": "2024-06-12T19:48:47.917Z"
   },
   {
    "duration": 932,
    "start_time": "2024-06-12T19:50:40.489Z"
   },
   {
    "duration": 944,
    "start_time": "2024-06-12T19:52:27.858Z"
   },
   {
    "duration": 892,
    "start_time": "2024-06-12T19:53:47.599Z"
   },
   {
    "duration": 1053,
    "start_time": "2024-06-12T19:56:14.403Z"
   },
   {
    "duration": 18,
    "start_time": "2024-06-12T19:56:50.327Z"
   },
   {
    "duration": 13,
    "start_time": "2024-06-12T19:56:57.974Z"
   },
   {
    "duration": 17,
    "start_time": "2024-06-12T19:57:02.813Z"
   },
   {
    "duration": 4,
    "start_time": "2024-06-12T19:57:47.144Z"
   },
   {
    "duration": 19,
    "start_time": "2024-06-12T19:57:51.978Z"
   },
   {
    "duration": 22,
    "start_time": "2024-06-12T20:02:15.847Z"
   },
   {
    "duration": 19,
    "start_time": "2024-06-12T20:02:22.825Z"
   },
   {
    "duration": 21,
    "start_time": "2024-06-12T20:02:38.172Z"
   },
   {
    "duration": 31,
    "start_time": "2024-06-12T20:03:34.309Z"
   },
   {
    "duration": 5,
    "start_time": "2024-06-12T20:04:13.990Z"
   },
   {
    "duration": 21,
    "start_time": "2024-06-12T20:04:20.703Z"
   },
   {
    "duration": 19,
    "start_time": "2024-06-12T20:04:30.397Z"
   },
   {
    "duration": 1024,
    "start_time": "2024-06-12T20:04:39.706Z"
   },
   {
    "duration": 890,
    "start_time": "2024-06-12T20:04:45.599Z"
   },
   {
    "duration": 18,
    "start_time": "2024-06-12T20:05:10.388Z"
   },
   {
    "duration": 5,
    "start_time": "2024-06-12T20:08:12.217Z"
   },
   {
    "duration": 20,
    "start_time": "2024-06-12T20:08:20.212Z"
   },
   {
    "duration": 22,
    "start_time": "2024-06-12T20:09:20.009Z"
   },
   {
    "duration": 20,
    "start_time": "2024-06-12T20:09:21.951Z"
   },
   {
    "duration": 1035,
    "start_time": "2024-06-12T20:09:26.359Z"
   },
   {
    "duration": 20,
    "start_time": "2024-06-12T20:09:32.225Z"
   },
   {
    "duration": 989,
    "start_time": "2024-06-12T20:09:57.728Z"
   },
   {
    "duration": 1110,
    "start_time": "2024-06-12T20:10:47.243Z"
   },
   {
    "duration": 1437,
    "start_time": "2024-06-12T20:12:34.653Z"
   },
   {
    "duration": 1194,
    "start_time": "2024-06-12T20:14:56.086Z"
   },
   {
    "duration": 1269,
    "start_time": "2024-06-12T20:17:53.780Z"
   },
   {
    "duration": 1303,
    "start_time": "2024-06-12T20:19:29.787Z"
   },
   {
    "duration": 1292,
    "start_time": "2024-06-12T20:19:38.029Z"
   },
   {
    "duration": 11,
    "start_time": "2024-06-12T20:20:02.252Z"
   },
   {
    "duration": 1265,
    "start_time": "2024-06-12T20:20:07.095Z"
   },
   {
    "duration": 1214,
    "start_time": "2024-06-12T20:21:19.742Z"
   },
   {
    "duration": 18,
    "start_time": "2024-06-12T20:21:49.329Z"
   },
   {
    "duration": 1139,
    "start_time": "2024-06-12T20:22:29.253Z"
   },
   {
    "duration": 196,
    "start_time": "2024-06-12T20:22:46.530Z"
   },
   {
    "duration": 195,
    "start_time": "2024-06-12T20:23:50.968Z"
   },
   {
    "duration": 1097,
    "start_time": "2024-06-12T20:23:54.116Z"
   },
   {
    "duration": 1084,
    "start_time": "2024-06-12T20:24:03.109Z"
   },
   {
    "duration": 17,
    "start_time": "2024-06-12T20:28:29.370Z"
   },
   {
    "duration": 36,
    "start_time": "2024-06-12T20:29:03.176Z"
   },
   {
    "duration": 59,
    "start_time": "2024-06-12T20:30:35.042Z"
   },
   {
    "duration": 30,
    "start_time": "2024-06-12T20:30:42.134Z"
   },
   {
    "duration": 14,
    "start_time": "2024-06-12T20:31:33.160Z"
   },
   {
    "duration": 29,
    "start_time": "2024-06-12T20:31:50.005Z"
   },
   {
    "duration": 246,
    "start_time": "2024-06-12T20:33:02.063Z"
   },
   {
    "duration": 11,
    "start_time": "2024-06-12T20:33:35.375Z"
   },
   {
    "duration": 18,
    "start_time": "2024-06-12T20:33:44.391Z"
   },
   {
    "duration": 15,
    "start_time": "2024-06-12T20:34:02.763Z"
   },
   {
    "duration": 14,
    "start_time": "2024-06-12T20:35:36.912Z"
   },
   {
    "duration": 18,
    "start_time": "2024-06-12T20:35:50.934Z"
   },
   {
    "duration": 56,
    "start_time": "2024-06-12T20:36:22.310Z"
   },
   {
    "duration": 6,
    "start_time": "2024-06-12T20:36:36.928Z"
   },
   {
    "duration": 18,
    "start_time": "2024-06-12T20:36:50.845Z"
   },
   {
    "duration": 7,
    "start_time": "2024-06-12T20:37:44.885Z"
   },
   {
    "duration": 13,
    "start_time": "2024-06-12T20:38:35.955Z"
   },
   {
    "duration": 12,
    "start_time": "2024-06-12T20:38:46.035Z"
   },
   {
    "duration": 12,
    "start_time": "2024-06-12T20:39:06.343Z"
   },
   {
    "duration": 13,
    "start_time": "2024-06-12T20:41:29.429Z"
   },
   {
    "duration": 14,
    "start_time": "2024-06-12T20:41:51.501Z"
   },
   {
    "duration": 6,
    "start_time": "2024-06-12T20:43:01.854Z"
   },
   {
    "duration": 154,
    "start_time": "2024-06-12T20:45:00.360Z"
   },
   {
    "duration": 201,
    "start_time": "2024-06-12T20:45:10.055Z"
   },
   {
    "duration": 199,
    "start_time": "2024-06-12T20:45:13.831Z"
   },
   {
    "duration": 170,
    "start_time": "2024-06-12T20:45:18.415Z"
   },
   {
    "duration": 196,
    "start_time": "2024-06-12T20:46:04.805Z"
   },
   {
    "duration": 204,
    "start_time": "2024-06-12T20:46:11.525Z"
   },
   {
    "duration": 56,
    "start_time": "2024-06-12T20:46:58.223Z"
   },
   {
    "duration": 56,
    "start_time": "2024-06-12T20:47:08.114Z"
   },
   {
    "duration": 236,
    "start_time": "2024-06-12T20:47:12.016Z"
   },
   {
    "duration": 249,
    "start_time": "2024-06-12T20:49:10.879Z"
   },
   {
    "duration": 257,
    "start_time": "2024-06-12T20:49:17.010Z"
   },
   {
    "duration": 5,
    "start_time": "2024-06-12T20:49:50.408Z"
   },
   {
    "duration": 5,
    "start_time": "2024-06-12T20:49:54.254Z"
   },
   {
    "duration": 12,
    "start_time": "2024-06-12T20:50:11.342Z"
   },
   {
    "duration": 6,
    "start_time": "2024-06-12T20:50:17.191Z"
   },
   {
    "duration": 6,
    "start_time": "2024-06-12T20:50:40.085Z"
   },
   {
    "duration": 57,
    "start_time": "2024-06-12T20:51:24.071Z"
   },
   {
    "duration": 7,
    "start_time": "2024-06-12T20:51:38.801Z"
   },
   {
    "duration": 129,
    "start_time": "2024-06-12T20:51:39.377Z"
   },
   {
    "duration": 126,
    "start_time": "2024-06-12T20:52:15.009Z"
   },
   {
    "duration": 130,
    "start_time": "2024-06-12T20:55:47.420Z"
   },
   {
    "duration": 13,
    "start_time": "2024-06-12T21:06:17.343Z"
   },
   {
    "duration": 14,
    "start_time": "2024-06-12T21:06:31.921Z"
   },
   {
    "duration": 1664,
    "start_time": "2024-06-13T07:55:09.286Z"
   },
   {
    "duration": 120,
    "start_time": "2024-06-13T07:55:10.952Z"
   },
   {
    "duration": 16,
    "start_time": "2024-06-13T07:55:11.074Z"
   },
   {
    "duration": 12,
    "start_time": "2024-06-13T07:55:11.092Z"
   },
   {
    "duration": 15,
    "start_time": "2024-06-13T07:55:11.106Z"
   },
   {
    "duration": 14,
    "start_time": "2024-06-13T07:55:11.123Z"
   },
   {
    "duration": 24,
    "start_time": "2024-06-13T07:55:11.139Z"
   },
   {
    "duration": 8,
    "start_time": "2024-06-13T07:55:11.164Z"
   },
   {
    "duration": 8,
    "start_time": "2024-06-13T07:55:11.173Z"
   },
   {
    "duration": 19,
    "start_time": "2024-06-13T07:55:11.211Z"
   },
   {
    "duration": 54,
    "start_time": "2024-06-13T07:55:11.231Z"
   },
   {
    "duration": 37,
    "start_time": "2024-06-13T07:55:11.286Z"
   },
   {
    "duration": 12,
    "start_time": "2024-06-13T07:55:11.324Z"
   },
   {
    "duration": 10,
    "start_time": "2024-06-13T07:55:11.337Z"
   },
   {
    "duration": 13,
    "start_time": "2024-06-13T07:55:11.349Z"
   },
   {
    "duration": 7,
    "start_time": "2024-06-13T07:55:11.363Z"
   },
   {
    "duration": 202,
    "start_time": "2024-06-13T07:55:11.371Z"
   },
   {
    "duration": 21,
    "start_time": "2024-06-13T07:55:11.574Z"
   },
   {
    "duration": 48,
    "start_time": "2024-06-13T07:55:11.596Z"
   },
   {
    "duration": 160,
    "start_time": "2024-06-13T07:55:11.646Z"
   },
   {
    "duration": 14,
    "start_time": "2024-06-13T07:55:11.808Z"
   },
   {
    "duration": 174,
    "start_time": "2024-06-13T07:55:11.824Z"
   },
   {
    "duration": 23,
    "start_time": "2024-06-13T07:55:12.000Z"
   },
   {
    "duration": 28,
    "start_time": "2024-06-13T07:55:12.025Z"
   },
   {
    "duration": 127,
    "start_time": "2024-06-13T07:55:12.055Z"
   },
   {
    "duration": 15,
    "start_time": "2024-06-13T07:55:12.184Z"
   },
   {
    "duration": 19,
    "start_time": "2024-06-13T07:55:12.201Z"
   },
   {
    "duration": 175,
    "start_time": "2024-06-13T07:55:12.224Z"
   },
   {
    "duration": 695,
    "start_time": "2024-06-13T07:55:12.400Z"
   },
   {
    "duration": 23,
    "start_time": "2024-06-13T07:55:13.097Z"
   },
   {
    "duration": 292,
    "start_time": "2024-06-13T07:55:13.122Z"
   },
   {
    "duration": 231,
    "start_time": "2024-06-13T07:55:13.415Z"
   },
   {
    "duration": 40,
    "start_time": "2024-06-13T07:55:13.647Z"
   },
   {
    "duration": 23,
    "start_time": "2024-06-13T07:55:13.689Z"
   },
   {
    "duration": 21,
    "start_time": "2024-06-13T07:55:13.714Z"
   },
   {
    "duration": 132,
    "start_time": "2024-06-13T07:55:13.737Z"
   },
   {
    "duration": 169,
    "start_time": "2024-06-13T07:55:13.871Z"
   },
   {
    "duration": 10,
    "start_time": "2024-06-13T07:55:14.041Z"
   },
   {
    "duration": 94,
    "start_time": "2024-06-13T07:55:14.053Z"
   },
   {
    "duration": 11,
    "start_time": "2024-06-13T07:55:14.148Z"
   },
   {
    "duration": 1103,
    "start_time": "2024-06-13T07:55:14.161Z"
   },
   {
    "duration": 55,
    "start_time": "2024-06-13T07:55:15.265Z"
   },
   {
    "duration": 118,
    "start_time": "2024-06-13T07:55:15.322Z"
   },
   {
    "duration": 13363,
    "start_time": "2024-06-13T07:55:15.442Z"
   },
   {
    "duration": 16,
    "start_time": "2024-06-13T07:55:28.812Z"
   },
   {
    "duration": 1243,
    "start_time": "2024-06-13T07:55:28.830Z"
   },
   {
    "duration": 14,
    "start_time": "2024-06-13T07:55:30.075Z"
   },
   {
    "duration": 34,
    "start_time": "2024-06-13T07:55:30.091Z"
   },
   {
    "duration": 34,
    "start_time": "2024-06-13T07:55:30.126Z"
   },
   {
    "duration": 272,
    "start_time": "2024-06-13T07:55:30.162Z"
   },
   {
    "duration": 5,
    "start_time": "2024-06-13T07:55:30.436Z"
   },
   {
    "duration": 154,
    "start_time": "2024-06-13T07:55:30.442Z"
   },
   {
    "duration": 9,
    "start_time": "2024-06-13T07:57:46.225Z"
   },
   {
    "duration": 32,
    "start_time": "2024-06-13T07:58:07.147Z"
   },
   {
    "duration": 6,
    "start_time": "2024-06-13T07:58:30.178Z"
   },
   {
    "duration": 6,
    "start_time": "2024-06-13T08:01:08.708Z"
   },
   {
    "duration": 7,
    "start_time": "2024-06-13T08:02:40.752Z"
   },
   {
    "duration": 5,
    "start_time": "2024-06-13T08:06:08.730Z"
   },
   {
    "duration": 42,
    "start_time": "2024-06-13T08:09:01.807Z"
   },
   {
    "duration": 7,
    "start_time": "2024-06-13T08:09:24.683Z"
   },
   {
    "duration": 4,
    "start_time": "2024-06-13T08:09:39.762Z"
   },
   {
    "duration": 7,
    "start_time": "2024-06-13T08:09:46.655Z"
   },
   {
    "duration": 433,
    "start_time": "2024-06-13T08:11:21.281Z"
   },
   {
    "duration": 13,
    "start_time": "2024-06-13T08:11:35.552Z"
   },
   {
    "duration": 10,
    "start_time": "2024-06-13T08:11:40.717Z"
   },
   {
    "duration": 10,
    "start_time": "2024-06-13T08:11:48.460Z"
   },
   {
    "duration": 42,
    "start_time": "2024-06-13T08:12:51.788Z"
   },
   {
    "duration": 8,
    "start_time": "2024-06-13T08:13:02.374Z"
   },
   {
    "duration": 60,
    "start_time": "2024-06-13T08:19:55.129Z"
   },
   {
    "duration": 123,
    "start_time": "2024-06-13T08:20:00.475Z"
   },
   {
    "duration": 73,
    "start_time": "2024-06-13T08:27:02.569Z"
   },
   {
    "duration": 13,
    "start_time": "2024-06-13T08:27:06.197Z"
   },
   {
    "duration": 12,
    "start_time": "2024-06-13T08:27:09.383Z"
   },
   {
    "duration": 14,
    "start_time": "2024-06-13T08:30:15.511Z"
   },
   {
    "duration": 12,
    "start_time": "2024-06-13T08:30:27.072Z"
   },
   {
    "duration": 12,
    "start_time": "2024-06-13T08:30:36.388Z"
   },
   {
    "duration": 16,
    "start_time": "2024-06-13T10:27:27.147Z"
   },
   {
    "duration": 8,
    "start_time": "2024-06-13T10:28:05.379Z"
   },
   {
    "duration": 8,
    "start_time": "2024-06-13T10:29:03.516Z"
   },
   {
    "duration": 9,
    "start_time": "2024-06-13T10:29:57.632Z"
   },
   {
    "duration": 8,
    "start_time": "2024-06-13T10:30:07.306Z"
   },
   {
    "duration": 63,
    "start_time": "2024-06-13T10:30:19.915Z"
   },
   {
    "duration": 972,
    "start_time": "2024-06-13T10:30:27.444Z"
   },
   {
    "duration": 967,
    "start_time": "2024-06-13T10:30:44.122Z"
   },
   {
    "duration": 7,
    "start_time": "2024-06-13T10:30:50.683Z"
   },
   {
    "duration": 23,
    "start_time": "2024-06-13T10:30:58.611Z"
   },
   {
    "duration": 11,
    "start_time": "2024-06-13T10:31:28.178Z"
   },
   {
    "duration": 11,
    "start_time": "2024-06-13T10:32:25.957Z"
   },
   {
    "duration": 11,
    "start_time": "2024-06-13T10:32:33.686Z"
   },
   {
    "duration": 1112,
    "start_time": "2024-06-13T12:00:23.637Z"
   },
   {
    "duration": 177,
    "start_time": "2024-06-13T12:00:33.134Z"
   },
   {
    "duration": 150,
    "start_time": "2024-06-13T12:01:21.127Z"
   },
   {
    "duration": 157,
    "start_time": "2024-06-13T12:01:36.791Z"
   },
   {
    "duration": 122,
    "start_time": "2024-06-13T13:30:50.212Z"
   },
   {
    "duration": 1546,
    "start_time": "2024-06-13T19:34:37.478Z"
   },
   {
    "duration": 243,
    "start_time": "2024-06-13T19:34:39.026Z"
   },
   {
    "duration": 16,
    "start_time": "2024-06-13T19:34:39.271Z"
   },
   {
    "duration": 11,
    "start_time": "2024-06-13T19:34:39.289Z"
   },
   {
    "duration": 20,
    "start_time": "2024-06-13T19:34:39.301Z"
   },
   {
    "duration": 10,
    "start_time": "2024-06-13T19:34:39.322Z"
   },
   {
    "duration": 28,
    "start_time": "2024-06-13T19:34:39.333Z"
   },
   {
    "duration": 6,
    "start_time": "2024-06-13T19:34:39.362Z"
   },
   {
    "duration": 18,
    "start_time": "2024-06-13T19:34:39.370Z"
   },
   {
    "duration": 26,
    "start_time": "2024-06-13T19:34:39.390Z"
   },
   {
    "duration": 48,
    "start_time": "2024-06-13T19:34:39.417Z"
   },
   {
    "duration": 16,
    "start_time": "2024-06-13T19:34:39.467Z"
   },
   {
    "duration": 11,
    "start_time": "2024-06-13T19:34:39.484Z"
   },
   {
    "duration": 5,
    "start_time": "2024-06-13T19:34:39.520Z"
   },
   {
    "duration": 13,
    "start_time": "2024-06-13T19:34:39.526Z"
   },
   {
    "duration": 6,
    "start_time": "2024-06-13T19:34:39.540Z"
   },
   {
    "duration": 177,
    "start_time": "2024-06-13T19:34:39.547Z"
   },
   {
    "duration": 17,
    "start_time": "2024-06-13T19:34:39.725Z"
   },
   {
    "duration": 32,
    "start_time": "2024-06-13T19:34:39.743Z"
   },
   {
    "duration": 179,
    "start_time": "2024-06-13T19:34:39.777Z"
   },
   {
    "duration": 66,
    "start_time": "2024-06-13T19:34:39.958Z"
   },
   {
    "duration": 314,
    "start_time": "2024-06-13T19:34:40.025Z"
   },
   {
    "duration": 13,
    "start_time": "2024-06-13T19:34:40.340Z"
   },
   {
    "duration": 15,
    "start_time": "2024-06-13T19:34:40.354Z"
   },
   {
    "duration": 250,
    "start_time": "2024-06-13T19:34:40.370Z"
   },
   {
    "duration": 13,
    "start_time": "2024-06-13T19:34:40.622Z"
   },
   {
    "duration": 11,
    "start_time": "2024-06-13T19:34:40.636Z"
   },
   {
    "duration": 308,
    "start_time": "2024-06-13T19:34:40.650Z"
   },
   {
    "duration": 771,
    "start_time": "2024-06-13T19:34:40.960Z"
   },
   {
    "duration": 15,
    "start_time": "2024-06-13T19:34:41.732Z"
   },
   {
    "duration": 251,
    "start_time": "2024-06-13T19:34:41.749Z"
   },
   {
    "duration": 219,
    "start_time": "2024-06-13T19:34:42.001Z"
   },
   {
    "duration": 34,
    "start_time": "2024-06-13T19:34:42.221Z"
   },
   {
    "duration": 6,
    "start_time": "2024-06-13T19:34:42.257Z"
   },
   {
    "duration": 21,
    "start_time": "2024-06-13T19:34:42.264Z"
   },
   {
    "duration": 146,
    "start_time": "2024-06-13T19:34:42.286Z"
   },
   {
    "duration": 238,
    "start_time": "2024-06-13T19:34:42.433Z"
   },
   {
    "duration": 9,
    "start_time": "2024-06-13T19:34:42.672Z"
   },
   {
    "duration": 88,
    "start_time": "2024-06-13T19:34:42.682Z"
   },
   {
    "duration": 10,
    "start_time": "2024-06-13T19:34:42.771Z"
   },
   {
    "duration": 1025,
    "start_time": "2024-06-13T19:34:42.783Z"
   },
   {
    "duration": 50,
    "start_time": "2024-06-13T19:34:43.809Z"
   },
   {
    "duration": 109,
    "start_time": "2024-06-13T19:34:43.860Z"
   },
   {
    "duration": 192,
    "start_time": "2024-06-13T19:34:43.971Z"
   },
   {
    "duration": 11703,
    "start_time": "2024-06-13T19:34:44.165Z"
   },
   {
    "duration": 15,
    "start_time": "2024-06-13T19:34:55.870Z"
   },
   {
    "duration": 1194,
    "start_time": "2024-06-13T19:34:55.886Z"
   },
   {
    "duration": 13,
    "start_time": "2024-06-13T19:34:57.082Z"
   },
   {
    "duration": 14,
    "start_time": "2024-06-13T19:34:57.097Z"
   },
   {
    "duration": 19,
    "start_time": "2024-06-13T19:34:57.112Z"
   },
   {
    "duration": 8,
    "start_time": "2024-06-13T19:34:57.132Z"
   },
   {
    "duration": 200,
    "start_time": "2024-06-13T19:34:57.141Z"
   },
   {
    "duration": 5,
    "start_time": "2024-06-13T19:34:57.342Z"
   },
   {
    "duration": 9,
    "start_time": "2024-06-13T19:34:57.349Z"
   },
   {
    "duration": 123,
    "start_time": "2024-06-13T19:34:57.359Z"
   },
   {
    "duration": 103,
    "start_time": "2024-06-13T19:34:57.484Z"
   },
   {
    "duration": 9,
    "start_time": "2024-06-13T19:34:57.588Z"
   },
   {
    "duration": 23,
    "start_time": "2024-06-13T19:34:57.599Z"
   },
   {
    "duration": 12,
    "start_time": "2024-06-13T19:34:57.623Z"
   },
   {
    "duration": 18,
    "start_time": "2024-06-13T19:34:57.636Z"
   },
   {
    "duration": 3,
    "start_time": "2024-06-13T22:54:24.457Z"
   },
   {
    "duration": 65,
    "start_time": "2024-06-13T22:54:24.462Z"
   },
   {
    "duration": 12,
    "start_time": "2024-06-13T22:54:24.529Z"
   },
   {
    "duration": 20,
    "start_time": "2024-06-13T22:54:24.542Z"
   },
   {
    "duration": 12,
    "start_time": "2024-06-13T22:54:24.564Z"
   },
   {
    "duration": 9,
    "start_time": "2024-06-13T22:54:24.577Z"
   },
   {
    "duration": 42,
    "start_time": "2024-06-13T22:54:24.588Z"
   },
   {
    "duration": 6,
    "start_time": "2024-06-13T22:54:24.632Z"
   },
   {
    "duration": 8,
    "start_time": "2024-06-13T22:54:24.640Z"
   },
   {
    "duration": 30,
    "start_time": "2024-06-13T22:54:24.650Z"
   },
   {
    "duration": 71,
    "start_time": "2024-06-13T22:54:24.682Z"
   },
   {
    "duration": 16,
    "start_time": "2024-06-13T22:54:24.755Z"
   },
   {
    "duration": 11,
    "start_time": "2024-06-13T22:54:24.772Z"
   },
   {
    "duration": 6,
    "start_time": "2024-06-13T22:54:24.784Z"
   },
   {
    "duration": 38,
    "start_time": "2024-06-13T22:54:24.791Z"
   },
   {
    "duration": 6,
    "start_time": "2024-06-13T22:54:24.831Z"
   },
   {
    "duration": 183,
    "start_time": "2024-06-13T22:54:24.839Z"
   },
   {
    "duration": 18,
    "start_time": "2024-06-13T22:54:25.024Z"
   },
   {
    "duration": 32,
    "start_time": "2024-06-13T22:54:25.043Z"
   },
   {
    "duration": 165,
    "start_time": "2024-06-13T22:54:25.076Z"
   },
   {
    "duration": 12,
    "start_time": "2024-06-13T22:54:25.243Z"
   },
   {
    "duration": 168,
    "start_time": "2024-06-13T22:54:25.257Z"
   },
   {
    "duration": 13,
    "start_time": "2024-06-13T22:54:25.427Z"
   },
   {
    "duration": 24,
    "start_time": "2024-06-13T22:54:25.442Z"
   },
   {
    "duration": 62,
    "start_time": "2024-06-13T22:54:25.467Z"
   },
   {
    "duration": 13,
    "start_time": "2024-06-13T22:54:25.530Z"
   },
   {
    "duration": 15,
    "start_time": "2024-06-13T22:54:25.544Z"
   },
   {
    "duration": 14,
    "start_time": "2024-06-13T22:54:25.560Z"
   },
   {
    "duration": 601,
    "start_time": "2024-06-13T22:54:25.577Z"
   },
   {
    "duration": 15,
    "start_time": "2024-06-13T22:54:26.179Z"
   },
   {
    "duration": 252,
    "start_time": "2024-06-13T22:54:26.195Z"
   },
   {
    "duration": 46,
    "start_time": "2024-06-13T22:54:26.448Z"
   },
   {
    "duration": 47,
    "start_time": "2024-06-13T22:54:26.495Z"
   },
   {
    "duration": 7,
    "start_time": "2024-06-13T22:54:26.543Z"
   },
   {
    "duration": 34,
    "start_time": "2024-06-13T22:54:26.551Z"
   },
   {
    "duration": 56,
    "start_time": "2024-06-13T22:54:26.586Z"
   },
   {
    "duration": 110,
    "start_time": "2024-06-13T22:54:26.643Z"
   },
   {
    "duration": 9,
    "start_time": "2024-06-13T22:54:26.754Z"
   },
   {
    "duration": 76,
    "start_time": "2024-06-13T22:54:26.764Z"
   },
   {
    "duration": 10,
    "start_time": "2024-06-13T22:54:26.841Z"
   },
   {
    "duration": 1199,
    "start_time": "2024-06-13T22:54:26.852Z"
   },
   {
    "duration": 44,
    "start_time": "2024-06-13T22:54:28.053Z"
   },
   {
    "duration": 121,
    "start_time": "2024-06-13T22:54:28.099Z"
   },
   {
    "duration": 99,
    "start_time": "2024-06-13T22:54:28.221Z"
   },
   {
    "duration": 11683,
    "start_time": "2024-06-13T22:54:28.322Z"
   },
   {
    "duration": 14,
    "start_time": "2024-06-13T22:54:40.020Z"
   },
   {
    "duration": 1094,
    "start_time": "2024-06-13T22:54:40.036Z"
   },
   {
    "duration": 15,
    "start_time": "2024-06-13T22:54:41.132Z"
   },
   {
    "duration": 10,
    "start_time": "2024-06-13T22:54:41.149Z"
   },
   {
    "duration": 16,
    "start_time": "2024-06-13T22:54:41.160Z"
   },
   {
    "duration": 11,
    "start_time": "2024-06-13T22:54:41.177Z"
   },
   {
    "duration": 207,
    "start_time": "2024-06-13T22:54:41.189Z"
   },
   {
    "duration": 5,
    "start_time": "2024-06-13T22:54:41.397Z"
   },
   {
    "duration": 23,
    "start_time": "2024-06-13T22:54:41.403Z"
   },
   {
    "duration": 110,
    "start_time": "2024-06-13T22:54:41.427Z"
   },
   {
    "duration": 98,
    "start_time": "2024-06-13T22:54:41.538Z"
   },
   {
    "duration": 9,
    "start_time": "2024-06-13T22:54:41.638Z"
   },
   {
    "duration": 21,
    "start_time": "2024-06-13T22:54:41.648Z"
   },
   {
    "duration": 13,
    "start_time": "2024-06-13T22:54:41.670Z"
   },
   {
    "duration": 24,
    "start_time": "2024-06-13T22:54:41.684Z"
   },
   {
    "duration": 3,
    "start_time": "2024-06-13T22:54:52.095Z"
   },
   {
    "duration": 74,
    "start_time": "2024-06-13T22:54:52.103Z"
   },
   {
    "duration": 12,
    "start_time": "2024-06-13T22:54:52.179Z"
   },
   {
    "duration": 21,
    "start_time": "2024-06-13T22:54:52.192Z"
   },
   {
    "duration": 24,
    "start_time": "2024-06-13T22:54:52.215Z"
   },
   {
    "duration": 16,
    "start_time": "2024-06-13T22:54:52.241Z"
   },
   {
    "duration": 23,
    "start_time": "2024-06-13T22:54:52.258Z"
   },
   {
    "duration": 7,
    "start_time": "2024-06-13T22:54:52.282Z"
   },
   {
    "duration": 34,
    "start_time": "2024-06-13T22:54:52.290Z"
   },
   {
    "duration": 26,
    "start_time": "2024-06-13T22:54:52.326Z"
   },
   {
    "duration": 66,
    "start_time": "2024-06-13T22:54:52.355Z"
   },
   {
    "duration": 18,
    "start_time": "2024-06-13T22:54:52.422Z"
   },
   {
    "duration": 15,
    "start_time": "2024-06-13T22:54:52.441Z"
   },
   {
    "duration": 29,
    "start_time": "2024-06-13T22:54:52.457Z"
   },
   {
    "duration": 28,
    "start_time": "2024-06-13T22:54:52.488Z"
   },
   {
    "duration": 93,
    "start_time": "2024-06-13T22:54:52.517Z"
   },
   {
    "duration": 211,
    "start_time": "2024-06-13T22:54:52.612Z"
   },
   {
    "duration": 19,
    "start_time": "2024-06-13T22:54:52.825Z"
   },
   {
    "duration": 40,
    "start_time": "2024-06-13T22:54:52.846Z"
   },
   {
    "duration": 159,
    "start_time": "2024-06-13T22:54:52.887Z"
   },
   {
    "duration": 12,
    "start_time": "2024-06-13T22:54:53.048Z"
   },
   {
    "duration": 182,
    "start_time": "2024-06-13T22:54:53.061Z"
   },
   {
    "duration": 13,
    "start_time": "2024-06-13T22:54:53.244Z"
   },
   {
    "duration": 47,
    "start_time": "2024-06-13T22:54:53.258Z"
   },
   {
    "duration": 65,
    "start_time": "2024-06-13T22:54:53.307Z"
   },
   {
    "duration": 13,
    "start_time": "2024-06-13T22:54:53.374Z"
   },
   {
    "duration": 20,
    "start_time": "2024-06-13T22:54:53.388Z"
   },
   {
    "duration": 31,
    "start_time": "2024-06-13T22:54:53.409Z"
   },
   {
    "duration": 590,
    "start_time": "2024-06-13T22:54:53.444Z"
   },
   {
    "duration": 15,
    "start_time": "2024-06-13T22:54:54.035Z"
   },
   {
    "duration": 271,
    "start_time": "2024-06-13T22:54:54.051Z"
   },
   {
    "duration": 51,
    "start_time": "2024-06-13T22:54:54.331Z"
   },
   {
    "duration": 45,
    "start_time": "2024-06-13T22:54:54.384Z"
   },
   {
    "duration": 6,
    "start_time": "2024-06-13T22:54:54.431Z"
   },
   {
    "duration": 35,
    "start_time": "2024-06-13T22:54:54.439Z"
   },
   {
    "duration": 57,
    "start_time": "2024-06-13T22:54:54.475Z"
   },
   {
    "duration": 110,
    "start_time": "2024-06-13T22:54:54.533Z"
   },
   {
    "duration": 8,
    "start_time": "2024-06-13T22:54:54.645Z"
   },
   {
    "duration": 80,
    "start_time": "2024-06-13T22:54:54.655Z"
   },
   {
    "duration": 10,
    "start_time": "2024-06-13T22:54:54.736Z"
   },
   {
    "duration": 1022,
    "start_time": "2024-06-13T22:54:54.747Z"
   },
   {
    "duration": 52,
    "start_time": "2024-06-13T22:54:55.771Z"
   },
   {
    "duration": 111,
    "start_time": "2024-06-13T22:54:55.824Z"
   },
   {
    "duration": 98,
    "start_time": "2024-06-13T22:54:55.936Z"
   },
   {
    "duration": 12003,
    "start_time": "2024-06-13T22:54:56.036Z"
   },
   {
    "duration": 14,
    "start_time": "2024-06-13T22:55:08.041Z"
   },
   {
    "duration": 1072,
    "start_time": "2024-06-13T22:55:08.056Z"
   },
   {
    "duration": 13,
    "start_time": "2024-06-13T22:55:09.129Z"
   },
   {
    "duration": 17,
    "start_time": "2024-06-13T22:55:09.143Z"
   },
   {
    "duration": 14,
    "start_time": "2024-06-13T22:55:09.161Z"
   },
   {
    "duration": 5,
    "start_time": "2024-06-13T22:55:09.176Z"
   },
   {
    "duration": 205,
    "start_time": "2024-06-13T22:55:09.182Z"
   },
   {
    "duration": 5,
    "start_time": "2024-06-13T22:55:09.389Z"
   },
   {
    "duration": 10,
    "start_time": "2024-06-13T22:55:09.395Z"
   },
   {
    "duration": 119,
    "start_time": "2024-06-13T22:55:09.406Z"
   },
   {
    "duration": 102,
    "start_time": "2024-06-13T22:55:09.527Z"
   },
   {
    "duration": 9,
    "start_time": "2024-06-13T22:55:09.630Z"
   },
   {
    "duration": 14,
    "start_time": "2024-06-13T22:55:09.641Z"
   },
   {
    "duration": 17,
    "start_time": "2024-06-13T22:55:09.656Z"
   },
   {
    "duration": 10,
    "start_time": "2024-06-13T22:55:09.674Z"
   },
   {
    "duration": 1652,
    "start_time": "2024-06-14T07:19:55.951Z"
   },
   {
    "duration": 120,
    "start_time": "2024-06-14T07:19:57.605Z"
   },
   {
    "duration": 19,
    "start_time": "2024-06-14T07:19:57.726Z"
   },
   {
    "duration": 14,
    "start_time": "2024-06-14T07:19:57.747Z"
   },
   {
    "duration": 14,
    "start_time": "2024-06-14T07:19:57.762Z"
   },
   {
    "duration": 11,
    "start_time": "2024-06-14T07:19:57.778Z"
   },
   {
    "duration": 30,
    "start_time": "2024-06-14T07:19:57.790Z"
   },
   {
    "duration": 8,
    "start_time": "2024-06-14T07:19:57.821Z"
   },
   {
    "duration": 15,
    "start_time": "2024-06-14T07:19:57.830Z"
   },
   {
    "duration": 19,
    "start_time": "2024-06-14T07:19:57.866Z"
   },
   {
    "duration": 58,
    "start_time": "2024-06-14T07:19:57.886Z"
   },
   {
    "duration": 37,
    "start_time": "2024-06-14T07:19:57.945Z"
   },
   {
    "duration": 83,
    "start_time": "2024-06-14T07:19:57.983Z"
   },
   {
    "duration": 28,
    "start_time": "2024-06-14T07:19:58.068Z"
   },
   {
    "duration": 18,
    "start_time": "2024-06-14T07:19:58.097Z"
   },
   {
    "duration": 16,
    "start_time": "2024-06-14T07:19:58.117Z"
   },
   {
    "duration": 187,
    "start_time": "2024-06-14T07:19:58.135Z"
   },
   {
    "duration": 24,
    "start_time": "2024-06-14T07:19:58.324Z"
   },
   {
    "duration": 48,
    "start_time": "2024-06-14T07:19:58.349Z"
   },
   {
    "duration": 178,
    "start_time": "2024-06-14T07:19:58.399Z"
   },
   {
    "duration": 15,
    "start_time": "2024-06-14T07:19:58.579Z"
   },
   {
    "duration": 184,
    "start_time": "2024-06-14T07:19:58.596Z"
   },
   {
    "duration": 14,
    "start_time": "2024-06-14T07:19:58.782Z"
   },
   {
    "duration": 9,
    "start_time": "2024-06-14T07:19:58.798Z"
   },
   {
    "duration": 167,
    "start_time": "2024-06-14T07:19:58.808Z"
   },
   {
    "duration": 15,
    "start_time": "2024-06-14T07:19:58.976Z"
   },
   {
    "duration": 21,
    "start_time": "2024-06-14T07:19:58.993Z"
   },
   {
    "duration": 171,
    "start_time": "2024-06-14T07:19:59.017Z"
   },
   {
    "duration": 727,
    "start_time": "2024-06-14T07:19:59.189Z"
   },
   {
    "duration": 16,
    "start_time": "2024-06-14T07:19:59.917Z"
   },
   {
    "duration": 287,
    "start_time": "2024-06-14T07:19:59.934Z"
   },
   {
    "duration": 219,
    "start_time": "2024-06-14T07:20:00.222Z"
   },
   {
    "duration": 51,
    "start_time": "2024-06-14T07:20:00.443Z"
   },
   {
    "duration": 7,
    "start_time": "2024-06-14T07:20:00.495Z"
   },
   {
    "duration": 70,
    "start_time": "2024-06-14T07:20:00.504Z"
   },
   {
    "duration": 178,
    "start_time": "2024-06-14T07:20:00.575Z"
   },
   {
    "duration": 161,
    "start_time": "2024-06-14T07:20:00.755Z"
   },
   {
    "duration": 11,
    "start_time": "2024-06-14T07:20:00.918Z"
   },
   {
    "duration": 164,
    "start_time": "2024-06-14T07:20:00.930Z"
   },
   {
    "duration": 31,
    "start_time": "2024-06-14T07:20:01.096Z"
   },
   {
    "duration": 1321,
    "start_time": "2024-06-14T07:20:01.128Z"
   },
   {
    "duration": 58,
    "start_time": "2024-06-14T07:20:02.451Z"
   },
   {
    "duration": 125,
    "start_time": "2024-06-14T07:20:02.511Z"
   },
   {
    "duration": 220,
    "start_time": "2024-06-14T07:20:02.637Z"
   },
   {
    "duration": 13447,
    "start_time": "2024-06-14T07:20:02.864Z"
   },
   {
    "duration": 51,
    "start_time": "2024-06-14T07:20:16.314Z"
   },
   {
    "duration": 1382,
    "start_time": "2024-06-14T07:20:16.367Z"
   },
   {
    "duration": 25,
    "start_time": "2024-06-14T07:20:17.750Z"
   },
   {
    "duration": 5,
    "start_time": "2024-06-14T07:20:17.777Z"
   },
   {
    "duration": 18,
    "start_time": "2024-06-14T07:20:17.784Z"
   },
   {
    "duration": 8,
    "start_time": "2024-06-14T07:20:17.804Z"
   },
   {
    "duration": 268,
    "start_time": "2024-06-14T07:20:17.813Z"
   },
   {
    "duration": 6,
    "start_time": "2024-06-14T07:20:18.082Z"
   },
   {
    "duration": 15,
    "start_time": "2024-06-14T07:20:18.090Z"
   },
   {
    "duration": 122,
    "start_time": "2024-06-14T07:20:18.107Z"
   },
   {
    "duration": 117,
    "start_time": "2024-06-14T07:20:18.230Z"
   },
   {
    "duration": 23,
    "start_time": "2024-06-14T07:20:18.349Z"
   },
   {
    "duration": 10,
    "start_time": "2024-06-14T07:20:18.374Z"
   },
   {
    "duration": 13,
    "start_time": "2024-06-14T07:20:18.385Z"
   },
   {
    "duration": 10,
    "start_time": "2024-06-14T07:20:18.399Z"
   },
   {
    "duration": 1202,
    "start_time": "2024-06-14T07:24:29.719Z"
   },
   {
    "duration": 1433,
    "start_time": "2024-06-14T07:26:27.964Z"
   },
   {
    "duration": 1116,
    "start_time": "2024-06-14T07:26:42.939Z"
   },
   {
    "duration": 1210,
    "start_time": "2024-06-14T07:26:51.380Z"
   },
   {
    "duration": 1501,
    "start_time": "2024-06-14T07:27:18.096Z"
   },
   {
    "duration": 1167,
    "start_time": "2024-06-14T07:27:26.137Z"
   },
   {
    "duration": 5,
    "start_time": "2024-06-14T13:33:02.552Z"
   },
   {
    "duration": 99,
    "start_time": "2024-06-14T13:33:02.559Z"
   },
   {
    "duration": 16,
    "start_time": "2024-06-14T13:33:02.660Z"
   },
   {
    "duration": 58,
    "start_time": "2024-06-14T13:33:02.677Z"
   },
   {
    "duration": 21,
    "start_time": "2024-06-14T13:33:02.737Z"
   },
   {
    "duration": 13,
    "start_time": "2024-06-14T13:33:02.759Z"
   },
   {
    "duration": 25,
    "start_time": "2024-06-14T13:33:02.774Z"
   },
   {
    "duration": 8,
    "start_time": "2024-06-14T13:33:02.801Z"
   },
   {
    "duration": 31,
    "start_time": "2024-06-14T13:33:02.810Z"
   },
   {
    "duration": 31,
    "start_time": "2024-06-14T13:33:02.843Z"
   },
   {
    "duration": 54,
    "start_time": "2024-06-14T13:33:02.877Z"
   },
   {
    "duration": 44,
    "start_time": "2024-06-14T13:33:02.933Z"
   },
   {
    "duration": 18,
    "start_time": "2024-06-14T13:33:02.979Z"
   },
   {
    "duration": 9,
    "start_time": "2024-06-14T13:33:02.999Z"
   },
   {
    "duration": 14,
    "start_time": "2024-06-14T13:33:03.010Z"
   },
   {
    "duration": 42,
    "start_time": "2024-06-14T13:33:03.026Z"
   },
   {
    "duration": 207,
    "start_time": "2024-06-14T13:33:03.070Z"
   },
   {
    "duration": 25,
    "start_time": "2024-06-14T13:33:03.278Z"
   },
   {
    "duration": 107,
    "start_time": "2024-06-14T13:33:03.305Z"
   },
   {
    "duration": 172,
    "start_time": "2024-06-14T13:33:03.414Z"
   },
   {
    "duration": 17,
    "start_time": "2024-06-14T13:33:03.589Z"
   },
   {
    "duration": 200,
    "start_time": "2024-06-14T13:33:03.607Z"
   },
   {
    "duration": 16,
    "start_time": "2024-06-14T13:33:03.809Z"
   },
   {
    "duration": 17,
    "start_time": "2024-06-14T13:33:03.827Z"
   },
   {
    "duration": 78,
    "start_time": "2024-06-14T13:33:03.846Z"
   },
   {
    "duration": 17,
    "start_time": "2024-06-14T13:33:03.925Z"
   },
   {
    "duration": 75,
    "start_time": "2024-06-14T13:33:03.943Z"
   },
   {
    "duration": 18,
    "start_time": "2024-06-14T13:33:04.019Z"
   },
   {
    "duration": 658,
    "start_time": "2024-06-14T13:33:04.042Z"
   },
   {
    "duration": 17,
    "start_time": "2024-06-14T13:33:04.702Z"
   },
   {
    "duration": 269,
    "start_time": "2024-06-14T13:33:04.721Z"
   },
   {
    "duration": 54,
    "start_time": "2024-06-14T13:33:04.992Z"
   },
   {
    "duration": 50,
    "start_time": "2024-06-14T13:33:05.047Z"
   },
   {
    "duration": 8,
    "start_time": "2024-06-14T13:33:05.099Z"
   },
   {
    "duration": 20,
    "start_time": "2024-06-14T13:33:05.109Z"
   },
   {
    "duration": 80,
    "start_time": "2024-06-14T13:33:05.130Z"
   },
   {
    "duration": 118,
    "start_time": "2024-06-14T13:33:05.211Z"
   },
   {
    "duration": 15,
    "start_time": "2024-06-14T13:33:05.330Z"
   },
   {
    "duration": 93,
    "start_time": "2024-06-14T13:33:05.347Z"
   },
   {
    "duration": 24,
    "start_time": "2024-06-14T13:33:05.442Z"
   },
   {
    "duration": 1339,
    "start_time": "2024-06-14T13:33:05.468Z"
   },
   {
    "duration": 49,
    "start_time": "2024-06-14T13:33:06.808Z"
   },
   {
    "duration": 119,
    "start_time": "2024-06-14T13:33:06.858Z"
   },
   {
    "duration": 98,
    "start_time": "2024-06-14T13:33:06.978Z"
   },
   {
    "duration": 13977,
    "start_time": "2024-06-14T13:33:07.078Z"
   },
   {
    "duration": 17,
    "start_time": "2024-06-14T13:33:21.057Z"
   },
   {
    "duration": 1156,
    "start_time": "2024-06-14T13:33:21.076Z"
   },
   {
    "duration": 32,
    "start_time": "2024-06-14T13:33:22.234Z"
   },
   {
    "duration": 6,
    "start_time": "2024-06-14T13:33:22.268Z"
   },
   {
    "duration": 16,
    "start_time": "2024-06-14T13:33:22.275Z"
   },
   {
    "duration": 5,
    "start_time": "2024-06-14T13:33:22.293Z"
   },
   {
    "duration": 255,
    "start_time": "2024-06-14T13:33:22.299Z"
   },
   {
    "duration": 10,
    "start_time": "2024-06-14T13:33:22.556Z"
   },
   {
    "duration": 7,
    "start_time": "2024-06-14T13:33:22.567Z"
   },
   {
    "duration": 126,
    "start_time": "2024-06-14T13:33:22.575Z"
   },
   {
    "duration": 115,
    "start_time": "2024-06-14T13:33:22.703Z"
   },
   {
    "duration": 14,
    "start_time": "2024-06-14T13:33:22.820Z"
   },
   {
    "duration": 33,
    "start_time": "2024-06-14T13:33:22.836Z"
   },
   {
    "duration": 13,
    "start_time": "2024-06-14T13:33:22.870Z"
   },
   {
    "duration": 11,
    "start_time": "2024-06-14T13:33:22.885Z"
   },
   {
    "duration": 2095,
    "start_time": "2024-06-14T14:51:39.493Z"
   },
   {
    "duration": 219,
    "start_time": "2024-06-14T14:51:41.589Z"
   },
   {
    "duration": 17,
    "start_time": "2024-06-14T14:51:41.809Z"
   },
   {
    "duration": 11,
    "start_time": "2024-06-14T14:51:41.828Z"
   },
   {
    "duration": 13,
    "start_time": "2024-06-14T14:51:41.841Z"
   },
   {
    "duration": 13,
    "start_time": "2024-06-14T14:51:41.855Z"
   },
   {
    "duration": 35,
    "start_time": "2024-06-14T14:51:41.885Z"
   },
   {
    "duration": 6,
    "start_time": "2024-06-14T14:51:41.921Z"
   },
   {
    "duration": 7,
    "start_time": "2024-06-14T14:51:41.929Z"
   },
   {
    "duration": 16,
    "start_time": "2024-06-14T14:51:41.938Z"
   },
   {
    "duration": 71,
    "start_time": "2024-06-14T14:51:41.955Z"
   },
   {
    "duration": 17,
    "start_time": "2024-06-14T14:51:42.027Z"
   },
   {
    "duration": 39,
    "start_time": "2024-06-14T14:51:42.045Z"
   },
   {
    "duration": 5,
    "start_time": "2024-06-14T14:51:42.086Z"
   },
   {
    "duration": 10,
    "start_time": "2024-06-14T14:51:42.092Z"
   },
   {
    "duration": 7,
    "start_time": "2024-06-14T14:51:42.103Z"
   },
   {
    "duration": 177,
    "start_time": "2024-06-14T14:51:42.111Z"
   },
   {
    "duration": 24,
    "start_time": "2024-06-14T14:51:42.289Z"
   },
   {
    "duration": 34,
    "start_time": "2024-06-14T14:51:42.315Z"
   },
   {
    "duration": 159,
    "start_time": "2024-06-14T14:51:42.350Z"
   },
   {
    "duration": 12,
    "start_time": "2024-06-14T14:51:42.511Z"
   },
   {
    "duration": 172,
    "start_time": "2024-06-14T14:51:42.525Z"
   },
   {
    "duration": 14,
    "start_time": "2024-06-14T14:51:42.698Z"
   },
   {
    "duration": 20,
    "start_time": "2024-06-14T14:51:42.714Z"
   },
   {
    "duration": 140,
    "start_time": "2024-06-14T14:51:42.736Z"
   },
   {
    "duration": 18,
    "start_time": "2024-06-14T14:51:42.877Z"
   },
   {
    "duration": 14,
    "start_time": "2024-06-14T14:51:42.897Z"
   },
   {
    "duration": 306,
    "start_time": "2024-06-14T14:51:42.914Z"
   },
   {
    "duration": 589,
    "start_time": "2024-06-14T14:51:43.221Z"
   },
   {
    "duration": 14,
    "start_time": "2024-06-14T14:51:43.811Z"
   },
   {
    "duration": 247,
    "start_time": "2024-06-14T14:51:43.826Z"
   },
   {
    "duration": 207,
    "start_time": "2024-06-14T14:51:44.074Z"
   },
   {
    "duration": 32,
    "start_time": "2024-06-14T14:51:44.284Z"
   },
   {
    "duration": 6,
    "start_time": "2024-06-14T14:51:44.317Z"
   },
   {
    "duration": 22,
    "start_time": "2024-06-14T14:51:44.324Z"
   },
   {
    "duration": 126,
    "start_time": "2024-06-14T14:51:44.347Z"
   },
   {
    "duration": 203,
    "start_time": "2024-06-14T14:51:44.475Z"
   },
   {
    "duration": 9,
    "start_time": "2024-06-14T14:51:44.679Z"
   },
   {
    "duration": 65,
    "start_time": "2024-06-14T14:51:44.689Z"
   },
   {
    "duration": 10,
    "start_time": "2024-06-14T14:51:44.755Z"
   },
   {
    "duration": 984,
    "start_time": "2024-06-14T14:51:44.766Z"
   },
   {
    "duration": 50,
    "start_time": "2024-06-14T14:51:45.752Z"
   },
   {
    "duration": 100,
    "start_time": "2024-06-14T14:51:45.803Z"
   },
   {
    "duration": 167,
    "start_time": "2024-06-14T14:51:45.904Z"
   },
   {
    "duration": 11586,
    "start_time": "2024-06-14T14:51:46.072Z"
   },
   {
    "duration": 30,
    "start_time": "2024-06-14T14:51:57.659Z"
   },
   {
    "duration": 1066,
    "start_time": "2024-06-14T14:51:57.690Z"
   },
   {
    "duration": 12,
    "start_time": "2024-06-14T14:51:58.757Z"
   },
   {
    "duration": 15,
    "start_time": "2024-06-14T14:51:58.770Z"
   },
   {
    "duration": 15,
    "start_time": "2024-06-14T14:51:58.786Z"
   },
   {
    "duration": 6,
    "start_time": "2024-06-14T14:51:58.802Z"
   },
   {
    "duration": 196,
    "start_time": "2024-06-14T14:51:58.809Z"
   },
   {
    "duration": 5,
    "start_time": "2024-06-14T14:51:59.007Z"
   },
   {
    "duration": 9,
    "start_time": "2024-06-14T14:51:59.013Z"
   },
   {
    "duration": 105,
    "start_time": "2024-06-14T14:51:59.023Z"
   },
   {
    "duration": 99,
    "start_time": "2024-06-14T14:51:59.130Z"
   },
   {
    "duration": 9,
    "start_time": "2024-06-14T14:51:59.231Z"
   },
   {
    "duration": 8,
    "start_time": "2024-06-14T14:51:59.241Z"
   },
   {
    "duration": 10,
    "start_time": "2024-06-14T14:51:59.251Z"
   },
   {
    "duration": 29,
    "start_time": "2024-06-14T14:51:59.262Z"
   },
   {
    "duration": 89,
    "start_time": "2024-06-23T17:02:12.538Z"
   },
   {
    "duration": 1511,
    "start_time": "2024-06-23T17:04:27.415Z"
   },
   {
    "duration": 242,
    "start_time": "2024-06-23T17:04:28.928Z"
   },
   {
    "duration": 16,
    "start_time": "2024-06-23T17:04:29.171Z"
   },
   {
    "duration": 37,
    "start_time": "2024-06-23T17:04:29.188Z"
   },
   {
    "duration": 12,
    "start_time": "2024-06-23T17:04:29.227Z"
   },
   {
    "duration": 10,
    "start_time": "2024-06-23T17:04:29.241Z"
   },
   {
    "duration": 31,
    "start_time": "2024-06-23T17:04:29.252Z"
   },
   {
    "duration": 7,
    "start_time": "2024-06-23T17:04:29.285Z"
   },
   {
    "duration": 13,
    "start_time": "2024-06-23T17:04:29.294Z"
   },
   {
    "duration": 29,
    "start_time": "2024-06-23T17:04:29.310Z"
   },
   {
    "duration": 50,
    "start_time": "2024-06-23T17:04:29.341Z"
   },
   {
    "duration": 36,
    "start_time": "2024-06-23T17:04:29.392Z"
   },
   {
    "duration": 11,
    "start_time": "2024-06-23T17:04:29.429Z"
   },
   {
    "duration": 5,
    "start_time": "2024-06-23T17:04:29.441Z"
   },
   {
    "duration": 32,
    "start_time": "2024-06-23T17:04:29.448Z"
   },
   {
    "duration": 7,
    "start_time": "2024-06-23T17:04:29.481Z"
   },
   {
    "duration": 167,
    "start_time": "2024-06-23T17:04:29.489Z"
   },
   {
    "duration": 19,
    "start_time": "2024-06-23T17:04:29.657Z"
   },
   {
    "duration": 45,
    "start_time": "2024-06-23T17:04:29.677Z"
   },
   {
    "duration": 143,
    "start_time": "2024-06-23T17:04:29.724Z"
   },
   {
    "duration": 12,
    "start_time": "2024-06-23T17:04:29.869Z"
   },
   {
    "duration": 157,
    "start_time": "2024-06-23T17:04:29.882Z"
   },
   {
    "duration": 13,
    "start_time": "2024-06-23T17:04:30.041Z"
   },
   {
    "duration": 41,
    "start_time": "2024-06-23T17:04:30.055Z"
   },
   {
    "duration": 112,
    "start_time": "2024-06-23T17:04:32.057Z"
   },
   {
    "duration": 13,
    "start_time": "2024-06-23T17:04:37.432Z"
   },
   {
    "duration": 12,
    "start_time": "2024-06-23T17:04:38.994Z"
   },
   {
    "duration": 54,
    "start_time": "2024-06-23T17:05:48.112Z"
   },
   {
    "duration": 12,
    "start_time": "2024-06-23T17:05:56.648Z"
   },
   {
    "duration": 12,
    "start_time": "2024-06-23T17:05:57.597Z"
   },
   {
    "duration": 156,
    "start_time": "2024-06-23T17:05:59.858Z"
   },
   {
    "duration": 6,
    "start_time": "2024-06-23T17:09:51.204Z"
   },
   {
    "duration": 221,
    "start_time": "2024-06-23T17:13:00.915Z"
   },
   {
    "duration": 262,
    "start_time": "2024-06-23T17:13:25.543Z"
   },
   {
    "duration": 170,
    "start_time": "2024-06-23T17:13:29.304Z"
   },
   {
    "duration": 152,
    "start_time": "2024-06-23T17:13:35.729Z"
   },
   {
    "duration": 65,
    "start_time": "2024-06-23T17:14:15.546Z"
   },
   {
    "duration": 47,
    "start_time": "2024-06-23T17:14:23.373Z"
   },
   {
    "duration": 59,
    "start_time": "2024-06-23T17:14:29.270Z"
   },
   {
    "duration": 154,
    "start_time": "2024-06-23T17:14:36.468Z"
   },
   {
    "duration": 204,
    "start_time": "2024-06-23T17:14:45.768Z"
   },
   {
    "duration": 214,
    "start_time": "2024-06-23T17:15:22.447Z"
   },
   {
    "duration": 183,
    "start_time": "2024-06-23T17:15:29.396Z"
   },
   {
    "duration": 236,
    "start_time": "2024-06-23T17:15:40.135Z"
   },
   {
    "duration": 202,
    "start_time": "2024-06-23T17:15:50.520Z"
   },
   {
    "duration": 185,
    "start_time": "2024-06-23T17:15:58.790Z"
   },
   {
    "duration": 171,
    "start_time": "2024-06-23T17:16:07.587Z"
   },
   {
    "duration": 184,
    "start_time": "2024-06-23T17:16:14.077Z"
   },
   {
    "duration": 223,
    "start_time": "2024-06-23T17:16:42.272Z"
   },
   {
    "duration": 186,
    "start_time": "2024-06-23T17:16:48.412Z"
   },
   {
    "duration": 195,
    "start_time": "2024-06-23T17:17:03.217Z"
   },
   {
    "duration": 198,
    "start_time": "2024-06-23T17:17:07.564Z"
   },
   {
    "duration": 199,
    "start_time": "2024-06-23T17:17:13.371Z"
   },
   {
    "duration": 198,
    "start_time": "2024-06-23T17:18:00.427Z"
   },
   {
    "duration": 260,
    "start_time": "2024-06-23T17:18:10.468Z"
   },
   {
    "duration": 201,
    "start_time": "2024-06-23T17:18:16.342Z"
   },
   {
    "duration": 192,
    "start_time": "2024-06-23T17:18:21.125Z"
   },
   {
    "duration": 191,
    "start_time": "2024-06-23T17:18:26.690Z"
   },
   {
    "duration": 199,
    "start_time": "2024-06-23T17:18:39.354Z"
   },
   {
    "duration": 193,
    "start_time": "2024-06-23T17:18:43.568Z"
   },
   {
    "duration": 153,
    "start_time": "2024-06-23T17:18:47.207Z"
   },
   {
    "duration": 155,
    "start_time": "2024-06-23T17:18:55.572Z"
   },
   {
    "duration": 200,
    "start_time": "2024-06-23T17:19:48.091Z"
   },
   {
    "duration": 61,
    "start_time": "2024-06-23T17:19:58.415Z"
   },
   {
    "duration": 196,
    "start_time": "2024-06-23T17:20:05.440Z"
   },
   {
    "duration": 249,
    "start_time": "2024-06-23T17:20:17.646Z"
   },
   {
    "duration": 193,
    "start_time": "2024-06-23T17:22:54.493Z"
   },
   {
    "duration": 6,
    "start_time": "2024-06-23T17:29:20.777Z"
   },
   {
    "duration": 4,
    "start_time": "2024-06-23T17:30:45.095Z"
   },
   {
    "duration": 10,
    "start_time": "2024-06-23T17:30:48.088Z"
   },
   {
    "duration": 8,
    "start_time": "2024-06-23T17:31:11.681Z"
   },
   {
    "duration": 8,
    "start_time": "2024-06-23T17:31:21.682Z"
   },
   {
    "duration": 226,
    "start_time": "2024-06-23T17:36:32.784Z"
   },
   {
    "duration": 180,
    "start_time": "2024-06-23T17:36:57.929Z"
   },
   {
    "duration": 214,
    "start_time": "2024-06-23T17:37:04.797Z"
   },
   {
    "duration": 244,
    "start_time": "2024-06-23T17:37:55.660Z"
   },
   {
    "duration": 241,
    "start_time": "2024-06-23T17:38:18.248Z"
   },
   {
    "duration": 233,
    "start_time": "2024-06-23T17:38:35.342Z"
   },
   {
    "duration": 250,
    "start_time": "2024-06-23T17:40:02.273Z"
   },
   {
    "duration": 219,
    "start_time": "2024-06-23T17:40:09.781Z"
   },
   {
    "duration": 218,
    "start_time": "2024-06-23T17:40:12.905Z"
   },
   {
    "duration": 304,
    "start_time": "2024-06-23T17:40:33.864Z"
   },
   {
    "duration": 269,
    "start_time": "2024-06-23T17:40:42.017Z"
   },
   {
    "duration": 236,
    "start_time": "2024-06-23T17:40:46.248Z"
   },
   {
    "duration": 217,
    "start_time": "2024-06-23T17:40:50.591Z"
   },
   {
    "duration": 220,
    "start_time": "2024-06-23T17:41:11.526Z"
   },
   {
    "duration": 7,
    "start_time": "2024-06-23T17:41:59.334Z"
   },
   {
    "duration": 9,
    "start_time": "2024-06-23T17:42:14.298Z"
   },
   {
    "duration": 222,
    "start_time": "2024-06-23T17:42:32.287Z"
   },
   {
    "duration": 217,
    "start_time": "2024-06-23T17:42:53.316Z"
   },
   {
    "duration": 13,
    "start_time": "2024-06-23T17:45:37.391Z"
   },
   {
    "duration": 11,
    "start_time": "2024-06-23T17:45:38.758Z"
   },
   {
    "duration": 8,
    "start_time": "2024-06-23T17:45:43.104Z"
   },
   {
    "duration": 220,
    "start_time": "2024-06-23T17:45:57.860Z"
   },
   {
    "duration": 4,
    "start_time": "2024-06-23T17:46:38.337Z"
   },
   {
    "duration": 8,
    "start_time": "2024-06-23T17:47:05.137Z"
   },
   {
    "duration": 11,
    "start_time": "2024-06-23T17:47:57.143Z"
   },
   {
    "duration": 9,
    "start_time": "2024-06-23T17:50:14.359Z"
   },
   {
    "duration": 8,
    "start_time": "2024-06-23T17:50:19.451Z"
   },
   {
    "duration": 11,
    "start_time": "2024-06-23T17:50:21.761Z"
   },
   {
    "duration": 230,
    "start_time": "2024-06-23T17:50:45.613Z"
   },
   {
    "duration": 181,
    "start_time": "2024-06-23T17:51:10.730Z"
   },
   {
    "duration": 245,
    "start_time": "2024-06-23T17:51:18.063Z"
   },
   {
    "duration": 289,
    "start_time": "2024-06-23T17:54:37.725Z"
   },
   {
    "duration": 20,
    "start_time": "2024-06-23T17:55:10.128Z"
   },
   {
    "duration": 17,
    "start_time": "2024-06-23T17:55:19.139Z"
   },
   {
    "duration": 17,
    "start_time": "2024-06-23T17:55:24.710Z"
   },
   {
    "duration": 16,
    "start_time": "2024-06-23T17:56:11.122Z"
   },
   {
    "duration": 18,
    "start_time": "2024-06-23T17:56:27.383Z"
   },
   {
    "duration": 16,
    "start_time": "2024-06-23T17:57:40.508Z"
   },
   {
    "duration": 17,
    "start_time": "2024-06-23T17:57:53.407Z"
   },
   {
    "duration": 212,
    "start_time": "2024-06-23T17:58:35.750Z"
   },
   {
    "duration": 219,
    "start_time": "2024-06-23T17:59:05.655Z"
   },
   {
    "duration": 222,
    "start_time": "2024-06-23T17:59:12.182Z"
   },
   {
    "duration": 231,
    "start_time": "2024-06-23T17:59:22.224Z"
   },
   {
    "duration": 175,
    "start_time": "2024-06-23T18:01:14.346Z"
   },
   {
    "duration": 241,
    "start_time": "2024-06-23T18:01:24.048Z"
   },
   {
    "duration": 257,
    "start_time": "2024-06-23T18:01:42.407Z"
   },
   {
    "duration": 248,
    "start_time": "2024-06-23T18:01:48.274Z"
   },
   {
    "duration": 303,
    "start_time": "2024-06-23T18:02:57.137Z"
   },
   {
    "duration": 5,
    "start_time": "2024-06-23T18:03:14.123Z"
   },
   {
    "duration": 289,
    "start_time": "2024-06-23T18:04:32.281Z"
   },
   {
    "duration": 10,
    "start_time": "2024-06-23T18:04:49.936Z"
   },
   {
    "duration": 167,
    "start_time": "2024-06-23T18:07:10.542Z"
   },
   {
    "duration": 147,
    "start_time": "2024-06-23T18:07:16.404Z"
   },
   {
    "duration": 276,
    "start_time": "2024-06-23T18:07:21.986Z"
   },
   {
    "duration": 241,
    "start_time": "2024-06-23T18:07:59.252Z"
   },
   {
    "duration": 14,
    "start_time": "2024-06-23T18:10:51.611Z"
   },
   {
    "duration": 271,
    "start_time": "2024-06-23T18:13:51.970Z"
   },
   {
    "duration": 34,
    "start_time": "2024-06-23T18:13:57.852Z"
   },
   {
    "duration": 6,
    "start_time": "2024-06-23T18:14:03.291Z"
   },
   {
    "duration": 18,
    "start_time": "2024-06-23T18:14:19.979Z"
   },
   {
    "duration": 54,
    "start_time": "2024-06-23T18:14:22.731Z"
   },
   {
    "duration": 217,
    "start_time": "2024-06-23T18:18:21.004Z"
   },
   {
    "duration": 9,
    "start_time": "2024-06-23T18:23:20.589Z"
   },
   {
    "duration": 69,
    "start_time": "2024-06-23T18:23:23.775Z"
   },
   {
    "duration": 9,
    "start_time": "2024-06-23T18:35:25.165Z"
   },
   {
    "duration": 185,
    "start_time": "2024-06-23T18:36:20.039Z"
   },
   {
    "duration": 1713,
    "start_time": "2024-06-23T18:36:27.185Z"
   },
   {
    "duration": 9,
    "start_time": "2024-06-23T18:36:39.371Z"
   },
   {
    "duration": 1748,
    "start_time": "2024-06-23T18:38:53.318Z"
   },
   {
    "duration": 49,
    "start_time": "2024-06-23T18:39:08.598Z"
   },
   {
    "duration": 13,
    "start_time": "2024-06-23T18:39:11.406Z"
   },
   {
    "duration": 343,
    "start_time": "2024-06-23T18:39:27.540Z"
   },
   {
    "duration": 463,
    "start_time": "2024-06-23T18:40:05.428Z"
   },
   {
    "duration": 481,
    "start_time": "2024-06-23T18:40:20.128Z"
   },
   {
    "duration": 476,
    "start_time": "2024-06-23T18:40:28.164Z"
   },
   {
    "duration": 490,
    "start_time": "2024-06-23T18:41:02.246Z"
   },
   {
    "duration": 599,
    "start_time": "2024-06-23T18:41:11.271Z"
   },
   {
    "duration": 373,
    "start_time": "2024-06-23T18:41:16.694Z"
   },
   {
    "duration": 451,
    "start_time": "2024-06-23T18:42:21.911Z"
   },
   {
    "duration": 304,
    "start_time": "2024-06-23T18:42:25.735Z"
   },
   {
    "duration": 463,
    "start_time": "2024-06-23T18:42:31.512Z"
   },
   {
    "duration": 9,
    "start_time": "2024-06-23T20:10:04.869Z"
   },
   {
    "duration": 10,
    "start_time": "2024-06-23T20:13:05.841Z"
   },
   {
    "duration": 19,
    "start_time": "2024-06-23T20:13:19.111Z"
   },
   {
    "duration": 8,
    "start_time": "2024-06-23T20:13:59.208Z"
   },
   {
    "duration": 9,
    "start_time": "2024-06-23T20:14:05.881Z"
   },
   {
    "duration": 60,
    "start_time": "2024-06-23T20:14:10.993Z"
   },
   {
    "duration": 9,
    "start_time": "2024-06-23T20:15:17.454Z"
   },
   {
    "duration": 8,
    "start_time": "2024-06-23T20:15:37.290Z"
   },
   {
    "duration": 9,
    "start_time": "2024-06-23T20:15:42.719Z"
   },
   {
    "duration": 9,
    "start_time": "2024-06-23T20:16:10.386Z"
   },
   {
    "duration": 8,
    "start_time": "2024-06-23T20:16:21.504Z"
   },
   {
    "duration": 55,
    "start_time": "2024-06-23T20:16:27.070Z"
   },
   {
    "duration": 30,
    "start_time": "2024-06-23T20:16:30.977Z"
   },
   {
    "duration": 31,
    "start_time": "2024-06-23T20:16:55.148Z"
   },
   {
    "duration": 9,
    "start_time": "2024-06-23T20:17:18.339Z"
   },
   {
    "duration": 9,
    "start_time": "2024-06-23T20:18:19.082Z"
   },
   {
    "duration": 9,
    "start_time": "2024-06-23T20:18:37.559Z"
   },
   {
    "duration": 8,
    "start_time": "2024-06-23T20:18:56.693Z"
   },
   {
    "duration": 16,
    "start_time": "2024-06-23T20:19:11.635Z"
   },
   {
    "duration": 14,
    "start_time": "2024-06-23T20:19:19.821Z"
   },
   {
    "duration": 13,
    "start_time": "2024-06-23T20:19:27.772Z"
   },
   {
    "duration": 8,
    "start_time": "2024-06-23T20:19:41.355Z"
   },
   {
    "duration": 5,
    "start_time": "2024-06-23T20:21:34.895Z"
   },
   {
    "duration": 8,
    "start_time": "2024-06-23T20:21:39.821Z"
   },
   {
    "duration": 6,
    "start_time": "2024-06-23T20:22:10.767Z"
   },
   {
    "duration": 10,
    "start_time": "2024-06-23T20:22:18.014Z"
   },
   {
    "duration": 10,
    "start_time": "2024-06-23T20:22:22.269Z"
   },
   {
    "duration": 6,
    "start_time": "2024-06-23T20:23:27.459Z"
   },
   {
    "duration": 10,
    "start_time": "2024-06-23T20:23:32.008Z"
   },
   {
    "duration": 11,
    "start_time": "2024-06-23T20:23:49.197Z"
   },
   {
    "duration": 16,
    "start_time": "2024-06-23T20:26:03.454Z"
   },
   {
    "duration": 22,
    "start_time": "2024-06-23T20:26:15.127Z"
   },
   {
    "duration": 15,
    "start_time": "2024-06-23T20:26:22.760Z"
   },
   {
    "duration": 132,
    "start_time": "2024-06-23T20:26:32.149Z"
   },
   {
    "duration": 168,
    "start_time": "2024-06-23T20:27:03.817Z"
   },
   {
    "duration": 281,
    "start_time": "2024-06-23T20:28:16.197Z"
   },
   {
    "duration": 182,
    "start_time": "2024-06-23T20:28:22.968Z"
   },
   {
    "duration": 185,
    "start_time": "2024-06-23T20:28:35.628Z"
   },
   {
    "duration": 192,
    "start_time": "2024-06-23T20:29:47.694Z"
   },
   {
    "duration": 200,
    "start_time": "2024-06-23T20:30:05.967Z"
   },
   {
    "duration": 205,
    "start_time": "2024-06-23T20:30:41.089Z"
   },
   {
    "duration": 12,
    "start_time": "2024-06-23T20:36:16.914Z"
   },
   {
    "duration": 2975,
    "start_time": "2024-06-23T20:36:30.645Z"
   },
   {
    "duration": 1601,
    "start_time": "2024-06-23T20:36:48.687Z"
   },
   {
    "duration": 3013,
    "start_time": "2024-06-23T20:36:58.723Z"
   },
   {
    "duration": 14,
    "start_time": "2024-06-23T20:40:22.105Z"
   },
   {
    "duration": 15,
    "start_time": "2024-06-23T20:40:57.956Z"
   },
   {
    "duration": 11,
    "start_time": "2024-06-23T20:41:16.904Z"
   },
   {
    "duration": 13,
    "start_time": "2024-06-23T20:41:34.104Z"
   },
   {
    "duration": 492,
    "start_time": "2024-06-23T20:41:38.189Z"
   },
   {
    "duration": 8,
    "start_time": "2024-06-23T20:42:05.007Z"
   },
   {
    "duration": 4,
    "start_time": "2024-06-23T20:43:18.872Z"
   },
   {
    "duration": 11,
    "start_time": "2024-06-23T20:43:42.021Z"
   },
   {
    "duration": 6,
    "start_time": "2024-06-23T20:46:18.187Z"
   },
   {
    "duration": 12,
    "start_time": "2024-06-23T20:46:24.858Z"
   },
   {
    "duration": 2,
    "start_time": "2024-06-23T20:54:47.647Z"
   },
   {
    "duration": 76,
    "start_time": "2024-06-23T20:55:29.460Z"
   },
   {
    "duration": 15,
    "start_time": "2024-06-23T20:55:32.030Z"
   },
   {
    "duration": 11,
    "start_time": "2024-06-23T20:56:00.414Z"
   },
   {
    "duration": 12,
    "start_time": "2024-06-23T20:56:22.893Z"
   },
   {
    "duration": 12,
    "start_time": "2024-06-23T20:57:08.175Z"
   },
   {
    "duration": 60,
    "start_time": "2024-06-23T20:58:04.177Z"
   },
   {
    "duration": 13,
    "start_time": "2024-06-23T20:58:09.933Z"
   },
   {
    "duration": 13,
    "start_time": "2024-06-23T20:59:06.778Z"
   },
   {
    "duration": 13,
    "start_time": "2024-06-23T20:59:19.287Z"
   },
   {
    "duration": 13,
    "start_time": "2024-06-23T20:59:27.576Z"
   },
   {
    "duration": 20,
    "start_time": "2024-06-23T21:01:25.935Z"
   },
   {
    "duration": 21,
    "start_time": "2024-06-23T21:01:45.724Z"
   },
   {
    "duration": 29,
    "start_time": "2024-06-23T21:01:49.511Z"
   },
   {
    "duration": 12,
    "start_time": "2024-06-23T21:02:29.042Z"
   },
   {
    "duration": 24,
    "start_time": "2024-06-23T21:03:03.080Z"
   },
   {
    "duration": 15,
    "start_time": "2024-06-23T21:03:27.861Z"
   },
   {
    "duration": 52,
    "start_time": "2024-06-23T21:03:32.283Z"
   },
   {
    "duration": 15,
    "start_time": "2024-06-23T21:03:34.588Z"
   },
   {
    "duration": 17,
    "start_time": "2024-06-23T21:03:41.390Z"
   },
   {
    "duration": 20,
    "start_time": "2024-06-23T21:03:48.886Z"
   },
   {
    "duration": 15,
    "start_time": "2024-06-23T21:03:55.400Z"
   },
   {
    "duration": 24,
    "start_time": "2024-06-23T21:04:28.908Z"
   },
   {
    "duration": 17,
    "start_time": "2024-06-23T21:04:46.438Z"
   },
   {
    "duration": 21,
    "start_time": "2024-06-23T21:04:50.909Z"
   },
   {
    "duration": 15,
    "start_time": "2024-06-23T21:05:04.090Z"
   },
   {
    "duration": 17,
    "start_time": "2024-06-23T21:05:20.901Z"
   },
   {
    "duration": 22,
    "start_time": "2024-06-23T21:06:37.292Z"
   },
   {
    "duration": 18,
    "start_time": "2024-06-23T21:06:45.208Z"
   },
   {
    "duration": 15,
    "start_time": "2024-06-23T21:06:55.684Z"
   },
   {
    "duration": 14,
    "start_time": "2024-06-23T21:07:07.782Z"
   },
   {
    "duration": 14,
    "start_time": "2024-06-23T21:07:20.405Z"
   },
   {
    "duration": 16,
    "start_time": "2024-06-23T21:07:31.662Z"
   },
   {
    "duration": 15,
    "start_time": "2024-06-23T21:08:03.503Z"
   },
   {
    "duration": 11,
    "start_time": "2024-06-23T21:10:48.540Z"
   },
   {
    "duration": 10,
    "start_time": "2024-06-23T21:10:59.607Z"
   },
   {
    "duration": 12,
    "start_time": "2024-06-23T21:11:05.902Z"
   },
   {
    "duration": 24,
    "start_time": "2024-06-23T21:11:22.614Z"
   },
   {
    "duration": 500,
    "start_time": "2024-06-23T21:11:38.276Z"
   },
   {
    "duration": 11,
    "start_time": "2024-06-23T21:11:44.795Z"
   },
   {
    "duration": 27,
    "start_time": "2024-06-23T21:11:59.313Z"
   },
   {
    "duration": 19,
    "start_time": "2024-06-23T21:12:22.662Z"
   },
   {
    "duration": 22,
    "start_time": "2024-06-23T21:12:27.256Z"
   },
   {
    "duration": 19,
    "start_time": "2024-06-23T21:13:25.653Z"
   },
   {
    "duration": 52,
    "start_time": "2024-06-23T21:14:48.217Z"
   },
   {
    "duration": 20,
    "start_time": "2024-06-23T21:14:51.788Z"
   },
   {
    "duration": 657,
    "start_time": "2024-06-23T21:17:35.390Z"
   },
   {
    "duration": 404,
    "start_time": "2024-06-23T21:17:48.411Z"
   },
   {
    "duration": 55,
    "start_time": "2024-06-23T21:17:56.018Z"
   },
   {
    "duration": 64,
    "start_time": "2024-06-23T21:19:58.231Z"
   },
   {
    "duration": 68,
    "start_time": "2024-06-23T21:20:02.118Z"
   },
   {
    "duration": 475,
    "start_time": "2024-06-23T21:20:48.787Z"
   },
   {
    "duration": 483,
    "start_time": "2024-06-23T21:22:41.288Z"
   },
   {
    "duration": 516,
    "start_time": "2024-06-23T21:22:58.504Z"
   },
   {
    "duration": 533,
    "start_time": "2024-06-23T21:24:12.772Z"
   },
   {
    "duration": 7,
    "start_time": "2024-06-23T21:24:36.490Z"
   },
   {
    "duration": 578,
    "start_time": "2024-06-23T21:25:07.539Z"
   },
   {
    "duration": 29,
    "start_time": "2024-06-23T21:25:18.851Z"
   },
   {
    "duration": 60,
    "start_time": "2024-06-23T21:25:21.559Z"
   },
   {
    "duration": 636,
    "start_time": "2024-06-23T21:25:32.378Z"
   },
   {
    "duration": 15,
    "start_time": "2024-06-23T21:26:34.157Z"
   },
   {
    "duration": 550,
    "start_time": "2024-06-23T21:27:39.280Z"
   },
   {
    "duration": 528,
    "start_time": "2024-06-23T21:27:58.109Z"
   },
   {
    "duration": 9,
    "start_time": "2024-06-23T21:29:10.631Z"
   },
   {
    "duration": 511,
    "start_time": "2024-06-23T21:29:16.403Z"
   },
   {
    "duration": 530,
    "start_time": "2024-06-23T21:30:16.728Z"
   },
   {
    "duration": 538,
    "start_time": "2024-06-23T21:30:20.454Z"
   },
   {
    "duration": 12,
    "start_time": "2024-06-23T21:34:17.957Z"
   },
   {
    "duration": 1121,
    "start_time": "2024-06-23T21:34:19.603Z"
   },
   {
    "duration": 47,
    "start_time": "2024-06-23T21:34:23.498Z"
   },
   {
    "duration": 106,
    "start_time": "2024-06-23T21:35:09.689Z"
   },
   {
    "duration": 115,
    "start_time": "2024-06-23T21:35:11.957Z"
   },
   {
    "duration": 11393,
    "start_time": "2024-06-23T21:35:16.382Z"
   },
   {
    "duration": 14,
    "start_time": "2024-06-23T21:35:40.413Z"
   },
   {
    "duration": 975,
    "start_time": "2024-06-23T21:35:41.829Z"
   },
   {
    "duration": 152,
    "start_time": "2024-06-23T21:35:59.679Z"
   },
   {
    "duration": 900,
    "start_time": "2024-06-23T21:36:16.801Z"
   },
   {
    "duration": 863,
    "start_time": "2024-06-23T21:36:23.536Z"
   },
   {
    "duration": 8,
    "start_time": "2024-06-23T21:37:35.018Z"
   },
   {
    "duration": 6,
    "start_time": "2024-06-23T21:37:41.115Z"
   },
   {
    "duration": 21,
    "start_time": "2024-06-23T21:38:18.035Z"
   },
   {
    "duration": 10,
    "start_time": "2024-06-23T21:38:41.144Z"
   },
   {
    "duration": 11,
    "start_time": "2024-06-23T21:39:11.707Z"
   },
   {
    "duration": 9,
    "start_time": "2024-06-23T21:39:52.302Z"
   },
   {
    "duration": 10,
    "start_time": "2024-06-23T21:40:19.784Z"
   },
   {
    "duration": 11,
    "start_time": "2024-06-23T21:40:41.231Z"
   },
   {
    "duration": 12,
    "start_time": "2024-06-23T21:41:32.598Z"
   },
   {
    "duration": 12,
    "start_time": "2024-06-23T21:41:45.878Z"
   },
   {
    "duration": 65,
    "start_time": "2024-06-23T21:41:49.049Z"
   },
   {
    "duration": 11,
    "start_time": "2024-06-23T21:41:53.567Z"
   },
   {
    "duration": 19,
    "start_time": "2024-06-23T21:42:11.724Z"
   },
   {
    "duration": 21,
    "start_time": "2024-06-23T21:42:22.293Z"
   },
   {
    "duration": 18,
    "start_time": "2024-06-23T21:42:25.961Z"
   },
   {
    "duration": 12,
    "start_time": "2024-06-23T21:42:28.405Z"
   },
   {
    "duration": 263,
    "start_time": "2024-06-23T21:43:16.888Z"
   },
   {
    "duration": 255,
    "start_time": "2024-06-23T21:43:27.258Z"
   },
   {
    "duration": 10,
    "start_time": "2024-06-23T21:43:29.989Z"
   },
   {
    "duration": 12,
    "start_time": "2024-06-23T21:43:38.204Z"
   },
   {
    "duration": 12,
    "start_time": "2024-06-23T21:43:49.243Z"
   },
   {
    "duration": 12,
    "start_time": "2024-06-23T21:43:59.419Z"
   },
   {
    "duration": 18,
    "start_time": "2024-06-23T21:44:24.652Z"
   },
   {
    "duration": 14,
    "start_time": "2024-06-23T21:44:32.797Z"
   },
   {
    "duration": 108,
    "start_time": "2024-06-23T21:46:40.898Z"
   },
   {
    "duration": 12,
    "start_time": "2024-06-23T21:46:43.583Z"
   },
   {
    "duration": 14,
    "start_time": "2024-06-23T21:46:48.833Z"
   },
   {
    "duration": 5,
    "start_time": "2024-06-23T21:46:50.292Z"
   },
   {
    "duration": 13,
    "start_time": "2024-06-23T21:46:51.969Z"
   },
   {
    "duration": 5,
    "start_time": "2024-06-23T21:46:53.455Z"
   },
   {
    "duration": 196,
    "start_time": "2024-06-23T21:46:55.144Z"
   },
   {
    "duration": 5,
    "start_time": "2024-06-23T21:46:56.868Z"
   },
   {
    "duration": 111,
    "start_time": "2024-06-23T21:47:11.036Z"
   },
   {
    "duration": 108,
    "start_time": "2024-06-23T21:47:14.698Z"
   },
   {
    "duration": 1616,
    "start_time": "2024-06-24T09:54:58.306Z"
   },
   {
    "duration": 116,
    "start_time": "2024-06-24T09:54:59.924Z"
   },
   {
    "duration": 19,
    "start_time": "2024-06-24T09:55:00.041Z"
   },
   {
    "duration": 43,
    "start_time": "2024-06-24T09:55:00.062Z"
   },
   {
    "duration": 50,
    "start_time": "2024-06-24T09:55:00.107Z"
   },
   {
    "duration": 42,
    "start_time": "2024-06-24T09:55:00.159Z"
   },
   {
    "duration": 71,
    "start_time": "2024-06-24T09:55:00.203Z"
   },
   {
    "duration": 47,
    "start_time": "2024-06-24T09:55:00.275Z"
   },
   {
    "duration": 45,
    "start_time": "2024-06-24T09:55:00.324Z"
   },
   {
    "duration": 52,
    "start_time": "2024-06-24T09:55:00.371Z"
   },
   {
    "duration": 83,
    "start_time": "2024-06-24T09:55:00.424Z"
   },
   {
    "duration": 19,
    "start_time": "2024-06-24T09:55:00.508Z"
   },
   {
    "duration": 63,
    "start_time": "2024-06-24T09:55:00.529Z"
   },
   {
    "duration": 82,
    "start_time": "2024-06-24T09:55:00.593Z"
   },
   {
    "duration": 73,
    "start_time": "2024-06-24T09:55:00.676Z"
   },
   {
    "duration": 80,
    "start_time": "2024-06-24T09:55:00.750Z"
   },
   {
    "duration": 239,
    "start_time": "2024-06-24T09:55:00.831Z"
   },
   {
    "duration": 21,
    "start_time": "2024-06-24T09:55:01.072Z"
   },
   {
    "duration": 55,
    "start_time": "2024-06-24T09:55:01.095Z"
   },
   {
    "duration": 160,
    "start_time": "2024-06-24T09:55:01.151Z"
   },
   {
    "duration": 15,
    "start_time": "2024-06-24T09:55:01.312Z"
   },
   {
    "duration": 317,
    "start_time": "2024-06-24T09:55:01.329Z"
   },
   {
    "duration": 15,
    "start_time": "2024-06-24T09:55:01.647Z"
   },
   {
    "duration": 70,
    "start_time": "2024-06-24T09:55:01.663Z"
   },
   {
    "duration": 174,
    "start_time": "2024-06-24T09:55:01.735Z"
   },
   {
    "duration": 30,
    "start_time": "2024-06-24T09:55:01.911Z"
   },
   {
    "duration": 45,
    "start_time": "2024-06-24T09:55:01.943Z"
   },
   {
    "duration": 391,
    "start_time": "2024-06-24T09:55:01.992Z"
   },
   {
    "duration": 592,
    "start_time": "2024-06-24T09:55:02.385Z"
   },
   {
    "duration": 214,
    "start_time": "2024-06-24T09:55:02.979Z"
   },
   {
    "duration": 0,
    "start_time": "2024-06-24T09:55:03.247Z"
   },
   {
    "duration": 0,
    "start_time": "2024-06-24T09:55:03.248Z"
   },
   {
    "duration": 0,
    "start_time": "2024-06-24T09:55:03.250Z"
   },
   {
    "duration": 0,
    "start_time": "2024-06-24T09:55:03.251Z"
   },
   {
    "duration": 0,
    "start_time": "2024-06-24T09:55:03.252Z"
   },
   {
    "duration": 0,
    "start_time": "2024-06-24T09:55:03.253Z"
   },
   {
    "duration": 0,
    "start_time": "2024-06-24T09:55:03.254Z"
   },
   {
    "duration": 0,
    "start_time": "2024-06-24T09:55:03.255Z"
   },
   {
    "duration": 0,
    "start_time": "2024-06-24T09:55:03.256Z"
   },
   {
    "duration": 0,
    "start_time": "2024-06-24T09:55:03.257Z"
   },
   {
    "duration": 0,
    "start_time": "2024-06-24T09:55:03.258Z"
   },
   {
    "duration": 0,
    "start_time": "2024-06-24T09:55:03.259Z"
   },
   {
    "duration": 0,
    "start_time": "2024-06-24T09:55:03.260Z"
   },
   {
    "duration": 0,
    "start_time": "2024-06-24T09:55:03.261Z"
   },
   {
    "duration": 0,
    "start_time": "2024-06-24T09:55:03.262Z"
   },
   {
    "duration": 0,
    "start_time": "2024-06-24T09:55:03.263Z"
   },
   {
    "duration": 0,
    "start_time": "2024-06-24T09:55:03.264Z"
   },
   {
    "duration": 0,
    "start_time": "2024-06-24T09:55:03.265Z"
   },
   {
    "duration": 0,
    "start_time": "2024-06-24T09:55:03.266Z"
   },
   {
    "duration": 0,
    "start_time": "2024-06-24T09:55:03.267Z"
   },
   {
    "duration": 0,
    "start_time": "2024-06-24T09:55:03.268Z"
   },
   {
    "duration": 0,
    "start_time": "2024-06-24T09:55:03.268Z"
   },
   {
    "duration": 0,
    "start_time": "2024-06-24T09:55:03.270Z"
   },
   {
    "duration": 1,
    "start_time": "2024-06-24T09:55:03.270Z"
   },
   {
    "duration": 0,
    "start_time": "2024-06-24T09:55:03.271Z"
   },
   {
    "duration": 0,
    "start_time": "2024-06-24T09:55:03.272Z"
   },
   {
    "duration": 0,
    "start_time": "2024-06-24T09:55:03.273Z"
   },
   {
    "duration": 0,
    "start_time": "2024-06-24T09:55:03.274Z"
   },
   {
    "duration": 0,
    "start_time": "2024-06-24T09:55:03.275Z"
   },
   {
    "duration": 0,
    "start_time": "2024-06-24T09:55:03.276Z"
   },
   {
    "duration": 0,
    "start_time": "2024-06-24T09:55:03.277Z"
   },
   {
    "duration": 0,
    "start_time": "2024-06-24T09:55:03.278Z"
   },
   {
    "duration": 0,
    "start_time": "2024-06-24T09:55:03.279Z"
   },
   {
    "duration": 15,
    "start_time": "2024-06-24T09:57:43.609Z"
   },
   {
    "duration": 5,
    "start_time": "2024-06-24T09:58:09.008Z"
   },
   {
    "duration": 80,
    "start_time": "2024-06-24T09:58:14.495Z"
   },
   {
    "duration": 55,
    "start_time": "2024-06-24T09:58:19.186Z"
   },
   {
    "duration": 4,
    "start_time": "2024-06-24T09:58:21.303Z"
   },
   {
    "duration": 58,
    "start_time": "2024-06-24T09:58:33.988Z"
   },
   {
    "duration": 4,
    "start_time": "2024-06-24T09:58:49.523Z"
   },
   {
    "duration": 15,
    "start_time": "2024-06-24T09:58:52.469Z"
   },
   {
    "duration": 208,
    "start_time": "2024-06-24T10:00:28.631Z"
   },
   {
    "duration": 16,
    "start_time": "2024-06-24T10:00:56.687Z"
   },
   {
    "duration": 24,
    "start_time": "2024-06-24T10:03:17.161Z"
   },
   {
    "duration": 16,
    "start_time": "2024-06-24T10:03:58.350Z"
   },
   {
    "duration": 16,
    "start_time": "2024-06-24T10:04:07.359Z"
   },
   {
    "duration": 14,
    "start_time": "2024-06-24T10:04:20.094Z"
   },
   {
    "duration": 18,
    "start_time": "2024-06-24T10:04:30.839Z"
   },
   {
    "duration": 260,
    "start_time": "2024-06-24T10:04:39.110Z"
   },
   {
    "duration": 313,
    "start_time": "2024-06-24T10:04:44.387Z"
   },
   {
    "duration": 53,
    "start_time": "2024-06-24T10:06:41.880Z"
   },
   {
    "duration": 18,
    "start_time": "2024-06-24T10:06:52.654Z"
   },
   {
    "duration": 17,
    "start_time": "2024-06-24T10:06:57.395Z"
   },
   {
    "duration": 17,
    "start_time": "2024-06-24T10:07:03.794Z"
   },
   {
    "duration": 18,
    "start_time": "2024-06-24T10:07:12.702Z"
   },
   {
    "duration": 17,
    "start_time": "2024-06-24T10:07:16.527Z"
   },
   {
    "duration": 17,
    "start_time": "2024-06-24T10:13:43.782Z"
   },
   {
    "duration": 17,
    "start_time": "2024-06-24T10:13:53.371Z"
   },
   {
    "duration": 20,
    "start_time": "2024-06-24T10:14:04.654Z"
   },
   {
    "duration": 59,
    "start_time": "2024-06-24T10:14:08.502Z"
   },
   {
    "duration": 16,
    "start_time": "2024-06-24T10:21:48.152Z"
   },
   {
    "duration": 16,
    "start_time": "2024-06-24T10:22:03.892Z"
   },
   {
    "duration": 24,
    "start_time": "2024-06-24T10:22:31.821Z"
   },
   {
    "duration": 16,
    "start_time": "2024-06-24T10:22:41.926Z"
   },
   {
    "duration": 16,
    "start_time": "2024-06-24T10:22:48.408Z"
   },
   {
    "duration": 16,
    "start_time": "2024-06-24T10:23:01.953Z"
   },
   {
    "duration": 19,
    "start_time": "2024-06-24T10:23:17.161Z"
   },
   {
    "duration": 287,
    "start_time": "2024-06-24T10:23:22.261Z"
   },
   {
    "duration": 51,
    "start_time": "2024-06-24T10:23:24.360Z"
   },
   {
    "duration": 10,
    "start_time": "2024-06-24T10:23:33.920Z"
   },
   {
    "duration": 229,
    "start_time": "2024-06-24T10:23:34.485Z"
   },
   {
    "duration": 3,
    "start_time": "2024-06-24T10:23:39.342Z"
   },
   {
    "duration": 82,
    "start_time": "2024-06-24T10:23:39.349Z"
   },
   {
    "duration": 14,
    "start_time": "2024-06-24T10:23:39.433Z"
   },
   {
    "duration": 42,
    "start_time": "2024-06-24T10:23:39.449Z"
   },
   {
    "duration": 21,
    "start_time": "2024-06-24T10:23:39.494Z"
   },
   {
    "duration": 11,
    "start_time": "2024-06-24T10:23:39.517Z"
   },
   {
    "duration": 39,
    "start_time": "2024-06-24T10:23:39.530Z"
   },
   {
    "duration": 7,
    "start_time": "2024-06-24T10:23:39.571Z"
   },
   {
    "duration": 12,
    "start_time": "2024-06-24T10:23:39.579Z"
   },
   {
    "duration": 28,
    "start_time": "2024-06-24T10:23:39.592Z"
   },
   {
    "duration": 65,
    "start_time": "2024-06-24T10:23:39.622Z"
   },
   {
    "duration": 17,
    "start_time": "2024-06-24T10:23:39.688Z"
   },
   {
    "duration": 73,
    "start_time": "2024-06-24T10:23:39.707Z"
   },
   {
    "duration": 8,
    "start_time": "2024-06-24T10:23:39.781Z"
   },
   {
    "duration": 12,
    "start_time": "2024-06-24T10:23:39.792Z"
   },
   {
    "duration": 10,
    "start_time": "2024-06-24T10:23:39.805Z"
   },
   {
    "duration": 195,
    "start_time": "2024-06-24T10:23:39.816Z"
   },
   {
    "duration": 21,
    "start_time": "2024-06-24T10:23:40.012Z"
   },
   {
    "duration": 44,
    "start_time": "2024-06-24T10:23:40.034Z"
   },
   {
    "duration": 178,
    "start_time": "2024-06-24T10:23:40.079Z"
   },
   {
    "duration": 14,
    "start_time": "2024-06-24T10:23:40.258Z"
   },
   {
    "duration": 185,
    "start_time": "2024-06-24T10:23:40.274Z"
   },
   {
    "duration": 17,
    "start_time": "2024-06-24T10:23:40.460Z"
   },
   {
    "duration": 15,
    "start_time": "2024-06-24T10:23:40.478Z"
   },
   {
    "duration": 85,
    "start_time": "2024-06-24T10:23:40.495Z"
   },
   {
    "duration": 17,
    "start_time": "2024-06-24T10:23:40.582Z"
   },
   {
    "duration": 40,
    "start_time": "2024-06-24T10:23:40.600Z"
   },
   {
    "duration": 252,
    "start_time": "2024-06-24T10:23:40.642Z"
   },
   {
    "duration": 281,
    "start_time": "2024-06-24T10:23:40.895Z"
   },
   {
    "duration": 116,
    "start_time": "2024-06-24T10:23:41.177Z"
   },
   {
    "duration": 296,
    "start_time": "2024-06-24T10:23:41.294Z"
   },
   {
    "duration": 59,
    "start_time": "2024-06-24T10:23:41.592Z"
   },
   {
    "duration": 39,
    "start_time": "2024-06-24T10:23:41.653Z"
   },
   {
    "duration": 8,
    "start_time": "2024-06-24T10:23:41.694Z"
   },
   {
    "duration": 89,
    "start_time": "2024-06-24T10:23:41.703Z"
   },
   {
    "duration": 59,
    "start_time": "2024-06-24T10:23:41.793Z"
   },
   {
    "duration": 164,
    "start_time": "2024-06-24T10:23:41.854Z"
   },
   {
    "duration": 10,
    "start_time": "2024-06-24T10:23:42.020Z"
   },
   {
    "duration": 237,
    "start_time": "2024-06-24T10:23:42.031Z"
   },
   {
    "duration": 10,
    "start_time": "2024-06-24T10:23:42.269Z"
   },
   {
    "duration": 35,
    "start_time": "2024-06-24T10:23:42.280Z"
   },
   {
    "duration": 0,
    "start_time": "2024-06-24T10:23:42.317Z"
   },
   {
    "duration": 0,
    "start_time": "2024-06-24T10:23:42.319Z"
   },
   {
    "duration": 0,
    "start_time": "2024-06-24T10:23:42.320Z"
   },
   {
    "duration": 0,
    "start_time": "2024-06-24T10:23:42.321Z"
   },
   {
    "duration": 0,
    "start_time": "2024-06-24T10:23:42.322Z"
   },
   {
    "duration": 0,
    "start_time": "2024-06-24T10:23:42.324Z"
   },
   {
    "duration": 0,
    "start_time": "2024-06-24T10:23:42.325Z"
   },
   {
    "duration": 0,
    "start_time": "2024-06-24T10:23:42.327Z"
   },
   {
    "duration": 0,
    "start_time": "2024-06-24T10:23:42.328Z"
   },
   {
    "duration": 1,
    "start_time": "2024-06-24T10:23:42.329Z"
   },
   {
    "duration": 0,
    "start_time": "2024-06-24T10:23:42.346Z"
   },
   {
    "duration": 0,
    "start_time": "2024-06-24T10:23:42.347Z"
   },
   {
    "duration": 0,
    "start_time": "2024-06-24T10:23:42.348Z"
   },
   {
    "duration": 0,
    "start_time": "2024-06-24T10:23:42.349Z"
   },
   {
    "duration": 0,
    "start_time": "2024-06-24T10:23:42.350Z"
   },
   {
    "duration": 0,
    "start_time": "2024-06-24T10:23:42.351Z"
   },
   {
    "duration": 0,
    "start_time": "2024-06-24T10:23:42.352Z"
   },
   {
    "duration": 0,
    "start_time": "2024-06-24T10:23:42.353Z"
   },
   {
    "duration": 0,
    "start_time": "2024-06-24T10:23:42.354Z"
   },
   {
    "duration": 0,
    "start_time": "2024-06-24T10:23:42.355Z"
   },
   {
    "duration": 0,
    "start_time": "2024-06-24T10:23:42.356Z"
   },
   {
    "duration": 0,
    "start_time": "2024-06-24T10:23:42.357Z"
   },
   {
    "duration": 12,
    "start_time": "2024-06-24T11:04:53.741Z"
   },
   {
    "duration": 14,
    "start_time": "2024-06-24T11:04:54.322Z"
   },
   {
    "duration": 653,
    "start_time": "2024-06-24T11:05:15.854Z"
   },
   {
    "duration": 643,
    "start_time": "2024-06-24T11:05:26.078Z"
   },
   {
    "duration": 13,
    "start_time": "2024-06-24T11:06:53.470Z"
   },
   {
    "duration": 1316,
    "start_time": "2024-06-24T11:06:55.258Z"
   },
   {
    "duration": 121,
    "start_time": "2024-06-24T11:07:00.964Z"
   },
   {
    "duration": 126,
    "start_time": "2024-06-24T11:07:03.895Z"
   },
   {
    "duration": 225,
    "start_time": "2024-06-24T11:07:18.905Z"
   },
   {
    "duration": 121,
    "start_time": "2024-06-24T11:07:20.561Z"
   },
   {
    "duration": 13,
    "start_time": "2024-06-24T11:07:23.465Z"
   },
   {
    "duration": 12,
    "start_time": "2024-06-24T11:07:27.912Z"
   },
   {
    "duration": 18,
    "start_time": "2024-06-24T11:07:29.995Z"
   },
   {
    "duration": 1180,
    "start_time": "2024-06-24T11:07:30.539Z"
   },
   {
    "duration": 15,
    "start_time": "2024-06-24T11:07:32.089Z"
   },
   {
    "duration": 19,
    "start_time": "2024-06-24T11:07:33.349Z"
   },
   {
    "duration": 6,
    "start_time": "2024-06-24T11:07:34.944Z"
   },
   {
    "duration": 15,
    "start_time": "2024-06-24T11:07:35.555Z"
   },
   {
    "duration": 5,
    "start_time": "2024-06-24T11:07:37.044Z"
   },
   {
    "duration": 226,
    "start_time": "2024-06-24T11:07:38.378Z"
   },
   {
    "duration": 5,
    "start_time": "2024-06-24T11:07:40.208Z"
   },
   {
    "duration": 7,
    "start_time": "2024-06-24T11:07:42.063Z"
   },
   {
    "duration": 14,
    "start_time": "2024-06-24T11:08:54.724Z"
   },
   {
    "duration": 203,
    "start_time": "2024-06-24T11:09:06.811Z"
   },
   {
    "duration": 28,
    "start_time": "2024-06-24T11:09:20.774Z"
   },
   {
    "duration": 1339,
    "start_time": "2024-06-24T11:09:29.918Z"
   },
   {
    "duration": 195,
    "start_time": "2024-06-24T11:09:34.358Z"
   },
   {
    "duration": 7,
    "start_time": "2024-06-24T11:10:03.604Z"
   },
   {
    "duration": 6,
    "start_time": "2024-06-24T11:10:14.226Z"
   },
   {
    "duration": 24,
    "start_time": "2024-06-24T11:10:35.307Z"
   },
   {
    "duration": 203,
    "start_time": "2024-06-24T11:10:47.684Z"
   },
   {
    "duration": 194,
    "start_time": "2024-06-24T11:10:55.296Z"
   },
   {
    "duration": 244,
    "start_time": "2024-06-24T11:11:13.258Z"
   },
   {
    "duration": 233,
    "start_time": "2024-06-24T11:11:17.804Z"
   },
   {
    "duration": 218,
    "start_time": "2024-06-24T11:11:22.719Z"
   },
   {
    "duration": 218,
    "start_time": "2024-06-24T11:11:26.419Z"
   },
   {
    "duration": 255,
    "start_time": "2024-06-24T11:12:04.151Z"
   },
   {
    "duration": 347,
    "start_time": "2024-06-24T11:12:37.240Z"
   },
   {
    "duration": 211,
    "start_time": "2024-06-24T11:12:42.263Z"
   },
   {
    "duration": 222,
    "start_time": "2024-06-24T11:13:01.358Z"
   },
   {
    "duration": 1630,
    "start_time": "2024-06-24T11:25:10.870Z"
   },
   {
    "duration": 75,
    "start_time": "2024-06-24T11:25:12.501Z"
   },
   {
    "duration": 19,
    "start_time": "2024-06-24T11:25:12.578Z"
   },
   {
    "duration": 13,
    "start_time": "2024-06-24T11:25:12.599Z"
   },
   {
    "duration": 15,
    "start_time": "2024-06-24T11:25:12.613Z"
   },
   {
    "duration": 34,
    "start_time": "2024-06-24T11:25:12.629Z"
   },
   {
    "duration": 26,
    "start_time": "2024-06-24T11:25:12.665Z"
   },
   {
    "duration": 8,
    "start_time": "2024-06-24T11:25:12.692Z"
   },
   {
    "duration": 9,
    "start_time": "2024-06-24T11:25:12.701Z"
   },
   {
    "duration": 52,
    "start_time": "2024-06-24T11:25:12.712Z"
   },
   {
    "duration": 58,
    "start_time": "2024-06-24T11:25:12.766Z"
   },
   {
    "duration": 46,
    "start_time": "2024-06-24T11:25:12.826Z"
   },
   {
    "duration": 13,
    "start_time": "2024-06-24T11:25:12.873Z"
   },
   {
    "duration": 6,
    "start_time": "2024-06-24T11:25:12.888Z"
   },
   {
    "duration": 16,
    "start_time": "2024-06-24T11:25:12.896Z"
   },
   {
    "duration": 12,
    "start_time": "2024-06-24T11:25:12.948Z"
   },
   {
    "duration": 222,
    "start_time": "2024-06-24T11:25:12.962Z"
   },
   {
    "duration": 38,
    "start_time": "2024-06-24T11:25:13.185Z"
   },
   {
    "duration": 54,
    "start_time": "2024-06-24T11:25:13.225Z"
   },
   {
    "duration": 189,
    "start_time": "2024-06-24T11:25:13.280Z"
   },
   {
    "duration": 15,
    "start_time": "2024-06-24T11:25:13.471Z"
   },
   {
    "duration": 200,
    "start_time": "2024-06-24T11:25:13.488Z"
   },
   {
    "duration": 18,
    "start_time": "2024-06-24T11:25:13.690Z"
   },
   {
    "duration": 11,
    "start_time": "2024-06-24T11:25:13.710Z"
   },
   {
    "duration": 165,
    "start_time": "2024-06-24T11:25:13.723Z"
   },
   {
    "duration": 16,
    "start_time": "2024-06-24T11:25:13.890Z"
   },
   {
    "duration": 25,
    "start_time": "2024-06-24T11:25:13.908Z"
   },
   {
    "duration": 272,
    "start_time": "2024-06-24T11:25:13.938Z"
   },
   {
    "duration": 310,
    "start_time": "2024-06-24T11:25:14.212Z"
   },
   {
    "duration": 174,
    "start_time": "2024-06-24T11:25:14.524Z"
   },
   {
    "duration": 383,
    "start_time": "2024-06-24T11:25:14.699Z"
   },
   {
    "duration": 352,
    "start_time": "2024-06-24T11:25:15.084Z"
   },
   {
    "duration": 55,
    "start_time": "2024-06-24T11:25:15.445Z"
   },
   {
    "duration": 8,
    "start_time": "2024-06-24T11:25:15.501Z"
   },
   {
    "duration": 47,
    "start_time": "2024-06-24T11:25:15.510Z"
   },
   {
    "duration": 62,
    "start_time": "2024-06-24T11:25:15.560Z"
   },
   {
    "duration": 146,
    "start_time": "2024-06-24T11:25:15.624Z"
   },
   {
    "duration": 10,
    "start_time": "2024-06-24T11:25:15.771Z"
   },
   {
    "duration": 258,
    "start_time": "2024-06-24T11:25:15.782Z"
   },
   {
    "duration": 15,
    "start_time": "2024-06-24T11:25:16.042Z"
   },
   {
    "duration": 676,
    "start_time": "2024-06-24T11:25:16.059Z"
   },
   {
    "duration": 27,
    "start_time": "2024-06-24T11:25:16.737Z"
   },
   {
    "duration": 1433,
    "start_time": "2024-06-24T11:25:16.767Z"
   },
   {
    "duration": 80,
    "start_time": "2024-06-24T11:25:18.202Z"
   },
   {
    "duration": 134,
    "start_time": "2024-06-24T11:25:18.283Z"
   },
   {
    "duration": 123,
    "start_time": "2024-06-24T11:25:18.419Z"
   },
   {
    "duration": 14229,
    "start_time": "2024-06-24T11:25:18.545Z"
   },
   {
    "duration": 18,
    "start_time": "2024-06-24T11:25:32.777Z"
   },
   {
    "duration": 1366,
    "start_time": "2024-06-24T11:25:32.796Z"
   },
   {
    "duration": 218,
    "start_time": "2024-06-24T11:25:34.163Z"
   },
   {
    "duration": 15,
    "start_time": "2024-06-24T11:25:34.383Z"
   },
   {
    "duration": 9,
    "start_time": "2024-06-24T11:25:34.400Z"
   },
   {
    "duration": 43,
    "start_time": "2024-06-24T11:25:34.410Z"
   },
   {
    "duration": 25,
    "start_time": "2024-06-24T11:25:34.455Z"
   },
   {
    "duration": 265,
    "start_time": "2024-06-24T11:25:34.481Z"
   },
   {
    "duration": 11,
    "start_time": "2024-06-24T11:25:34.749Z"
   },
   {
    "duration": 39,
    "start_time": "2024-06-24T11:25:34.761Z"
   },
   {
    "duration": 169,
    "start_time": "2024-06-24T11:25:34.801Z"
   },
   {
    "duration": 349,
    "start_time": "2024-06-24T11:25:34.973Z"
   },
   {
    "duration": 33,
    "start_time": "2024-06-24T11:25:35.324Z"
   },
   {
    "duration": 9,
    "start_time": "2024-06-24T11:25:35.360Z"
   },
   {
    "duration": 43,
    "start_time": "2024-06-24T11:25:35.370Z"
   },
   {
    "duration": 50,
    "start_time": "2024-06-24T11:25:35.415Z"
   },
   {
    "duration": 75,
    "start_time": "2024-06-24T11:26:14.588Z"
   },
   {
    "duration": 1676,
    "start_time": "2024-06-24T17:29:32.205Z"
   },
   {
    "duration": 278,
    "start_time": "2024-06-24T17:29:33.883Z"
   },
   {
    "duration": 16,
    "start_time": "2024-06-24T17:29:34.163Z"
   },
   {
    "duration": 12,
    "start_time": "2024-06-24T17:29:34.182Z"
   },
   {
    "duration": 14,
    "start_time": "2024-06-24T17:29:34.196Z"
   },
   {
    "duration": 37,
    "start_time": "2024-06-24T17:29:34.211Z"
   },
   {
    "duration": 22,
    "start_time": "2024-06-24T17:29:34.250Z"
   },
   {
    "duration": 8,
    "start_time": "2024-06-24T17:29:34.273Z"
   },
   {
    "duration": 9,
    "start_time": "2024-06-24T17:29:34.282Z"
   },
   {
    "duration": 18,
    "start_time": "2024-06-24T17:29:34.294Z"
   },
   {
    "duration": 69,
    "start_time": "2024-06-24T17:29:34.323Z"
   },
   {
    "duration": 37,
    "start_time": "2024-06-24T17:29:34.394Z"
   },
   {
    "duration": 15,
    "start_time": "2024-06-24T17:29:34.432Z"
   },
   {
    "duration": 6,
    "start_time": "2024-06-24T17:29:34.448Z"
   },
   {
    "duration": 13,
    "start_time": "2024-06-24T17:29:34.456Z"
   },
   {
    "duration": 6,
    "start_time": "2024-06-24T17:29:34.471Z"
   },
   {
    "duration": 193,
    "start_time": "2024-06-24T17:29:34.478Z"
   },
   {
    "duration": 17,
    "start_time": "2024-06-24T17:29:34.673Z"
   },
   {
    "duration": 40,
    "start_time": "2024-06-24T17:29:34.691Z"
   },
   {
    "duration": 162,
    "start_time": "2024-06-24T17:29:34.735Z"
   },
   {
    "duration": 30,
    "start_time": "2024-06-24T17:29:34.898Z"
   },
   {
    "duration": 171,
    "start_time": "2024-06-24T17:29:34.934Z"
   },
   {
    "duration": 15,
    "start_time": "2024-06-24T17:29:35.107Z"
   },
   {
    "duration": 10,
    "start_time": "2024-06-24T17:29:35.123Z"
   },
   {
    "duration": 126,
    "start_time": "2024-06-24T17:29:35.135Z"
   },
   {
    "duration": 15,
    "start_time": "2024-06-24T17:29:35.262Z"
   },
   {
    "duration": 24,
    "start_time": "2024-06-24T17:29:35.278Z"
   },
   {
    "duration": 302,
    "start_time": "2024-06-24T17:29:35.306Z"
   },
   {
    "duration": 266,
    "start_time": "2024-06-24T17:29:35.610Z"
   },
   {
    "duration": 386,
    "start_time": "2024-06-24T17:29:35.877Z"
   },
   {
    "duration": 355,
    "start_time": "2024-06-24T17:29:36.264Z"
   },
   {
    "duration": 15,
    "start_time": "2024-06-24T17:29:36.621Z"
   },
   {
    "duration": 11,
    "start_time": "2024-06-24T17:30:14.544Z"
   },
   {
    "duration": 10,
    "start_time": "2024-06-24T17:30:23.196Z"
   },
   {
    "duration": 246,
    "start_time": "2024-06-24T17:30:41.252Z"
   }
  ],
  "kernelspec": {
   "display_name": "Python 3 (ipykernel)",
   "language": "python",
   "name": "python3"
  },
  "language_info": {
   "codemirror_mode": {
    "name": "ipython",
    "version": 3
   },
   "file_extension": ".py",
   "mimetype": "text/x-python",
   "name": "python",
   "nbconvert_exporter": "python",
   "pygments_lexer": "ipython3",
   "version": "3.9.5"
  },
  "toc": {
   "base_numbering": 1,
   "nav_menu": {},
   "number_sections": true,
   "sideBar": true,
   "skip_h1_title": true,
   "title_cell": "Table of Contents",
   "title_sidebar": "Contents",
   "toc_cell": false,
   "toc_position": {
    "height": "calc(100% - 180px)",
    "left": "10px",
    "top": "150px",
    "width": "321.364px"
   },
   "toc_section_display": true,
   "toc_window_display": true
  }
 },
 "nbformat": 4,
 "nbformat_minor": 2
}
